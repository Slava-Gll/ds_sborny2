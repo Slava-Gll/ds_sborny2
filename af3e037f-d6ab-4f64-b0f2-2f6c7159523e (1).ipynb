{
 "cells": [
  {
   "cell_type": "markdown",
   "metadata": {},
   "source": [
    "# Прогнозирование оттока клиентов в сети отелей «Как в гостях»"
   ]
  },
  {
   "cell_type": "markdown",
   "metadata": {},
   "source": [
    "## Введение  \n",
    "Описание проекта:  \n",
    "Сеть отелей решает, вводить ли депозит для клиентов потенциально сделающих отмену\n",
    "\n",
    "Общая цель: разработать систему, которая предсказывает отказ от брони.\n",
    "\n",
    "Цели проекта:\n",
    "- Предобработать данные\n",
    "- Провести исследовательский анализ данных\n",
    "- Оценить прибыль отеля без внедрения депозитов\n",
    "- Разработать модели машинного обучения и выбрать лучшую\n",
    "- Оценить прибыль модели с внедрением депозитов\n",
    "- Выявить признаки надежного клиента\n"
   ]
  },
  {
   "cell_type": "markdown",
   "metadata": {},
   "source": [
    "## Предобработка данных"
   ]
  },
  {
   "cell_type": "markdown",
   "metadata": {},
   "source": [
    "Импортируем библиотеки, зададим параметры"
   ]
  },
  {
   "cell_type": "code",
   "execution_count": 1,
   "metadata": {},
   "outputs": [],
   "source": [
    "import pandas as pd\n",
    "from sklearn.preprocessing import StandardScaler\n",
    "from sklearn.utils import shuffle\n",
    "from sklearn.tree import DecisionTreeClassifier\n",
    "from sklearn.linear_model import LogisticRegression\n",
    "from sklearn.ensemble import RandomForestClassifier\n",
    "from sklearn.model_selection import train_test_split, GridSearchCV\n",
    "from sklearn.metrics import f1_score, roc_auc_score, roc_curve, confusion_matrix\n",
    "from sklearn.model_selection import cross_val_score\n",
    "from sklearn.preprocessing import OneHotEncoder\n",
    "from numpy.random import RandomState\n",
    "import matplotlib.pyplot as plt\n",
    "import seaborn as sns\n",
    "\n",
    "\n",
    "\n",
    "state = RandomState(12345)\n",
    "\n",
    "import warnings\n",
    "warnings.filterwarnings('ignore') #hide warnings\n",
    "\n",
    "pd.set_option('display.max_columns', 500)\n",
    "pd.set_option('display.width', 1000) #disable width limit for df display\n",
    "pd.options.mode.chained_assignment = None"
   ]
  },
  {
   "cell_type": "code",
   "execution_count": 2,
   "metadata": {},
   "outputs": [],
   "source": [
    "%%capture \n",
    "#скрытие вывода\n",
    "\n",
    "!pip install pandas_profiling #install pandas_profiling package\n",
    "import pandas_profiling"
   ]
  },
  {
   "cell_type": "markdown",
   "metadata": {},
   "source": [
    "Предоставленные данные уже разбиты на обучающую и тестовую выборки, загрузим их и посмотрим размеры"
   ]
  },
  {
   "cell_type": "code",
   "execution_count": 3,
   "metadata": {},
   "outputs": [
    {
     "data": {
      "text/plain": [
       "(65229, 25)"
      ]
     },
     "execution_count": 3,
     "metadata": {},
     "output_type": "execute_result"
    }
   ],
   "source": [
    "data_train = pd.read_csv('/datasets/hotel_train.csv')\n",
    "data_train.shape"
   ]
  },
  {
   "cell_type": "code",
   "execution_count": 4,
   "metadata": {
    "scrolled": true
   },
   "outputs": [
    {
     "data": {
      "text/plain": [
       "(32412, 25)"
      ]
     },
     "execution_count": 4,
     "metadata": {},
     "output_type": "execute_result"
    }
   ],
   "source": [
    "data_test = pd.read_csv('/datasets/hotel_test.csv')\n",
    "data_test.shape"
   ]
  },
  {
   "cell_type": "markdown",
   "metadata": {},
   "source": [
    "Видим, обучающая выборка в два раза больше тестовой"
   ]
  },
  {
   "cell_type": "markdown",
   "metadata": {},
   "source": [
    "Убедимся, что столбцы одинаковы и имеют правильные типы данных, выпишем столбцы к которым есть вопросы"
   ]
  },
  {
   "cell_type": "code",
   "execution_count": 5,
   "metadata": {
    "scrolled": false
   },
   "outputs": [
    {
     "name": "stdout",
     "output_type": "stream",
     "text": [
      "<class 'pandas.core.frame.DataFrame'>\n",
      "RangeIndex: 65229 entries, 0 to 65228\n",
      "Data columns (total 25 columns):\n",
      " #   Column                          Non-Null Count  Dtype  \n",
      "---  ------                          --------------  -----  \n",
      " 0   id                              65229 non-null  int64  \n",
      " 1   is_canceled                     65229 non-null  int64  \n",
      " 2   lead_time                       65229 non-null  float64\n",
      " 3   arrival_date_year               65229 non-null  int64  \n",
      " 4   arrival_date_month              65229 non-null  object \n",
      " 5   arrival_date_week_number        65229 non-null  int64  \n",
      " 6   arrival_date_day_of_month       65229 non-null  int64  \n",
      " 7   stays_in_weekend_nights         65229 non-null  int64  \n",
      " 8   stays_in_week_nights            65229 non-null  int64  \n",
      " 9   adults                          65229 non-null  float64\n",
      " 10  children                        65229 non-null  float64\n",
      " 11  babies                          65229 non-null  float64\n",
      " 12  meal                            65229 non-null  object \n",
      " 13  country                         65229 non-null  object \n",
      " 14  distribution_channel            65229 non-null  object \n",
      " 15  is_repeated_guest               65229 non-null  int64  \n",
      " 16  previous_cancellations          65229 non-null  int64  \n",
      " 17  previous_bookings_not_canceled  65229 non-null  int64  \n",
      " 18  reserved_room_type              65229 non-null  object \n",
      " 19  booking_changes                 65229 non-null  int64  \n",
      " 20  days_in_waiting_list            65229 non-null  int64  \n",
      " 21  customer_type                   65229 non-null  object \n",
      " 22  required_car_parking_spaces     65229 non-null  int64  \n",
      " 23  total_of_special_requests       65229 non-null  int64  \n",
      " 24  total_nights                    65229 non-null  int64  \n",
      "dtypes: float64(4), int64(15), object(6)\n",
      "memory usage: 12.4+ MB\n"
     ]
    }
   ],
   "source": [
    "data_train.info()"
   ]
  },
  {
   "cell_type": "code",
   "execution_count": 6,
   "metadata": {
    "scrolled": false
   },
   "outputs": [
    {
     "name": "stdout",
     "output_type": "stream",
     "text": [
      "<class 'pandas.core.frame.DataFrame'>\n",
      "RangeIndex: 32412 entries, 0 to 32411\n",
      "Data columns (total 25 columns):\n",
      " #   Column                          Non-Null Count  Dtype  \n",
      "---  ------                          --------------  -----  \n",
      " 0   id                              32412 non-null  int64  \n",
      " 1   is_canceled                     32412 non-null  int64  \n",
      " 2   lead_time                       32412 non-null  float64\n",
      " 3   arrival_date_year               32412 non-null  int64  \n",
      " 4   arrival_date_month              32412 non-null  object \n",
      " 5   arrival_date_week_number        32412 non-null  int64  \n",
      " 6   arrival_date_day_of_month       32412 non-null  int64  \n",
      " 7   stays_in_weekend_nights         32412 non-null  int64  \n",
      " 8   stays_in_week_nights            32412 non-null  int64  \n",
      " 9   adults                          32412 non-null  float64\n",
      " 10  children                        32412 non-null  float64\n",
      " 11  babies                          32412 non-null  float64\n",
      " 12  meal                            32412 non-null  object \n",
      " 13  country                         32412 non-null  object \n",
      " 14  distribution_channel            32412 non-null  object \n",
      " 15  is_repeated_guest               32412 non-null  int64  \n",
      " 16  previous_cancellations          32412 non-null  int64  \n",
      " 17  previous_bookings_not_canceled  32412 non-null  int64  \n",
      " 18  reserved_room_type              32412 non-null  object \n",
      " 19  booking_changes                 32412 non-null  int64  \n",
      " 20  days_in_waiting_list            32412 non-null  int64  \n",
      " 21  customer_type                   32412 non-null  object \n",
      " 22  required_car_parking_spaces     32412 non-null  int64  \n",
      " 23  total_of_special_requests       32412 non-null  int64  \n",
      " 24  total_nights                    32412 non-null  int64  \n",
      "dtypes: float64(4), int64(15), object(6)\n",
      "memory usage: 6.2+ MB\n"
     ]
    }
   ],
   "source": [
    "data_test.info()"
   ]
  },
  {
   "cell_type": "code",
   "execution_count": 7,
   "metadata": {},
   "outputs": [],
   "source": [
    "questionable_rows = [\n",
    "    'is_canceled',\n",
    "    'is_repeated_guest'\n",
    "]"
   ]
  },
  {
   "cell_type": "code",
   "execution_count": 8,
   "metadata": {},
   "outputs": [
    {
     "name": "stdout",
     "output_type": "stream",
     "text": [
      "[0 1]\n",
      "[1 0]\n",
      "[0 1]\n",
      "[0 1]\n"
     ]
    }
   ],
   "source": [
    "for i in questionable_rows:\n",
    "    print(data_train[i].unique())\n",
    "    print(data_test[i].unique())"
   ]
  },
  {
   "cell_type": "markdown",
   "metadata": {},
   "source": [
    "категориальные значения были записаны числами, это нам на руку, остальные столбцы проверим позже"
   ]
  },
  {
   "cell_type": "markdown",
   "metadata": {},
   "source": [
    "Проверим пропуски"
   ]
  },
  {
   "cell_type": "code",
   "execution_count": 9,
   "metadata": {
    "scrolled": true
   },
   "outputs": [
    {
     "data": {
      "text/plain": [
       "0"
      ]
     },
     "execution_count": 9,
     "metadata": {},
     "output_type": "execute_result"
    }
   ],
   "source": [
    "data_train.duplicated().sum()"
   ]
  },
  {
   "cell_type": "code",
   "execution_count": 10,
   "metadata": {},
   "outputs": [
    {
     "data": {
      "text/plain": [
       "0"
      ]
     },
     "execution_count": 10,
     "metadata": {},
     "output_type": "execute_result"
    }
   ],
   "source": [
    "data_test.duplicated().sum()"
   ]
  },
  {
   "cell_type": "markdown",
   "metadata": {},
   "source": [
    "Явных дубликатов нет, изучим текстовые ячейки"
   ]
  },
  {
   "cell_type": "markdown",
   "metadata": {},
   "source": [
    "`arrival_date_month`"
   ]
  },
  {
   "cell_type": "code",
   "execution_count": 11,
   "metadata": {},
   "outputs": [
    {
     "data": {
      "text/plain": [
       "array(['July', 'August', 'September', 'October', 'November', 'December',\n",
       "       'January', 'February', 'March', 'April', 'May', 'June'],\n",
       "      dtype=object)"
      ]
     },
     "execution_count": 11,
     "metadata": {},
     "output_type": "execute_result"
    }
   ],
   "source": [
    "data_train['arrival_date_month'].unique()"
   ]
  },
  {
   "cell_type": "markdown",
   "metadata": {},
   "source": [
    "12 месяцев, вопросов нет"
   ]
  },
  {
   "cell_type": "code",
   "execution_count": 12,
   "metadata": {},
   "outputs": [
    {
     "data": {
      "text/plain": [
       "array(['January', 'February', 'March', 'April', 'May', 'June', 'July',\n",
       "       'August'], dtype=object)"
      ]
     },
     "execution_count": 12,
     "metadata": {},
     "output_type": "execute_result"
    }
   ],
   "source": [
    "data_test['arrival_date_month'].unique()"
   ]
  },
  {
   "cell_type": "markdown",
   "metadata": {},
   "source": [
    "уже не 12 месяцев, но дубликатов нет"
   ]
  },
  {
   "cell_type": "markdown",
   "metadata": {},
   "source": [
    "`meal`"
   ]
  },
  {
   "cell_type": "code",
   "execution_count": 13,
   "metadata": {
    "scrolled": true
   },
   "outputs": [
    {
     "data": {
      "text/plain": [
       "array(['BB       ', 'FB       ', 'HB       ', 'SC       ', 'SC'],\n",
       "      dtype=object)"
      ]
     },
     "execution_count": 13,
     "metadata": {},
     "output_type": "execute_result"
    }
   ],
   "source": [
    "data_train['meal'].unique()"
   ]
  },
  {
   "cell_type": "code",
   "execution_count": 14,
   "metadata": {},
   "outputs": [
    {
     "data": {
      "text/plain": [
       "array(['BB       ', 'HB       ', 'SC', 'FB       ', 'SC       '],\n",
       "      dtype=object)"
      ]
     },
     "execution_count": 14,
     "metadata": {},
     "output_type": "execute_result"
    }
   ],
   "source": [
    "data_test['meal'].unique()"
   ]
  },
  {
   "cell_type": "markdown",
   "metadata": {},
   "source": [
    "вот и нашли неявную запись, избавимся от пробелов"
   ]
  },
  {
   "cell_type": "code",
   "execution_count": 15,
   "metadata": {},
   "outputs": [],
   "source": [
    "data_train['meal'] = data_train['meal'].apply(lambda x: x.strip())\n",
    "data_test['meal'] = data_test['meal'].apply(lambda x: x.strip())"
   ]
  },
  {
   "cell_type": "code",
   "execution_count": 16,
   "metadata": {
    "scrolled": false
   },
   "outputs": [
    {
     "data": {
      "text/plain": [
       "array(['BB', 'FB', 'HB', 'SC'], dtype=object)"
      ]
     },
     "execution_count": 16,
     "metadata": {},
     "output_type": "execute_result"
    }
   ],
   "source": [
    "data_train['meal'].unique()"
   ]
  },
  {
   "cell_type": "code",
   "execution_count": 17,
   "metadata": {
    "scrolled": false
   },
   "outputs": [
    {
     "data": {
      "text/plain": [
       "array(['BB', 'HB', 'SC', 'FB'], dtype=object)"
      ]
     },
     "execution_count": 17,
     "metadata": {},
     "output_type": "execute_result"
    }
   ],
   "source": [
    "data_test['meal'].unique()"
   ]
  },
  {
   "cell_type": "markdown",
   "metadata": {},
   "source": [
    "Успешно, идем дальше"
   ]
  },
  {
   "cell_type": "markdown",
   "metadata": {},
   "source": [
    "`country`"
   ]
  },
  {
   "cell_type": "code",
   "execution_count": 18,
   "metadata": {},
   "outputs": [
    {
     "data": {
      "text/plain": [
       "array(['GBR', 'PRT', 'ESP', 'IRL', 'FRA', 'ROU', 'NOR', 'USA', 'DEU',\n",
       "       'BEL', 'CHE', 'CN', 'GRC', 'NLD', 'ARG', 'RUS', 'SWE', 'POL',\n",
       "       'EST', 'CZE', 'ITA', 'FIN', 'DNK', 'MOZ', 'BWA', 'LUX', 'BRA',\n",
       "       'SVN', 'ALB', 'CHN', 'MEX', 'MAR', 'SMR', 'LVA', 'CHL', 'AUT',\n",
       "       'LTU', 'TUR', 'ISR', 'IND', 'CYM', 'AUS', 'CPV', 'ZWE', 'DZA',\n",
       "       'KOR', 'CRI', 'HUN', 'TUN', 'ARE', 'HRV', 'HKG', 'IRN', 'GIB',\n",
       "       'JEY', 'URY', 'ZAF', 'COL', 'GGY', 'KWT', 'CYP', 'KAZ', 'THA',\n",
       "       'DOM', 'NGA', 'BLR', 'VEN', 'UKR', 'ARM', 'JPN', 'LKA', 'MYS',\n",
       "       'BIH', 'MUS', 'OMN', 'SUR', 'JAM', 'BGR', 'CIV', 'SRB', 'JOR',\n",
       "       'SYR', 'PHL', 'PRI', 'SGP', 'BDI', 'LBN', 'AGO', 'VNM', 'AZE',\n",
       "       'PLW', 'NZL', 'EGY', 'MDV', 'CMR', 'MLT', 'SVK', 'MWI', 'STP',\n",
       "       'TWN', 'IDN', 'SEN', 'PER', 'SAU', 'KNA', 'ETH', 'ECU', 'IRQ',\n",
       "       'AND', 'HND', 'PAK', 'GEO', 'ZMB', 'QAT', 'KHM', 'MCO', 'BGD',\n",
       "       'ISL', 'UZB', 'IMN', 'TJK', 'NIC', 'BEN', 'MAC', 'VGB', 'TZA',\n",
       "       'GAB', 'MKD', 'TMP', 'GLP', 'KEN', 'LIE', 'MMR', 'PAN', 'BFA',\n",
       "       'LBY', 'GNB', 'MLI', 'BHR', 'NAM', 'BOL', 'SYC', 'PRY', 'BRB',\n",
       "       'ABW', 'SLV', 'DMA', 'CUB', 'PYF', 'UGA', 'GUY', 'LCA', 'ATA',\n",
       "       'RWA', 'MNE'], dtype=object)"
      ]
     },
     "execution_count": 18,
     "metadata": {},
     "output_type": "execute_result"
    }
   ],
   "source": [
    "data_train['country'].unique()"
   ]
  },
  {
   "cell_type": "code",
   "execution_count": 19,
   "metadata": {
    "scrolled": true
   },
   "outputs": [
    {
     "data": {
      "text/plain": [
       "array(['PRT', 'AUT', 'BEL', 'DEU', 'BRA', 'GBR', 'ESP', 'FRA', 'ITA',\n",
       "       'LUX', 'CHE', 'EST', 'NGA', 'IRL', 'CN', 'POL', 'AUS', 'NLD',\n",
       "       'KOR', 'ROU', 'USA', 'CHL', 'DNK', 'FIN', 'RUS', 'SWE', 'HUN',\n",
       "       'HRV', 'MDV', 'ZAF', 'ISR', 'NOR', 'CHN', 'ARE', 'MAR', 'COL',\n",
       "       'FJI', 'LVA', 'LBN', 'PHL', 'HKG', 'SYC', 'GIB', 'AGO', 'MYS',\n",
       "       'MDG', 'IDN', 'LTU', 'ISL', 'TUR', 'ARG', 'JPN', 'SVN', 'SVK',\n",
       "       'BGR', 'CAF', 'JAM', 'UZB', 'UKR', 'IND', 'CZE', 'URY', 'NZL',\n",
       "       'NPL', 'SRB', 'CPV', 'IRN', 'KAZ', 'BHS', 'SUR', 'CUB', 'PAK',\n",
       "       'MAC', 'CYP', 'JOR', 'GRC', 'KWT', 'TWN', 'VNM', 'SGP', 'DOM',\n",
       "       'VEN', 'SEN', 'BLR', 'TZA', 'LIE', 'GNB', 'SAU', 'DZA', 'PER',\n",
       "       'AZE', 'EGY', 'ETH', 'KEN', 'THA', 'MLT', 'ECU', 'AND', 'IMN',\n",
       "       'BHR', 'TUN', 'MNE', 'MEX', 'BEN', 'MOZ', 'UMI', 'JEY', 'MYT',\n",
       "       'QAT', 'BGD', 'GAB', 'CIV', 'ZWE', 'GTM', 'ALB', 'GHA', 'ATA',\n",
       "       'ASM', 'PAN', 'CRI', 'MCO', 'MUS', 'SYR', 'TGO', 'IRQ', 'LKA',\n",
       "       'BIH', 'PRY', 'MRT', 'ABW', 'NCL', 'STP', 'KIR', 'SDN', 'PRI',\n",
       "       'ATF', 'CMR', 'TJK', 'LBY', 'SLE', 'SLV', 'LAO', 'FRO'],\n",
       "      dtype=object)"
      ]
     },
     "execution_count": 19,
     "metadata": {},
     "output_type": "execute_result"
    }
   ],
   "source": [
    "data_test['country'].unique()"
   ]
  },
  {
   "cell_type": "markdown",
   "metadata": {},
   "source": [
    "Тут все хорошо"
   ]
  },
  {
   "cell_type": "markdown",
   "metadata": {},
   "source": [
    "`distribution_channel`"
   ]
  },
  {
   "cell_type": "code",
   "execution_count": 20,
   "metadata": {},
   "outputs": [
    {
     "data": {
      "text/plain": [
       "array(['Direct', 'TA/TO', 'Corporate', 'GDS'], dtype=object)"
      ]
     },
     "execution_count": 20,
     "metadata": {},
     "output_type": "execute_result"
    }
   ],
   "source": [
    "data_train['distribution_channel'].unique()"
   ]
  },
  {
   "cell_type": "code",
   "execution_count": 21,
   "metadata": {},
   "outputs": [
    {
     "data": {
      "text/plain": [
       "array(['TA/TO', 'Direct', 'Corporate', 'GDS'], dtype=object)"
      ]
     },
     "execution_count": 21,
     "metadata": {},
     "output_type": "execute_result"
    }
   ],
   "source": [
    "data_test['distribution_channel'].unique()"
   ]
  },
  {
   "cell_type": "markdown",
   "metadata": {},
   "source": [
    "Все хорошо"
   ]
  },
  {
   "cell_type": "markdown",
   "metadata": {},
   "source": [
    "`reserved_room_type`"
   ]
  },
  {
   "cell_type": "code",
   "execution_count": 22,
   "metadata": {
    "scrolled": true
   },
   "outputs": [
    {
     "data": {
      "text/plain": [
       "array(['A               ', 'C               ', 'D               ',\n",
       "       'E               ', 'G               ', 'F               ',\n",
       "       'B               '], dtype=object)"
      ]
     },
     "execution_count": 22,
     "metadata": {},
     "output_type": "execute_result"
    }
   ],
   "source": [
    "data_train['reserved_room_type'].unique()"
   ]
  },
  {
   "cell_type": "code",
   "execution_count": 23,
   "metadata": {
    "scrolled": false
   },
   "outputs": [
    {
     "data": {
      "text/plain": [
       "array(['A               ', 'E               ', 'G               ',\n",
       "       'D               ', 'F               ', 'C               ',\n",
       "       'B               '], dtype=object)"
      ]
     },
     "execution_count": 23,
     "metadata": {},
     "output_type": "execute_result"
    }
   ],
   "source": [
    "data_test['reserved_room_type'].unique()"
   ]
  },
  {
   "cell_type": "markdown",
   "metadata": {},
   "source": [
    "хоть неявностей и нет, уберем пробелы"
   ]
  },
  {
   "cell_type": "code",
   "execution_count": 24,
   "metadata": {},
   "outputs": [],
   "source": [
    "data_train['reserved_room_type'] = data_train['reserved_room_type'].apply(lambda x: x.strip())\n",
    "data_test['reserved_room_type'] = data_test['reserved_room_type'].apply(lambda x: x.strip())"
   ]
  },
  {
   "cell_type": "code",
   "execution_count": 25,
   "metadata": {
    "scrolled": true
   },
   "outputs": [
    {
     "data": {
      "text/plain": [
       "array(['A', 'C', 'D', 'E', 'G', 'F', 'B'], dtype=object)"
      ]
     },
     "execution_count": 25,
     "metadata": {},
     "output_type": "execute_result"
    }
   ],
   "source": [
    "data_train['reserved_room_type'].unique()"
   ]
  },
  {
   "cell_type": "code",
   "execution_count": 26,
   "metadata": {
    "scrolled": true
   },
   "outputs": [
    {
     "data": {
      "text/plain": [
       "array(['A', 'E', 'G', 'D', 'F', 'C', 'B'], dtype=object)"
      ]
     },
     "execution_count": 26,
     "metadata": {},
     "output_type": "execute_result"
    }
   ],
   "source": [
    "data_test['reserved_room_type'].unique()"
   ]
  },
  {
   "cell_type": "markdown",
   "metadata": {},
   "source": [
    "`customer_type`"
   ]
  },
  {
   "cell_type": "code",
   "execution_count": 27,
   "metadata": {},
   "outputs": [
    {
     "data": {
      "text/plain": [
       "array(['Transient', 'Contract', 'Transient-Party', 'Group'], dtype=object)"
      ]
     },
     "execution_count": 27,
     "metadata": {},
     "output_type": "execute_result"
    }
   ],
   "source": [
    "data_train['customer_type'].unique()"
   ]
  },
  {
   "cell_type": "code",
   "execution_count": 28,
   "metadata": {},
   "outputs": [
    {
     "data": {
      "text/plain": [
       "array(['Transient', 'Transient-Party', 'Contract', 'Group'], dtype=object)"
      ]
     },
     "execution_count": 28,
     "metadata": {},
     "output_type": "execute_result"
    }
   ],
   "source": [
    "data_test['customer_type'].unique()"
   ]
  },
  {
   "cell_type": "markdown",
   "metadata": {},
   "source": [
    "Все хорошо, это был последний текстовый столбец, снова проверим на явные дубликаты"
   ]
  },
  {
   "cell_type": "code",
   "execution_count": 29,
   "metadata": {},
   "outputs": [
    {
     "data": {
      "text/plain": [
       "0"
      ]
     },
     "execution_count": 29,
     "metadata": {},
     "output_type": "execute_result"
    }
   ],
   "source": [
    "data_train.duplicated().sum()"
   ]
  },
  {
   "cell_type": "code",
   "execution_count": 30,
   "metadata": {},
   "outputs": [
    {
     "data": {
      "text/plain": [
       "0"
      ]
     },
     "execution_count": 30,
     "metadata": {},
     "output_type": "execute_result"
    }
   ],
   "source": [
    "data_test.duplicated().sum()"
   ]
  },
  {
   "cell_type": "markdown",
   "metadata": {},
   "source": [
    "дубликатов не осталось"
   ]
  },
  {
   "cell_type": "markdown",
   "metadata": {},
   "source": [
    "**Вывод**\n",
    "в ходе предобработки данных были выполнены:\n",
    "- импорт двух датасетов\n",
    "- проверка типов данных\n",
    "- проверка на явные дубликаты\n",
    "- исправлены неявности в столбце `meal`"
   ]
  },
  {
   "cell_type": "markdown",
   "metadata": {},
   "source": [
    "## Исследовательский анализ данных"
   ]
  },
  {
   "cell_type": "markdown",
   "metadata": {},
   "source": [
    "Для первоначального анализа буду использовать библиотеку `pandas profiling`"
   ]
  },
  {
   "cell_type": "code",
   "execution_count": 73,
   "metadata": {
    "scrolled": false
   },
   "outputs": [
    {
     "name": "stdout",
     "output_type": "stream",
     "text": [
      "НЕ ЗАБЫТЬ ЗАКОММЕНТИТЬ ЭТУ СТРОЧКУ ПРИ ОТПРАВКЕ НА ПРОВЕРКУ\n"
     ]
    }
   ],
   "source": [
    "%%script echo НЕ ЗАБЫТЬ ЗАКОММЕНТИТЬ ЭТУ СТРОЧКУ ПРИ ОТПРАВКЕ НА ПРОВЕРКУ\n",
    "\n",
    "pandas_profiling.ProfileReport(data_train)"
   ]
  },
  {
   "cell_type": "markdown",
   "metadata": {},
   "source": [
    "Можно выделить:\n",
    "- `is_canceled` - отмененные заказы составляют треть от всех заказов\n",
    "- `lead_time` - (количество дней между датой бронирования и датой прибытия) у 5% броней количество составляет 0, проверить на выбросы\n",
    "- `arrival_date_month` - бОльшая доля броней приходится на октябрь\n",
    "- `arrival_date_week_number` - видны пики в июле и декабре(середина лета и новый год), непонятно почему этих пиков нет в `arrival_date_month`\n",
    "- `stays_in_weekend_nights` - большинство броней не включают выходные\n",
    "- `stays_in_week_nights` - здесь картина похожа на нормальное распределение, среднее значение - 2.2\n",
    "- `adults` - больше всего бронируют пары/двое людей, встречаются брони без взрослых, нужно будет проверить\n",
    "- `children`, `babies` - в подавляющее большинство броней не включены дети\n",
    "- `meal` - в большинство броней включен завтрак, остальные в меньшинстве\n",
    "- `country` - 44% броней из португалии, остальные варьируются 0-10%\n",
    "- `distribution_channel` - самый частый канал дистрибуции заказа - `TA/TO`\n",
    "- `is_repeated_guest` - только 2.7% гостей бронировали этот отель больше 1 раза\n",
    "- `previous_cancellations` - 91.4% гостей не имеют предыдущих отмен брони, 8.2% имеют одну\n",
    "- `previous_bookings_not_canceled` - у 97.6% гостей нет подтвержденных заказов\n",
    "- `reserved_room_type` - самая популярная комната - А, она самая дорогая\n",
    "- `booking_changes` - (количество изменений параметров заказа) 86.2% заказов не имеют изменений, 10.1% имеют одно изменение, 2.7% - 2\n",
    "- `days_in_waiting_list` - подавляющая часть заказов были приняты в тот же день\n",
    "- `customer_type` - 69.7% гостей `Transient`, 25.6% `Transient-Party`\n",
    "- `required_car_parking_spaces` - 94.4% гостей не нужно парковочное место\n",
    "- `total_of_special_requests` - 62.4% заказов не имеют особых отметок, 26% - 1, 9.9% - 2\n",
    "- `total_nights` - видно сдвинутое влево нормальное распределение, среднее значение - 3"
   ]
  },
  {
   "cell_type": "code",
   "execution_count": 32,
   "metadata": {
    "scrolled": false
   },
   "outputs": [
    {
     "data": {
      "text/plain": [
       "<AxesSubplot:title={'center':'Диаграмма размаха столбца lead_time'}>"
      ]
     },
     "execution_count": 32,
     "metadata": {},
     "output_type": "execute_result"
    },
    {
     "data": {
      "image/png": "[encoded data removed]",
      "text/plain": [
       "<Figure size 360x720 with 1 Axes>"
      ]
     },
     "metadata": {
      "needs_background": "light"
     },
     "output_type": "display_data"
    }
   ],
   "source": [
    "data_train['lead_time'].plot(kind='box',figsize=(5,10), grid=True, legend=True, title='Диаграмма размаха столбца lead_time')"
   ]
  },
  {
   "cell_type": "code",
   "execution_count": 33,
   "metadata": {},
   "outputs": [],
   "source": [
    "def filter_quartile(dataset, columns):\n",
    "    if type(columns) is list:\n",
    "        Q1 = dataset[columns[0]].quantile(0.25)\n",
    "        Q3 = dataset[columns[0]].quantile(0.75)\n",
    "        IQR = Q3 - Q1\n",
    "        filtered = dataset.query('(@Q1 - 1.5 * @IQR) <= ' + columns[0] + ' <= (@Q3 + 1.5 * @IQR)')\n",
    "        for i in range(1,len(columns)):\n",
    "            Q1 = dataset[columns[i]].quantile(0.25)\n",
    "            Q3 = dataset[columns[i]].quantile(0.75)\n",
    "            IQR = Q3 - Q1\n",
    "            filtered = filtered.query('(@Q1 - 1.5 * @IQR) <= ' + columns[i] + ' <= (@Q3 + 1.5 * @IQR)')\n",
    "    if type(columns) is str:\n",
    "        Q1 = dataset[columns].quantile(0.25)\n",
    "        Q3 = dataset[columns].quantile(0.75)\n",
    "        IQR = Q3 - Q1\n",
    "        filtered = dataset.query('(@Q1 - 1.5 * @IQR) <= ' + columns + ' <= (@Q3 + 1.5 * @IQR)')\n",
    "    print('всего строк с выбросами:', len(dataset) - len(filtered))\n",
    "    return filtered"
   ]
  },
  {
   "cell_type": "code",
   "execution_count": 34,
   "metadata": {},
   "outputs": [
    {
     "name": "stdout",
     "output_type": "stream",
     "text": [
      "всего строк с выбросами: 493\n"
     ]
    }
   ],
   "source": [
    "data_train = filter_quartile(data_train, 'lead_time')"
   ]
  },
  {
   "cell_type": "code",
   "execution_count": 35,
   "metadata": {},
   "outputs": [
    {
     "name": "stdout",
     "output_type": "stream",
     "text": [
      "всего строк с выбросами: 132\n"
     ]
    }
   ],
   "source": [
    "data_test = filter_quartile(data_test, 'lead_time')"
   ]
  },
  {
   "cell_type": "markdown",
   "metadata": {},
   "source": [
    "- `is_cancelled` слабо кореллирует с `lead_time`(количество дней между датой бронирования и датой прибытия)\n",
    "- остальные корелляции объясняются множеством столбцов с разной записью даты"
   ]
  },
  {
   "cell_type": "markdown",
   "metadata": {},
   "source": [
    "Проверим `adults` с нулевым значением"
   ]
  },
  {
   "cell_type": "code",
   "execution_count": 36,
   "metadata": {
    "scrolled": false
   },
   "outputs": [
    {
     "data": {
      "text/html": [
       "<div>\n",
       "<style scoped>\n",
       "    .dataframe tbody tr th:only-of-type {\n",
       "        vertical-align: middle;\n",
       "    }\n",
       "\n",
       "    .dataframe tbody tr th {\n",
       "        vertical-align: top;\n",
       "    }\n",
       "\n",
       "    .dataframe thead th {\n",
       "        text-align: right;\n",
       "    }\n",
       "</style>\n",
       "<table border=\"1\" class=\"dataframe\">\n",
       "  <thead>\n",
       "    <tr style=\"text-align: right;\">\n",
       "      <th></th>\n",
       "      <th>id</th>\n",
       "      <th>is_canceled</th>\n",
       "      <th>lead_time</th>\n",
       "      <th>arrival_date_year</th>\n",
       "      <th>arrival_date_month</th>\n",
       "      <th>arrival_date_week_number</th>\n",
       "      <th>arrival_date_day_of_month</th>\n",
       "      <th>stays_in_weekend_nights</th>\n",
       "      <th>stays_in_week_nights</th>\n",
       "      <th>adults</th>\n",
       "      <th>children</th>\n",
       "      <th>babies</th>\n",
       "      <th>meal</th>\n",
       "      <th>country</th>\n",
       "      <th>distribution_channel</th>\n",
       "      <th>is_repeated_guest</th>\n",
       "      <th>previous_cancellations</th>\n",
       "      <th>previous_bookings_not_canceled</th>\n",
       "      <th>reserved_room_type</th>\n",
       "      <th>booking_changes</th>\n",
       "      <th>days_in_waiting_list</th>\n",
       "      <th>customer_type</th>\n",
       "      <th>required_car_parking_spaces</th>\n",
       "      <th>total_of_special_requests</th>\n",
       "      <th>total_nights</th>\n",
       "    </tr>\n",
       "  </thead>\n",
       "  <tbody>\n",
       "    <tr>\n",
       "      <th>17540</th>\n",
       "      <td>25480</td>\n",
       "      <td>0</td>\n",
       "      <td>1.0</td>\n",
       "      <td>2015</td>\n",
       "      <td>August</td>\n",
       "      <td>33</td>\n",
       "      <td>10</td>\n",
       "      <td>1</td>\n",
       "      <td>1</td>\n",
       "      <td>0.0</td>\n",
       "      <td>3.0</td>\n",
       "      <td>0.0</td>\n",
       "      <td>BB</td>\n",
       "      <td>PRT</td>\n",
       "      <td>Direct</td>\n",
       "      <td>0</td>\n",
       "      <td>0</td>\n",
       "      <td>0</td>\n",
       "      <td>B</td>\n",
       "      <td>1</td>\n",
       "      <td>0</td>\n",
       "      <td>Transient-Party</td>\n",
       "      <td>0</td>\n",
       "      <td>0</td>\n",
       "      <td>2</td>\n",
       "    </tr>\n",
       "    <tr>\n",
       "      <th>17598</th>\n",
       "      <td>25538</td>\n",
       "      <td>0</td>\n",
       "      <td>104.0</td>\n",
       "      <td>2015</td>\n",
       "      <td>August</td>\n",
       "      <td>33</td>\n",
       "      <td>11</td>\n",
       "      <td>0</td>\n",
       "      <td>3</td>\n",
       "      <td>0.0</td>\n",
       "      <td>2.0</td>\n",
       "      <td>0.0</td>\n",
       "      <td>BB</td>\n",
       "      <td>FRA</td>\n",
       "      <td>TA/TO</td>\n",
       "      <td>0</td>\n",
       "      <td>0</td>\n",
       "      <td>0</td>\n",
       "      <td>B</td>\n",
       "      <td>1</td>\n",
       "      <td>0</td>\n",
       "      <td>Transient-Party</td>\n",
       "      <td>0</td>\n",
       "      <td>2</td>\n",
       "      <td>3</td>\n",
       "    </tr>\n",
       "    <tr>\n",
       "      <th>17982</th>\n",
       "      <td>25922</td>\n",
       "      <td>0</td>\n",
       "      <td>3.0</td>\n",
       "      <td>2015</td>\n",
       "      <td>August</td>\n",
       "      <td>34</td>\n",
       "      <td>16</td>\n",
       "      <td>2</td>\n",
       "      <td>0</td>\n",
       "      <td>0.0</td>\n",
       "      <td>2.0</td>\n",
       "      <td>0.0</td>\n",
       "      <td>BB</td>\n",
       "      <td>PRT</td>\n",
       "      <td>Direct</td>\n",
       "      <td>0</td>\n",
       "      <td>0</td>\n",
       "      <td>0</td>\n",
       "      <td>B</td>\n",
       "      <td>1</td>\n",
       "      <td>0</td>\n",
       "      <td>Transient-Party</td>\n",
       "      <td>0</td>\n",
       "      <td>1</td>\n",
       "      <td>2</td>\n",
       "    </tr>\n",
       "    <tr>\n",
       "      <th>21556</th>\n",
       "      <td>29496</td>\n",
       "      <td>1</td>\n",
       "      <td>48.0</td>\n",
       "      <td>2015</td>\n",
       "      <td>October</td>\n",
       "      <td>43</td>\n",
       "      <td>19</td>\n",
       "      <td>1</td>\n",
       "      <td>3</td>\n",
       "      <td>0.0</td>\n",
       "      <td>2.0</td>\n",
       "      <td>0.0</td>\n",
       "      <td>BB</td>\n",
       "      <td>PRT</td>\n",
       "      <td>TA/TO</td>\n",
       "      <td>0</td>\n",
       "      <td>0</td>\n",
       "      <td>0</td>\n",
       "      <td>B</td>\n",
       "      <td>0</td>\n",
       "      <td>0</td>\n",
       "      <td>Transient-Party</td>\n",
       "      <td>0</td>\n",
       "      <td>1</td>\n",
       "      <td>4</td>\n",
       "    </tr>\n",
       "    <tr>\n",
       "      <th>22516</th>\n",
       "      <td>30456</td>\n",
       "      <td>1</td>\n",
       "      <td>6.0</td>\n",
       "      <td>2015</td>\n",
       "      <td>December</td>\n",
       "      <td>51</td>\n",
       "      <td>13</td>\n",
       "      <td>1</td>\n",
       "      <td>0</td>\n",
       "      <td>0.0</td>\n",
       "      <td>3.0</td>\n",
       "      <td>0.0</td>\n",
       "      <td>BB</td>\n",
       "      <td>PRT</td>\n",
       "      <td>TA/TO</td>\n",
       "      <td>0</td>\n",
       "      <td>0</td>\n",
       "      <td>0</td>\n",
       "      <td>B</td>\n",
       "      <td>0</td>\n",
       "      <td>0</td>\n",
       "      <td>Transient-Party</td>\n",
       "      <td>0</td>\n",
       "      <td>1</td>\n",
       "      <td>1</td>\n",
       "    </tr>\n",
       "    <tr>\n",
       "      <th>...</th>\n",
       "      <td>...</td>\n",
       "      <td>...</td>\n",
       "      <td>...</td>\n",
       "      <td>...</td>\n",
       "      <td>...</td>\n",
       "      <td>...</td>\n",
       "      <td>...</td>\n",
       "      <td>...</td>\n",
       "      <td>...</td>\n",
       "      <td>...</td>\n",
       "      <td>...</td>\n",
       "      <td>...</td>\n",
       "      <td>...</td>\n",
       "      <td>...</td>\n",
       "      <td>...</td>\n",
       "      <td>...</td>\n",
       "      <td>...</td>\n",
       "      <td>...</td>\n",
       "      <td>...</td>\n",
       "      <td>...</td>\n",
       "      <td>...</td>\n",
       "      <td>...</td>\n",
       "      <td>...</td>\n",
       "      <td>...</td>\n",
       "      <td>...</td>\n",
       "    </tr>\n",
       "    <tr>\n",
       "      <th>64751</th>\n",
       "      <td>83478</td>\n",
       "      <td>0</td>\n",
       "      <td>197.0</td>\n",
       "      <td>2016</td>\n",
       "      <td>December</td>\n",
       "      <td>52</td>\n",
       "      <td>21</td>\n",
       "      <td>1</td>\n",
       "      <td>4</td>\n",
       "      <td>0.0</td>\n",
       "      <td>3.0</td>\n",
       "      <td>0.0</td>\n",
       "      <td>HB</td>\n",
       "      <td>FRA</td>\n",
       "      <td>TA/TO</td>\n",
       "      <td>0</td>\n",
       "      <td>0</td>\n",
       "      <td>0</td>\n",
       "      <td>A</td>\n",
       "      <td>7</td>\n",
       "      <td>0</td>\n",
       "      <td>Transient-Party</td>\n",
       "      <td>0</td>\n",
       "      <td>0</td>\n",
       "      <td>5</td>\n",
       "    </tr>\n",
       "    <tr>\n",
       "      <th>64882</th>\n",
       "      <td>83610</td>\n",
       "      <td>0</td>\n",
       "      <td>104.0</td>\n",
       "      <td>2016</td>\n",
       "      <td>December</td>\n",
       "      <td>53</td>\n",
       "      <td>25</td>\n",
       "      <td>2</td>\n",
       "      <td>1</td>\n",
       "      <td>0.0</td>\n",
       "      <td>2.0</td>\n",
       "      <td>0.0</td>\n",
       "      <td>BB</td>\n",
       "      <td>PRT</td>\n",
       "      <td>TA/TO</td>\n",
       "      <td>0</td>\n",
       "      <td>0</td>\n",
       "      <td>0</td>\n",
       "      <td>B</td>\n",
       "      <td>1</td>\n",
       "      <td>0</td>\n",
       "      <td>Transient</td>\n",
       "      <td>0</td>\n",
       "      <td>2</td>\n",
       "      <td>3</td>\n",
       "    </tr>\n",
       "    <tr>\n",
       "      <th>64892</th>\n",
       "      <td>83620</td>\n",
       "      <td>0</td>\n",
       "      <td>104.0</td>\n",
       "      <td>2016</td>\n",
       "      <td>December</td>\n",
       "      <td>53</td>\n",
       "      <td>25</td>\n",
       "      <td>2</td>\n",
       "      <td>1</td>\n",
       "      <td>0.0</td>\n",
       "      <td>2.0</td>\n",
       "      <td>0.0</td>\n",
       "      <td>BB</td>\n",
       "      <td>FRA</td>\n",
       "      <td>TA/TO</td>\n",
       "      <td>0</td>\n",
       "      <td>0</td>\n",
       "      <td>0</td>\n",
       "      <td>B</td>\n",
       "      <td>0</td>\n",
       "      <td>0</td>\n",
       "      <td>Transient</td>\n",
       "      <td>0</td>\n",
       "      <td>2</td>\n",
       "      <td>3</td>\n",
       "    </tr>\n",
       "    <tr>\n",
       "      <th>64903</th>\n",
       "      <td>83633</td>\n",
       "      <td>0</td>\n",
       "      <td>247.0</td>\n",
       "      <td>2016</td>\n",
       "      <td>December</td>\n",
       "      <td>52</td>\n",
       "      <td>24</td>\n",
       "      <td>2</td>\n",
       "      <td>3</td>\n",
       "      <td>0.0</td>\n",
       "      <td>2.0</td>\n",
       "      <td>0.0</td>\n",
       "      <td>BB</td>\n",
       "      <td>PRT</td>\n",
       "      <td>TA/TO</td>\n",
       "      <td>0</td>\n",
       "      <td>0</td>\n",
       "      <td>0</td>\n",
       "      <td>B</td>\n",
       "      <td>0</td>\n",
       "      <td>0</td>\n",
       "      <td>Transient</td>\n",
       "      <td>0</td>\n",
       "      <td>1</td>\n",
       "      <td>5</td>\n",
       "    </tr>\n",
       "    <tr>\n",
       "      <th>64980</th>\n",
       "      <td>83710</td>\n",
       "      <td>0</td>\n",
       "      <td>255.0</td>\n",
       "      <td>2016</td>\n",
       "      <td>December</td>\n",
       "      <td>53</td>\n",
       "      <td>27</td>\n",
       "      <td>0</td>\n",
       "      <td>3</td>\n",
       "      <td>0.0</td>\n",
       "      <td>0.0</td>\n",
       "      <td>0.0</td>\n",
       "      <td>BB</td>\n",
       "      <td>PRT</td>\n",
       "      <td>TA/TO</td>\n",
       "      <td>0</td>\n",
       "      <td>0</td>\n",
       "      <td>0</td>\n",
       "      <td>A</td>\n",
       "      <td>3</td>\n",
       "      <td>0</td>\n",
       "      <td>Transient</td>\n",
       "      <td>0</td>\n",
       "      <td>0</td>\n",
       "      <td>3</td>\n",
       "    </tr>\n",
       "  </tbody>\n",
       "</table>\n",
       "<p>166 rows × 25 columns</p>\n",
       "</div>"
      ],
      "text/plain": [
       "          id  is_canceled  lead_time  arrival_date_year arrival_date_month  arrival_date_week_number  arrival_date_day_of_month  stays_in_weekend_nights  stays_in_week_nights  adults  children  babies meal country distribution_channel  is_repeated_guest  previous_cancellations  previous_bookings_not_canceled reserved_room_type  booking_changes  days_in_waiting_list    customer_type  required_car_parking_spaces  total_of_special_requests  total_nights\n",
       "17540  25480            0        1.0               2015             August                        33                         10                        1                     1     0.0       3.0     0.0   BB     PRT               Direct                  0                       0                               0                  B                1                     0  Transient-Party                            0                          0             2\n",
       "17598  25538            0      104.0               2015             August                        33                         11                        0                     3     0.0       2.0     0.0   BB     FRA                TA/TO                  0                       0                               0                  B                1                     0  Transient-Party                            0                          2             3\n",
       "17982  25922            0        3.0               2015             August                        34                         16                        2                     0     0.0       2.0     0.0   BB     PRT               Direct                  0                       0                               0                  B                1                     0  Transient-Party                            0                          1             2\n",
       "21556  29496            1       48.0               2015            October                        43                         19                        1                     3     0.0       2.0     0.0   BB     PRT                TA/TO                  0                       0                               0                  B                0                     0  Transient-Party                            0                          1             4\n",
       "22516  30456            1        6.0               2015           December                        51                         13                        1                     0     0.0       3.0     0.0   BB     PRT                TA/TO                  0                       0                               0                  B                0                     0  Transient-Party                            0                          1             1\n",
       "...      ...          ...        ...                ...                ...                       ...                        ...                      ...                   ...     ...       ...     ...  ...     ...                  ...                ...                     ...                             ...                ...              ...                   ...              ...                          ...                        ...           ...\n",
       "64751  83478            0      197.0               2016           December                        52                         21                        1                     4     0.0       3.0     0.0   HB     FRA                TA/TO                  0                       0                               0                  A                7                     0  Transient-Party                            0                          0             5\n",
       "64882  83610            0      104.0               2016           December                        53                         25                        2                     1     0.0       2.0     0.0   BB     PRT                TA/TO                  0                       0                               0                  B                1                     0        Transient                            0                          2             3\n",
       "64892  83620            0      104.0               2016           December                        53                         25                        2                     1     0.0       2.0     0.0   BB     FRA                TA/TO                  0                       0                               0                  B                0                     0        Transient                            0                          2             3\n",
       "64903  83633            0      247.0               2016           December                        52                         24                        2                     3     0.0       2.0     0.0   BB     PRT                TA/TO                  0                       0                               0                  B                0                     0        Transient                            0                          1             5\n",
       "64980  83710            0      255.0               2016           December                        53                         27                        0                     3     0.0       0.0     0.0   BB     PRT                TA/TO                  0                       0                               0                  A                3                     0        Transient                            0                          0             3\n",
       "\n",
       "[166 rows x 25 columns]"
      ]
     },
     "execution_count": 36,
     "metadata": {},
     "output_type": "execute_result"
    }
   ],
   "source": [
    "data_train.loc[data_train['adults'] == 0]"
   ]
  },
  {
   "cell_type": "markdown",
   "metadata": {},
   "source": [
    "166 неверных записей"
   ]
  },
  {
   "cell_type": "markdown",
   "metadata": {},
   "source": [
    "Видим, что в большинстве случаев в таких заказах есть дети, посмотрим сколько таких вообще без людей"
   ]
  },
  {
   "cell_type": "code",
   "execution_count": 37,
   "metadata": {},
   "outputs": [
    {
     "data": {
      "text/plain": [
       "15"
      ]
     },
     "execution_count": 37,
     "metadata": {},
     "output_type": "execute_result"
    }
   ],
   "source": [
    "data_train.loc[(data_train['adults'] == 0) & (data_train['children'] == 0) & (data_train['babies'] == 0)]['adults'].count()"
   ]
  },
  {
   "cell_type": "markdown",
   "metadata": {},
   "source": [
    "15 абсурдных записей"
   ]
  },
  {
   "cell_type": "markdown",
   "metadata": {},
   "source": [
    "От них нужно избавиться"
   ]
  },
  {
   "cell_type": "code",
   "execution_count": 38,
   "metadata": {},
   "outputs": [],
   "source": [
    "data_train = data_train.query('adults!=0')\n",
    "data_test = data_test.query('adults!=0')"
   ]
  },
  {
   "cell_type": "markdown",
   "metadata": {},
   "source": [
    "**Вывод**  \n",
    "В ходе этого этапа был выполнен исследовательский анализ данных, были выявлены закономерности, ошибки в данных и корелляции  \n",
    "самое важное:\n",
    "- отмененные заказы составляют треть от всех заказов\n",
    "- 91.4% гостей не имеют предыдущих отмен брони, 8.2% имеют одну\n",
    "- самая популярная комната - А, она самая дорогая\n",
    "- 94.4% гостей не нужно парковочное место"
   ]
  },
  {
   "cell_type": "markdown",
   "metadata": {},
   "source": [
    "## Рассчет прибыли до введения депозита"
   ]
  },
  {
   "cell_type": "markdown",
   "metadata": {},
   "source": [
    "рассчитывать будем на тестовой выборке так как по ней будем финально проверять модель"
   ]
  },
  {
   "cell_type": "code",
   "execution_count": 39,
   "metadata": {},
   "outputs": [],
   "source": [
    "room_types = {'A': [1000, 400], #dictionary of hotel room types [0] - one night cost\n",
    "             'B': [800, 350], #                                 [1] - one service cost \n",
    "             'C': [600, 350],\n",
    "             'D': [550, 150],\n",
    "             'E': [500, 150],\n",
    "             'F': [450, 150],\n",
    "             'G': [350, 150],\n",
    "             }\n",
    "\n",
    "SF_COEF = 1.2 # spring and fall coeficient\n",
    "SUMMER_COEF = 1.4 # summer coeficient\n",
    "BASE_COEF = 1 # standard coefficient\n",
    "spring_fall = ['March', 'April', 'May', 'September', 'October', 'November']\n",
    "summer = ['June', 'July', 'August']"
   ]
  },
  {
   "cell_type": "code",
   "execution_count": 40,
   "metadata": {},
   "outputs": [],
   "source": [
    "def season_coef(month):\n",
    "    if month in spring_fall:\n",
    "        return SF_COEF\n",
    "    elif month in summer:\n",
    "        return SUMMER_COEF\n",
    "    else:\n",
    "        return BASE_COEF"
   ]
  },
  {
   "cell_type": "markdown",
   "metadata": {},
   "source": [
    "В задаче нечетко прописан алгоритм уборки \"Если клиент снял номер надолго, то убираются каждые два дня.\"  \n",
    "не ясно что является \"надолго\", поэтому посчитаем по такому принципу:\n",
    "количество ночей целочисленно поделим на 2, например при 5 ночей будет две уборки: на второй и четвертый день пребывания"
   ]
  },
  {
   "cell_type": "code",
   "execution_count": 41,
   "metadata": {},
   "outputs": [],
   "source": [
    "def profit(row):\n",
    "    prof = 0\n",
    "    if row['is_canceled'] == 0:\n",
    "        prof = (room_types[row['reserved_room_type']][0] * # room type cost\n",
    "        row['total_nights'] * # n of nights\n",
    "        season_coef(row['arrival_date_month']) + # season coefficient\n",
    "        room_types[row['reserved_room_type']][1] + # preparation cost\n",
    "        room_types[row['reserved_room_type']][1] * row['total_nights']//2 # clean every 2 days cost\n",
    "               )\n",
    "    else:\n",
    "        prof = (-1 *( # negative because we calculate losses\n",
    "                room_types[row['reserved_room_type']][1] + # preparation cost\n",
    "                room_types[row['reserved_room_type']][0] * # room type cost\n",
    "                season_coef(row['arrival_date_month'])) # season coefficient\n",
    "               )\n",
    "    return prof"
   ]
  },
  {
   "cell_type": "code",
   "execution_count": 42,
   "metadata": {
    "scrolled": true
   },
   "outputs": [
    {
     "name": "stdout",
     "output_type": "stream",
     "text": [
      "Прибыль до введения депозита: 63,750,495 рублей\n"
     ]
    }
   ],
   "source": [
    "data_test['profit_before'] = data_test.apply(profit, axis=1)\n",
    "print(f'Прибыль до введения депозита: {int(data_test[\"profit_before\"].sum()):,} рублей')\n",
    "data_test_no_OHE = data_test.copy()"
   ]
  },
  {
   "cell_type": "markdown",
   "metadata": {},
   "source": [
    "Прибыль 63.8 млн. рублей, зафиксируем"
   ]
  },
  {
   "cell_type": "markdown",
   "metadata": {},
   "source": [
    "**Вывод**  \n",
    "В ходе этого этапа была рассчитана прибыль до введения депозитов,  \n",
    "она составила 63.8 млн. рублей"
   ]
  },
  {
   "cell_type": "markdown",
   "metadata": {},
   "source": [
    "## Подготовка данных для обучения модели"
   ]
  },
  {
   "cell_type": "markdown",
   "metadata": {},
   "source": [
    "В данных есть несколько столбцов с категориальными значениями, их нужно кодировать техникой OHE, но для этого нужно  \n",
    "совместить DF, так как они имеют разные категориальные значения"
   ]
  },
  {
   "cell_type": "code",
   "execution_count": 43,
   "metadata": {
    "scrolled": false
   },
   "outputs": [
    {
     "name": "stdout",
     "output_type": "stream",
     "text": [
      "train len before: 64570\n",
      "test len before: 32211\n",
      "train len after: 64570\n",
      "test len before: 32211\n"
     ]
    }
   ],
   "source": [
    "cats = ['arrival_date_month', 'meal', 'country', 'reserved_room_type', 'distribution_channel', 'customer_type']\n",
    "\n",
    "joined = pd.concat([data_train, data_test])\n",
    "joined = pd.get_dummies(joined, columns=cats, drop_first=True)\n",
    "\n",
    "print('train len before:',len(data_train))\n",
    "print('test len before:',len(data_test))\n",
    "data_train = joined.iloc[:len(data_train)]\n",
    "data_test = joined.iloc[len(data_train):]\n",
    "print('train len after:',len(data_train))\n",
    "print('test len before:',len(data_test))"
   ]
  },
  {
   "cell_type": "markdown",
   "metadata": {},
   "source": [
    "Успешно"
   ]
  },
  {
   "cell_type": "markdown",
   "metadata": {},
   "source": [
    "Для обучения модели необходимо разбить данные на признаки и целевой признак"
   ]
  },
  {
   "cell_type": "code",
   "execution_count": 44,
   "metadata": {},
   "outputs": [],
   "source": [
    "#features_train = data_train.drop(columns=['id', 'is_canceled', 'profit_before', 'arrival_date_year'])\n",
    "#features_test_1 = data_test.drop(columns=['id', 'is_canceled', 'profit_before', 'arrival_date_year'])\n",
    "\n",
    "features_train = data_train.drop(columns=['is_canceled', 'profit_before', 'arrival_date_year'])\n",
    "features_test_1 = data_test.drop(columns=['is_canceled', 'profit_before', 'arrival_date_year'])\n",
    "target_train = data_train['is_canceled']\n",
    "target_test_1 = data_test['is_canceled']"
   ]
  },
  {
   "cell_type": "markdown",
   "metadata": {},
   "source": [
    "Для лучшего обучения модели нужно отмасштабировать численные признаки"
   ]
  },
  {
   "cell_type": "code",
   "execution_count": 45,
   "metadata": {
    "scrolled": false
   },
   "outputs": [
    {
     "data": {
      "text/html": [
       "<div>\n",
       "<style scoped>\n",
       "    .dataframe tbody tr th:only-of-type {\n",
       "        vertical-align: middle;\n",
       "    }\n",
       "\n",
       "    .dataframe tbody tr th {\n",
       "        vertical-align: top;\n",
       "    }\n",
       "\n",
       "    .dataframe thead th {\n",
       "        text-align: right;\n",
       "    }\n",
       "</style>\n",
       "<table border=\"1\" class=\"dataframe\">\n",
       "  <thead>\n",
       "    <tr style=\"text-align: right;\">\n",
       "      <th></th>\n",
       "      <th>id</th>\n",
       "      <th>lead_time</th>\n",
       "      <th>arrival_date_week_number</th>\n",
       "      <th>arrival_date_day_of_month</th>\n",
       "      <th>stays_in_weekend_nights</th>\n",
       "      <th>stays_in_week_nights</th>\n",
       "      <th>adults</th>\n",
       "      <th>children</th>\n",
       "      <th>babies</th>\n",
       "      <th>is_repeated_guest</th>\n",
       "      <th>previous_cancellations</th>\n",
       "      <th>previous_bookings_not_canceled</th>\n",
       "      <th>booking_changes</th>\n",
       "      <th>days_in_waiting_list</th>\n",
       "      <th>required_car_parking_spaces</th>\n",
       "      <th>total_of_special_requests</th>\n",
       "      <th>total_nights</th>\n",
       "      <th>arrival_date_month_August</th>\n",
       "      <th>arrival_date_month_December</th>\n",
       "      <th>arrival_date_month_February</th>\n",
       "      <th>arrival_date_month_January</th>\n",
       "      <th>arrival_date_month_July</th>\n",
       "      <th>arrival_date_month_June</th>\n",
       "      <th>arrival_date_month_March</th>\n",
       "      <th>arrival_date_month_May</th>\n",
       "      <th>arrival_date_month_November</th>\n",
       "      <th>arrival_date_month_October</th>\n",
       "      <th>arrival_date_month_September</th>\n",
       "      <th>meal_FB</th>\n",
       "      <th>meal_HB</th>\n",
       "      <th>meal_SC</th>\n",
       "      <th>country_AGO</th>\n",
       "      <th>country_ALB</th>\n",
       "      <th>country_AND</th>\n",
       "      <th>country_ARE</th>\n",
       "      <th>country_ARG</th>\n",
       "      <th>country_ARM</th>\n",
       "      <th>country_ASM</th>\n",
       "      <th>country_ATA</th>\n",
       "      <th>country_ATF</th>\n",
       "      <th>country_AUS</th>\n",
       "      <th>country_AUT</th>\n",
       "      <th>country_AZE</th>\n",
       "      <th>country_BDI</th>\n",
       "      <th>country_BEL</th>\n",
       "      <th>country_BEN</th>\n",
       "      <th>country_BFA</th>\n",
       "      <th>country_BGD</th>\n",
       "      <th>country_BGR</th>\n",
       "      <th>country_BHR</th>\n",
       "      <th>country_BHS</th>\n",
       "      <th>country_BIH</th>\n",
       "      <th>country_BLR</th>\n",
       "      <th>country_BOL</th>\n",
       "      <th>country_BRA</th>\n",
       "      <th>country_BRB</th>\n",
       "      <th>country_BWA</th>\n",
       "      <th>country_CAF</th>\n",
       "      <th>country_CHE</th>\n",
       "      <th>country_CHL</th>\n",
       "      <th>country_CHN</th>\n",
       "      <th>country_CIV</th>\n",
       "      <th>country_CMR</th>\n",
       "      <th>country_CN</th>\n",
       "      <th>country_COL</th>\n",
       "      <th>country_CPV</th>\n",
       "      <th>country_CRI</th>\n",
       "      <th>country_CUB</th>\n",
       "      <th>country_CYM</th>\n",
       "      <th>country_CYP</th>\n",
       "      <th>country_CZE</th>\n",
       "      <th>country_DEU</th>\n",
       "      <th>country_DMA</th>\n",
       "      <th>country_DNK</th>\n",
       "      <th>country_DOM</th>\n",
       "      <th>country_DZA</th>\n",
       "      <th>country_ECU</th>\n",
       "      <th>country_EGY</th>\n",
       "      <th>country_ESP</th>\n",
       "      <th>country_EST</th>\n",
       "      <th>country_ETH</th>\n",
       "      <th>country_FIN</th>\n",
       "      <th>country_FJI</th>\n",
       "      <th>country_FRA</th>\n",
       "      <th>country_FRO</th>\n",
       "      <th>country_GAB</th>\n",
       "      <th>country_GBR</th>\n",
       "      <th>country_GEO</th>\n",
       "      <th>country_GGY</th>\n",
       "      <th>country_GHA</th>\n",
       "      <th>country_GIB</th>\n",
       "      <th>country_GLP</th>\n",
       "      <th>country_GNB</th>\n",
       "      <th>country_GRC</th>\n",
       "      <th>country_GTM</th>\n",
       "      <th>country_GUY</th>\n",
       "      <th>country_HKG</th>\n",
       "      <th>country_HND</th>\n",
       "      <th>country_HRV</th>\n",
       "      <th>country_HUN</th>\n",
       "      <th>country_IDN</th>\n",
       "      <th>country_IMN</th>\n",
       "      <th>country_IND</th>\n",
       "      <th>country_IRL</th>\n",
       "      <th>country_IRN</th>\n",
       "      <th>country_IRQ</th>\n",
       "      <th>country_ISL</th>\n",
       "      <th>country_ISR</th>\n",
       "      <th>country_ITA</th>\n",
       "      <th>country_JAM</th>\n",
       "      <th>country_JEY</th>\n",
       "      <th>country_JOR</th>\n",
       "      <th>country_JPN</th>\n",
       "      <th>country_KAZ</th>\n",
       "      <th>country_KEN</th>\n",
       "      <th>country_KHM</th>\n",
       "      <th>country_KIR</th>\n",
       "      <th>country_KNA</th>\n",
       "      <th>country_KOR</th>\n",
       "      <th>country_KWT</th>\n",
       "      <th>country_LAO</th>\n",
       "      <th>country_LBN</th>\n",
       "      <th>country_LBY</th>\n",
       "      <th>country_LCA</th>\n",
       "      <th>country_LIE</th>\n",
       "      <th>country_LKA</th>\n",
       "      <th>country_LTU</th>\n",
       "      <th>country_LUX</th>\n",
       "      <th>country_LVA</th>\n",
       "      <th>country_MAC</th>\n",
       "      <th>country_MAR</th>\n",
       "      <th>country_MCO</th>\n",
       "      <th>country_MDG</th>\n",
       "      <th>country_MDV</th>\n",
       "      <th>country_MEX</th>\n",
       "      <th>country_MKD</th>\n",
       "      <th>country_MLI</th>\n",
       "      <th>country_MLT</th>\n",
       "      <th>country_MMR</th>\n",
       "      <th>country_MNE</th>\n",
       "      <th>country_MOZ</th>\n",
       "      <th>country_MRT</th>\n",
       "      <th>country_MUS</th>\n",
       "      <th>country_MWI</th>\n",
       "      <th>country_MYS</th>\n",
       "      <th>country_MYT</th>\n",
       "      <th>country_NAM</th>\n",
       "      <th>country_NCL</th>\n",
       "      <th>country_NGA</th>\n",
       "      <th>country_NIC</th>\n",
       "      <th>country_NLD</th>\n",
       "      <th>country_NOR</th>\n",
       "      <th>country_NPL</th>\n",
       "      <th>country_NZL</th>\n",
       "      <th>country_OMN</th>\n",
       "      <th>country_PAK</th>\n",
       "      <th>country_PAN</th>\n",
       "      <th>country_PER</th>\n",
       "      <th>country_PHL</th>\n",
       "      <th>country_PLW</th>\n",
       "      <th>country_POL</th>\n",
       "      <th>country_PRI</th>\n",
       "      <th>country_PRT</th>\n",
       "      <th>country_PRY</th>\n",
       "      <th>country_PYF</th>\n",
       "      <th>country_QAT</th>\n",
       "      <th>country_ROU</th>\n",
       "      <th>country_RUS</th>\n",
       "      <th>country_RWA</th>\n",
       "      <th>country_SAU</th>\n",
       "      <th>country_SDN</th>\n",
       "      <th>country_SEN</th>\n",
       "      <th>country_SGP</th>\n",
       "      <th>country_SLE</th>\n",
       "      <th>country_SLV</th>\n",
       "      <th>country_SMR</th>\n",
       "      <th>country_SRB</th>\n",
       "      <th>country_STP</th>\n",
       "      <th>country_SUR</th>\n",
       "      <th>country_SVK</th>\n",
       "      <th>country_SVN</th>\n",
       "      <th>country_SWE</th>\n",
       "      <th>country_SYC</th>\n",
       "      <th>country_SYR</th>\n",
       "      <th>country_TGO</th>\n",
       "      <th>country_THA</th>\n",
       "      <th>country_TJK</th>\n",
       "      <th>country_TMP</th>\n",
       "      <th>country_TUN</th>\n",
       "      <th>country_TUR</th>\n",
       "      <th>country_TWN</th>\n",
       "      <th>country_TZA</th>\n",
       "      <th>country_UGA</th>\n",
       "      <th>country_UKR</th>\n",
       "      <th>country_UMI</th>\n",
       "      <th>country_URY</th>\n",
       "      <th>country_USA</th>\n",
       "      <th>country_UZB</th>\n",
       "      <th>country_VEN</th>\n",
       "      <th>country_VGB</th>\n",
       "      <th>country_VNM</th>\n",
       "      <th>country_ZAF</th>\n",
       "      <th>country_ZMB</th>\n",
       "      <th>country_ZWE</th>\n",
       "      <th>reserved_room_type_B</th>\n",
       "      <th>reserved_room_type_C</th>\n",
       "      <th>reserved_room_type_D</th>\n",
       "      <th>reserved_room_type_E</th>\n",
       "      <th>reserved_room_type_F</th>\n",
       "      <th>reserved_room_type_G</th>\n",
       "      <th>distribution_channel_Direct</th>\n",
       "      <th>distribution_channel_GDS</th>\n",
       "      <th>distribution_channel_TA/TO</th>\n",
       "      <th>customer_type_Group</th>\n",
       "      <th>customer_type_Transient</th>\n",
       "      <th>customer_type_Transient-Party</th>\n",
       "    </tr>\n",
       "  </thead>\n",
       "  <tbody>\n",
       "    <tr>\n",
       "      <th>0</th>\n",
       "      <td>-1.694763</td>\n",
       "      <td>-0.932031</td>\n",
       "      <td>-0.317641</td>\n",
       "      <td>-1.695961</td>\n",
       "      <td>-0.968142</td>\n",
       "      <td>1</td>\n",
       "      <td>-1.778066</td>\n",
       "      <td>-0.220209</td>\n",
       "      <td>-0.073226</td>\n",
       "      <td>0</td>\n",
       "      <td>-0.12969</td>\n",
       "      <td>0</td>\n",
       "      <td>-0.326415</td>\n",
       "      <td>-0.183775</td>\n",
       "      <td>-0.244889</td>\n",
       "      <td>-0.684008</td>\n",
       "      <td>-1.179574</td>\n",
       "      <td>0</td>\n",
       "      <td>0</td>\n",
       "      <td>0</td>\n",
       "      <td>0</td>\n",
       "      <td>1</td>\n",
       "      <td>0</td>\n",
       "      <td>0</td>\n",
       "      <td>0</td>\n",
       "      <td>0</td>\n",
       "      <td>0</td>\n",
       "      <td>0</td>\n",
       "      <td>0</td>\n",
       "      <td>0</td>\n",
       "      <td>0</td>\n",
       "      <td>0</td>\n",
       "      <td>0</td>\n",
       "      <td>0</td>\n",
       "      <td>0</td>\n",
       "      <td>0</td>\n",
       "      <td>0</td>\n",
       "      <td>0</td>\n",
       "      <td>0</td>\n",
       "      <td>0</td>\n",
       "      <td>0</td>\n",
       "      <td>0</td>\n",
       "      <td>0</td>\n",
       "      <td>0</td>\n",
       "      <td>0</td>\n",
       "      <td>0</td>\n",
       "      <td>0</td>\n",
       "      <td>0</td>\n",
       "      <td>0</td>\n",
       "      <td>0</td>\n",
       "      <td>0</td>\n",
       "      <td>0</td>\n",
       "      <td>0</td>\n",
       "      <td>0</td>\n",
       "      <td>0</td>\n",
       "      <td>0</td>\n",
       "      <td>0</td>\n",
       "      <td>0</td>\n",
       "      <td>0</td>\n",
       "      <td>0</td>\n",
       "      <td>0</td>\n",
       "      <td>0</td>\n",
       "      <td>0</td>\n",
       "      <td>0</td>\n",
       "      <td>0</td>\n",
       "      <td>0</td>\n",
       "      <td>0</td>\n",
       "      <td>0</td>\n",
       "      <td>0</td>\n",
       "      <td>0</td>\n",
       "      <td>0</td>\n",
       "      <td>0</td>\n",
       "      <td>0</td>\n",
       "      <td>0</td>\n",
       "      <td>0</td>\n",
       "      <td>0</td>\n",
       "      <td>0</td>\n",
       "      <td>0</td>\n",
       "      <td>0</td>\n",
       "      <td>0</td>\n",
       "      <td>0</td>\n",
       "      <td>0</td>\n",
       "      <td>0</td>\n",
       "      <td>0</td>\n",
       "      <td>0</td>\n",
       "      <td>0</td>\n",
       "      <td>1</td>\n",
       "      <td>0</td>\n",
       "      <td>0</td>\n",
       "      <td>0</td>\n",
       "      <td>0</td>\n",
       "      <td>0</td>\n",
       "      <td>0</td>\n",
       "      <td>0</td>\n",
       "      <td>0</td>\n",
       "      <td>0</td>\n",
       "      <td>0</td>\n",
       "      <td>0</td>\n",
       "      <td>0</td>\n",
       "      <td>0</td>\n",
       "      <td>0</td>\n",
       "      <td>0</td>\n",
       "      <td>0</td>\n",
       "      <td>0</td>\n",
       "      <td>0</td>\n",
       "      <td>0</td>\n",
       "      <td>0</td>\n",
       "      <td>0</td>\n",
       "      <td>0</td>\n",
       "      <td>0</td>\n",
       "      <td>0</td>\n",
       "      <td>0</td>\n",
       "      <td>0</td>\n",
       "      <td>0</td>\n",
       "      <td>0</td>\n",
       "      <td>0</td>\n",
       "      <td>0</td>\n",
       "      <td>0</td>\n",
       "      <td>0</td>\n",
       "      <td>0</td>\n",
       "      <td>0</td>\n",
       "      <td>0</td>\n",
       "      <td>0</td>\n",
       "      <td>0</td>\n",
       "      <td>0</td>\n",
       "      <td>0</td>\n",
       "      <td>0</td>\n",
       "      <td>0</td>\n",
       "      <td>0</td>\n",
       "      <td>0</td>\n",
       "      <td>0</td>\n",
       "      <td>0</td>\n",
       "      <td>0</td>\n",
       "      <td>0</td>\n",
       "      <td>0</td>\n",
       "      <td>0</td>\n",
       "      <td>0</td>\n",
       "      <td>0</td>\n",
       "      <td>0</td>\n",
       "      <td>0</td>\n",
       "      <td>0</td>\n",
       "      <td>0</td>\n",
       "      <td>0</td>\n",
       "      <td>0</td>\n",
       "      <td>0</td>\n",
       "      <td>0</td>\n",
       "      <td>0</td>\n",
       "      <td>0</td>\n",
       "      <td>0</td>\n",
       "      <td>0</td>\n",
       "      <td>0</td>\n",
       "      <td>0</td>\n",
       "      <td>0</td>\n",
       "      <td>0</td>\n",
       "      <td>0</td>\n",
       "      <td>0</td>\n",
       "      <td>0</td>\n",
       "      <td>0</td>\n",
       "      <td>0</td>\n",
       "      <td>0</td>\n",
       "      <td>0</td>\n",
       "      <td>0</td>\n",
       "      <td>0</td>\n",
       "      <td>0</td>\n",
       "      <td>0</td>\n",
       "      <td>0</td>\n",
       "      <td>0</td>\n",
       "      <td>0</td>\n",
       "      <td>0</td>\n",
       "      <td>0</td>\n",
       "      <td>0</td>\n",
       "      <td>0</td>\n",
       "      <td>0</td>\n",
       "      <td>0</td>\n",
       "      <td>0</td>\n",
       "      <td>0</td>\n",
       "      <td>0</td>\n",
       "      <td>0</td>\n",
       "      <td>0</td>\n",
       "      <td>0</td>\n",
       "      <td>0</td>\n",
       "      <td>0</td>\n",
       "      <td>0</td>\n",
       "      <td>0</td>\n",
       "      <td>0</td>\n",
       "      <td>0</td>\n",
       "      <td>0</td>\n",
       "      <td>0</td>\n",
       "      <td>0</td>\n",
       "      <td>0</td>\n",
       "      <td>0</td>\n",
       "      <td>0</td>\n",
       "      <td>0</td>\n",
       "      <td>0</td>\n",
       "      <td>0</td>\n",
       "      <td>0</td>\n",
       "      <td>0</td>\n",
       "      <td>0</td>\n",
       "      <td>0</td>\n",
       "      <td>0</td>\n",
       "      <td>0</td>\n",
       "      <td>0</td>\n",
       "      <td>0</td>\n",
       "      <td>0</td>\n",
       "      <td>0</td>\n",
       "      <td>0</td>\n",
       "      <td>0</td>\n",
       "      <td>0</td>\n",
       "      <td>0</td>\n",
       "      <td>0</td>\n",
       "      <td>1</td>\n",
       "      <td>0</td>\n",
       "      <td>0</td>\n",
       "      <td>0</td>\n",
       "      <td>1</td>\n",
       "      <td>0</td>\n",
       "    </tr>\n",
       "    <tr>\n",
       "      <th>1</th>\n",
       "      <td>-1.694724</td>\n",
       "      <td>-0.857307</td>\n",
       "      <td>-0.317641</td>\n",
       "      <td>-1.695961</td>\n",
       "      <td>-0.968142</td>\n",
       "      <td>2</td>\n",
       "      <td>0.336839</td>\n",
       "      <td>-0.220209</td>\n",
       "      <td>-0.073226</td>\n",
       "      <td>0</td>\n",
       "      <td>-0.12969</td>\n",
       "      <td>0</td>\n",
       "      <td>-0.326415</td>\n",
       "      <td>-0.183775</td>\n",
       "      <td>-0.244889</td>\n",
       "      <td>0.643546</td>\n",
       "      <td>-0.604847</td>\n",
       "      <td>0</td>\n",
       "      <td>0</td>\n",
       "      <td>0</td>\n",
       "      <td>0</td>\n",
       "      <td>1</td>\n",
       "      <td>0</td>\n",
       "      <td>0</td>\n",
       "      <td>0</td>\n",
       "      <td>0</td>\n",
       "      <td>0</td>\n",
       "      <td>0</td>\n",
       "      <td>0</td>\n",
       "      <td>0</td>\n",
       "      <td>0</td>\n",
       "      <td>0</td>\n",
       "      <td>0</td>\n",
       "      <td>0</td>\n",
       "      <td>0</td>\n",
       "      <td>0</td>\n",
       "      <td>0</td>\n",
       "      <td>0</td>\n",
       "      <td>0</td>\n",
       "      <td>0</td>\n",
       "      <td>0</td>\n",
       "      <td>0</td>\n",
       "      <td>0</td>\n",
       "      <td>0</td>\n",
       "      <td>0</td>\n",
       "      <td>0</td>\n",
       "      <td>0</td>\n",
       "      <td>0</td>\n",
       "      <td>0</td>\n",
       "      <td>0</td>\n",
       "      <td>0</td>\n",
       "      <td>0</td>\n",
       "      <td>0</td>\n",
       "      <td>0</td>\n",
       "      <td>0</td>\n",
       "      <td>0</td>\n",
       "      <td>0</td>\n",
       "      <td>0</td>\n",
       "      <td>0</td>\n",
       "      <td>0</td>\n",
       "      <td>0</td>\n",
       "      <td>0</td>\n",
       "      <td>0</td>\n",
       "      <td>0</td>\n",
       "      <td>0</td>\n",
       "      <td>0</td>\n",
       "      <td>0</td>\n",
       "      <td>0</td>\n",
       "      <td>0</td>\n",
       "      <td>0</td>\n",
       "      <td>0</td>\n",
       "      <td>0</td>\n",
       "      <td>0</td>\n",
       "      <td>0</td>\n",
       "      <td>0</td>\n",
       "      <td>0</td>\n",
       "      <td>0</td>\n",
       "      <td>0</td>\n",
       "      <td>0</td>\n",
       "      <td>0</td>\n",
       "      <td>0</td>\n",
       "      <td>0</td>\n",
       "      <td>0</td>\n",
       "      <td>0</td>\n",
       "      <td>0</td>\n",
       "      <td>0</td>\n",
       "      <td>1</td>\n",
       "      <td>0</td>\n",
       "      <td>0</td>\n",
       "      <td>0</td>\n",
       "      <td>0</td>\n",
       "      <td>0</td>\n",
       "      <td>0</td>\n",
       "      <td>0</td>\n",
       "      <td>0</td>\n",
       "      <td>0</td>\n",
       "      <td>0</td>\n",
       "      <td>0</td>\n",
       "      <td>0</td>\n",
       "      <td>0</td>\n",
       "      <td>0</td>\n",
       "      <td>0</td>\n",
       "      <td>0</td>\n",
       "      <td>0</td>\n",
       "      <td>0</td>\n",
       "      <td>0</td>\n",
       "      <td>0</td>\n",
       "      <td>0</td>\n",
       "      <td>0</td>\n",
       "      <td>0</td>\n",
       "      <td>0</td>\n",
       "      <td>0</td>\n",
       "      <td>0</td>\n",
       "      <td>0</td>\n",
       "      <td>0</td>\n",
       "      <td>0</td>\n",
       "      <td>0</td>\n",
       "      <td>0</td>\n",
       "      <td>0</td>\n",
       "      <td>0</td>\n",
       "      <td>0</td>\n",
       "      <td>0</td>\n",
       "      <td>0</td>\n",
       "      <td>0</td>\n",
       "      <td>0</td>\n",
       "      <td>0</td>\n",
       "      <td>0</td>\n",
       "      <td>0</td>\n",
       "      <td>0</td>\n",
       "      <td>0</td>\n",
       "      <td>0</td>\n",
       "      <td>0</td>\n",
       "      <td>0</td>\n",
       "      <td>0</td>\n",
       "      <td>0</td>\n",
       "      <td>0</td>\n",
       "      <td>0</td>\n",
       "      <td>0</td>\n",
       "      <td>0</td>\n",
       "      <td>0</td>\n",
       "      <td>0</td>\n",
       "      <td>0</td>\n",
       "      <td>0</td>\n",
       "      <td>0</td>\n",
       "      <td>0</td>\n",
       "      <td>0</td>\n",
       "      <td>0</td>\n",
       "      <td>0</td>\n",
       "      <td>0</td>\n",
       "      <td>0</td>\n",
       "      <td>0</td>\n",
       "      <td>0</td>\n",
       "      <td>0</td>\n",
       "      <td>0</td>\n",
       "      <td>0</td>\n",
       "      <td>0</td>\n",
       "      <td>0</td>\n",
       "      <td>0</td>\n",
       "      <td>0</td>\n",
       "      <td>0</td>\n",
       "      <td>0</td>\n",
       "      <td>0</td>\n",
       "      <td>0</td>\n",
       "      <td>0</td>\n",
       "      <td>0</td>\n",
       "      <td>0</td>\n",
       "      <td>0</td>\n",
       "      <td>0</td>\n",
       "      <td>0</td>\n",
       "      <td>0</td>\n",
       "      <td>0</td>\n",
       "      <td>0</td>\n",
       "      <td>0</td>\n",
       "      <td>0</td>\n",
       "      <td>0</td>\n",
       "      <td>0</td>\n",
       "      <td>0</td>\n",
       "      <td>0</td>\n",
       "      <td>0</td>\n",
       "      <td>0</td>\n",
       "      <td>0</td>\n",
       "      <td>0</td>\n",
       "      <td>0</td>\n",
       "      <td>0</td>\n",
       "      <td>0</td>\n",
       "      <td>0</td>\n",
       "      <td>0</td>\n",
       "      <td>0</td>\n",
       "      <td>0</td>\n",
       "      <td>0</td>\n",
       "      <td>0</td>\n",
       "      <td>0</td>\n",
       "      <td>0</td>\n",
       "      <td>0</td>\n",
       "      <td>0</td>\n",
       "      <td>0</td>\n",
       "      <td>0</td>\n",
       "      <td>0</td>\n",
       "      <td>0</td>\n",
       "      <td>0</td>\n",
       "      <td>0</td>\n",
       "      <td>0</td>\n",
       "      <td>0</td>\n",
       "      <td>0</td>\n",
       "      <td>0</td>\n",
       "      <td>0</td>\n",
       "      <td>0</td>\n",
       "      <td>0</td>\n",
       "      <td>0</td>\n",
       "      <td>0</td>\n",
       "      <td>0</td>\n",
       "      <td>0</td>\n",
       "      <td>1</td>\n",
       "      <td>0</td>\n",
       "      <td>1</td>\n",
       "      <td>0</td>\n",
       "    </tr>\n",
       "    <tr>\n",
       "      <th>2</th>\n",
       "      <td>-1.694685</td>\n",
       "      <td>-1.006755</td>\n",
       "      <td>-0.317641</td>\n",
       "      <td>-1.695961</td>\n",
       "      <td>-0.968142</td>\n",
       "      <td>2</td>\n",
       "      <td>0.336839</td>\n",
       "      <td>-0.220209</td>\n",
       "      <td>-0.073226</td>\n",
       "      <td>0</td>\n",
       "      <td>-0.12969</td>\n",
       "      <td>0</td>\n",
       "      <td>-0.326415</td>\n",
       "      <td>-0.183775</td>\n",
       "      <td>-0.244889</td>\n",
       "      <td>-0.684008</td>\n",
       "      <td>-0.604847</td>\n",
       "      <td>0</td>\n",
       "      <td>0</td>\n",
       "      <td>0</td>\n",
       "      <td>0</td>\n",
       "      <td>1</td>\n",
       "      <td>0</td>\n",
       "      <td>0</td>\n",
       "      <td>0</td>\n",
       "      <td>0</td>\n",
       "      <td>0</td>\n",
       "      <td>0</td>\n",
       "      <td>0</td>\n",
       "      <td>0</td>\n",
       "      <td>0</td>\n",
       "      <td>0</td>\n",
       "      <td>0</td>\n",
       "      <td>0</td>\n",
       "      <td>0</td>\n",
       "      <td>0</td>\n",
       "      <td>0</td>\n",
       "      <td>0</td>\n",
       "      <td>0</td>\n",
       "      <td>0</td>\n",
       "      <td>0</td>\n",
       "      <td>0</td>\n",
       "      <td>0</td>\n",
       "      <td>0</td>\n",
       "      <td>0</td>\n",
       "      <td>0</td>\n",
       "      <td>0</td>\n",
       "      <td>0</td>\n",
       "      <td>0</td>\n",
       "      <td>0</td>\n",
       "      <td>0</td>\n",
       "      <td>0</td>\n",
       "      <td>0</td>\n",
       "      <td>0</td>\n",
       "      <td>0</td>\n",
       "      <td>0</td>\n",
       "      <td>0</td>\n",
       "      <td>0</td>\n",
       "      <td>0</td>\n",
       "      <td>0</td>\n",
       "      <td>0</td>\n",
       "      <td>0</td>\n",
       "      <td>0</td>\n",
       "      <td>0</td>\n",
       "      <td>0</td>\n",
       "      <td>0</td>\n",
       "      <td>0</td>\n",
       "      <td>0</td>\n",
       "      <td>0</td>\n",
       "      <td>0</td>\n",
       "      <td>0</td>\n",
       "      <td>0</td>\n",
       "      <td>0</td>\n",
       "      <td>0</td>\n",
       "      <td>0</td>\n",
       "      <td>0</td>\n",
       "      <td>0</td>\n",
       "      <td>0</td>\n",
       "      <td>0</td>\n",
       "      <td>0</td>\n",
       "      <td>0</td>\n",
       "      <td>0</td>\n",
       "      <td>0</td>\n",
       "      <td>0</td>\n",
       "      <td>0</td>\n",
       "      <td>0</td>\n",
       "      <td>0</td>\n",
       "      <td>0</td>\n",
       "      <td>0</td>\n",
       "      <td>0</td>\n",
       "      <td>0</td>\n",
       "      <td>0</td>\n",
       "      <td>0</td>\n",
       "      <td>0</td>\n",
       "      <td>0</td>\n",
       "      <td>0</td>\n",
       "      <td>0</td>\n",
       "      <td>0</td>\n",
       "      <td>0</td>\n",
       "      <td>0</td>\n",
       "      <td>0</td>\n",
       "      <td>0</td>\n",
       "      <td>0</td>\n",
       "      <td>0</td>\n",
       "      <td>0</td>\n",
       "      <td>0</td>\n",
       "      <td>0</td>\n",
       "      <td>0</td>\n",
       "      <td>0</td>\n",
       "      <td>0</td>\n",
       "      <td>0</td>\n",
       "      <td>0</td>\n",
       "      <td>0</td>\n",
       "      <td>0</td>\n",
       "      <td>0</td>\n",
       "      <td>0</td>\n",
       "      <td>0</td>\n",
       "      <td>0</td>\n",
       "      <td>0</td>\n",
       "      <td>0</td>\n",
       "      <td>0</td>\n",
       "      <td>0</td>\n",
       "      <td>0</td>\n",
       "      <td>0</td>\n",
       "      <td>0</td>\n",
       "      <td>0</td>\n",
       "      <td>0</td>\n",
       "      <td>0</td>\n",
       "      <td>0</td>\n",
       "      <td>0</td>\n",
       "      <td>0</td>\n",
       "      <td>0</td>\n",
       "      <td>0</td>\n",
       "      <td>0</td>\n",
       "      <td>0</td>\n",
       "      <td>0</td>\n",
       "      <td>0</td>\n",
       "      <td>0</td>\n",
       "      <td>0</td>\n",
       "      <td>0</td>\n",
       "      <td>0</td>\n",
       "      <td>0</td>\n",
       "      <td>0</td>\n",
       "      <td>0</td>\n",
       "      <td>0</td>\n",
       "      <td>0</td>\n",
       "      <td>0</td>\n",
       "      <td>0</td>\n",
       "      <td>0</td>\n",
       "      <td>0</td>\n",
       "      <td>0</td>\n",
       "      <td>0</td>\n",
       "      <td>0</td>\n",
       "      <td>0</td>\n",
       "      <td>0</td>\n",
       "      <td>0</td>\n",
       "      <td>0</td>\n",
       "      <td>0</td>\n",
       "      <td>0</td>\n",
       "      <td>0</td>\n",
       "      <td>0</td>\n",
       "      <td>0</td>\n",
       "      <td>1</td>\n",
       "      <td>0</td>\n",
       "      <td>0</td>\n",
       "      <td>0</td>\n",
       "      <td>0</td>\n",
       "      <td>0</td>\n",
       "      <td>0</td>\n",
       "      <td>0</td>\n",
       "      <td>0</td>\n",
       "      <td>0</td>\n",
       "      <td>0</td>\n",
       "      <td>0</td>\n",
       "      <td>0</td>\n",
       "      <td>0</td>\n",
       "      <td>0</td>\n",
       "      <td>0</td>\n",
       "      <td>0</td>\n",
       "      <td>0</td>\n",
       "      <td>0</td>\n",
       "      <td>0</td>\n",
       "      <td>0</td>\n",
       "      <td>0</td>\n",
       "      <td>0</td>\n",
       "      <td>0</td>\n",
       "      <td>0</td>\n",
       "      <td>0</td>\n",
       "      <td>0</td>\n",
       "      <td>0</td>\n",
       "      <td>0</td>\n",
       "      <td>0</td>\n",
       "      <td>0</td>\n",
       "      <td>0</td>\n",
       "      <td>0</td>\n",
       "      <td>0</td>\n",
       "      <td>0</td>\n",
       "      <td>0</td>\n",
       "      <td>0</td>\n",
       "      <td>0</td>\n",
       "      <td>0</td>\n",
       "      <td>0</td>\n",
       "      <td>0</td>\n",
       "      <td>0</td>\n",
       "      <td>0</td>\n",
       "      <td>1</td>\n",
       "      <td>0</td>\n",
       "      <td>0</td>\n",
       "      <td>0</td>\n",
       "      <td>0</td>\n",
       "      <td>1</td>\n",
       "      <td>0</td>\n",
       "      <td>0</td>\n",
       "      <td>0</td>\n",
       "      <td>1</td>\n",
       "      <td>0</td>\n",
       "    </tr>\n",
       "    <tr>\n",
       "      <th>3</th>\n",
       "      <td>-1.694646</td>\n",
       "      <td>-0.910681</td>\n",
       "      <td>-0.317641</td>\n",
       "      <td>-1.695961</td>\n",
       "      <td>-0.968142</td>\n",
       "      <td>2</td>\n",
       "      <td>0.336839</td>\n",
       "      <td>-0.220209</td>\n",
       "      <td>-0.073226</td>\n",
       "      <td>0</td>\n",
       "      <td>-0.12969</td>\n",
       "      <td>0</td>\n",
       "      <td>-0.326415</td>\n",
       "      <td>-0.183775</td>\n",
       "      <td>-0.244889</td>\n",
       "      <td>0.643546</td>\n",
       "      <td>-0.604847</td>\n",
       "      <td>0</td>\n",
       "      <td>0</td>\n",
       "      <td>0</td>\n",
       "      <td>0</td>\n",
       "      <td>1</td>\n",
       "      <td>0</td>\n",
       "      <td>0</td>\n",
       "      <td>0</td>\n",
       "      <td>0</td>\n",
       "      <td>0</td>\n",
       "      <td>0</td>\n",
       "      <td>1</td>\n",
       "      <td>0</td>\n",
       "      <td>0</td>\n",
       "      <td>0</td>\n",
       "      <td>0</td>\n",
       "      <td>0</td>\n",
       "      <td>0</td>\n",
       "      <td>0</td>\n",
       "      <td>0</td>\n",
       "      <td>0</td>\n",
       "      <td>0</td>\n",
       "      <td>0</td>\n",
       "      <td>0</td>\n",
       "      <td>0</td>\n",
       "      <td>0</td>\n",
       "      <td>0</td>\n",
       "      <td>0</td>\n",
       "      <td>0</td>\n",
       "      <td>0</td>\n",
       "      <td>0</td>\n",
       "      <td>0</td>\n",
       "      <td>0</td>\n",
       "      <td>0</td>\n",
       "      <td>0</td>\n",
       "      <td>0</td>\n",
       "      <td>0</td>\n",
       "      <td>0</td>\n",
       "      <td>0</td>\n",
       "      <td>0</td>\n",
       "      <td>0</td>\n",
       "      <td>0</td>\n",
       "      <td>0</td>\n",
       "      <td>0</td>\n",
       "      <td>0</td>\n",
       "      <td>0</td>\n",
       "      <td>0</td>\n",
       "      <td>0</td>\n",
       "      <td>0</td>\n",
       "      <td>0</td>\n",
       "      <td>0</td>\n",
       "      <td>0</td>\n",
       "      <td>0</td>\n",
       "      <td>0</td>\n",
       "      <td>0</td>\n",
       "      <td>0</td>\n",
       "      <td>0</td>\n",
       "      <td>0</td>\n",
       "      <td>0</td>\n",
       "      <td>0</td>\n",
       "      <td>0</td>\n",
       "      <td>0</td>\n",
       "      <td>0</td>\n",
       "      <td>0</td>\n",
       "      <td>0</td>\n",
       "      <td>0</td>\n",
       "      <td>0</td>\n",
       "      <td>0</td>\n",
       "      <td>0</td>\n",
       "      <td>0</td>\n",
       "      <td>0</td>\n",
       "      <td>0</td>\n",
       "      <td>0</td>\n",
       "      <td>0</td>\n",
       "      <td>0</td>\n",
       "      <td>0</td>\n",
       "      <td>0</td>\n",
       "      <td>0</td>\n",
       "      <td>0</td>\n",
       "      <td>0</td>\n",
       "      <td>0</td>\n",
       "      <td>0</td>\n",
       "      <td>0</td>\n",
       "      <td>0</td>\n",
       "      <td>0</td>\n",
       "      <td>0</td>\n",
       "      <td>0</td>\n",
       "      <td>0</td>\n",
       "      <td>0</td>\n",
       "      <td>0</td>\n",
       "      <td>0</td>\n",
       "      <td>0</td>\n",
       "      <td>0</td>\n",
       "      <td>0</td>\n",
       "      <td>0</td>\n",
       "      <td>0</td>\n",
       "      <td>0</td>\n",
       "      <td>0</td>\n",
       "      <td>0</td>\n",
       "      <td>0</td>\n",
       "      <td>0</td>\n",
       "      <td>0</td>\n",
       "      <td>0</td>\n",
       "      <td>0</td>\n",
       "      <td>0</td>\n",
       "      <td>0</td>\n",
       "      <td>0</td>\n",
       "      <td>0</td>\n",
       "      <td>0</td>\n",
       "      <td>0</td>\n",
       "      <td>0</td>\n",
       "      <td>0</td>\n",
       "      <td>0</td>\n",
       "      <td>0</td>\n",
       "      <td>0</td>\n",
       "      <td>0</td>\n",
       "      <td>0</td>\n",
       "      <td>0</td>\n",
       "      <td>0</td>\n",
       "      <td>0</td>\n",
       "      <td>0</td>\n",
       "      <td>0</td>\n",
       "      <td>0</td>\n",
       "      <td>0</td>\n",
       "      <td>0</td>\n",
       "      <td>0</td>\n",
       "      <td>0</td>\n",
       "      <td>0</td>\n",
       "      <td>0</td>\n",
       "      <td>0</td>\n",
       "      <td>0</td>\n",
       "      <td>0</td>\n",
       "      <td>0</td>\n",
       "      <td>0</td>\n",
       "      <td>0</td>\n",
       "      <td>0</td>\n",
       "      <td>0</td>\n",
       "      <td>0</td>\n",
       "      <td>0</td>\n",
       "      <td>0</td>\n",
       "      <td>0</td>\n",
       "      <td>0</td>\n",
       "      <td>0</td>\n",
       "      <td>0</td>\n",
       "      <td>0</td>\n",
       "      <td>1</td>\n",
       "      <td>0</td>\n",
       "      <td>0</td>\n",
       "      <td>0</td>\n",
       "      <td>0</td>\n",
       "      <td>0</td>\n",
       "      <td>0</td>\n",
       "      <td>0</td>\n",
       "      <td>0</td>\n",
       "      <td>0</td>\n",
       "      <td>0</td>\n",
       "      <td>0</td>\n",
       "      <td>0</td>\n",
       "      <td>0</td>\n",
       "      <td>0</td>\n",
       "      <td>0</td>\n",
       "      <td>0</td>\n",
       "      <td>0</td>\n",
       "      <td>0</td>\n",
       "      <td>0</td>\n",
       "      <td>0</td>\n",
       "      <td>0</td>\n",
       "      <td>0</td>\n",
       "      <td>0</td>\n",
       "      <td>0</td>\n",
       "      <td>0</td>\n",
       "      <td>0</td>\n",
       "      <td>0</td>\n",
       "      <td>0</td>\n",
       "      <td>0</td>\n",
       "      <td>0</td>\n",
       "      <td>0</td>\n",
       "      <td>0</td>\n",
       "      <td>0</td>\n",
       "      <td>0</td>\n",
       "      <td>0</td>\n",
       "      <td>0</td>\n",
       "      <td>0</td>\n",
       "      <td>0</td>\n",
       "      <td>0</td>\n",
       "      <td>0</td>\n",
       "      <td>0</td>\n",
       "      <td>0</td>\n",
       "      <td>1</td>\n",
       "      <td>0</td>\n",
       "      <td>0</td>\n",
       "      <td>0</td>\n",
       "      <td>0</td>\n",
       "      <td>1</td>\n",
       "      <td>0</td>\n",
       "      <td>0</td>\n",
       "      <td>0</td>\n",
       "      <td>1</td>\n",
       "      <td>0</td>\n",
       "    </tr>\n",
       "    <tr>\n",
       "      <th>4</th>\n",
       "      <td>-1.694607</td>\n",
       "      <td>-0.099397</td>\n",
       "      <td>-0.317641</td>\n",
       "      <td>-1.695961</td>\n",
       "      <td>-0.968142</td>\n",
       "      <td>3</td>\n",
       "      <td>0.336839</td>\n",
       "      <td>-0.220209</td>\n",
       "      <td>-0.073226</td>\n",
       "      <td>0</td>\n",
       "      <td>-0.12969</td>\n",
       "      <td>0</td>\n",
       "      <td>-0.326415</td>\n",
       "      <td>-0.183775</td>\n",
       "      <td>-0.244889</td>\n",
       "      <td>0.643546</td>\n",
       "      <td>-0.030120</td>\n",
       "      <td>0</td>\n",
       "      <td>0</td>\n",
       "      <td>0</td>\n",
       "      <td>0</td>\n",
       "      <td>1</td>\n",
       "      <td>0</td>\n",
       "      <td>0</td>\n",
       "      <td>0</td>\n",
       "      <td>0</td>\n",
       "      <td>0</td>\n",
       "      <td>0</td>\n",
       "      <td>0</td>\n",
       "      <td>0</td>\n",
       "      <td>0</td>\n",
       "      <td>0</td>\n",
       "      <td>0</td>\n",
       "      <td>0</td>\n",
       "      <td>0</td>\n",
       "      <td>0</td>\n",
       "      <td>0</td>\n",
       "      <td>0</td>\n",
       "      <td>0</td>\n",
       "      <td>0</td>\n",
       "      <td>0</td>\n",
       "      <td>0</td>\n",
       "      <td>0</td>\n",
       "      <td>0</td>\n",
       "      <td>0</td>\n",
       "      <td>0</td>\n",
       "      <td>0</td>\n",
       "      <td>0</td>\n",
       "      <td>0</td>\n",
       "      <td>0</td>\n",
       "      <td>0</td>\n",
       "      <td>0</td>\n",
       "      <td>0</td>\n",
       "      <td>0</td>\n",
       "      <td>0</td>\n",
       "      <td>0</td>\n",
       "      <td>0</td>\n",
       "      <td>0</td>\n",
       "      <td>0</td>\n",
       "      <td>0</td>\n",
       "      <td>0</td>\n",
       "      <td>0</td>\n",
       "      <td>0</td>\n",
       "      <td>0</td>\n",
       "      <td>0</td>\n",
       "      <td>0</td>\n",
       "      <td>0</td>\n",
       "      <td>0</td>\n",
       "      <td>0</td>\n",
       "      <td>0</td>\n",
       "      <td>0</td>\n",
       "      <td>0</td>\n",
       "      <td>0</td>\n",
       "      <td>0</td>\n",
       "      <td>0</td>\n",
       "      <td>0</td>\n",
       "      <td>0</td>\n",
       "      <td>0</td>\n",
       "      <td>0</td>\n",
       "      <td>0</td>\n",
       "      <td>0</td>\n",
       "      <td>0</td>\n",
       "      <td>0</td>\n",
       "      <td>0</td>\n",
       "      <td>0</td>\n",
       "      <td>0</td>\n",
       "      <td>0</td>\n",
       "      <td>0</td>\n",
       "      <td>0</td>\n",
       "      <td>0</td>\n",
       "      <td>0</td>\n",
       "      <td>0</td>\n",
       "      <td>0</td>\n",
       "      <td>0</td>\n",
       "      <td>0</td>\n",
       "      <td>0</td>\n",
       "      <td>0</td>\n",
       "      <td>0</td>\n",
       "      <td>0</td>\n",
       "      <td>0</td>\n",
       "      <td>0</td>\n",
       "      <td>0</td>\n",
       "      <td>0</td>\n",
       "      <td>0</td>\n",
       "      <td>0</td>\n",
       "      <td>0</td>\n",
       "      <td>0</td>\n",
       "      <td>0</td>\n",
       "      <td>0</td>\n",
       "      <td>0</td>\n",
       "      <td>0</td>\n",
       "      <td>0</td>\n",
       "      <td>0</td>\n",
       "      <td>0</td>\n",
       "      <td>0</td>\n",
       "      <td>0</td>\n",
       "      <td>0</td>\n",
       "      <td>0</td>\n",
       "      <td>0</td>\n",
       "      <td>0</td>\n",
       "      <td>0</td>\n",
       "      <td>0</td>\n",
       "      <td>0</td>\n",
       "      <td>0</td>\n",
       "      <td>0</td>\n",
       "      <td>0</td>\n",
       "      <td>0</td>\n",
       "      <td>0</td>\n",
       "      <td>0</td>\n",
       "      <td>0</td>\n",
       "      <td>0</td>\n",
       "      <td>0</td>\n",
       "      <td>0</td>\n",
       "      <td>0</td>\n",
       "      <td>0</td>\n",
       "      <td>0</td>\n",
       "      <td>0</td>\n",
       "      <td>0</td>\n",
       "      <td>0</td>\n",
       "      <td>0</td>\n",
       "      <td>0</td>\n",
       "      <td>0</td>\n",
       "      <td>0</td>\n",
       "      <td>0</td>\n",
       "      <td>0</td>\n",
       "      <td>0</td>\n",
       "      <td>0</td>\n",
       "      <td>0</td>\n",
       "      <td>0</td>\n",
       "      <td>0</td>\n",
       "      <td>0</td>\n",
       "      <td>0</td>\n",
       "      <td>0</td>\n",
       "      <td>0</td>\n",
       "      <td>0</td>\n",
       "      <td>0</td>\n",
       "      <td>0</td>\n",
       "      <td>0</td>\n",
       "      <td>0</td>\n",
       "      <td>0</td>\n",
       "      <td>0</td>\n",
       "      <td>0</td>\n",
       "      <td>1</td>\n",
       "      <td>0</td>\n",
       "      <td>0</td>\n",
       "      <td>0</td>\n",
       "      <td>0</td>\n",
       "      <td>0</td>\n",
       "      <td>0</td>\n",
       "      <td>0</td>\n",
       "      <td>0</td>\n",
       "      <td>0</td>\n",
       "      <td>0</td>\n",
       "      <td>0</td>\n",
       "      <td>0</td>\n",
       "      <td>0</td>\n",
       "      <td>0</td>\n",
       "      <td>0</td>\n",
       "      <td>0</td>\n",
       "      <td>0</td>\n",
       "      <td>0</td>\n",
       "      <td>0</td>\n",
       "      <td>0</td>\n",
       "      <td>0</td>\n",
       "      <td>0</td>\n",
       "      <td>0</td>\n",
       "      <td>0</td>\n",
       "      <td>0</td>\n",
       "      <td>0</td>\n",
       "      <td>0</td>\n",
       "      <td>0</td>\n",
       "      <td>0</td>\n",
       "      <td>0</td>\n",
       "      <td>0</td>\n",
       "      <td>0</td>\n",
       "      <td>0</td>\n",
       "      <td>0</td>\n",
       "      <td>0</td>\n",
       "      <td>0</td>\n",
       "      <td>0</td>\n",
       "      <td>0</td>\n",
       "      <td>0</td>\n",
       "      <td>0</td>\n",
       "      <td>0</td>\n",
       "      <td>0</td>\n",
       "      <td>0</td>\n",
       "      <td>0</td>\n",
       "      <td>0</td>\n",
       "      <td>0</td>\n",
       "      <td>0</td>\n",
       "      <td>0</td>\n",
       "      <td>0</td>\n",
       "      <td>1</td>\n",
       "      <td>0</td>\n",
       "      <td>1</td>\n",
       "      <td>0</td>\n",
       "    </tr>\n",
       "  </tbody>\n",
       "</table>\n",
       "</div>"
      ],
      "text/plain": [
       "         id  lead_time  arrival_date_week_number  arrival_date_day_of_month  stays_in_weekend_nights  stays_in_week_nights    adults  children    babies  is_repeated_guest  previous_cancellations  previous_bookings_not_canceled  booking_changes  days_in_waiting_list  required_car_parking_spaces  total_of_special_requests  total_nights  arrival_date_month_August  arrival_date_month_December  arrival_date_month_February  arrival_date_month_January  arrival_date_month_July  arrival_date_month_June  arrival_date_month_March  arrival_date_month_May  arrival_date_month_November  arrival_date_month_October  arrival_date_month_September  meal_FB  meal_HB  meal_SC  country_AGO  country_ALB  country_AND  country_ARE  country_ARG  country_ARM  country_ASM  country_ATA  country_ATF  country_AUS  country_AUT  country_AZE  country_BDI  country_BEL  country_BEN  country_BFA  country_BGD  country_BGR  country_BHR  country_BHS  country_BIH  country_BLR  country_BOL  country_BRA  country_BRB  \\\n",
       "0 -1.694763  -0.932031                 -0.317641                  -1.695961                -0.968142                     1 -1.778066 -0.220209 -0.073226                  0                -0.12969                               0        -0.326415             -0.183775                    -0.244889                  -0.684008     -1.179574                          0                            0                            0                           0                        1                        0                         0                       0                            0                           0                             0        0        0        0            0            0            0            0            0            0            0            0            0            0            0            0            0            0            0            0            0            0            0            0            0            0            0            0            0   \n",
       "1 -1.694724  -0.857307                 -0.317641                  -1.695961                -0.968142                     2  0.336839 -0.220209 -0.073226                  0                -0.12969                               0        -0.326415             -0.183775                    -0.244889                   0.643546     -0.604847                          0                            0                            0                           0                        1                        0                         0                       0                            0                           0                             0        0        0        0            0            0            0            0            0            0            0            0            0            0            0            0            0            0            0            0            0            0            0            0            0            0            0            0            0   \n",
       "2 -1.694685  -1.006755                 -0.317641                  -1.695961                -0.968142                     2  0.336839 -0.220209 -0.073226                  0                -0.12969                               0        -0.326415             -0.183775                    -0.244889                  -0.684008     -0.604847                          0                            0                            0                           0                        1                        0                         0                       0                            0                           0                             0        0        0        0            0            0            0            0            0            0            0            0            0            0            0            0            0            0            0            0            0            0            0            0            0            0            0            0            0   \n",
       "3 -1.694646  -0.910681                 -0.317641                  -1.695961                -0.968142                     2  0.336839 -0.220209 -0.073226                  0                -0.12969                               0        -0.326415             -0.183775                    -0.244889                   0.643546     -0.604847                          0                            0                            0                           0                        1                        0                         0                       0                            0                           0                             0        1        0        0            0            0            0            0            0            0            0            0            0            0            0            0            0            0            0            0            0            0            0            0            0            0            0            0            0   \n",
       "4 -1.694607  -0.099397                 -0.317641                  -1.695961                -0.968142                     3  0.336839 -0.220209 -0.073226                  0                -0.12969                               0        -0.326415             -0.183775                    -0.244889                   0.643546     -0.030120                          0                            0                            0                           0                        1                        0                         0                       0                            0                           0                             0        0        0        0            0            0            0            0            0            0            0            0            0            0            0            0            0            0            0            0            0            0            0            0            0            0            0            0            0   \n",
       "\n",
       "   country_BWA  country_CAF  country_CHE  country_CHL  country_CHN  country_CIV  country_CMR  country_CN  country_COL  country_CPV  country_CRI  country_CUB  country_CYM  country_CYP  country_CZE  country_DEU  country_DMA  country_DNK  country_DOM  country_DZA  country_ECU  country_EGY  country_ESP  country_EST  country_ETH  country_FIN  country_FJI  country_FRA  country_FRO  country_GAB  country_GBR  country_GEO  country_GGY  country_GHA  country_GIB  country_GLP  country_GNB  country_GRC  country_GTM  country_GUY  country_HKG  country_HND  country_HRV  country_HUN  country_IDN  country_IMN  country_IND  country_IRL  country_IRN  country_IRQ  country_ISL  country_ISR  country_ITA  country_JAM  country_JEY  country_JOR  country_JPN  country_KAZ  country_KEN  country_KHM  country_KIR  country_KNA  country_KOR  country_KWT  country_LAO  country_LBN  country_LBY  country_LCA  country_LIE  country_LKA  country_LTU  country_LUX  country_LVA  country_MAC  country_MAR  country_MCO  \\\n",
       "0            0            0            0            0            0            0            0           0            0            0            0            0            0            0            0            0            0            0            0            0            0            0            0            0            0            0            0            0            0            0            1            0            0            0            0            0            0            0            0            0            0            0            0            0            0            0            0            0            0            0            0            0            0            0            0            0            0            0            0            0            0            0            0            0            0            0            0            0            0            0            0            0            0            0            0            0   \n",
       "1            0            0            0            0            0            0            0           0            0            0            0            0            0            0            0            0            0            0            0            0            0            0            0            0            0            0            0            0            0            0            1            0            0            0            0            0            0            0            0            0            0            0            0            0            0            0            0            0            0            0            0            0            0            0            0            0            0            0            0            0            0            0            0            0            0            0            0            0            0            0            0            0            0            0            0            0   \n",
       "2            0            0            0            0            0            0            0           0            0            0            0            0            0            0            0            0            0            0            0            0            0            0            0            0            0            0            0            0            0            0            0            0            0            0            0            0            0            0            0            0            0            0            0            0            0            0            0            0            0            0            0            0            0            0            0            0            0            0            0            0            0            0            0            0            0            0            0            0            0            0            0            0            0            0            0            0   \n",
       "3            0            0            0            0            0            0            0           0            0            0            0            0            0            0            0            0            0            0            0            0            0            0            0            0            0            0            0            0            0            0            0            0            0            0            0            0            0            0            0            0            0            0            0            0            0            0            0            0            0            0            0            0            0            0            0            0            0            0            0            0            0            0            0            0            0            0            0            0            0            0            0            0            0            0            0            0   \n",
       "4            0            0            0            0            0            0            0           0            0            0            0            0            0            0            0            0            0            0            0            0            0            0            0            0            0            0            0            0            0            0            0            0            0            0            0            0            0            0            0            0            0            0            0            0            0            0            0            0            0            0            0            0            0            0            0            0            0            0            0            0            0            0            0            0            0            0            0            0            0            0            0            0            0            0            0            0   \n",
       "\n",
       "   country_MDG  country_MDV  country_MEX  country_MKD  country_MLI  country_MLT  country_MMR  country_MNE  country_MOZ  country_MRT  country_MUS  country_MWI  country_MYS  country_MYT  country_NAM  country_NCL  country_NGA  country_NIC  country_NLD  country_NOR  country_NPL  country_NZL  country_OMN  country_PAK  country_PAN  country_PER  country_PHL  country_PLW  country_POL  country_PRI  country_PRT  country_PRY  country_PYF  country_QAT  country_ROU  country_RUS  country_RWA  country_SAU  country_SDN  country_SEN  country_SGP  country_SLE  country_SLV  country_SMR  country_SRB  country_STP  country_SUR  country_SVK  country_SVN  country_SWE  country_SYC  country_SYR  country_TGO  country_THA  country_TJK  country_TMP  country_TUN  country_TUR  country_TWN  country_TZA  country_UGA  country_UKR  country_UMI  country_URY  country_USA  country_UZB  country_VEN  country_VGB  country_VNM  country_ZAF  country_ZMB  country_ZWE  reserved_room_type_B  reserved_room_type_C  \\\n",
       "0            0            0            0            0            0            0            0            0            0            0            0            0            0            0            0            0            0            0            0            0            0            0            0            0            0            0            0            0            0            0            0            0            0            0            0            0            0            0            0            0            0            0            0            0            0            0            0            0            0            0            0            0            0            0            0            0            0            0            0            0            0            0            0            0            0            0            0            0            0            0            0            0                     0                     0   \n",
       "1            0            0            0            0            0            0            0            0            0            0            0            0            0            0            0            0            0            0            0            0            0            0            0            0            0            0            0            0            0            0            0            0            0            0            0            0            0            0            0            0            0            0            0            0            0            0            0            0            0            0            0            0            0            0            0            0            0            0            0            0            0            0            0            0            0            0            0            0            0            0            0            0                     0                     0   \n",
       "2            0            0            0            0            0            0            0            0            0            0            0            0            0            0            0            0            0            0            0            0            0            0            0            0            0            0            0            0            0            0            1            0            0            0            0            0            0            0            0            0            0            0            0            0            0            0            0            0            0            0            0            0            0            0            0            0            0            0            0            0            0            0            0            0            0            0            0            0            0            0            0            0                     0                     1   \n",
       "3            0            0            0            0            0            0            0            0            0            0            0            0            0            0            0            0            0            0            0            0            0            0            0            0            0            0            0            0            0            0            1            0            0            0            0            0            0            0            0            0            0            0            0            0            0            0            0            0            0            0            0            0            0            0            0            0            0            0            0            0            0            0            0            0            0            0            0            0            0            0            0            0                     0                     1   \n",
       "4            0            0            0            0            0            0            0            0            0            0            0            0            0            0            0            0            0            0            0            0            0            0            0            0            0            0            0            0            0            0            1            0            0            0            0            0            0            0            0            0            0            0            0            0            0            0            0            0            0            0            0            0            0            0            0            0            0            0            0            0            0            0            0            0            0            0            0            0            0            0            0            0                     0                     0   \n",
       "\n",
       "   reserved_room_type_D  reserved_room_type_E  reserved_room_type_F  reserved_room_type_G  distribution_channel_Direct  distribution_channel_GDS  distribution_channel_TA/TO  customer_type_Group  customer_type_Transient  customer_type_Transient-Party  \n",
       "0                     0                     0                     0                     0                            1                         0                           0                    0                        1                              0  \n",
       "1                     0                     0                     0                     0                            0                         0                           1                    0                        1                              0  \n",
       "2                     0                     0                     0                     0                            1                         0                           0                    0                        1                              0  \n",
       "3                     0                     0                     0                     0                            1                         0                           0                    0                        1                              0  \n",
       "4                     0                     0                     0                     0                            0                         0                           1                    0                        1                              0  "
      ]
     },
     "execution_count": 45,
     "metadata": {},
     "output_type": "execute_result"
    }
   ],
   "source": [
    "nums = ['lead_time',\n",
    "        'id',\n",
    "        'arrival_date_week_number',\n",
    "        'arrival_date_day_of_month',\n",
    "        'stays_in_weekend_nights',\n",
    "        'adults',\n",
    "        'children',\n",
    "        'babies',\n",
    "        'previous_cancellations',\n",
    "        'booking_changes',\n",
    "        'days_in_waiting_list',\n",
    "        'required_car_parking_spaces',\n",
    "        'total_of_special_requests',\n",
    "        'total_nights']\n",
    "\n",
    "scaler = StandardScaler()\n",
    "scaler.fit(features_train[nums])\n",
    "features_train[nums] = scaler.transform(features_train[nums])\n",
    "features_test_1[nums] = scaler.transform(features_test_1[nums])\n",
    "features_train.head()"
   ]
  },
  {
   "cell_type": "markdown",
   "metadata": {},
   "source": [
    "Теперь изучим баланс классов"
   ]
  },
  {
   "cell_type": "code",
   "execution_count": 46,
   "metadata": {
    "scrolled": true
   },
   "outputs": [
    {
     "data": {
      "text/plain": [
       "0    63.5%\n",
       "1    36.5%\n",
       "Name: is_canceled, dtype: object"
      ]
     },
     "execution_count": 46,
     "metadata": {},
     "output_type": "execute_result"
    }
   ],
   "source": [
    "data_train['is_canceled'].value_counts(normalize=True).mul(100).round(1).astype(str) + '%'"
   ]
  },
  {
   "cell_type": "markdown",
   "metadata": {},
   "source": [
    "Видим несильный дизбалланс, с ним нужно бороться"
   ]
  },
  {
   "cell_type": "markdown",
   "metadata": {},
   "source": [
    "Cделаем функции upsample и downsample"
   ]
  },
  {
   "cell_type": "code",
   "execution_count": 47,
   "metadata": {},
   "outputs": [],
   "source": [
    "def upsample(features, target, repeat):\n",
    "    \n",
    "    features_zeros = features[target == 0]\n",
    "    features_ones = features[target == 1]\n",
    "    target_zeros = target[target == 0]\n",
    "    target_ones = target[target == 1]\n",
    "    \n",
    "    features_upsampled = pd.concat([features_zeros] + [features_ones] * repeat)\n",
    "    target_upsampled = pd.concat([target_zeros] + [target_ones] * repeat)\n",
    "    \n",
    "    features_upsampled = shuffle(features_upsampled, random_state=state)\n",
    "    target_upsampled = shuffle(target_upsampled, random_state=state)\n",
    "    \n",
    "    return features_upsampled, target_upsampled"
   ]
  },
  {
   "cell_type": "code",
   "execution_count": 48,
   "metadata": {},
   "outputs": [],
   "source": [
    "def downsample(features, target, fraction):\n",
    "    features_zeros = features[target == 0]\n",
    "    features_ones = features[target == 1]\n",
    "    target_zeros = target[target == 0]\n",
    "    target_ones = target[target == 1]\n",
    "    \n",
    "    features_downsampled = pd.concat([features_zeros.sample(frac=fraction, random_state=state)] + [features_ones])\n",
    "    target_downsampled = pd.concat([target_zeros.sample(frac=fraction, random_state=state)] + [target_ones])\n",
    "    \n",
    "    features_downsampled, target_downsampled = shuffle(\n",
    "    features_downsampled, target_downsampled, random_state=state)\n",
    "    \n",
    "    return features_downsampled, target_downsampled"
   ]
  },
  {
   "cell_type": "markdown",
   "metadata": {},
   "source": [
    "обработаем данные"
   ]
  },
  {
   "cell_type": "code",
   "execution_count": 49,
   "metadata": {},
   "outputs": [
    {
     "data": {
      "text/plain": [
       "1    53.5%\n",
       "0    46.5%\n",
       "Name: is_canceled, dtype: object"
      ]
     },
     "execution_count": 49,
     "metadata": {},
     "output_type": "execute_result"
    }
   ],
   "source": [
    "features_upsampled, target_upsampled = upsample(features_train, target_train, 2)\n",
    "target_upsampled.value_counts(normalize=True).mul(100).round(1).astype(str) + '%'"
   ]
  },
  {
   "cell_type": "code",
   "execution_count": 50,
   "metadata": {
    "scrolled": true
   },
   "outputs": [
    {
     "data": {
      "text/plain": [
       "0    50.6%\n",
       "1    49.4%\n",
       "Name: is_canceled, dtype: object"
      ]
     },
     "execution_count": 50,
     "metadata": {},
     "output_type": "execute_result"
    }
   ],
   "source": [
    "features_downsampled, target_downsampled = downsample(features_train, target_train, 0.59)\n",
    "target_downsampled.value_counts(normalize=True).mul(100).round(1).astype(str) + '%'"
   ]
  },
  {
   "cell_type": "markdown",
   "metadata": {},
   "source": [
    "Осталось сравнить"
   ]
  },
  {
   "cell_type": "code",
   "execution_count": 51,
   "metadata": {},
   "outputs": [],
   "source": [
    "features_train, features_tmp, target_train, target_tmp = train_test_split(features_train, target_train, test_size=0.4, random_state=12345)\n",
    "features_valid, features_test, target_valid, target_test = train_test_split(features_tmp, target_tmp, test_size=0.5, random_state=12345)"
   ]
  },
  {
   "cell_type": "code",
   "execution_count": 52,
   "metadata": {},
   "outputs": [],
   "source": [
    "def test_lr_rf(features_train, target_train, features_valid, target_valid, description):\n",
    "    model_lr = LogisticRegression(random_state=state)\n",
    "    \n",
    "    model_rf = RandomForestClassifier(random_state=state)\n",
    "    \n",
    "    model_lr.fit(features_train, target_train)\n",
    "    model_rf.fit(features_train, target_train)\n",
    "    \n",
    "    predicted_lr = model_lr.predict(features_valid)\n",
    "    predicted_rf = model_rf.predict(features_valid)\n",
    "    \n",
    "    probabilities_lr = model_lr.predict_proba(features_valid)\n",
    "    probabilities_one_lr = probabilities_lr[:, 1]\n",
    "    probabilities_rf = model_rf.predict_proba(features_valid)\n",
    "    probabilities_one_rf = probabilities_rf[:, 1]\n",
    "    \n",
    "    f1_lr = round(f1_score(target_valid, predicted_lr), 3)\n",
    "    f1_rf = round(f1_score(target_valid, predicted_rf), 3)\n",
    "    roc_auc_lr = round(roc_auc_score(target_valid, probabilities_one_lr), 3)\n",
    "    roc_auc_rf = round(roc_auc_score(target_valid, probabilities_one_rf), 3)\n",
    "    print('metrics', description)\n",
    "    print('F1 LR:', ' '*4, f1_lr)\n",
    "    print('F1 RF:', ' '*4, f1_rf)\n",
    "\n",
    "    print('ROC-AUC LR:', roc_auc_lr)\n",
    "    print('ROC-AUC RF:', roc_auc_rf)\n",
    "    print('\\n')\n",
    "    return"
   ]
  },
  {
   "cell_type": "code",
   "execution_count": 53,
   "metadata": {
    "scrolled": false
   },
   "outputs": [
    {
     "name": "stdout",
     "output_type": "stream",
     "text": [
      "metrics not balanced\n",
      "F1 LR:      0.751\n",
      "F1 RF:      0.943\n",
      "ROC-AUC LR: 0.907\n",
      "ROC-AUC RF: 0.991\n",
      "\n",
      "\n",
      "metrics balanced by upsampling\n",
      "F1 LR:      0.531\n",
      "F1 RF:      0.442\n",
      "ROC-AUC LR: 0.452\n",
      "ROC-AUC RF: 0.505\n",
      "\n",
      "\n",
      "metrics balanced by downsampling\n",
      "F1 LR:      0.765\n",
      "F1 RF:      0.988\n",
      "ROC-AUC LR: 0.908\n",
      "ROC-AUC RF: 0.999\n",
      "\n",
      "\n"
     ]
    }
   ],
   "source": [
    "#%%script echo НЕ ЗАБЫТЬ ЗАКОММЕНТИТЬ ЭТУ СТРОЧКУ ПРИ ОТПРАВКЕ НА ПРОВЕРКУ\n",
    "test_lr_rf(features_train, target_train, features_valid, target_valid, 'not balanced')\n",
    "test_lr_rf(features_upsampled, target_upsampled, features_valid, target_valid, 'balanced by upsampling')\n",
    "test_lr_rf(features_downsampled, target_downsampled, features_valid, target_valid, 'balanced by downsampling')"
   ]
  },
  {
   "cell_type": "markdown",
   "metadata": {},
   "source": [
    "Очень хороший результат, очень хорошая площадь у RF при даунсемплинге, займемся ею"
   ]
  },
  {
   "cell_type": "markdown",
   "metadata": {},
   "source": [
    "**Вывод**  \n",
    "в этом этапе мы готовили данные для дальнейшего обучения, были проделаны:\n",
    "- кодировка техникой OHE\n",
    "- разбитие на features и target\n",
    "- масштабирование численных признаков\n",
    "- изучение и восстановление баланса классов\n",
    "- оценка метрик, наилучшие - F1: 0.96, ROC-AUC: 0.996"
   ]
  },
  {
   "cell_type": "markdown",
   "metadata": {},
   "source": [
    "## Подготовка модели машинного обучения"
   ]
  },
  {
   "cell_type": "markdown",
   "metadata": {},
   "source": [
    "Нужно выявить лучшую модель, начнем с дерева решений"
   ]
  },
  {
   "cell_type": "markdown",
   "metadata": {},
   "source": [
    "<div style=\"border:solid blue 2px; padding: 20px\">\n",
    "Подбор гиперпараметров подавил, дабы не тратить свое и ваше время"
   ]
  },
  {
   "cell_type": "code",
   "execution_count": 54,
   "metadata": {},
   "outputs": [
    {
     "name": "stdout",
     "output_type": "stream",
     "text": [
      "{class_weight: balanced, max_depth: 16, min_samples_leaf: 10, min_samples_split: 45}\n"
     ]
    }
   ],
   "source": [
    "%%script echo {'class_weight': 'balanced', 'max_depth': 16, 'min_samples_leaf': 10, 'min_samples_split': 45}\n",
    "DT_hyp = {\n",
    "    'max_depth': [2, 4, 8, 16],\n",
    "    'min_samples_split': range(5,55,10), \n",
    "    'min_samples_leaf': [2, 3, 5, 10],\n",
    "    'class_weight':['balanced']\n",
    "}\n",
    "\n",
    "model = DecisionTreeClassifier(random_state=state)\n",
    "grid_search_dt = GridSearchCV(model,\n",
    "                 DT_hyp,\n",
    "                 scoring = 'roc_auc')\n",
    "\n",
    "grid_search_dt.fit(features_downsampled, target_downsampled)\n",
    "grid_search_dt.best_params_"
   ]
  },
  {
   "cell_type": "code",
   "execution_count": 55,
   "metadata": {},
   "outputs": [
    {
     "name": "stdout",
     "output_type": "stream",
     "text": [
      "roc_auc DT при кросс-валидации на обучающей выборке: [0.99141404 0.99123839 0.98947554 0.99182942 0.99126213]\n"
     ]
    }
   ],
   "source": [
    "model = DecisionTreeClassifier(random_state=state,\n",
    "                               class_weight='balanced',\n",
    "                               max_depth=16,\n",
    "                               min_samples_leaf=10,\n",
    "                               min_samples_split=45)\n",
    "\n",
    "model.fit(features_downsampled, target_downsampled)\n",
    "print('roc_auc DT при кросс-валидации на обучающей выборке:', \n",
    "      cross_val_score(model, features_downsampled, target_downsampled, scoring='roc_auc'))"
   ]
  },
  {
   "cell_type": "markdown",
   "metadata": {},
   "source": [
    "Теперь разберемся с логистической регрессией"
   ]
  },
  {
   "cell_type": "code",
   "execution_count": 56,
   "metadata": {},
   "outputs": [
    {
     "name": "stdout",
     "output_type": "stream",
     "text": [
      "{C: 10, penalty: l1, solver: liblinear}\n"
     ]
    }
   ],
   "source": [
    "%%script echo {'C': 10, 'penalty': 'l1', 'solver': 'liblinear'}\n",
    "LR_hyp = {\n",
    "    'penalty':['l1','l2'],\n",
    "    'C':[0.001, 0.01, 0.1, 1, 10, 100, 1000],\n",
    "    'solver':['saga', 'liblinear']}\n",
    "\n",
    "model = LogisticRegression(random_state=state)\n",
    "grid_search_lr = GridSearchCV(model,\n",
    "                 LR_hyp,\n",
    "                 scoring = 'roc_auc')\n",
    "\n",
    "grid_search_lr.fit(features_downsampled, target_downsampled)\n",
    "grid_search_lr.best_params_"
   ]
  },
  {
   "cell_type": "code",
   "execution_count": 57,
   "metadata": {},
   "outputs": [
    {
     "name": "stdout",
     "output_type": "stream",
     "text": [
      "roc_auc LR при кросс-валидации на обучающей выборке: [0.90892823 0.91259212 0.90610393 0.91072649 0.90560302]\n"
     ]
    }
   ],
   "source": [
    "model = LogisticRegression(random_state=state, C=10, penalty='l1', solver='liblinear')\n",
    "model.fit(features_downsampled, target_downsampled)\n",
    "print('roc_auc LR при кросс-валидации на обучающей выборке:', \n",
    "      cross_val_score(model, features_downsampled, target_downsampled, scoring='roc_auc'))"
   ]
  },
  {
   "cell_type": "markdown",
   "metadata": {},
   "source": [
    "Не впечатляет, проверим случайный лес"
   ]
  },
  {
   "cell_type": "code",
   "execution_count": 58,
   "metadata": {
    "scrolled": true
   },
   "outputs": [
    {
     "name": "stdout",
     "output_type": "stream",
     "text": [
      "{criterion: entropy, max_depth: 16, min_samples_leaf: 2, n_estimators: 45}\n"
     ]
    }
   ],
   "source": [
    "%%script echo {'criterion': 'entropy', 'max_depth': 16, 'min_samples_leaf': 2, 'n_estimators': 45}\n",
    "RF_hyp = {'n_estimators': range(5, 60, 5), \n",
    "                     'criterion': ['gini', 'entropy'], \n",
    "                     'min_samples_leaf': [2,3,5,10],\n",
    "                     'max_depth': [2, 4, 8, 16]\n",
    "                    }\n",
    "\n",
    "model = RandomForestClassifier(random_state=state)\n",
    "\n",
    "grid_search = GridSearchCV(model,\n",
    "                           RF_hyp,\n",
    "                           scoring='roc_auc',\n",
    "                           n_jobs=-1)\n",
    "grid_search.fit(features_downsampled, target_downsampled)\n",
    "grid_search.best_params_"
   ]
  },
  {
   "cell_type": "code",
   "execution_count": 59,
   "metadata": {},
   "outputs": [
    {
     "name": "stdout",
     "output_type": "stream",
     "text": [
      "roc_auc RF при кросс-валидации на обучающей выборке: [0.98157291 0.9832506  0.9824298  0.98553188 0.98204407]\n"
     ]
    }
   ],
   "source": [
    "model = RandomForestClassifier(random_state=state,\n",
    "                               criterion='entropy',\n",
    "                               max_depth=16,\n",
    "                               min_samples_leaf=2,\n",
    "                               n_estimators=45)\n",
    "\n",
    "model.fit(features_downsampled, target_downsampled)\n",
    "print('roc_auc RF при кросс-валидации на обучающей выборке:', \n",
    "      cross_val_score(model, features_downsampled, target_downsampled, scoring='roc_auc'))"
   ]
  },
  {
   "cell_type": "markdown",
   "metadata": {},
   "source": [
    "Очень хорший результат, будем использовать дерево решений"
   ]
  },
  {
   "cell_type": "code",
   "execution_count": 60,
   "metadata": {
    "scrolled": true
   },
   "outputs": [
    {
     "data": {
      "text/plain": [
       "RandomForestClassifier(criterion='entropy', max_depth=16, min_samples_leaf=2,\n",
       "                       n_estimators=45,\n",
       "                       random_state=RandomState(MT19937) at 0x7FBB96C54A40)"
      ]
     },
     "execution_count": 60,
     "metadata": {},
     "output_type": "execute_result"
    }
   ],
   "source": [
    "final_model = RandomForestClassifier(random_state=state,\n",
    "                               criterion='entropy',\n",
    "                               max_depth=16,\n",
    "                               min_samples_leaf=2,\n",
    "                               n_estimators=45)\n",
    "\n",
    "final_model.fit(features_downsampled, target_downsampled)"
   ]
  },
  {
   "cell_type": "markdown",
   "metadata": {},
   "source": [
    "**Вывод**  \n",
    "в ходе этого этапа было проведено сравнение метрик трех моделей,  \n",
    "лучшей себя показала модель \"Дерево решений\", но в итоге оказалось что на тестовой выборке она хуже  \n",
    "\n",
    "выбираем \"Случайный лес\", ее ROC-AUC составил 0.98"
   ]
  },
  {
   "cell_type": "markdown",
   "metadata": {},
   "source": [
    "## Проверка модели на тестовом датасете"
   ]
  },
  {
   "cell_type": "code",
   "execution_count": 61,
   "metadata": {},
   "outputs": [],
   "source": [
    "def auc_roc(target, probabilities_one):\n",
    "    fpr, tpr, thresholds = roc_curve(target, probabilities_one) \n",
    "    plt.figure(figsize=(7, 7))\n",
    "    plt.plot(fpr, tpr)\n",
    "    plt.plot([0, 1], [0, 1])\n",
    "    plt.xlim([0.0, 1.0])\n",
    "    plt.ylim([0.0, 1.0])\n",
    "    plt.xlabel('FPR')\n",
    "    plt.ylabel('TPR')\n",
    "    plt.title('ROC-curve')\n",
    "    plt.show()\n",
    "\n",
    "    fpr = fpr\n",
    "    tpr = tpr\n",
    "    auc_roc = roc_auc_score (target, probabilities_one)\n",
    "    print(\"AUC:\", auc_roc)\n",
    "    return fpr, tpr"
   ]
  },
  {
   "cell_type": "code",
   "execution_count": 62,
   "metadata": {
    "scrolled": false
   },
   "outputs": [
    {
     "data": {
      "image/png": "[encoded data removed]",
      "text/plain": [
       "<Figure size 504x504 with 1 Axes>"
      ]
     },
     "metadata": {
      "needs_background": "light"
     },
     "output_type": "display_data"
    },
    {
     "name": "stdout",
     "output_type": "stream",
     "text": [
      "AUC: 0.9861077144057463\n"
     ]
    }
   ],
   "source": [
    "RF_probs = final_model.predict_proba(features_test_1)[:, 1]\n",
    "\n",
    "fpr_lr, tpr_lr = auc_roc(target_test_1, RF_probs)"
   ]
  },
  {
   "cell_type": "markdown",
   "metadata": {},
   "source": [
    "график ровный, модель в равной мере ошибается  \n",
    "\n",
    "Взглянем на матрицу ошибок"
   ]
  },
  {
   "cell_type": "code",
   "execution_count": 63,
   "metadata": {
    "scrolled": true
   },
   "outputs": [
    {
     "data": {
      "image/png": "[encoded data removed]",
      "text/plain": [
       "<Figure size 432x288 with 2 Axes>"
      ]
     },
     "metadata": {
      "needs_background": "light"
     },
     "output_type": "display_data"
    }
   ],
   "source": [
    "y_pred = final_model.predict(features_test_1)\n",
    "cm = confusion_matrix(target_test_1, y_pred)\n",
    "\n",
    "y_pred = final_model.predict(features_train)\n",
    "cm = confusion_matrix(target_train, y_pred)\n",
    "\n",
    "ax= plt.subplot()\n",
    "sns.heatmap(cm, annot=True, fmt='g', ax=ax);\n",
    "\n",
    "ax.set_xlabel('Предсказанные значения');ax.set_ylabel('Реальные значения'); \n",
    "ax.set_title('Confusion Matrix'); \n",
    "ax.xaxis.set_ticklabels(['False', 'True']); ax.yaxis.set_ticklabels(['False', 'True']);"
   ]
  },
  {
   "cell_type": "markdown",
   "metadata": {},
   "source": [
    "Опишем увиденное:  \n",
    "- видно, что количество false negative и false positive невелико\n",
    "- картина повторяет дисбаланс целевого признака, true positive примерно в два раза меньше true negative"
   ]
  },
  {
   "cell_type": "markdown",
   "metadata": {},
   "source": [
    "**Вывод**  \n",
    "Модель была проверена на тестовом датасете,  \n",
    "была доказана ее вменяемость графиком ROC и значением ROC-AUC  \n",
    "ROC-AUC на тестовом датасете составил: 0.98, что является отличным результатом"
   ]
  },
  {
   "cell_type": "markdown",
   "metadata": {},
   "source": [
    "## Рассчет прибыли после введения депозита по прогнозу модели"
   ]
  },
  {
   "cell_type": "markdown",
   "metadata": {},
   "source": [
    "Предскажем значения, чтобы работать с ними"
   ]
  },
  {
   "cell_type": "code",
   "execution_count": 64,
   "metadata": {},
   "outputs": [],
   "source": [
    "data_test_no_OHE['is_canceled_predicted'] = final_model.predict(features_test_1)"
   ]
  },
  {
   "cell_type": "code",
   "execution_count": 65,
   "metadata": {},
   "outputs": [],
   "source": [
    "def profit_after(row):\n",
    "    prof = 0\n",
    "    if row['is_canceled_predicted'] == 0 and row['is_canceled'] == 0:\n",
    "        prof = (room_types[row['reserved_room_type']][0] * # room type cost\n",
    "        row['total_nights'] * # n of nights\n",
    "        season_coef(row['arrival_date_month']) + # season coefficient\n",
    "        room_types[row['reserved_room_type']][1] + # preparation cost\n",
    "        room_types[row['reserved_room_type']][1] * row['total_nights']//2 # clean every 2 days cost\n",
    "               )\n",
    "        \n",
    "    elif  row['is_canceled_predicted'] == 1 and row['is_canceled'] == 0:\n",
    "        prof = (room_types[row['reserved_room_type']][0] * # room type cost\n",
    "        row['total_nights'] * # n of nights\n",
    "        season_coef(row['arrival_date_month']) + # season coefficient\n",
    "        room_types[row['reserved_room_type']][1] + # preparation cost\n",
    "        room_types[row['reserved_room_type']][1] * row['total_nights']//2 # clean every 2 days cost\n",
    "               )\n",
    "        \n",
    "    elif row['is_canceled_predicted'] == 1 and row['is_canceled'] == 1:\n",
    "        prof = (-1 *( # negative because we calculate losses\n",
    "                room_types[row['reserved_room_type']][1] + # preparation cost\n",
    "                room_types[row['reserved_room_type']][0] * # room type cost one day\n",
    "                season_coef(row['arrival_date_month'])) + # season coefficient\n",
    "                \n",
    "                0.8 * (room_types[row['reserved_room_type']][0] * # room type cost one day\n",
    "                       season_coef(row['arrival_date_month']) + # season coefficient\n",
    "                       room_types[row['reserved_room_type']][1]) # preparation cost\n",
    "               )\n",
    "    else:\n",
    "        prof = (-1 *( # negative because we calculate losses\n",
    "                room_types[row['reserved_room_type']][1] + # preparation cost\n",
    "                room_types[row['reserved_room_type']][0] * # room type cost\n",
    "                season_coef(row['arrival_date_month'])) # season coefficient\n",
    "               )\n",
    "    return prof"
   ]
  },
  {
   "cell_type": "code",
   "execution_count": 66,
   "metadata": {
    "scrolled": false
   },
   "outputs": [
    {
     "name": "stdout",
     "output_type": "stream",
     "text": [
      "Прибыль до введения депозита: 63,750,495 рублей\n",
      "Прибыль после введения депозита: 75,230,655 рублей\n",
      "\n",
      "Дополнительная прибыль после введения: 11,480,160 рублей\n"
     ]
    }
   ],
   "source": [
    "data_test_no_OHE['profit_after'] = data_test_no_OHE.apply(profit_after, axis=1)\n",
    "before = int(data_test_no_OHE['profit_before'].sum())\n",
    "after = int(data_test_no_OHE['profit_after'].sum())\n",
    "print(f'Прибыль до введения депозита: {before:,} рублей')\n",
    "print(f'Прибыль после введения депозита: {after:,} рублей\\n')\n",
    "print(f'Дополнительная прибыль после введения: {after - before:,} рублей')"
   ]
  },
  {
   "cell_type": "markdown",
   "metadata": {},
   "source": [
    "**Вывод**  \n",
    "В ходе этого этапа была рассчитана прибыль после введения депозитов, для сравнения представлена  \n",
    "прибыль до введения депозита  \n",
    "\n",
    "Прибыль до введения депозита: 63,750,495 рублей  \n",
    "Прибыль после введения депозита: 72,277,911 рублей  \n",
    "\n",
    "Дополнительная прибыль после введения: 8,527,416 рублей"
   ]
  },
  {
   "cell_type": "markdown",
   "metadata": {},
   "source": [
    "## Выявление признаков \"ненадежного\" клиента"
   ]
  },
  {
   "cell_type": "markdown",
   "metadata": {},
   "source": [
    "Для дальнейшего изучения необходимо узнать важности признаков модели, возьмем топ-10 признаков"
   ]
  },
  {
   "cell_type": "code",
   "execution_count": 67,
   "metadata": {
    "scrolled": false
   },
   "outputs": [
    {
     "name": "stdout",
     "output_type": "stream",
     "text": [
      "id                           0.358563\n",
      "country_PRT                  0.087816\n",
      "lead_time                    0.086433\n",
      "previous_cancellations       0.071749\n",
      "total_of_special_requests    0.065708\n",
      "dtype: float64\n"
     ]
    },
    {
     "data": {
      "image/png": "[encoded data removed]",
      "text/plain": [
       "<Figure size 720x720 with 1 Axes>"
      ]
     },
     "metadata": {
      "needs_background": "light"
     },
     "output_type": "display_data"
    }
   ],
   "source": [
    "importances = pd.Series(final_model.feature_importances_,\n",
    "                         features_test_1.columns).sort_values(ascending=False).head()\n",
    "fig, ax = plt.subplots(figsize=(10,10))\n",
    "importances.plot.bar(ax=ax)\n",
    "ax.set_title(\"Важность признаков\")\n",
    "ax.set_ylabel('Важность')\n",
    "fig.tight_layout()\n",
    "print(importances)"
   ]
  },
  {
   "cell_type": "markdown",
   "metadata": {},
   "source": [
    "Наиболее важным является ID клиента\n",
    "далее по списку:\n",
    "- страна клиента: Португалия\n",
    "- количество отменённых заказов у клиента\n",
    "- количество дней между датой бронирования и датой прибытия\n",
    "- необходимость места для автомобиля"
   ]
  },
  {
   "cell_type": "markdown",
   "metadata": {},
   "source": [
    "изучим по порядку:"
   ]
  },
  {
   "cell_type": "markdown",
   "metadata": {},
   "source": [
    "`id`"
   ]
  },
  {
   "cell_type": "code",
   "execution_count": 68,
   "metadata": {
    "scrolled": false
   },
   "outputs": [
    {
     "data": {
      "text/plain": [
       "[<matplotlib.lines.Line2D at 0x7fbb444d7190>]"
      ]
     },
     "execution_count": 68,
     "metadata": {},
     "output_type": "execute_result"
    },
    {
     "data": {
      "image/png": "[encoded data removed]",
      "text/plain": [
       "<Figure size 1080x360 with 1 Axes>"
      ]
     },
     "metadata": {
      "needs_background": "light"
     },
     "output_type": "display_data"
    }
   ],
   "source": [
    "fig, ax = plt.subplots(figsize=(15,5))\n",
    "plt.plot(data_test_no_OHE['id'].sort_values(),data_test_no_OHE['is_canceled'])"
   ]
  },
  {
   "cell_type": "markdown",
   "metadata": {},
   "source": [
    "Видим, что:\n",
    "- айди неравномерны, есть пропуски в последовательности\n",
    "- с айди 45000 по 55000 очень много отмен, возможно в это время были сбои в системе\n",
    "- в остальном, бывают последовательности айди у которых вообще нет отмен"
   ]
  },
  {
   "cell_type": "markdown",
   "metadata": {},
   "source": [
    "<div style=\"border:solid blue 2px; padding: 20px\">\n",
    "    Вопрос:\n",
    "    \n",
    "    я же правильно понимаю, что модель заметила связь отмен с айди, который кореллирует с датой, то есть эта модель вряд ли будет хорошо предсказывать будующие заказы?"
   ]
  },
  {
   "cell_type": "markdown",
   "metadata": {},
   "source": [
    "`country_PRT`"
   ]
  },
  {
   "cell_type": "code",
   "execution_count": 69,
   "metadata": {
    "scrolled": false
   },
   "outputs": [
    {
     "data": {
      "text/plain": [
       "00    48.970848\n",
       "01    20.589240\n",
       "11    18.068362\n",
       "10    12.371550\n",
       "dtype: float64"
      ]
     },
     "execution_count": 69,
     "metadata": {},
     "output_type": "execute_result"
    }
   ],
   "source": [
    "ft = features_test_1['country_PRT'].apply(lambda x: str(x))\n",
    "tt = target_test_1.apply(lambda x: str(x))\n",
    "df_geo = ft + tt\n",
    "df_geo.value_counts(normalize=True)*100"
   ]
  },
  {
   "cell_type": "markdown",
   "metadata": {},
   "source": [
    "Видим, что:\n",
    "- клиентов не из Португалии, не отменивших заказ 50%\n",
    "- клиентов не из Португалии, отменивших заказ 20%\n",
    "- клиентов из Португалии, отменивших заказ 20%\n",
    "- клиентов из Португалии, не отменивших заказ 10%"
   ]
  },
  {
   "cell_type": "markdown",
   "metadata": {},
   "source": [
    "`previous_cancellations`"
   ]
  },
  {
   "cell_type": "code",
   "execution_count": 70,
   "metadata": {},
   "outputs": [
    {
     "data": {
      "text/plain": [
       "00    60.752538\n",
       "01    38.552047\n",
       "10     0.428425\n",
       "11     0.077613\n",
       "20     0.077613\n",
       "60     0.046568\n",
       "40     0.021732\n",
       "30     0.012418\n",
       "21     0.012418\n",
       "41     0.009314\n",
       "31     0.006209\n",
       "50     0.003105\n",
       "dtype: float64"
      ]
     },
     "execution_count": 70,
     "metadata": {},
     "output_type": "execute_result"
    }
   ],
   "source": [
    "ft = data_test_no_OHE['previous_cancellations'].apply(lambda x: str(x))\n",
    "tt = data_test_no_OHE['is_canceled'].apply(lambda x: str(x))\n",
    "df_cancellations = ft + tt\n",
    "df_cancellations.value_counts(normalize=True)*100"
   ]
  },
  {
   "cell_type": "markdown",
   "metadata": {},
   "source": [
    "Видим, что:\n",
    "- клиентов не имевших отмен и не отменивших 60%\n",
    "- клиентов не имевших отмен и отменивших 40%\n",
    "- остальные мизерно маленькие"
   ]
  },
  {
   "cell_type": "markdown",
   "metadata": {},
   "source": [
    "`lead_time`"
   ]
  },
  {
   "cell_type": "code",
   "execution_count": 71,
   "metadata": {
    "scrolled": true
   },
   "outputs": [
    {
     "data": {
      "text/plain": [
       "[<matplotlib.lines.Line2D at 0x7fbb509ffa00>]"
      ]
     },
     "execution_count": 71,
     "metadata": {},
     "output_type": "execute_result"
    },
    {
     "data": {
      "image/png": "[encoded data removed]",
      "text/plain": [
       "<Figure size 1080x360 with 1 Axes>"
      ]
     },
     "metadata": {
      "needs_background": "light"
     },
     "output_type": "display_data"
    }
   ],
   "source": [
    "fig, ax = plt.subplots(figsize=(15,5))\n",
    "plt.plot(data_test_no_OHE['lead_time'].sort_values(),data_test_no_OHE['is_canceled'])"
   ]
  },
  {
   "cell_type": "markdown",
   "metadata": {},
   "source": [
    "Видим, что:\n",
    "- почти все заказы с количеством дней между датой бронирования и датой прибытия между 25 и 100 были отменены"
   ]
  },
  {
   "cell_type": "markdown",
   "metadata": {},
   "source": [
    "`required_car_parking_spaces`"
   ]
  },
  {
   "cell_type": "code",
   "execution_count": 72,
   "metadata": {},
   "outputs": [
    {
     "data": {
      "text/plain": [
       "00    56.763218\n",
       "01    38.657601\n",
       "10     4.551240\n",
       "20     0.018627\n",
       "80     0.006209\n",
       "30     0.003105\n",
       "dtype: float64"
      ]
     },
     "execution_count": 72,
     "metadata": {},
     "output_type": "execute_result"
    }
   ],
   "source": [
    "ft = data_test_no_OHE['required_car_parking_spaces'].apply(lambda x: str(x))\n",
    "tt = data_test_no_OHE['is_canceled'].apply(lambda x: str(x))\n",
    "df_cancellations = ft + tt\n",
    "df_cancellations.value_counts(normalize=True)*100\n"
   ]
  },
  {
   "cell_type": "markdown",
   "metadata": {},
   "source": [
    "Видим, что:\n",
    "- клиентов не запрашивавших парковочное место и не отменивших 57%\n",
    "- клиентов не запрашивавших парковочное место и отменивших 39%\n",
    "- клиентов запрашивавших одно парковочное место и не отменивших 4%"
   ]
  },
  {
   "cell_type": "markdown",
   "metadata": {},
   "source": [
    "Исходя из всех этих данных можно сделать **вывод**:  \n",
    "\n",
    "    Портрет \"ненадежного клиента\":\n",
    "   - клиент из португалии\n",
    "   - у клиента нет предыдущих отмен\n",
    "   - бронирует на 25-90 дней вперед\n",
    "   - не требует пароковочных мест"
   ]
  },
  {
   "cell_type": "markdown",
   "metadata": {},
   "source": [
    "## Общий вывод"
   ]
  },
  {
   "cell_type": "markdown",
   "metadata": {},
   "source": [
    "\n",
    "---\n",
    "\n",
    "\n",
    "Целью данной работы являлась разработка системы, которая предсказывает отказ от брони.\n",
    "\n",
    "В ходе этой работы были выполнены следующие этапы:\n",
    "- Предобработка данных\n",
    "- Исследовательский анализ данных\n",
    "- Рассчет прибыли до введения депозита\n",
    "- Подготовка данных для обучения модели\n",
    "- Подготовка модели машинного обучения\n",
    "- Проверка модели на тестовом датасете\n",
    "- Рассчет прибыли после введения депозита по прогнозу модели\n",
    "- Выявление признаков \"ненадежного\" клиента\n",
    "\n",
    "Цель проекта выполнена, все этапы успешно завершены  \n",
    "\n",
    "---\n",
    "\n",
    "Теперь важное из этапов:  \n",
    "\n",
    "Исследовательский анализ данных:\n",
    "- были найдены многочисленные брони с нулевым количеством взрослых  \n",
    "советую поправить форму, чтобы та не разрешала такое\n",
    "- были замечены выбросы в солбце `lead_time`(время от заказа до заезда)  \n",
    "можно задуматься об ограничении этого времени\n",
    "- отмененные заказы составляют треть от всех заказов\n",
    "- большинство броней на будние дни\n",
    "- бОльшая доля броней приходится на октябрь\n",
    "- самая популярная комната - А, она самая дорогая\n",
    "- 94.4% гостей не нужно парковочное место\n",
    "\n",
    "Рассчет прибыли до введения депозита:\n",
    "- Прибыль до введения депозита: 63,750,495 рублей\n",
    "\n",
    "Подготовка данных для обучения модели:\n",
    "- лучшим методом балансировки классов оказался downsampling\n",
    "\n",
    "Подготовка модели машинного обучения:\n",
    "- было проведено сравнение метрик трех моделей,  \n",
    "лучшей себя показала модель \"Случайный лес\"\n",
    "- AUC-ROC этой модели составил 0.98\n",
    "\n",
    "Проверка модели на тестовом датасете:\n",
    "- Модель была проверена на тестовом датасете\n",
    "- была доказана ее вменяемость\n",
    "- ROC-AUC составил: 0.98, что является отличным результатом\n",
    "\n",
    "Рассчет прибыли после введения депозита по прогнозу модели:\n",
    "- Прибыль до введения депозита: 63,750,495 рублей\n",
    "- Прибыль после введения депозита: 74,376,407 рублей\n",
    "- Дополнительная прибыль после введения: 10,625,912 рублей\n",
    "\n",
    "Выявление признаков \"ненадежного\" клиента:  \n",
    "- Портрет \"ненадежного клиента\":  \n",
    "   - клиент из португалии\n",
    "   - у клиента нет предыдущих отмен\n",
    "   - бронирует на 25-90 дней вперед\n",
    "   - не требует пароковочных мест\n",
    "\n",
    "---\n",
    "\n",
    "По результатам этого исследования, разработанная модель  \n",
    "должна принести дополнительно 10,625,912 рублей, что точно покроет  \n",
    "бюджет на разработку равный 400,000 рублей\n",
    "\n",
    "---"
   ]
  },
  {
   "cell_type": "code",
   "execution_count": null,
   "metadata": {},
   "outputs": [],
   "source": []
  }
 ],
 "metadata": {
  "ExecuteTimeLog": [
   {
    "duration": 1542,
    "start_time": "2022-11-22T14:28:12.827Z"
   },
   {
    "duration": 4,
    "start_time": "2022-11-22T14:28:28.707Z"
   },
   {
    "duration": 73,
    "start_time": "2022-11-22T14:29:47.846Z"
   },
   {
    "duration": 70,
    "start_time": "2022-11-22T14:29:50.867Z"
   },
   {
    "duration": 660,
    "start_time": "2022-11-22T14:29:57.625Z"
   },
   {
    "duration": 151,
    "start_time": "2022-11-22T14:30:01.557Z"
   },
   {
    "duration": 323,
    "start_time": "2022-11-22T14:30:17.739Z"
   },
   {
    "duration": 29,
    "start_time": "2022-11-22T16:32:15.391Z"
   },
   {
    "duration": 19,
    "start_time": "2022-11-22T16:32:27.041Z"
   },
   {
    "duration": 2,
    "start_time": "2022-11-22T16:44:07.895Z"
   },
   {
    "duration": 1260,
    "start_time": "2022-11-22T16:44:57.244Z"
   },
   {
    "duration": 3,
    "start_time": "2022-11-22T16:45:10.681Z"
   },
   {
    "duration": 6,
    "start_time": "2022-11-22T16:45:11.223Z"
   },
   {
    "duration": 60,
    "start_time": "2022-11-22T16:47:05.849Z"
   },
   {
    "duration": 28,
    "start_time": "2022-11-22T16:47:15.265Z"
   },
   {
    "duration": 8,
    "start_time": "2022-11-22T16:48:09.186Z"
   },
   {
    "duration": 7,
    "start_time": "2022-11-22T16:48:20.981Z"
   },
   {
    "duration": 7,
    "start_time": "2022-11-22T16:49:22.693Z"
   },
   {
    "duration": 8,
    "start_time": "2022-11-22T16:49:39.219Z"
   },
   {
    "duration": 7,
    "start_time": "2022-11-22T16:49:44.607Z"
   },
   {
    "duration": 80,
    "start_time": "2022-11-22T16:51:28.936Z"
   },
   {
    "duration": 8,
    "start_time": "2022-11-22T16:51:40.566Z"
   },
   {
    "duration": 8,
    "start_time": "2022-11-22T16:52:38.681Z"
   },
   {
    "duration": 9,
    "start_time": "2022-11-22T16:52:42.688Z"
   },
   {
    "duration": 279,
    "start_time": "2022-11-22T16:56:36.478Z"
   },
   {
    "duration": 24,
    "start_time": "2022-11-22T16:57:04.509Z"
   },
   {
    "duration": 18,
    "start_time": "2022-11-22T16:57:28.179Z"
   },
   {
    "duration": 21,
    "start_time": "2022-11-22T16:57:43.593Z"
   },
   {
    "duration": 21,
    "start_time": "2022-11-22T16:58:06.443Z"
   },
   {
    "duration": 7,
    "start_time": "2022-11-22T16:58:14.180Z"
   },
   {
    "duration": 7,
    "start_time": "2022-11-22T16:58:15.698Z"
   },
   {
    "duration": 7,
    "start_time": "2022-11-22T17:00:49.500Z"
   },
   {
    "duration": 6,
    "start_time": "2022-11-22T17:00:52.579Z"
   },
   {
    "duration": 5,
    "start_time": "2022-11-22T17:01:06.418Z"
   },
   {
    "duration": 12,
    "start_time": "2022-11-22T17:01:10.412Z"
   },
   {
    "duration": 6,
    "start_time": "2022-11-22T17:01:13.073Z"
   },
   {
    "duration": 12,
    "start_time": "2022-11-22T17:01:21.242Z"
   },
   {
    "duration": 12,
    "start_time": "2022-11-22T17:02:10.336Z"
   },
   {
    "duration": 12,
    "start_time": "2022-11-22T17:02:47.897Z"
   },
   {
    "duration": 9,
    "start_time": "2022-11-22T17:02:50.063Z"
   },
   {
    "duration": 7,
    "start_time": "2022-11-22T17:03:31.576Z"
   },
   {
    "duration": 6,
    "start_time": "2022-11-22T17:03:41.178Z"
   },
   {
    "duration": 105,
    "start_time": "2022-11-22T17:04:05.438Z"
   },
   {
    "duration": 11,
    "start_time": "2022-11-22T17:04:45.811Z"
   },
   {
    "duration": 6,
    "start_time": "2022-11-22T17:05:01.117Z"
   },
   {
    "duration": 20,
    "start_time": "2022-11-22T17:06:05.157Z"
   },
   {
    "duration": 8,
    "start_time": "2022-11-22T17:06:15.781Z"
   },
   {
    "duration": 10,
    "start_time": "2022-11-22T17:06:18.904Z"
   },
   {
    "duration": 8,
    "start_time": "2022-11-22T17:07:02.964Z"
   },
   {
    "duration": 7,
    "start_time": "2022-11-22T17:07:08.683Z"
   },
   {
    "duration": 52,
    "start_time": "2022-11-22T17:08:27.545Z"
   },
   {
    "duration": 35,
    "start_time": "2022-11-22T17:08:35.628Z"
   },
   {
    "duration": 161,
    "start_time": "2022-11-22T18:22:47.327Z"
   },
   {
    "duration": 17682,
    "start_time": "2022-11-22T18:31:52.440Z"
   },
   {
    "duration": 2769,
    "start_time": "2022-11-22T18:32:48.857Z"
   },
   {
    "duration": 6,
    "start_time": "2022-11-22T18:33:02.973Z"
   },
   {
    "duration": 2652,
    "start_time": "2022-11-22T18:33:11.062Z"
   },
   {
    "duration": 6,
    "start_time": "2022-11-22T18:33:35.603Z"
   },
   {
    "duration": 6,
    "start_time": "2022-11-22T18:33:45.594Z"
   },
   {
    "duration": 14,
    "start_time": "2022-11-22T18:34:34.896Z"
   },
   {
    "duration": 3448,
    "start_time": "2022-11-22T18:34:44.128Z"
   },
   {
    "duration": 2744,
    "start_time": "2022-11-22T18:34:57.366Z"
   },
   {
    "duration": 3224,
    "start_time": "2022-11-22T18:35:16.387Z"
   },
   {
    "duration": 64132,
    "start_time": "2022-11-22T18:35:20.963Z"
   },
   {
    "duration": 1471,
    "start_time": "2022-11-23T18:45:34.229Z"
   },
   {
    "duration": 13853,
    "start_time": "2022-11-23T18:45:35.702Z"
   },
   {
    "duration": 574,
    "start_time": "2022-11-23T18:45:49.557Z"
   },
   {
    "duration": 290,
    "start_time": "2022-11-23T18:45:50.133Z"
   },
   {
    "duration": 24,
    "start_time": "2022-11-23T18:45:50.425Z"
   },
   {
    "duration": 26,
    "start_time": "2022-11-23T18:45:50.451Z"
   },
   {
    "duration": 2,
    "start_time": "2022-11-23T18:45:50.479Z"
   },
   {
    "duration": 23,
    "start_time": "2022-11-23T18:45:50.483Z"
   },
   {
    "duration": 56,
    "start_time": "2022-11-23T18:45:50.508Z"
   },
   {
    "duration": 28,
    "start_time": "2022-11-23T18:45:50.567Z"
   },
   {
    "duration": 9,
    "start_time": "2022-11-23T18:45:50.597Z"
   },
   {
    "duration": 10,
    "start_time": "2022-11-23T18:45:50.608Z"
   },
   {
    "duration": 26,
    "start_time": "2022-11-23T18:45:50.620Z"
   },
   {
    "duration": 15,
    "start_time": "2022-11-23T18:45:50.651Z"
   },
   {
    "duration": 34,
    "start_time": "2022-11-23T18:45:50.667Z"
   },
   {
    "duration": 13,
    "start_time": "2022-11-23T18:45:50.703Z"
   },
   {
    "duration": 18,
    "start_time": "2022-11-23T18:45:50.718Z"
   },
   {
    "duration": 16,
    "start_time": "2022-11-23T18:45:50.738Z"
   },
   {
    "duration": 25,
    "start_time": "2022-11-23T18:45:50.756Z"
   },
   {
    "duration": 17,
    "start_time": "2022-11-23T18:45:50.783Z"
   },
   {
    "duration": 24,
    "start_time": "2022-11-23T18:45:50.801Z"
   },
   {
    "duration": 16,
    "start_time": "2022-11-23T18:45:50.827Z"
   },
   {
    "duration": 21,
    "start_time": "2022-11-23T18:45:50.845Z"
   },
   {
    "duration": 30,
    "start_time": "2022-11-23T18:45:50.867Z"
   },
   {
    "duration": 20,
    "start_time": "2022-11-23T18:45:50.898Z"
   },
   {
    "duration": 22,
    "start_time": "2022-11-23T18:45:50.919Z"
   },
   {
    "duration": 11,
    "start_time": "2022-11-23T18:45:50.943Z"
   },
   {
    "duration": 15,
    "start_time": "2022-11-23T18:45:50.957Z"
   },
   {
    "duration": 70,
    "start_time": "2022-11-23T18:45:50.973Z"
   },
   {
    "duration": 28,
    "start_time": "2022-11-23T18:45:51.044Z"
   },
   {
    "duration": 51017,
    "start_time": "2022-11-23T18:45:51.074Z"
   },
   {
    "duration": 1414,
    "start_time": "2022-11-24T19:50:43.306Z"
   },
   {
    "duration": 1204,
    "start_time": "2022-11-24T19:51:08.439Z"
   },
   {
    "duration": 2600,
    "start_time": "2022-11-24T19:51:09.645Z"
   },
   {
    "duration": 151,
    "start_time": "2022-11-24T19:51:12.246Z"
   },
   {
    "duration": 72,
    "start_time": "2022-11-24T19:51:12.399Z"
   },
   {
    "duration": 26,
    "start_time": "2022-11-24T19:51:12.472Z"
   },
   {
    "duration": 16,
    "start_time": "2022-11-24T19:51:12.501Z"
   },
   {
    "duration": 2,
    "start_time": "2022-11-24T19:51:12.519Z"
   },
   {
    "duration": 10,
    "start_time": "2022-11-24T19:51:12.523Z"
   },
   {
    "duration": 77,
    "start_time": "2022-11-24T19:51:12.534Z"
   },
   {
    "duration": 29,
    "start_time": "2022-11-24T19:51:12.614Z"
   },
   {
    "duration": 6,
    "start_time": "2022-11-24T19:51:12.644Z"
   },
   {
    "duration": 12,
    "start_time": "2022-11-24T19:51:12.652Z"
   },
   {
    "duration": 7,
    "start_time": "2022-11-24T19:51:12.665Z"
   },
   {
    "duration": 24,
    "start_time": "2022-11-24T19:51:12.674Z"
   },
   {
    "duration": 24,
    "start_time": "2022-11-24T19:51:12.699Z"
   },
   {
    "duration": 7,
    "start_time": "2022-11-24T19:51:12.725Z"
   },
   {
    "duration": 6,
    "start_time": "2022-11-24T19:51:12.733Z"
   },
   {
    "duration": 9,
    "start_time": "2022-11-24T19:51:12.740Z"
   },
   {
    "duration": 7,
    "start_time": "2022-11-24T19:51:12.750Z"
   },
   {
    "duration": 7,
    "start_time": "2022-11-24T19:51:12.797Z"
   },
   {
    "duration": 10,
    "start_time": "2022-11-24T19:51:12.805Z"
   },
   {
    "duration": 13,
    "start_time": "2022-11-24T19:51:12.816Z"
   },
   {
    "duration": 6,
    "start_time": "2022-11-24T19:51:12.830Z"
   },
   {
    "duration": 19,
    "start_time": "2022-11-24T19:51:12.838Z"
   },
   {
    "duration": 6,
    "start_time": "2022-11-24T19:51:12.858Z"
   },
   {
    "duration": 32,
    "start_time": "2022-11-24T19:51:12.865Z"
   },
   {
    "duration": 7,
    "start_time": "2022-11-24T19:51:12.898Z"
   },
   {
    "duration": 6,
    "start_time": "2022-11-24T19:51:12.908Z"
   },
   {
    "duration": 53,
    "start_time": "2022-11-24T19:51:12.916Z"
   },
   {
    "duration": 49,
    "start_time": "2022-11-24T19:51:12.971Z"
   },
   {
    "duration": 47925,
    "start_time": "2022-11-24T19:51:13.021Z"
   },
   {
    "duration": 48827,
    "start_time": "2022-11-24T20:09:11.420Z"
   },
   {
    "duration": 48785,
    "start_time": "2022-11-24T20:43:32.502Z"
   },
   {
    "duration": 176,
    "start_time": "2022-11-24T20:58:18.060Z"
   },
   {
    "duration": 696,
    "start_time": "2022-11-24T20:58:31.179Z"
   },
   {
    "duration": 29,
    "start_time": "2022-11-24T20:58:51.367Z"
   },
   {
    "duration": 4,
    "start_time": "2022-11-24T21:00:25.836Z"
   },
   {
    "duration": 31,
    "start_time": "2022-11-24T21:00:31.576Z"
   },
   {
    "duration": 4,
    "start_time": "2022-11-24T21:01:12.542Z"
   },
   {
    "duration": 28,
    "start_time": "2022-11-24T21:01:17.555Z"
   },
   {
    "duration": 254,
    "start_time": "2022-11-24T21:03:51.306Z"
   },
   {
    "duration": 24,
    "start_time": "2022-11-24T21:04:49.866Z"
   },
   {
    "duration": 12,
    "start_time": "2022-11-24T21:04:58.677Z"
   },
   {
    "duration": 8,
    "start_time": "2022-11-24T21:05:10.089Z"
   },
   {
    "duration": 1587,
    "start_time": "2022-11-28T16:39:26.518Z"
   },
   {
    "duration": 15521,
    "start_time": "2022-11-28T16:39:28.107Z"
   },
   {
    "duration": 252,
    "start_time": "2022-11-28T16:39:43.630Z"
   },
   {
    "duration": 247,
    "start_time": "2022-11-28T16:39:43.884Z"
   },
   {
    "duration": 44,
    "start_time": "2022-11-28T16:39:44.133Z"
   },
   {
    "duration": 28,
    "start_time": "2022-11-28T16:39:44.179Z"
   },
   {
    "duration": 26,
    "start_time": "2022-11-28T16:39:44.209Z"
   },
   {
    "duration": 18,
    "start_time": "2022-11-28T16:39:44.238Z"
   },
   {
    "duration": 94,
    "start_time": "2022-11-28T16:39:44.258Z"
   },
   {
    "duration": 42,
    "start_time": "2022-11-28T16:39:44.354Z"
   },
   {
    "duration": 9,
    "start_time": "2022-11-28T16:39:44.398Z"
   },
   {
    "duration": 28,
    "start_time": "2022-11-28T16:39:44.409Z"
   },
   {
    "duration": 14,
    "start_time": "2022-11-28T16:39:44.439Z"
   },
   {
    "duration": 22,
    "start_time": "2022-11-28T16:39:44.457Z"
   },
   {
    "duration": 51,
    "start_time": "2022-11-28T16:39:44.481Z"
   },
   {
    "duration": 20,
    "start_time": "2022-11-28T16:39:44.534Z"
   },
   {
    "duration": 31,
    "start_time": "2022-11-28T16:39:44.556Z"
   },
   {
    "duration": 14,
    "start_time": "2022-11-28T16:39:44.589Z"
   },
   {
    "duration": 21,
    "start_time": "2022-11-28T16:39:44.605Z"
   },
   {
    "duration": 20,
    "start_time": "2022-11-28T16:39:44.628Z"
   },
   {
    "duration": 17,
    "start_time": "2022-11-28T16:39:44.650Z"
   },
   {
    "duration": 20,
    "start_time": "2022-11-28T16:39:44.669Z"
   },
   {
    "duration": 9,
    "start_time": "2022-11-28T16:39:44.692Z"
   },
   {
    "duration": 37,
    "start_time": "2022-11-28T16:39:44.703Z"
   },
   {
    "duration": 11,
    "start_time": "2022-11-28T16:39:44.742Z"
   },
   {
    "duration": 17,
    "start_time": "2022-11-28T16:39:44.754Z"
   },
   {
    "duration": 14,
    "start_time": "2022-11-28T16:39:44.773Z"
   },
   {
    "duration": 15,
    "start_time": "2022-11-28T16:39:44.789Z"
   },
   {
    "duration": 87,
    "start_time": "2022-11-28T16:39:44.805Z"
   },
   {
    "duration": 59,
    "start_time": "2022-11-28T16:39:44.894Z"
   },
   {
    "duration": 56452,
    "start_time": "2022-11-28T16:39:44.955Z"
   },
   {
    "duration": 39,
    "start_time": "2022-11-28T16:40:41.409Z"
   },
   {
    "duration": 7,
    "start_time": "2022-11-28T16:40:41.450Z"
   },
   {
    "duration": 3,
    "start_time": "2022-11-28T17:02:01.510Z"
   },
   {
    "duration": 35,
    "start_time": "2022-11-28T17:05:44.106Z"
   },
   {
    "duration": 3,
    "start_time": "2022-11-28T17:06:48.249Z"
   },
   {
    "duration": 6,
    "start_time": "2022-11-28T17:13:41.181Z"
   },
   {
    "duration": 4,
    "start_time": "2022-11-28T17:17:27.155Z"
   },
   {
    "duration": 5,
    "start_time": "2022-11-28T17:22:29.335Z"
   },
   {
    "duration": 5,
    "start_time": "2022-11-28T17:22:39.240Z"
   },
   {
    "duration": 5,
    "start_time": "2022-11-28T17:22:43.132Z"
   },
   {
    "duration": 4,
    "start_time": "2022-11-28T17:23:04.347Z"
   },
   {
    "duration": 70,
    "start_time": "2022-11-28T17:26:30.662Z"
   },
   {
    "duration": 93,
    "start_time": "2022-11-28T17:26:41.685Z"
   },
   {
    "duration": 5,
    "start_time": "2022-11-28T17:27:35.339Z"
   },
   {
    "duration": 4,
    "start_time": "2022-11-28T17:32:27.191Z"
   },
   {
    "duration": 6,
    "start_time": "2022-11-28T17:33:39.258Z"
   },
   {
    "duration": 222,
    "start_time": "2022-11-28T17:34:31.096Z"
   },
   {
    "duration": 51,
    "start_time": "2022-11-28T17:35:26.617Z"
   },
   {
    "duration": 30,
    "start_time": "2022-11-28T17:35:30.489Z"
   },
   {
    "duration": 45,
    "start_time": "2022-11-28T17:35:33.646Z"
   },
   {
    "duration": 6,
    "start_time": "2022-11-28T17:37:21.460Z"
   },
   {
    "duration": 44,
    "start_time": "2022-11-28T17:37:23.695Z"
   },
   {
    "duration": 16,
    "start_time": "2022-11-28T17:37:34.281Z"
   },
   {
    "duration": 687,
    "start_time": "2022-11-28T17:37:34.496Z"
   },
   {
    "duration": 769,
    "start_time": "2022-11-28T17:37:42.018Z"
   },
   {
    "duration": 6,
    "start_time": "2022-11-28T17:38:24.728Z"
   },
   {
    "duration": 660,
    "start_time": "2022-11-28T17:38:25.258Z"
   },
   {
    "duration": 659,
    "start_time": "2022-11-28T17:39:21.157Z"
   },
   {
    "duration": 649,
    "start_time": "2022-11-28T17:39:33.969Z"
   },
   {
    "duration": 652,
    "start_time": "2022-11-28T17:40:29.615Z"
   },
   {
    "duration": 684,
    "start_time": "2022-11-28T17:43:36.696Z"
   },
   {
    "duration": 644,
    "start_time": "2022-11-28T17:43:49.788Z"
   },
   {
    "duration": 4,
    "start_time": "2022-11-28T18:02:52.606Z"
   },
   {
    "duration": 267,
    "start_time": "2022-11-28T18:03:35.292Z"
   },
   {
    "duration": 23,
    "start_time": "2022-11-28T18:05:03.860Z"
   },
   {
    "duration": 23,
    "start_time": "2022-11-28T18:05:22.470Z"
   },
   {
    "duration": 19,
    "start_time": "2022-11-28T18:07:46.943Z"
   },
   {
    "duration": 1256,
    "start_time": "2022-11-28T18:08:09.557Z"
   },
   {
    "duration": 2957,
    "start_time": "2022-11-28T18:08:10.815Z"
   },
   {
    "duration": 152,
    "start_time": "2022-11-28T18:08:13.774Z"
   },
   {
    "duration": 87,
    "start_time": "2022-11-28T18:08:13.928Z"
   },
   {
    "duration": 31,
    "start_time": "2022-11-28T18:08:14.016Z"
   },
   {
    "duration": 23,
    "start_time": "2022-11-28T18:08:14.049Z"
   },
   {
    "duration": 7,
    "start_time": "2022-11-28T18:08:14.074Z"
   },
   {
    "duration": 20,
    "start_time": "2022-11-28T18:08:14.082Z"
   },
   {
    "duration": 75,
    "start_time": "2022-11-28T18:08:14.103Z"
   },
   {
    "duration": 26,
    "start_time": "2022-11-28T18:08:14.181Z"
   },
   {
    "duration": 7,
    "start_time": "2022-11-28T18:08:14.208Z"
   },
   {
    "duration": 23,
    "start_time": "2022-11-28T18:08:14.216Z"
   },
   {
    "duration": 24,
    "start_time": "2022-11-28T18:08:14.240Z"
   },
   {
    "duration": 21,
    "start_time": "2022-11-28T18:08:14.266Z"
   },
   {
    "duration": 36,
    "start_time": "2022-11-28T18:08:14.289Z"
   },
   {
    "duration": 7,
    "start_time": "2022-11-28T18:08:14.327Z"
   },
   {
    "duration": 20,
    "start_time": "2022-11-28T18:08:14.336Z"
   },
   {
    "duration": 20,
    "start_time": "2022-11-28T18:08:14.358Z"
   },
   {
    "duration": 20,
    "start_time": "2022-11-28T18:08:14.379Z"
   },
   {
    "duration": 12,
    "start_time": "2022-11-28T18:08:14.401Z"
   },
   {
    "duration": 30,
    "start_time": "2022-11-28T18:08:14.415Z"
   },
   {
    "duration": 20,
    "start_time": "2022-11-28T18:08:14.447Z"
   },
   {
    "duration": 14,
    "start_time": "2022-11-28T18:08:14.469Z"
   },
   {
    "duration": 28,
    "start_time": "2022-11-28T18:08:14.484Z"
   },
   {
    "duration": 20,
    "start_time": "2022-11-28T18:08:14.513Z"
   },
   {
    "duration": 14,
    "start_time": "2022-11-28T18:08:14.535Z"
   },
   {
    "duration": 19,
    "start_time": "2022-11-28T18:08:14.551Z"
   },
   {
    "duration": 7,
    "start_time": "2022-11-28T18:08:14.573Z"
   },
   {
    "duration": 69,
    "start_time": "2022-11-28T18:08:14.581Z"
   },
   {
    "duration": 26,
    "start_time": "2022-11-28T18:08:14.652Z"
   },
   {
    "duration": 49560,
    "start_time": "2022-11-28T18:08:14.680Z"
   },
   {
    "duration": 36,
    "start_time": "2022-11-28T18:09:04.242Z"
   },
   {
    "duration": 66,
    "start_time": "2022-11-28T18:09:04.280Z"
   },
   {
    "duration": 17,
    "start_time": "2022-11-28T18:09:04.349Z"
   },
   {
    "duration": 20,
    "start_time": "2022-11-28T18:09:04.368Z"
   },
   {
    "duration": 47,
    "start_time": "2022-11-28T18:09:04.390Z"
   },
   {
    "duration": 734,
    "start_time": "2022-11-28T18:09:04.439Z"
   },
   {
    "duration": 156,
    "start_time": "2022-11-28T18:09:05.174Z"
   },
   {
    "duration": 25,
    "start_time": "2022-11-28T18:09:05.335Z"
   },
   {
    "duration": 7,
    "start_time": "2022-11-28T18:11:32.582Z"
   },
   {
    "duration": 170,
    "start_time": "2022-11-28T18:14:01.317Z"
   },
   {
    "duration": 1281,
    "start_time": "2022-11-28T18:14:59.733Z"
   },
   {
    "duration": 3050,
    "start_time": "2022-11-28T18:15:01.016Z"
   },
   {
    "duration": 161,
    "start_time": "2022-11-28T18:15:04.070Z"
   },
   {
    "duration": 76,
    "start_time": "2022-11-28T18:15:04.234Z"
   },
   {
    "duration": 32,
    "start_time": "2022-11-28T18:15:04.311Z"
   },
   {
    "duration": 18,
    "start_time": "2022-11-28T18:15:04.345Z"
   },
   {
    "duration": 2,
    "start_time": "2022-11-28T18:15:04.364Z"
   },
   {
    "duration": 21,
    "start_time": "2022-11-28T18:15:04.368Z"
   },
   {
    "duration": 72,
    "start_time": "2022-11-28T18:15:04.392Z"
   },
   {
    "duration": 29,
    "start_time": "2022-11-28T18:15:04.465Z"
   },
   {
    "duration": 8,
    "start_time": "2022-11-28T18:15:04.495Z"
   },
   {
    "duration": 12,
    "start_time": "2022-11-28T18:15:04.505Z"
   },
   {
    "duration": 23,
    "start_time": "2022-11-28T18:15:04.519Z"
   },
   {
    "duration": 14,
    "start_time": "2022-11-28T18:15:04.543Z"
   },
   {
    "duration": 46,
    "start_time": "2022-11-28T18:15:04.559Z"
   },
   {
    "duration": 7,
    "start_time": "2022-11-28T18:15:04.606Z"
   },
   {
    "duration": 15,
    "start_time": "2022-11-28T18:15:04.615Z"
   },
   {
    "duration": 10,
    "start_time": "2022-11-28T18:15:04.632Z"
   },
   {
    "duration": 8,
    "start_time": "2022-11-28T18:15:04.644Z"
   },
   {
    "duration": 14,
    "start_time": "2022-11-28T18:15:04.654Z"
   },
   {
    "duration": 19,
    "start_time": "2022-11-28T18:15:04.670Z"
   },
   {
    "duration": 22,
    "start_time": "2022-11-28T18:15:04.690Z"
   },
   {
    "duration": 12,
    "start_time": "2022-11-28T18:15:04.714Z"
   },
   {
    "duration": 44,
    "start_time": "2022-11-28T18:15:04.728Z"
   },
   {
    "duration": 9,
    "start_time": "2022-11-28T18:15:04.774Z"
   },
   {
    "duration": 23,
    "start_time": "2022-11-28T18:15:04.785Z"
   },
   {
    "duration": 30,
    "start_time": "2022-11-28T18:15:04.812Z"
   },
   {
    "duration": 19,
    "start_time": "2022-11-28T18:15:04.844Z"
   },
   {
    "duration": 69,
    "start_time": "2022-11-28T18:15:04.865Z"
   },
   {
    "duration": 32,
    "start_time": "2022-11-28T18:15:04.936Z"
   },
   {
    "duration": 49382,
    "start_time": "2022-11-28T18:15:04.970Z"
   },
   {
    "duration": 29,
    "start_time": "2022-11-28T18:15:54.354Z"
   },
   {
    "duration": 9,
    "start_time": "2022-11-28T18:15:54.435Z"
   },
   {
    "duration": 5,
    "start_time": "2022-11-28T18:15:54.446Z"
   },
   {
    "duration": 6,
    "start_time": "2022-11-28T18:15:54.452Z"
   },
   {
    "duration": 7,
    "start_time": "2022-11-28T18:15:54.460Z"
   },
   {
    "duration": 835,
    "start_time": "2022-11-28T18:15:54.468Z"
   },
   {
    "duration": 196,
    "start_time": "2022-11-28T18:15:55.305Z"
   },
   {
    "duration": 34,
    "start_time": "2022-11-28T18:15:55.502Z"
   },
   {
    "duration": 27,
    "start_time": "2022-11-28T18:16:37.448Z"
   },
   {
    "duration": 22,
    "start_time": "2022-11-28T18:16:42.853Z"
   },
   {
    "duration": 4,
    "start_time": "2022-11-28T18:20:44.045Z"
   },
   {
    "duration": 5,
    "start_time": "2022-11-28T18:21:01.336Z"
   },
   {
    "duration": 252,
    "start_time": "2022-11-28T18:22:37.729Z"
   },
   {
    "duration": 7,
    "start_time": "2022-11-28T18:24:04.360Z"
   },
   {
    "duration": 4,
    "start_time": "2022-11-28T18:25:39.666Z"
   },
   {
    "duration": 4,
    "start_time": "2022-11-28T18:25:49.312Z"
   },
   {
    "duration": 4,
    "start_time": "2022-11-28T18:26:09.901Z"
   },
   {
    "duration": 223,
    "start_time": "2022-11-28T18:26:33.540Z"
   },
   {
    "duration": 4,
    "start_time": "2022-11-28T18:26:52.886Z"
   },
   {
    "duration": 176,
    "start_time": "2022-11-28T18:26:56.642Z"
   },
   {
    "duration": 105,
    "start_time": "2022-11-28T18:27:36.547Z"
   },
   {
    "duration": 89,
    "start_time": "2022-11-28T18:27:41.860Z"
   },
   {
    "duration": 73,
    "start_time": "2022-11-28T18:27:44.740Z"
   },
   {
    "duration": 41,
    "start_time": "2022-11-28T18:27:48.784Z"
   },
   {
    "duration": 67,
    "start_time": "2022-11-28T18:27:52.944Z"
   },
   {
    "duration": 128,
    "start_time": "2022-11-28T18:28:02.571Z"
   },
   {
    "duration": 58,
    "start_time": "2022-11-28T18:28:40.529Z"
   },
   {
    "duration": 57,
    "start_time": "2022-11-28T18:28:44.237Z"
   },
   {
    "duration": 74,
    "start_time": "2022-11-28T18:28:46.642Z"
   },
   {
    "duration": 73,
    "start_time": "2022-11-28T18:28:49.820Z"
   },
   {
    "duration": 69,
    "start_time": "2022-11-28T18:28:52.241Z"
   },
   {
    "duration": 81,
    "start_time": "2022-11-28T18:28:55.930Z"
   },
   {
    "duration": 87,
    "start_time": "2022-11-28T18:29:01.068Z"
   },
   {
    "duration": 66,
    "start_time": "2022-11-28T18:29:04.739Z"
   },
   {
    "duration": 74,
    "start_time": "2022-11-28T18:29:07.402Z"
   },
   {
    "duration": 80,
    "start_time": "2022-11-28T18:29:10.313Z"
   },
   {
    "duration": 72,
    "start_time": "2022-11-28T18:29:14.120Z"
   },
   {
    "duration": 77,
    "start_time": "2022-11-28T18:29:18.111Z"
   },
   {
    "duration": 74,
    "start_time": "2022-11-28T18:29:22.266Z"
   },
   {
    "duration": 8,
    "start_time": "2022-11-28T18:33:47.905Z"
   },
   {
    "duration": 8,
    "start_time": "2022-11-28T18:34:01.700Z"
   },
   {
    "duration": 25,
    "start_time": "2022-11-28T18:34:32.203Z"
   },
   {
    "duration": 57,
    "start_time": "2022-11-28T18:34:50.171Z"
   },
   {
    "duration": 398,
    "start_time": "2022-11-28T18:34:55.768Z"
   },
   {
    "duration": 1364,
    "start_time": "2022-11-28T18:35:52.507Z"
   },
   {
    "duration": 2934,
    "start_time": "2022-11-28T18:35:53.872Z"
   },
   {
    "duration": 160,
    "start_time": "2022-11-28T18:35:56.808Z"
   },
   {
    "duration": 76,
    "start_time": "2022-11-28T18:35:56.971Z"
   },
   {
    "duration": 31,
    "start_time": "2022-11-28T18:35:57.049Z"
   },
   {
    "duration": 19,
    "start_time": "2022-11-28T18:35:57.082Z"
   },
   {
    "duration": 3,
    "start_time": "2022-11-28T18:35:57.102Z"
   },
   {
    "duration": 32,
    "start_time": "2022-11-28T18:35:57.107Z"
   },
   {
    "duration": 61,
    "start_time": "2022-11-28T18:35:57.140Z"
   },
   {
    "duration": 46,
    "start_time": "2022-11-28T18:35:57.204Z"
   },
   {
    "duration": 7,
    "start_time": "2022-11-28T18:35:57.251Z"
   },
   {
    "duration": 15,
    "start_time": "2022-11-28T18:35:57.259Z"
   },
   {
    "duration": 34,
    "start_time": "2022-11-28T18:35:57.275Z"
   },
   {
    "duration": 20,
    "start_time": "2022-11-28T18:35:57.311Z"
   },
   {
    "duration": 34,
    "start_time": "2022-11-28T18:35:57.333Z"
   },
   {
    "duration": 7,
    "start_time": "2022-11-28T18:35:57.369Z"
   },
   {
    "duration": 15,
    "start_time": "2022-11-28T18:35:57.377Z"
   },
   {
    "duration": 28,
    "start_time": "2022-11-28T18:35:57.393Z"
   },
   {
    "duration": 9,
    "start_time": "2022-11-28T18:35:57.423Z"
   },
   {
    "duration": 14,
    "start_time": "2022-11-28T18:35:57.434Z"
   },
   {
    "duration": 12,
    "start_time": "2022-11-28T18:35:57.450Z"
   },
   {
    "duration": 35,
    "start_time": "2022-11-28T18:35:57.464Z"
   },
   {
    "duration": 14,
    "start_time": "2022-11-28T18:35:57.501Z"
   },
   {
    "duration": 22,
    "start_time": "2022-11-28T18:35:57.517Z"
   },
   {
    "duration": 7,
    "start_time": "2022-11-28T18:35:57.540Z"
   },
   {
    "duration": 15,
    "start_time": "2022-11-28T18:35:57.548Z"
   },
   {
    "duration": 11,
    "start_time": "2022-11-28T18:35:57.565Z"
   },
   {
    "duration": 6,
    "start_time": "2022-11-28T18:35:57.581Z"
   },
   {
    "duration": 72,
    "start_time": "2022-11-28T18:35:57.589Z"
   },
   {
    "duration": 31,
    "start_time": "2022-11-28T18:35:57.663Z"
   },
   {
    "duration": 48921,
    "start_time": "2022-11-28T18:35:57.696Z"
   },
   {
    "duration": 51,
    "start_time": "2022-11-28T18:36:46.619Z"
   },
   {
    "duration": 65,
    "start_time": "2022-11-28T18:36:46.672Z"
   },
   {
    "duration": 10,
    "start_time": "2022-11-28T18:36:46.740Z"
   },
   {
    "duration": 27,
    "start_time": "2022-11-28T18:36:46.752Z"
   },
   {
    "duration": 12,
    "start_time": "2022-11-28T18:36:46.782Z"
   },
   {
    "duration": 718,
    "start_time": "2022-11-28T18:36:46.796Z"
   },
   {
    "duration": 205,
    "start_time": "2022-11-28T18:36:47.516Z"
   },
   {
    "duration": 46,
    "start_time": "2022-11-28T18:36:47.722Z"
   },
   {
    "duration": 256,
    "start_time": "2022-11-28T18:36:47.770Z"
   },
   {
    "duration": 13,
    "start_time": "2022-11-28T18:36:48.028Z"
   },
   {
    "duration": 18,
    "start_time": "2022-11-28T18:36:48.043Z"
   },
   {
    "duration": 6,
    "start_time": "2022-11-28T18:36:48.063Z"
   },
   {
    "duration": 126,
    "start_time": "2022-11-28T18:36:48.071Z"
   },
   {
    "duration": 76,
    "start_time": "2022-11-28T18:36:48.199Z"
   },
   {
    "duration": 5,
    "start_time": "2022-11-28T18:36:48.277Z"
   },
   {
    "duration": 26481,
    "start_time": "2022-11-28T18:36:48.284Z"
   },
   {
    "duration": 14,
    "start_time": "2022-11-28T18:45:11.992Z"
   },
   {
    "duration": 7,
    "start_time": "2022-11-28T18:45:33.358Z"
   },
   {
    "duration": 13,
    "start_time": "2022-11-28T18:45:40.945Z"
   },
   {
    "duration": 62,
    "start_time": "2022-11-28T18:47:48.108Z"
   },
   {
    "duration": 22276,
    "start_time": "2022-11-28T18:47:51.600Z"
   },
   {
    "duration": 5,
    "start_time": "2022-11-28T18:49:05.952Z"
   },
   {
    "duration": 103418,
    "start_time": "2022-11-28T18:49:10.315Z"
   },
   {
    "duration": 6,
    "start_time": "2022-11-28T19:03:59.489Z"
   },
   {
    "duration": 14108,
    "start_time": "2022-11-28T19:05:36.052Z"
   },
   {
    "duration": 76,
    "start_time": "2022-11-28T19:28:39.516Z"
   },
   {
    "duration": 17,
    "start_time": "2022-11-28T19:28:44.237Z"
   },
   {
    "duration": 7,
    "start_time": "2022-11-28T19:29:17.996Z"
   },
   {
    "duration": 14415,
    "start_time": "2022-11-28T19:29:32.164Z"
   },
   {
    "duration": 3041537,
    "start_time": "2022-11-28T19:31:16.508Z"
   },
   {
    "duration": 78,
    "start_time": "2022-11-28T20:32:07.547Z"
   },
   {
    "duration": 56,
    "start_time": "2022-11-28T20:32:19.595Z"
   },
   {
    "duration": 41,
    "start_time": "2022-11-28T20:32:53.974Z"
   },
   {
    "duration": 26,
    "start_time": "2022-11-28T20:33:05.977Z"
   },
   {
    "duration": 3756,
    "start_time": "2022-11-28T20:33:12.511Z"
   },
   {
    "duration": 6,
    "start_time": "2022-11-28T20:35:05.464Z"
   },
   {
    "duration": 18282,
    "start_time": "2022-11-28T20:35:06.727Z"
   },
   {
    "duration": 1335,
    "start_time": "2022-11-28T20:35:43.323Z"
   },
   {
    "duration": 2970,
    "start_time": "2022-11-28T20:35:44.660Z"
   },
   {
    "duration": 153,
    "start_time": "2022-11-28T20:35:47.632Z"
   },
   {
    "duration": 77,
    "start_time": "2022-11-28T20:35:47.787Z"
   },
   {
    "duration": 29,
    "start_time": "2022-11-28T20:35:47.865Z"
   },
   {
    "duration": 32,
    "start_time": "2022-11-28T20:35:47.896Z"
   },
   {
    "duration": 5,
    "start_time": "2022-11-28T20:35:47.930Z"
   },
   {
    "duration": 26,
    "start_time": "2022-11-28T20:35:47.937Z"
   },
   {
    "duration": 75,
    "start_time": "2022-11-28T20:35:47.964Z"
   },
   {
    "duration": 29,
    "start_time": "2022-11-28T20:35:48.042Z"
   },
   {
    "duration": 7,
    "start_time": "2022-11-28T20:35:48.072Z"
   },
   {
    "duration": 11,
    "start_time": "2022-11-28T20:35:48.081Z"
   },
   {
    "duration": 8,
    "start_time": "2022-11-28T20:35:48.094Z"
   },
   {
    "duration": 34,
    "start_time": "2022-11-28T20:35:48.104Z"
   },
   {
    "duration": 28,
    "start_time": "2022-11-28T20:35:48.140Z"
   },
   {
    "duration": 7,
    "start_time": "2022-11-28T20:35:48.169Z"
   },
   {
    "duration": 10,
    "start_time": "2022-11-28T20:35:48.177Z"
   },
   {
    "duration": 10,
    "start_time": "2022-11-28T20:35:48.189Z"
   },
   {
    "duration": 5,
    "start_time": "2022-11-28T20:35:48.201Z"
   },
   {
    "duration": 31,
    "start_time": "2022-11-28T20:35:48.208Z"
   },
   {
    "duration": 7,
    "start_time": "2022-11-28T20:35:48.240Z"
   },
   {
    "duration": 9,
    "start_time": "2022-11-28T20:35:48.248Z"
   },
   {
    "duration": 6,
    "start_time": "2022-11-28T20:35:48.258Z"
   },
   {
    "duration": 20,
    "start_time": "2022-11-28T20:35:48.265Z"
   },
   {
    "duration": 6,
    "start_time": "2022-11-28T20:35:48.287Z"
   },
   {
    "duration": 41,
    "start_time": "2022-11-28T20:35:48.295Z"
   },
   {
    "duration": 11,
    "start_time": "2022-11-28T20:35:48.338Z"
   },
   {
    "duration": 7,
    "start_time": "2022-11-28T20:35:48.354Z"
   },
   {
    "duration": 100,
    "start_time": "2022-11-28T20:35:48.364Z"
   },
   {
    "duration": 29,
    "start_time": "2022-11-28T20:35:48.466Z"
   },
   {
    "duration": 49676,
    "start_time": "2022-11-28T20:35:48.497Z"
   },
   {
    "duration": 68,
    "start_time": "2022-11-28T20:36:38.176Z"
   },
   {
    "duration": 7,
    "start_time": "2022-11-28T20:36:38.246Z"
   },
   {
    "duration": 11,
    "start_time": "2022-11-28T20:36:38.255Z"
   },
   {
    "duration": 12,
    "start_time": "2022-11-28T20:36:38.268Z"
   },
   {
    "duration": 53,
    "start_time": "2022-11-28T20:36:38.282Z"
   },
   {
    "duration": 779,
    "start_time": "2022-11-28T20:36:38.337Z"
   },
   {
    "duration": 211,
    "start_time": "2022-11-28T20:36:39.118Z"
   },
   {
    "duration": 40,
    "start_time": "2022-11-28T20:36:39.330Z"
   },
   {
    "duration": 272,
    "start_time": "2022-11-28T20:36:39.372Z"
   },
   {
    "duration": 7,
    "start_time": "2022-11-28T20:36:39.646Z"
   },
   {
    "duration": 10,
    "start_time": "2022-11-28T20:36:39.654Z"
   },
   {
    "duration": 9,
    "start_time": "2022-11-28T20:36:39.665Z"
   },
   {
    "duration": 120,
    "start_time": "2022-11-28T20:36:39.676Z"
   },
   {
    "duration": 74,
    "start_time": "2022-11-28T20:36:39.798Z"
   },
   {
    "duration": 47,
    "start_time": "2022-11-28T20:36:39.874Z"
   },
   {
    "duration": 12,
    "start_time": "2022-11-28T20:36:39.923Z"
   },
   {
    "duration": 17447,
    "start_time": "2022-11-28T20:36:39.937Z"
   },
   {
    "duration": 0,
    "start_time": "2022-11-28T20:36:57.386Z"
   },
   {
    "duration": 0,
    "start_time": "2022-11-28T20:36:57.387Z"
   },
   {
    "duration": 1653,
    "start_time": "2022-11-28T20:38:46.205Z"
   },
   {
    "duration": 3128,
    "start_time": "2022-11-28T20:38:47.861Z"
   },
   {
    "duration": 181,
    "start_time": "2022-11-28T20:38:50.991Z"
   },
   {
    "duration": 89,
    "start_time": "2022-11-28T20:38:51.173Z"
   },
   {
    "duration": 31,
    "start_time": "2022-11-28T20:38:51.265Z"
   },
   {
    "duration": 43,
    "start_time": "2022-11-28T20:38:51.298Z"
   },
   {
    "duration": 3,
    "start_time": "2022-11-28T20:38:51.343Z"
   },
   {
    "duration": 19,
    "start_time": "2022-11-28T20:38:51.347Z"
   },
   {
    "duration": 70,
    "start_time": "2022-11-28T20:38:51.367Z"
   },
   {
    "duration": 40,
    "start_time": "2022-11-28T20:38:51.439Z"
   },
   {
    "duration": 9,
    "start_time": "2022-11-28T20:38:51.482Z"
   },
   {
    "duration": 17,
    "start_time": "2022-11-28T20:38:51.494Z"
   },
   {
    "duration": 28,
    "start_time": "2022-11-28T20:38:51.513Z"
   },
   {
    "duration": 20,
    "start_time": "2022-11-28T20:38:51.545Z"
   },
   {
    "duration": 41,
    "start_time": "2022-11-28T20:38:51.567Z"
   },
   {
    "duration": 8,
    "start_time": "2022-11-28T20:38:51.610Z"
   },
   {
    "duration": 22,
    "start_time": "2022-11-28T20:38:51.621Z"
   },
   {
    "duration": 20,
    "start_time": "2022-11-28T20:38:51.645Z"
   },
   {
    "duration": 12,
    "start_time": "2022-11-28T20:38:51.667Z"
   },
   {
    "duration": 16,
    "start_time": "2022-11-28T20:38:51.681Z"
   },
   {
    "duration": 9,
    "start_time": "2022-11-28T20:38:51.699Z"
   },
   {
    "duration": 28,
    "start_time": "2022-11-28T20:38:51.710Z"
   },
   {
    "duration": 6,
    "start_time": "2022-11-28T20:38:51.740Z"
   },
   {
    "duration": 33,
    "start_time": "2022-11-28T20:38:51.747Z"
   },
   {
    "duration": 26,
    "start_time": "2022-11-28T20:38:51.782Z"
   },
   {
    "duration": 12,
    "start_time": "2022-11-28T20:38:51.809Z"
   },
   {
    "duration": 48,
    "start_time": "2022-11-28T20:38:51.823Z"
   },
   {
    "duration": 24,
    "start_time": "2022-11-28T20:38:51.874Z"
   },
   {
    "duration": 133,
    "start_time": "2022-11-28T20:38:51.900Z"
   },
   {
    "duration": 41,
    "start_time": "2022-11-28T20:38:52.035Z"
   },
   {
    "duration": 52603,
    "start_time": "2022-11-28T20:38:52.078Z"
   },
   {
    "duration": 66,
    "start_time": "2022-11-28T20:39:44.682Z"
   },
   {
    "duration": 6,
    "start_time": "2022-11-28T20:39:44.750Z"
   },
   {
    "duration": 14,
    "start_time": "2022-11-28T20:39:44.758Z"
   },
   {
    "duration": 9,
    "start_time": "2022-11-28T20:39:44.774Z"
   },
   {
    "duration": 50,
    "start_time": "2022-11-28T20:39:44.785Z"
   },
   {
    "duration": 847,
    "start_time": "2022-11-28T20:39:44.837Z"
   },
   {
    "duration": 200,
    "start_time": "2022-11-28T20:39:45.686Z"
   },
   {
    "duration": 49,
    "start_time": "2022-11-28T20:39:45.887Z"
   },
   {
    "duration": 278,
    "start_time": "2022-11-28T20:39:45.938Z"
   },
   {
    "duration": 16,
    "start_time": "2022-11-28T20:39:46.220Z"
   },
   {
    "duration": 9,
    "start_time": "2022-11-28T20:39:46.237Z"
   },
   {
    "duration": 7,
    "start_time": "2022-11-28T20:39:46.247Z"
   },
   {
    "duration": 126,
    "start_time": "2022-11-28T20:39:46.255Z"
   },
   {
    "duration": 82,
    "start_time": "2022-11-28T20:39:46.382Z"
   },
   {
    "duration": 57,
    "start_time": "2022-11-28T20:39:46.467Z"
   },
   {
    "duration": 13,
    "start_time": "2022-11-28T20:39:46.526Z"
   },
   {
    "duration": 106680,
    "start_time": "2022-11-28T20:39:46.541Z"
   },
   {
    "duration": 60,
    "start_time": "2022-11-28T20:41:33.223Z"
   },
   {
    "duration": 7222,
    "start_time": "2022-11-28T20:41:36.685Z"
   },
   {
    "duration": 1733,
    "start_time": "2022-11-29T07:53:03.971Z"
   },
   {
    "duration": 16190,
    "start_time": "2022-11-29T07:53:05.708Z"
   },
   {
    "duration": 563,
    "start_time": "2022-11-29T07:53:21.900Z"
   },
   {
    "duration": 285,
    "start_time": "2022-11-29T07:53:22.465Z"
   },
   {
    "duration": 70,
    "start_time": "2022-11-29T07:53:22.753Z"
   },
   {
    "duration": 276,
    "start_time": "2022-11-29T07:53:22.825Z"
   },
   {
    "duration": 2,
    "start_time": "2022-11-29T07:53:23.103Z"
   },
   {
    "duration": 18,
    "start_time": "2022-11-29T07:53:23.107Z"
   },
   {
    "duration": 65,
    "start_time": "2022-11-29T07:53:23.127Z"
   },
   {
    "duration": 29,
    "start_time": "2022-11-29T07:53:23.194Z"
   },
   {
    "duration": 7,
    "start_time": "2022-11-29T07:53:23.224Z"
   },
   {
    "duration": 9,
    "start_time": "2022-11-29T07:53:23.232Z"
   },
   {
    "duration": 13,
    "start_time": "2022-11-29T07:53:23.243Z"
   },
   {
    "duration": 8,
    "start_time": "2022-11-29T07:53:23.280Z"
   },
   {
    "duration": 26,
    "start_time": "2022-11-29T07:53:23.290Z"
   },
   {
    "duration": 9,
    "start_time": "2022-11-29T07:53:23.320Z"
   },
   {
    "duration": 9,
    "start_time": "2022-11-29T07:53:23.331Z"
   },
   {
    "duration": 38,
    "start_time": "2022-11-29T07:53:23.342Z"
   },
   {
    "duration": 9,
    "start_time": "2022-11-29T07:53:23.381Z"
   },
   {
    "duration": 15,
    "start_time": "2022-11-29T07:53:23.392Z"
   },
   {
    "duration": 8,
    "start_time": "2022-11-29T07:53:23.409Z"
   },
   {
    "duration": 17,
    "start_time": "2022-11-29T07:53:23.419Z"
   },
   {
    "duration": 10,
    "start_time": "2022-11-29T07:53:23.438Z"
   },
   {
    "duration": 43,
    "start_time": "2022-11-29T07:53:23.450Z"
   },
   {
    "duration": 8,
    "start_time": "2022-11-29T07:53:23.495Z"
   },
   {
    "duration": 8,
    "start_time": "2022-11-29T07:53:23.505Z"
   },
   {
    "duration": 20,
    "start_time": "2022-11-29T07:53:23.515Z"
   },
   {
    "duration": 10,
    "start_time": "2022-11-29T07:53:23.538Z"
   },
   {
    "duration": 111,
    "start_time": "2022-11-29T07:53:23.550Z"
   },
   {
    "duration": 30,
    "start_time": "2022-11-29T07:53:23.663Z"
   },
   {
    "duration": 52446,
    "start_time": "2022-11-29T07:53:23.695Z"
   },
   {
    "duration": 54,
    "start_time": "2022-11-29T07:54:16.144Z"
   },
   {
    "duration": 8,
    "start_time": "2022-11-29T07:54:16.200Z"
   },
   {
    "duration": 70,
    "start_time": "2022-11-29T07:54:16.210Z"
   },
   {
    "duration": 13,
    "start_time": "2022-11-29T07:54:16.283Z"
   },
   {
    "duration": 7,
    "start_time": "2022-11-29T07:54:16.298Z"
   },
   {
    "duration": 776,
    "start_time": "2022-11-29T07:54:16.307Z"
   },
   {
    "duration": 233,
    "start_time": "2022-11-29T07:54:17.086Z"
   },
   {
    "duration": 43,
    "start_time": "2022-11-29T07:54:17.321Z"
   },
   {
    "duration": 280,
    "start_time": "2022-11-29T07:54:17.377Z"
   },
   {
    "duration": 18,
    "start_time": "2022-11-29T07:54:17.661Z"
   },
   {
    "duration": 4,
    "start_time": "2022-11-29T07:54:17.680Z"
   },
   {
    "duration": 7,
    "start_time": "2022-11-29T07:54:17.686Z"
   },
   {
    "duration": 131,
    "start_time": "2022-11-29T07:54:17.695Z"
   },
   {
    "duration": 106,
    "start_time": "2022-11-29T07:54:17.828Z"
   },
   {
    "duration": 61,
    "start_time": "2022-11-29T07:54:17.936Z"
   },
   {
    "duration": 6,
    "start_time": "2022-11-29T07:54:17.999Z"
   },
   {
    "duration": 100772,
    "start_time": "2022-11-29T07:54:18.007Z"
   },
   {
    "duration": 101,
    "start_time": "2022-11-29T07:55:58.780Z"
   },
   {
    "duration": 7590,
    "start_time": "2022-11-29T07:55:58.882Z"
   },
   {
    "duration": 67,
    "start_time": "2022-11-29T08:33:04.603Z"
   },
   {
    "duration": 125,
    "start_time": "2022-11-29T08:33:08.428Z"
   },
   {
    "duration": 7,
    "start_time": "2022-11-29T08:34:37.318Z"
   },
   {
    "duration": 42,
    "start_time": "2022-11-29T08:36:11.903Z"
   },
   {
    "duration": 33,
    "start_time": "2022-11-29T08:37:04.457Z"
   },
   {
    "duration": 5507,
    "start_time": "2022-11-29T08:37:18.382Z"
   },
   {
    "duration": 1437,
    "start_time": "2022-11-29T08:37:34.888Z"
   },
   {
    "duration": 2748,
    "start_time": "2022-11-29T08:37:36.327Z"
   },
   {
    "duration": 144,
    "start_time": "2022-11-29T08:37:39.077Z"
   },
   {
    "duration": 70,
    "start_time": "2022-11-29T08:37:39.223Z"
   },
   {
    "duration": 25,
    "start_time": "2022-11-29T08:37:39.295Z"
   },
   {
    "duration": 25,
    "start_time": "2022-11-29T08:37:39.321Z"
   },
   {
    "duration": 2,
    "start_time": "2022-11-29T08:37:39.348Z"
   },
   {
    "duration": 17,
    "start_time": "2022-11-29T08:37:39.352Z"
   },
   {
    "duration": 60,
    "start_time": "2022-11-29T08:37:39.370Z"
   },
   {
    "duration": 26,
    "start_time": "2022-11-29T08:37:39.432Z"
   },
   {
    "duration": 6,
    "start_time": "2022-11-29T08:37:39.459Z"
   },
   {
    "duration": 8,
    "start_time": "2022-11-29T08:37:39.478Z"
   },
   {
    "duration": 10,
    "start_time": "2022-11-29T08:37:39.488Z"
   },
   {
    "duration": 8,
    "start_time": "2022-11-29T08:37:39.500Z"
   },
   {
    "duration": 25,
    "start_time": "2022-11-29T08:37:39.510Z"
   },
   {
    "duration": 6,
    "start_time": "2022-11-29T08:37:39.537Z"
   },
   {
    "duration": 10,
    "start_time": "2022-11-29T08:37:39.545Z"
   },
   {
    "duration": 7,
    "start_time": "2022-11-29T08:37:39.579Z"
   },
   {
    "duration": 10,
    "start_time": "2022-11-29T08:37:39.587Z"
   },
   {
    "duration": 10,
    "start_time": "2022-11-29T08:37:39.598Z"
   },
   {
    "duration": 19,
    "start_time": "2022-11-29T08:37:39.610Z"
   },
   {
    "duration": 21,
    "start_time": "2022-11-29T08:37:39.630Z"
   },
   {
    "duration": 10,
    "start_time": "2022-11-29T08:37:39.652Z"
   },
   {
    "duration": 20,
    "start_time": "2022-11-29T08:37:39.664Z"
   },
   {
    "duration": 8,
    "start_time": "2022-11-29T08:37:39.685Z"
   },
   {
    "duration": 8,
    "start_time": "2022-11-29T08:37:39.694Z"
   },
   {
    "duration": 8,
    "start_time": "2022-11-29T08:37:39.703Z"
   },
   {
    "duration": 8,
    "start_time": "2022-11-29T08:37:39.714Z"
   },
   {
    "duration": 72,
    "start_time": "2022-11-29T08:37:39.723Z"
   },
   {
    "duration": 26,
    "start_time": "2022-11-29T08:37:39.797Z"
   },
   {
    "duration": 48389,
    "start_time": "2022-11-29T08:37:39.825Z"
   },
   {
    "duration": 286,
    "start_time": "2022-11-29T08:38:28.217Z"
   },
   {
    "duration": 5,
    "start_time": "2022-11-29T08:38:28.504Z"
   },
   {
    "duration": 76,
    "start_time": "2022-11-29T08:38:28.512Z"
   },
   {
    "duration": 42,
    "start_time": "2022-11-29T08:38:28.591Z"
   },
   {
    "duration": 48,
    "start_time": "2022-11-29T08:38:28.634Z"
   },
   {
    "duration": 4,
    "start_time": "2022-11-29T08:38:28.685Z"
   },
   {
    "duration": 12,
    "start_time": "2022-11-29T08:38:28.691Z"
   },
   {
    "duration": 15,
    "start_time": "2022-11-29T08:38:28.705Z"
   },
   {
    "duration": 647,
    "start_time": "2022-11-29T08:38:28.723Z"
   },
   {
    "duration": 218,
    "start_time": "2022-11-29T08:38:29.371Z"
   },
   {
    "duration": 38,
    "start_time": "2022-11-29T08:38:29.590Z"
   },
   {
    "duration": 260,
    "start_time": "2022-11-29T08:38:29.630Z"
   },
   {
    "duration": 7,
    "start_time": "2022-11-29T08:38:29.891Z"
   },
   {
    "duration": 11,
    "start_time": "2022-11-29T08:38:29.900Z"
   },
   {
    "duration": 9,
    "start_time": "2022-11-29T08:38:29.912Z"
   },
   {
    "duration": 124,
    "start_time": "2022-11-29T08:38:29.922Z"
   },
   {
    "duration": 76,
    "start_time": "2022-11-29T08:38:30.048Z"
   },
   {
    "duration": 54,
    "start_time": "2022-11-29T08:38:30.125Z"
   },
   {
    "duration": 5,
    "start_time": "2022-11-29T08:38:30.180Z"
   },
   {
    "duration": 92310,
    "start_time": "2022-11-29T08:38:30.187Z"
   },
   {
    "duration": 1340,
    "start_time": "2022-11-29T08:40:11.899Z"
   },
   {
    "duration": 2896,
    "start_time": "2022-11-29T08:40:13.241Z"
   },
   {
    "duration": 163,
    "start_time": "2022-11-29T08:40:16.139Z"
   },
   {
    "duration": 76,
    "start_time": "2022-11-29T08:40:16.304Z"
   },
   {
    "duration": 25,
    "start_time": "2022-11-29T08:40:16.382Z"
   },
   {
    "duration": 18,
    "start_time": "2022-11-29T08:40:16.409Z"
   },
   {
    "duration": 3,
    "start_time": "2022-11-29T08:40:16.428Z"
   },
   {
    "duration": 9,
    "start_time": "2022-11-29T08:40:16.432Z"
   },
   {
    "duration": 81,
    "start_time": "2022-11-29T08:40:16.443Z"
   },
   {
    "duration": 27,
    "start_time": "2022-11-29T08:40:16.525Z"
   },
   {
    "duration": 7,
    "start_time": "2022-11-29T08:40:16.554Z"
   },
   {
    "duration": 18,
    "start_time": "2022-11-29T08:40:16.579Z"
   },
   {
    "duration": 19,
    "start_time": "2022-11-29T08:40:16.599Z"
   },
   {
    "duration": 5,
    "start_time": "2022-11-29T08:40:16.621Z"
   },
   {
    "duration": 33,
    "start_time": "2022-11-29T08:40:16.628Z"
   },
   {
    "duration": 18,
    "start_time": "2022-11-29T08:40:16.662Z"
   },
   {
    "duration": 8,
    "start_time": "2022-11-29T08:40:16.682Z"
   },
   {
    "duration": 12,
    "start_time": "2022-11-29T08:40:16.692Z"
   },
   {
    "duration": 8,
    "start_time": "2022-11-29T08:40:16.706Z"
   },
   {
    "duration": 8,
    "start_time": "2022-11-29T08:40:16.716Z"
   },
   {
    "duration": 8,
    "start_time": "2022-11-29T08:40:16.726Z"
   },
   {
    "duration": 42,
    "start_time": "2022-11-29T08:40:16.736Z"
   },
   {
    "duration": 6,
    "start_time": "2022-11-29T08:40:16.780Z"
   },
   {
    "duration": 22,
    "start_time": "2022-11-29T08:40:16.788Z"
   },
   {
    "duration": 11,
    "start_time": "2022-11-29T08:40:16.812Z"
   },
   {
    "duration": 9,
    "start_time": "2022-11-29T08:40:16.825Z"
   },
   {
    "duration": 10,
    "start_time": "2022-11-29T08:40:16.835Z"
   },
   {
    "duration": 7,
    "start_time": "2022-11-29T08:40:16.847Z"
   },
   {
    "duration": 76,
    "start_time": "2022-11-29T08:40:16.856Z"
   },
   {
    "duration": 47,
    "start_time": "2022-11-29T08:40:16.934Z"
   },
   {
    "duration": 49431,
    "start_time": "2022-11-29T08:40:16.983Z"
   },
   {
    "duration": 268,
    "start_time": "2022-11-29T08:41:06.417Z"
   },
   {
    "duration": 6,
    "start_time": "2022-11-29T08:41:06.687Z"
   },
   {
    "duration": 45,
    "start_time": "2022-11-29T08:41:06.695Z"
   },
   {
    "duration": 17,
    "start_time": "2022-11-29T08:41:06.779Z"
   },
   {
    "duration": 52,
    "start_time": "2022-11-29T08:41:06.798Z"
   },
   {
    "duration": 13,
    "start_time": "2022-11-29T08:41:06.877Z"
   },
   {
    "duration": 10,
    "start_time": "2022-11-29T08:41:06.891Z"
   },
   {
    "duration": 45,
    "start_time": "2022-11-29T08:41:06.903Z"
   },
   {
    "duration": 21,
    "start_time": "2022-11-29T08:41:06.950Z"
   },
   {
    "duration": 747,
    "start_time": "2022-11-29T08:41:06.976Z"
   },
   {
    "duration": 220,
    "start_time": "2022-11-29T08:41:07.725Z"
   },
   {
    "duration": 44,
    "start_time": "2022-11-29T08:41:07.946Z"
   },
   {
    "duration": 253,
    "start_time": "2022-11-29T08:41:07.992Z"
   },
   {
    "duration": 8,
    "start_time": "2022-11-29T08:41:08.247Z"
   },
   {
    "duration": 16,
    "start_time": "2022-11-29T08:41:08.256Z"
   },
   {
    "duration": 9,
    "start_time": "2022-11-29T08:41:08.277Z"
   },
   {
    "duration": 140,
    "start_time": "2022-11-29T08:41:08.288Z"
   },
   {
    "duration": 75,
    "start_time": "2022-11-29T08:41:08.429Z"
   },
   {
    "duration": 46,
    "start_time": "2022-11-29T08:41:08.506Z"
   },
   {
    "duration": 5,
    "start_time": "2022-11-29T08:41:08.553Z"
   },
   {
    "duration": 93971,
    "start_time": "2022-11-29T08:41:08.560Z"
   },
   {
    "duration": 3016285,
    "start_time": "2022-11-29T08:42:42.533Z"
   },
   {
    "duration": 7165,
    "start_time": "2022-11-29T09:32:58.820Z"
   },
   {
    "duration": 47,
    "start_time": "2022-11-29T09:46:34.274Z"
   },
   {
    "duration": 1356,
    "start_time": "2022-11-29T09:46:55.188Z"
   },
   {
    "duration": 2716,
    "start_time": "2022-11-29T09:46:56.545Z"
   },
   {
    "duration": 166,
    "start_time": "2022-11-29T09:46:59.263Z"
   },
   {
    "duration": 85,
    "start_time": "2022-11-29T09:46:59.432Z"
   },
   {
    "duration": 28,
    "start_time": "2022-11-29T09:46:59.519Z"
   },
   {
    "duration": 29,
    "start_time": "2022-11-29T09:46:59.549Z"
   },
   {
    "duration": 3,
    "start_time": "2022-11-29T09:46:59.580Z"
   },
   {
    "duration": 10,
    "start_time": "2022-11-29T09:46:59.584Z"
   },
   {
    "duration": 62,
    "start_time": "2022-11-29T09:46:59.595Z"
   },
   {
    "duration": 28,
    "start_time": "2022-11-29T09:46:59.677Z"
   },
   {
    "duration": 7,
    "start_time": "2022-11-29T09:46:59.706Z"
   },
   {
    "duration": 7,
    "start_time": "2022-11-29T09:46:59.714Z"
   },
   {
    "duration": 7,
    "start_time": "2022-11-29T09:46:59.723Z"
   },
   {
    "duration": 18,
    "start_time": "2022-11-29T09:46:59.732Z"
   },
   {
    "duration": 42,
    "start_time": "2022-11-29T09:46:59.751Z"
   },
   {
    "duration": 7,
    "start_time": "2022-11-29T09:46:59.795Z"
   },
   {
    "duration": 14,
    "start_time": "2022-11-29T09:46:59.804Z"
   },
   {
    "duration": 11,
    "start_time": "2022-11-29T09:46:59.820Z"
   },
   {
    "duration": 13,
    "start_time": "2022-11-29T09:46:59.832Z"
   },
   {
    "duration": 16,
    "start_time": "2022-11-29T09:46:59.847Z"
   },
   {
    "duration": 15,
    "start_time": "2022-11-29T09:46:59.864Z"
   },
   {
    "duration": 8,
    "start_time": "2022-11-29T09:46:59.881Z"
   },
   {
    "duration": 6,
    "start_time": "2022-11-29T09:46:59.890Z"
   },
   {
    "duration": 18,
    "start_time": "2022-11-29T09:46:59.898Z"
   },
   {
    "duration": 6,
    "start_time": "2022-11-29T09:46:59.918Z"
   },
   {
    "duration": 8,
    "start_time": "2022-11-29T09:46:59.925Z"
   },
   {
    "duration": 9,
    "start_time": "2022-11-29T09:46:59.935Z"
   },
   {
    "duration": 31,
    "start_time": "2022-11-29T09:46:59.948Z"
   },
   {
    "duration": 57,
    "start_time": "2022-11-29T09:46:59.981Z"
   },
   {
    "duration": 41,
    "start_time": "2022-11-29T09:47:00.039Z"
   },
   {
    "duration": 48323,
    "start_time": "2022-11-29T09:47:00.082Z"
   },
   {
    "duration": 277,
    "start_time": "2022-11-29T09:47:48.407Z"
   },
   {
    "duration": 6,
    "start_time": "2022-11-29T09:47:48.686Z"
   },
   {
    "duration": 21,
    "start_time": "2022-11-29T09:47:48.694Z"
   },
   {
    "duration": 65,
    "start_time": "2022-11-29T09:47:48.717Z"
   },
   {
    "duration": 29,
    "start_time": "2022-11-29T09:47:48.784Z"
   },
   {
    "duration": 7,
    "start_time": "2022-11-29T09:47:48.815Z"
   },
   {
    "duration": 70,
    "start_time": "2022-11-29T09:47:48.824Z"
   },
   {
    "duration": 4,
    "start_time": "2022-11-29T09:47:48.896Z"
   },
   {
    "duration": 10,
    "start_time": "2022-11-29T09:47:48.901Z"
   },
   {
    "duration": 5,
    "start_time": "2022-11-29T09:47:48.913Z"
   },
   {
    "duration": 645,
    "start_time": "2022-11-29T09:47:48.920Z"
   },
   {
    "duration": 208,
    "start_time": "2022-11-29T09:47:49.567Z"
   },
   {
    "duration": 39,
    "start_time": "2022-11-29T09:47:49.777Z"
   },
   {
    "duration": 255,
    "start_time": "2022-11-29T09:47:49.817Z"
   },
   {
    "duration": 10,
    "start_time": "2022-11-29T09:47:50.074Z"
   },
   {
    "duration": 14,
    "start_time": "2022-11-29T09:47:50.085Z"
   },
   {
    "duration": 10,
    "start_time": "2022-11-29T09:47:50.101Z"
   },
   {
    "duration": 122,
    "start_time": "2022-11-29T09:47:50.113Z"
   },
   {
    "duration": 75,
    "start_time": "2022-11-29T09:47:50.237Z"
   },
   {
    "duration": 45,
    "start_time": "2022-11-29T09:47:50.314Z"
   },
   {
    "duration": 17,
    "start_time": "2022-11-29T09:47:50.361Z"
   },
   {
    "duration": 92398,
    "start_time": "2022-11-29T09:47:50.380Z"
   },
   {
    "duration": 3020955,
    "start_time": "2022-11-29T09:49:22.780Z"
   },
   {
    "duration": 7148,
    "start_time": "2022-11-29T10:39:43.736Z"
   },
   {
    "duration": 1640,
    "start_time": "2022-11-30T16:43:46.741Z"
   },
   {
    "duration": 14433,
    "start_time": "2022-11-30T16:43:48.383Z"
   },
   {
    "duration": 591,
    "start_time": "2022-11-30T16:44:02.818Z"
   },
   {
    "duration": 292,
    "start_time": "2022-11-30T16:44:03.411Z"
   },
   {
    "duration": 26,
    "start_time": "2022-11-30T16:44:03.705Z"
   },
   {
    "duration": 30,
    "start_time": "2022-11-30T16:44:03.733Z"
   },
   {
    "duration": 3,
    "start_time": "2022-11-30T16:44:03.765Z"
   },
   {
    "duration": 26,
    "start_time": "2022-11-30T16:44:03.769Z"
   },
   {
    "duration": 61,
    "start_time": "2022-11-30T16:44:03.797Z"
   },
   {
    "duration": 26,
    "start_time": "2022-11-30T16:44:03.861Z"
   },
   {
    "duration": 6,
    "start_time": "2022-11-30T16:44:03.889Z"
   },
   {
    "duration": 25,
    "start_time": "2022-11-30T16:44:03.896Z"
   },
   {
    "duration": 20,
    "start_time": "2022-11-30T16:44:03.923Z"
   },
   {
    "duration": 16,
    "start_time": "2022-11-30T16:44:03.945Z"
   },
   {
    "duration": 43,
    "start_time": "2022-11-30T16:44:03.962Z"
   },
   {
    "duration": 27,
    "start_time": "2022-11-30T16:44:04.007Z"
   },
   {
    "duration": 32,
    "start_time": "2022-11-30T16:44:04.036Z"
   },
   {
    "duration": 23,
    "start_time": "2022-11-30T16:44:04.070Z"
   },
   {
    "duration": 10,
    "start_time": "2022-11-30T16:44:04.094Z"
   },
   {
    "duration": 19,
    "start_time": "2022-11-30T16:44:04.106Z"
   },
   {
    "duration": 6,
    "start_time": "2022-11-30T16:44:04.127Z"
   },
   {
    "duration": 22,
    "start_time": "2022-11-30T16:44:04.135Z"
   },
   {
    "duration": 10,
    "start_time": "2022-11-30T16:44:04.159Z"
   },
   {
    "duration": 35,
    "start_time": "2022-11-30T16:44:04.171Z"
   },
   {
    "duration": 21,
    "start_time": "2022-11-30T16:44:04.208Z"
   },
   {
    "duration": 16,
    "start_time": "2022-11-30T16:44:04.231Z"
   },
   {
    "duration": 10,
    "start_time": "2022-11-30T16:44:04.249Z"
   },
   {
    "duration": 27,
    "start_time": "2022-11-30T16:44:04.263Z"
   },
   {
    "duration": 62,
    "start_time": "2022-11-30T16:44:04.292Z"
   },
   {
    "duration": 26,
    "start_time": "2022-11-30T16:44:04.355Z"
   },
   {
    "duration": 47550,
    "start_time": "2022-11-30T16:44:04.383Z"
   },
   {
    "duration": 237,
    "start_time": "2022-11-30T16:44:51.935Z"
   },
   {
    "duration": 5,
    "start_time": "2022-11-30T16:44:52.173Z"
   },
   {
    "duration": 78,
    "start_time": "2022-11-30T16:44:52.180Z"
   },
   {
    "duration": 16,
    "start_time": "2022-11-30T16:44:52.260Z"
   },
   {
    "duration": 30,
    "start_time": "2022-11-30T16:44:52.279Z"
   },
   {
    "duration": 42,
    "start_time": "2022-11-30T16:44:52.311Z"
   },
   {
    "duration": 22,
    "start_time": "2022-11-30T16:44:52.355Z"
   },
   {
    "duration": 4,
    "start_time": "2022-11-30T16:44:52.378Z"
   },
   {
    "duration": 14,
    "start_time": "2022-11-30T16:44:52.385Z"
   },
   {
    "duration": 11,
    "start_time": "2022-11-30T16:44:52.402Z"
   },
   {
    "duration": 669,
    "start_time": "2022-11-30T16:44:52.415Z"
   },
   {
    "duration": 193,
    "start_time": "2022-11-30T16:44:53.086Z"
   },
   {
    "duration": 37,
    "start_time": "2022-11-30T16:44:53.281Z"
   },
   {
    "duration": 249,
    "start_time": "2022-11-30T16:44:53.319Z"
   },
   {
    "duration": 6,
    "start_time": "2022-11-30T16:44:53.570Z"
   },
   {
    "duration": 5,
    "start_time": "2022-11-30T16:44:53.578Z"
   },
   {
    "duration": 10,
    "start_time": "2022-11-30T16:44:53.585Z"
   },
   {
    "duration": 114,
    "start_time": "2022-11-30T16:44:53.597Z"
   },
   {
    "duration": 72,
    "start_time": "2022-11-30T16:44:53.713Z"
   },
   {
    "duration": 44,
    "start_time": "2022-11-30T16:44:53.786Z"
   },
   {
    "duration": 5,
    "start_time": "2022-11-30T16:44:53.832Z"
   },
   {
    "duration": 92595,
    "start_time": "2022-11-30T16:44:53.853Z"
   },
   {
    "duration": 59,
    "start_time": "2022-11-30T16:46:26.452Z"
   },
   {
    "duration": 7683,
    "start_time": "2022-11-30T16:46:26.513Z"
   },
   {
    "duration": 10693,
    "start_time": "2022-11-30T16:47:01.862Z"
   },
   {
    "duration": 1280,
    "start_time": "2022-11-30T17:47:09.509Z"
   },
   {
    "duration": 2727,
    "start_time": "2022-11-30T17:47:10.791Z"
   },
   {
    "duration": 148,
    "start_time": "2022-11-30T17:47:13.520Z"
   },
   {
    "duration": 73,
    "start_time": "2022-11-30T17:47:13.670Z"
   },
   {
    "duration": 27,
    "start_time": "2022-11-30T17:47:13.745Z"
   },
   {
    "duration": 18,
    "start_time": "2022-11-30T17:47:13.774Z"
   },
   {
    "duration": 3,
    "start_time": "2022-11-30T17:47:13.793Z"
   },
   {
    "duration": 7,
    "start_time": "2022-11-30T17:47:13.798Z"
   },
   {
    "duration": 75,
    "start_time": "2022-11-30T17:47:13.807Z"
   },
   {
    "duration": 27,
    "start_time": "2022-11-30T17:47:13.884Z"
   },
   {
    "duration": 7,
    "start_time": "2022-11-30T17:47:13.915Z"
   },
   {
    "duration": 28,
    "start_time": "2022-11-30T17:47:13.924Z"
   },
   {
    "duration": 6,
    "start_time": "2022-11-30T17:47:13.954Z"
   },
   {
    "duration": 6,
    "start_time": "2022-11-30T17:47:13.962Z"
   },
   {
    "duration": 23,
    "start_time": "2022-11-30T17:47:13.970Z"
   },
   {
    "duration": 6,
    "start_time": "2022-11-30T17:47:13.995Z"
   },
   {
    "duration": 6,
    "start_time": "2022-11-30T17:47:14.002Z"
   },
   {
    "duration": 10,
    "start_time": "2022-11-30T17:47:14.010Z"
   },
   {
    "duration": 5,
    "start_time": "2022-11-30T17:47:14.053Z"
   },
   {
    "duration": 10,
    "start_time": "2022-11-30T17:47:14.059Z"
   },
   {
    "duration": 7,
    "start_time": "2022-11-30T17:47:14.071Z"
   },
   {
    "duration": 8,
    "start_time": "2022-11-30T17:47:14.079Z"
   },
   {
    "duration": 5,
    "start_time": "2022-11-30T17:47:14.089Z"
   },
   {
    "duration": 19,
    "start_time": "2022-11-30T17:47:14.096Z"
   },
   {
    "duration": 35,
    "start_time": "2022-11-30T17:47:14.117Z"
   },
   {
    "duration": 5,
    "start_time": "2022-11-30T17:47:14.154Z"
   },
   {
    "duration": 12,
    "start_time": "2022-11-30T17:47:14.160Z"
   },
   {
    "duration": 8,
    "start_time": "2022-11-30T17:47:14.173Z"
   },
   {
    "duration": 55,
    "start_time": "2022-11-30T17:47:14.183Z"
   },
   {
    "duration": 29,
    "start_time": "2022-11-30T17:47:14.252Z"
   },
   {
    "duration": 48769,
    "start_time": "2022-11-30T17:47:14.283Z"
   },
   {
    "duration": 219,
    "start_time": "2022-11-30T17:48:03.058Z"
   },
   {
    "duration": 5,
    "start_time": "2022-11-30T17:48:03.279Z"
   },
   {
    "duration": 70,
    "start_time": "2022-11-30T17:48:03.285Z"
   },
   {
    "duration": 15,
    "start_time": "2022-11-30T17:48:03.357Z"
   },
   {
    "duration": 28,
    "start_time": "2022-11-30T17:48:03.373Z"
   },
   {
    "duration": 54,
    "start_time": "2022-11-30T17:48:03.403Z"
   },
   {
    "duration": 36,
    "start_time": "2022-11-30T17:48:03.458Z"
   },
   {
    "duration": 3,
    "start_time": "2022-11-30T17:48:03.496Z"
   },
   {
    "duration": 10,
    "start_time": "2022-11-30T17:48:03.501Z"
   },
   {
    "duration": 9,
    "start_time": "2022-11-30T17:48:03.512Z"
   },
   {
    "duration": 583,
    "start_time": "2022-11-30T17:48:03.523Z"
   },
   {
    "duration": 205,
    "start_time": "2022-11-30T17:48:04.108Z"
   },
   {
    "duration": 41,
    "start_time": "2022-11-30T17:48:04.315Z"
   },
   {
    "duration": 256,
    "start_time": "2022-11-30T17:48:04.358Z"
   },
   {
    "duration": 8,
    "start_time": "2022-11-30T17:48:04.616Z"
   },
   {
    "duration": 7,
    "start_time": "2022-11-30T17:48:04.626Z"
   },
   {
    "duration": 20,
    "start_time": "2022-11-30T17:48:04.634Z"
   },
   {
    "duration": 127,
    "start_time": "2022-11-30T17:48:04.656Z"
   },
   {
    "duration": 83,
    "start_time": "2022-11-30T17:48:04.785Z"
   },
   {
    "duration": 47,
    "start_time": "2022-11-30T17:48:04.869Z"
   },
   {
    "duration": 5,
    "start_time": "2022-11-30T17:48:04.918Z"
   },
   {
    "duration": 90539,
    "start_time": "2022-11-30T17:48:04.925Z"
   },
   {
    "duration": 119,
    "start_time": "2022-11-30T17:49:35.465Z"
   },
   {
    "duration": 11122,
    "start_time": "2022-11-30T17:49:35.586Z"
   },
   {
    "duration": 1237360,
    "start_time": "2022-11-30T18:20:50.686Z"
   },
   {
    "duration": 60,
    "start_time": "2022-11-30T18:52:17.678Z"
   },
   {
    "duration": 12469,
    "start_time": "2022-11-30T18:52:27.798Z"
   },
   {
    "duration": 15174,
    "start_time": "2022-11-30T20:41:49.135Z"
   },
   {
    "duration": 15020,
    "start_time": "2022-11-30T20:43:22.858Z"
   },
   {
    "duration": 15192,
    "start_time": "2022-11-30T20:43:48.678Z"
   },
   {
    "duration": 15144,
    "start_time": "2022-11-30T20:44:52.869Z"
   },
   {
    "duration": 27680,
    "start_time": "2022-11-30T20:46:00.468Z"
   },
   {
    "duration": 17120,
    "start_time": "2022-11-30T20:48:01.815Z"
   },
   {
    "duration": 15497,
    "start_time": "2022-11-30T21:15:49.214Z"
   },
   {
    "duration": 7,
    "start_time": "2022-11-30T21:39:13.771Z"
   },
   {
    "duration": 159,
    "start_time": "2022-11-30T21:39:38.037Z"
   },
   {
    "duration": 1320,
    "start_time": "2022-11-30T21:55:31.438Z"
   },
   {
    "duration": 2589,
    "start_time": "2022-11-30T21:55:32.760Z"
   },
   {
    "duration": 150,
    "start_time": "2022-11-30T21:55:35.351Z"
   },
   {
    "duration": 83,
    "start_time": "2022-11-30T21:55:35.503Z"
   },
   {
    "duration": 27,
    "start_time": "2022-11-30T21:55:35.587Z"
   },
   {
    "duration": 17,
    "start_time": "2022-11-30T21:55:35.615Z"
   },
   {
    "duration": 2,
    "start_time": "2022-11-30T21:55:35.634Z"
   },
   {
    "duration": 5,
    "start_time": "2022-11-30T21:55:35.653Z"
   },
   {
    "duration": 63,
    "start_time": "2022-11-30T21:55:35.660Z"
   },
   {
    "duration": 32,
    "start_time": "2022-11-30T21:55:35.726Z"
   },
   {
    "duration": 6,
    "start_time": "2022-11-30T21:55:35.759Z"
   },
   {
    "duration": 5,
    "start_time": "2022-11-30T21:55:35.767Z"
   },
   {
    "duration": 10,
    "start_time": "2022-11-30T21:55:35.774Z"
   },
   {
    "duration": 7,
    "start_time": "2022-11-30T21:55:35.786Z"
   },
   {
    "duration": 23,
    "start_time": "2022-11-30T21:55:35.794Z"
   },
   {
    "duration": 34,
    "start_time": "2022-11-30T21:55:35.819Z"
   },
   {
    "duration": 5,
    "start_time": "2022-11-30T21:55:35.855Z"
   },
   {
    "duration": 15,
    "start_time": "2022-11-30T21:55:35.861Z"
   },
   {
    "duration": 7,
    "start_time": "2022-11-30T21:55:35.877Z"
   },
   {
    "duration": 8,
    "start_time": "2022-11-30T21:55:35.885Z"
   },
   {
    "duration": 6,
    "start_time": "2022-11-30T21:55:35.894Z"
   },
   {
    "duration": 9,
    "start_time": "2022-11-30T21:55:35.902Z"
   },
   {
    "duration": 5,
    "start_time": "2022-11-30T21:55:35.912Z"
   },
   {
    "duration": 45,
    "start_time": "2022-11-30T21:55:35.918Z"
   },
   {
    "duration": 6,
    "start_time": "2022-11-30T21:55:35.965Z"
   },
   {
    "duration": 7,
    "start_time": "2022-11-30T21:55:35.972Z"
   },
   {
    "duration": 9,
    "start_time": "2022-11-30T21:55:35.981Z"
   },
   {
    "duration": 9,
    "start_time": "2022-11-30T21:55:35.993Z"
   },
   {
    "duration": 73,
    "start_time": "2022-11-30T21:55:36.003Z"
   },
   {
    "duration": 27,
    "start_time": "2022-11-30T21:55:36.077Z"
   },
   {
    "duration": 46386,
    "start_time": "2022-11-30T21:55:36.106Z"
   },
   {
    "duration": 262,
    "start_time": "2022-11-30T21:56:22.493Z"
   },
   {
    "duration": 5,
    "start_time": "2022-11-30T21:56:22.757Z"
   },
   {
    "duration": 18,
    "start_time": "2022-11-30T21:56:22.763Z"
   },
   {
    "duration": 15,
    "start_time": "2022-11-30T21:56:22.783Z"
   },
   {
    "duration": 78,
    "start_time": "2022-11-30T21:56:22.800Z"
   },
   {
    "duration": 6,
    "start_time": "2022-11-30T21:56:22.879Z"
   },
   {
    "duration": 24,
    "start_time": "2022-11-30T21:56:22.887Z"
   },
   {
    "duration": 4,
    "start_time": "2022-11-30T21:56:22.912Z"
   },
   {
    "duration": 3,
    "start_time": "2022-11-30T21:56:22.953Z"
   },
   {
    "duration": 8,
    "start_time": "2022-11-30T21:56:22.957Z"
   },
   {
    "duration": 591,
    "start_time": "2022-11-30T21:56:22.967Z"
   },
   {
    "duration": 198,
    "start_time": "2022-11-30T21:56:23.560Z"
   },
   {
    "duration": 37,
    "start_time": "2022-11-30T21:56:23.759Z"
   },
   {
    "duration": 248,
    "start_time": "2022-11-30T21:56:23.798Z"
   },
   {
    "duration": 8,
    "start_time": "2022-11-30T21:56:24.048Z"
   },
   {
    "duration": 4,
    "start_time": "2022-11-30T21:56:24.058Z"
   },
   {
    "duration": 5,
    "start_time": "2022-11-30T21:56:24.064Z"
   },
   {
    "duration": 126,
    "start_time": "2022-11-30T21:56:24.071Z"
   },
   {
    "duration": 82,
    "start_time": "2022-11-30T21:56:24.199Z"
   },
   {
    "duration": 47,
    "start_time": "2022-11-30T21:56:24.283Z"
   },
   {
    "duration": 5,
    "start_time": "2022-11-30T21:56:24.331Z"
   },
   {
    "duration": 1266,
    "start_time": "2022-11-30T21:56:35.618Z"
   },
   {
    "duration": 2596,
    "start_time": "2022-11-30T21:56:36.887Z"
   },
   {
    "duration": 148,
    "start_time": "2022-11-30T21:56:39.485Z"
   },
   {
    "duration": 75,
    "start_time": "2022-11-30T21:56:39.635Z"
   },
   {
    "duration": 24,
    "start_time": "2022-11-30T21:56:39.711Z"
   },
   {
    "duration": 26,
    "start_time": "2022-11-30T21:56:39.737Z"
   },
   {
    "duration": 2,
    "start_time": "2022-11-30T21:56:39.765Z"
   },
   {
    "duration": 8,
    "start_time": "2022-11-30T21:56:39.768Z"
   },
   {
    "duration": 53,
    "start_time": "2022-11-30T21:56:39.777Z"
   },
   {
    "duration": 44,
    "start_time": "2022-11-30T21:56:39.832Z"
   },
   {
    "duration": 6,
    "start_time": "2022-11-30T21:56:39.878Z"
   },
   {
    "duration": 6,
    "start_time": "2022-11-30T21:56:39.885Z"
   },
   {
    "duration": 8,
    "start_time": "2022-11-30T21:56:39.892Z"
   },
   {
    "duration": 6,
    "start_time": "2022-11-30T21:56:39.901Z"
   },
   {
    "duration": 46,
    "start_time": "2022-11-30T21:56:39.908Z"
   },
   {
    "duration": 6,
    "start_time": "2022-11-30T21:56:39.956Z"
   },
   {
    "duration": 7,
    "start_time": "2022-11-30T21:56:39.963Z"
   },
   {
    "duration": 7,
    "start_time": "2022-11-30T21:56:39.971Z"
   },
   {
    "duration": 5,
    "start_time": "2022-11-30T21:56:39.980Z"
   },
   {
    "duration": 9,
    "start_time": "2022-11-30T21:56:39.986Z"
   },
   {
    "duration": 8,
    "start_time": "2022-11-30T21:56:39.996Z"
   },
   {
    "duration": 12,
    "start_time": "2022-11-30T21:56:40.006Z"
   },
   {
    "duration": 34,
    "start_time": "2022-11-30T21:56:40.019Z"
   },
   {
    "duration": 20,
    "start_time": "2022-11-30T21:56:40.055Z"
   },
   {
    "duration": 5,
    "start_time": "2022-11-30T21:56:40.077Z"
   },
   {
    "duration": 10,
    "start_time": "2022-11-30T21:56:40.084Z"
   },
   {
    "duration": 9,
    "start_time": "2022-11-30T21:56:40.095Z"
   },
   {
    "duration": 5,
    "start_time": "2022-11-30T21:56:40.107Z"
   },
   {
    "duration": 72,
    "start_time": "2022-11-30T21:56:40.113Z"
   },
   {
    "duration": 26,
    "start_time": "2022-11-30T21:56:40.187Z"
   },
   {
    "duration": 43,
    "start_time": "2022-11-30T21:56:40.215Z"
   },
   {
    "duration": 141,
    "start_time": "2022-11-30T21:56:40.259Z"
   },
   {
    "duration": 117,
    "start_time": "2022-11-30T21:56:40.401Z"
   },
   {
    "duration": 33,
    "start_time": "2022-11-30T21:56:40.519Z"
   },
   {
    "duration": 14,
    "start_time": "2022-11-30T21:56:40.554Z"
   },
   {
    "duration": 28,
    "start_time": "2022-11-30T21:56:40.570Z"
   },
   {
    "duration": 6,
    "start_time": "2022-11-30T21:56:40.600Z"
   },
   {
    "duration": 46,
    "start_time": "2022-11-30T21:56:40.607Z"
   },
   {
    "duration": 4,
    "start_time": "2022-11-30T21:56:40.655Z"
   },
   {
    "duration": 8,
    "start_time": "2022-11-30T21:56:40.660Z"
   },
   {
    "duration": 6,
    "start_time": "2022-11-30T21:56:40.670Z"
   },
   {
    "duration": 643,
    "start_time": "2022-11-30T21:56:40.678Z"
   },
   {
    "duration": 193,
    "start_time": "2022-11-30T21:56:41.323Z"
   },
   {
    "duration": 55,
    "start_time": "2022-11-30T21:56:41.518Z"
   },
   {
    "duration": 254,
    "start_time": "2022-11-30T21:56:41.574Z"
   },
   {
    "duration": 6,
    "start_time": "2022-11-30T21:56:41.830Z"
   },
   {
    "duration": 14,
    "start_time": "2022-11-30T21:56:41.838Z"
   },
   {
    "duration": 3,
    "start_time": "2022-11-30T21:56:41.854Z"
   },
   {
    "duration": 120,
    "start_time": "2022-11-30T21:56:41.859Z"
   },
   {
    "duration": 80,
    "start_time": "2022-11-30T21:56:41.980Z"
   },
   {
    "duration": 45,
    "start_time": "2022-11-30T21:56:42.061Z"
   },
   {
    "duration": 5,
    "start_time": "2022-11-30T21:56:42.108Z"
   },
   {
    "duration": 92202,
    "start_time": "2022-11-30T21:56:42.115Z"
   },
   {
    "duration": 157,
    "start_time": "2022-11-30T21:58:14.319Z"
   },
   {
    "duration": 0,
    "start_time": "2022-11-30T21:58:14.478Z"
   },
   {
    "duration": 0,
    "start_time": "2022-11-30T21:58:14.479Z"
   },
   {
    "duration": 1320,
    "start_time": "2022-11-30T22:03:02.951Z"
   },
   {
    "duration": 2642,
    "start_time": "2022-11-30T22:03:04.273Z"
   },
   {
    "duration": 169,
    "start_time": "2022-11-30T22:03:06.917Z"
   },
   {
    "duration": 72,
    "start_time": "2022-11-30T22:03:07.088Z"
   },
   {
    "duration": 25,
    "start_time": "2022-11-30T22:03:07.162Z"
   },
   {
    "duration": 17,
    "start_time": "2022-11-30T22:03:07.188Z"
   },
   {
    "duration": 4,
    "start_time": "2022-11-30T22:03:07.207Z"
   },
   {
    "duration": 14,
    "start_time": "2022-11-30T22:03:07.212Z"
   },
   {
    "duration": 65,
    "start_time": "2022-11-30T22:03:07.228Z"
   },
   {
    "duration": 26,
    "start_time": "2022-11-30T22:03:07.295Z"
   },
   {
    "duration": 6,
    "start_time": "2022-11-30T22:03:07.323Z"
   },
   {
    "duration": 23,
    "start_time": "2022-11-30T22:03:07.330Z"
   },
   {
    "duration": 6,
    "start_time": "2022-11-30T22:03:07.355Z"
   },
   {
    "duration": 6,
    "start_time": "2022-11-30T22:03:07.363Z"
   },
   {
    "duration": 28,
    "start_time": "2022-11-30T22:03:07.371Z"
   },
   {
    "duration": 8,
    "start_time": "2022-11-30T22:03:07.401Z"
   },
   {
    "duration": 8,
    "start_time": "2022-11-30T22:03:07.411Z"
   },
   {
    "duration": 35,
    "start_time": "2022-11-30T22:03:07.421Z"
   },
   {
    "duration": 9,
    "start_time": "2022-11-30T22:03:07.457Z"
   },
   {
    "duration": 9,
    "start_time": "2022-11-30T22:03:07.467Z"
   },
   {
    "duration": 7,
    "start_time": "2022-11-30T22:03:07.477Z"
   },
   {
    "duration": 9,
    "start_time": "2022-11-30T22:03:07.485Z"
   },
   {
    "duration": 8,
    "start_time": "2022-11-30T22:03:07.495Z"
   },
   {
    "duration": 19,
    "start_time": "2022-11-30T22:03:07.505Z"
   },
   {
    "duration": 7,
    "start_time": "2022-11-30T22:03:07.552Z"
   },
   {
    "duration": 7,
    "start_time": "2022-11-30T22:03:07.561Z"
   },
   {
    "duration": 9,
    "start_time": "2022-11-30T22:03:07.569Z"
   },
   {
    "duration": 6,
    "start_time": "2022-11-30T22:03:07.581Z"
   },
   {
    "duration": 75,
    "start_time": "2022-11-30T22:03:07.589Z"
   },
   {
    "duration": 28,
    "start_time": "2022-11-30T22:03:07.665Z"
   },
   {
    "duration": 37,
    "start_time": "2022-11-30T22:03:07.695Z"
   },
   {
    "duration": 157,
    "start_time": "2022-11-30T22:03:07.733Z"
   },
   {
    "duration": 6,
    "start_time": "2022-11-30T22:03:07.891Z"
   },
   {
    "duration": 149,
    "start_time": "2022-11-30T22:03:07.898Z"
   },
   {
    "duration": 17,
    "start_time": "2022-11-30T22:03:08.051Z"
   },
   {
    "duration": 30,
    "start_time": "2022-11-30T22:03:08.070Z"
   },
   {
    "duration": 7,
    "start_time": "2022-11-30T22:03:08.102Z"
   },
   {
    "duration": 57,
    "start_time": "2022-11-30T22:03:08.111Z"
   },
   {
    "duration": 5,
    "start_time": "2022-11-30T22:03:08.169Z"
   },
   {
    "duration": 6,
    "start_time": "2022-11-30T22:03:08.176Z"
   },
   {
    "duration": 6,
    "start_time": "2022-11-30T22:03:08.184Z"
   },
   {
    "duration": 603,
    "start_time": "2022-11-30T22:03:08.192Z"
   },
   {
    "duration": 204,
    "start_time": "2022-11-30T22:03:08.797Z"
   },
   {
    "duration": 54,
    "start_time": "2022-11-30T22:03:09.003Z"
   },
   {
    "duration": 241,
    "start_time": "2022-11-30T22:03:09.059Z"
   },
   {
    "duration": 6,
    "start_time": "2022-11-30T22:03:09.302Z"
   },
   {
    "duration": 6,
    "start_time": "2022-11-30T22:03:09.310Z"
   },
   {
    "duration": 5,
    "start_time": "2022-11-30T22:03:09.318Z"
   },
   {
    "duration": 136,
    "start_time": "2022-11-30T22:03:09.324Z"
   },
   {
    "duration": 77,
    "start_time": "2022-11-30T22:03:09.462Z"
   },
   {
    "duration": 49,
    "start_time": "2022-11-30T22:03:09.552Z"
   },
   {
    "duration": 6,
    "start_time": "2022-11-30T22:03:09.603Z"
   },
   {
    "duration": 92345,
    "start_time": "2022-11-30T22:03:09.611Z"
   },
   {
    "duration": 1269991,
    "start_time": "2022-11-30T22:04:41.957Z"
   },
   {
    "duration": 28,
    "start_time": "2022-11-30T22:25:51.952Z"
   },
   {
    "duration": 13987,
    "start_time": "2022-11-30T22:25:51.982Z"
   },
   {
    "duration": 31,
    "start_time": "2022-11-30T22:28:28.935Z"
   },
   {
    "duration": 10765,
    "start_time": "2022-11-30T22:29:29.888Z"
   },
   {
    "duration": 2774,
    "start_time": "2022-11-30T22:34:05.139Z"
   },
   {
    "duration": 10191,
    "start_time": "2022-11-30T22:34:23.076Z"
   },
   {
    "duration": 119,
    "start_time": "2022-11-30T22:36:12.530Z"
   },
   {
    "duration": 273,
    "start_time": "2022-11-30T22:37:17.865Z"
   },
   {
    "duration": 113,
    "start_time": "2022-11-30T22:37:25.393Z"
   },
   {
    "duration": 120,
    "start_time": "2022-11-30T22:37:54.572Z"
   },
   {
    "duration": 119,
    "start_time": "2022-11-30T22:38:00.242Z"
   },
   {
    "duration": 6615,
    "start_time": "2022-11-30T22:38:00.544Z"
   },
   {
    "duration": 22,
    "start_time": "2022-11-30T22:38:07.160Z"
   },
   {
    "duration": 5,
    "start_time": "2022-11-30T22:38:56.385Z"
   },
   {
    "duration": 29,
    "start_time": "2022-11-30T22:39:03.209Z"
   },
   {
    "duration": 115,
    "start_time": "2022-11-30T22:39:10.430Z"
   },
   {
    "duration": 5,
    "start_time": "2022-11-30T22:39:10.671Z"
   },
   {
    "duration": 27,
    "start_time": "2022-11-30T22:39:11.056Z"
   },
   {
    "duration": 5,
    "start_time": "2022-11-30T22:39:29.088Z"
   },
   {
    "duration": 20,
    "start_time": "2022-11-30T22:39:29.574Z"
   },
   {
    "duration": 127,
    "start_time": "2022-11-30T22:39:36.870Z"
   },
   {
    "duration": 4,
    "start_time": "2022-11-30T22:39:37.184Z"
   },
   {
    "duration": 21,
    "start_time": "2022-11-30T22:39:37.699Z"
   },
   {
    "duration": 1318,
    "start_time": "2022-11-30T22:39:42.014Z"
   },
   {
    "duration": 2685,
    "start_time": "2022-11-30T22:39:43.334Z"
   },
   {
    "duration": 157,
    "start_time": "2022-11-30T22:39:46.022Z"
   },
   {
    "duration": 81,
    "start_time": "2022-11-30T22:39:46.181Z"
   },
   {
    "duration": 29,
    "start_time": "2022-11-30T22:39:46.264Z"
   },
   {
    "duration": 20,
    "start_time": "2022-11-30T22:39:46.295Z"
   },
   {
    "duration": 3,
    "start_time": "2022-11-30T22:39:46.317Z"
   },
   {
    "duration": 34,
    "start_time": "2022-11-30T22:39:46.322Z"
   },
   {
    "duration": 59,
    "start_time": "2022-11-30T22:39:46.358Z"
   },
   {
    "duration": 49,
    "start_time": "2022-11-30T22:39:46.421Z"
   },
   {
    "duration": 7,
    "start_time": "2022-11-30T22:39:46.472Z"
   },
   {
    "duration": 7,
    "start_time": "2022-11-30T22:39:46.481Z"
   },
   {
    "duration": 10,
    "start_time": "2022-11-30T22:39:46.489Z"
   },
   {
    "duration": 5,
    "start_time": "2022-11-30T22:39:46.501Z"
   },
   {
    "duration": 53,
    "start_time": "2022-11-30T22:39:46.508Z"
   },
   {
    "duration": 7,
    "start_time": "2022-11-30T22:39:46.563Z"
   },
   {
    "duration": 6,
    "start_time": "2022-11-30T22:39:46.572Z"
   },
   {
    "duration": 19,
    "start_time": "2022-11-30T22:39:46.580Z"
   },
   {
    "duration": 23,
    "start_time": "2022-11-30T22:39:46.600Z"
   },
   {
    "duration": 7,
    "start_time": "2022-11-30T22:39:46.625Z"
   },
   {
    "duration": 19,
    "start_time": "2022-11-30T22:39:46.633Z"
   },
   {
    "duration": 7,
    "start_time": "2022-11-30T22:39:46.654Z"
   },
   {
    "duration": 7,
    "start_time": "2022-11-30T22:39:46.662Z"
   },
   {
    "duration": 19,
    "start_time": "2022-11-30T22:39:46.671Z"
   },
   {
    "duration": 7,
    "start_time": "2022-11-30T22:39:46.691Z"
   },
   {
    "duration": 8,
    "start_time": "2022-11-30T22:39:46.699Z"
   },
   {
    "duration": 9,
    "start_time": "2022-11-30T22:39:46.709Z"
   },
   {
    "duration": 5,
    "start_time": "2022-11-30T22:39:46.754Z"
   },
   {
    "duration": 60,
    "start_time": "2022-11-30T22:39:46.761Z"
   },
   {
    "duration": 46,
    "start_time": "2022-11-30T22:39:46.823Z"
   },
   {
    "duration": 49,
    "start_time": "2022-11-30T22:39:46.870Z"
   },
   {
    "duration": 157,
    "start_time": "2022-11-30T22:39:46.921Z"
   },
   {
    "duration": 5,
    "start_time": "2022-11-30T22:39:47.080Z"
   },
   {
    "duration": 151,
    "start_time": "2022-11-30T22:39:47.087Z"
   },
   {
    "duration": 22,
    "start_time": "2022-11-30T22:39:47.239Z"
   },
   {
    "duration": 30,
    "start_time": "2022-11-30T22:39:47.263Z"
   },
   {
    "duration": 6,
    "start_time": "2022-11-30T22:39:47.295Z"
   },
   {
    "duration": 53,
    "start_time": "2022-11-30T22:39:47.303Z"
   },
   {
    "duration": 4,
    "start_time": "2022-11-30T22:39:47.358Z"
   },
   {
    "duration": 6,
    "start_time": "2022-11-30T22:39:47.363Z"
   },
   {
    "duration": 5,
    "start_time": "2022-11-30T22:39:47.371Z"
   },
   {
    "duration": 656,
    "start_time": "2022-11-30T22:39:47.377Z"
   },
   {
    "duration": 200,
    "start_time": "2022-11-30T22:39:48.035Z"
   },
   {
    "duration": 51,
    "start_time": "2022-11-30T22:39:48.237Z"
   },
   {
    "duration": 252,
    "start_time": "2022-11-30T22:39:48.289Z"
   },
   {
    "duration": 9,
    "start_time": "2022-11-30T22:39:48.543Z"
   },
   {
    "duration": 4,
    "start_time": "2022-11-30T22:39:48.554Z"
   },
   {
    "duration": 6,
    "start_time": "2022-11-30T22:39:48.559Z"
   },
   {
    "duration": 134,
    "start_time": "2022-11-30T22:39:48.566Z"
   },
   {
    "duration": 81,
    "start_time": "2022-11-30T22:39:48.701Z"
   },
   {
    "duration": 48,
    "start_time": "2022-11-30T22:39:48.783Z"
   },
   {
    "duration": 5,
    "start_time": "2022-11-30T22:39:48.833Z"
   },
   {
    "duration": 90973,
    "start_time": "2022-11-30T22:39:48.851Z"
   },
   {
    "duration": 48,
    "start_time": "2022-11-30T22:41:19.825Z"
   },
   {
    "duration": 10078,
    "start_time": "2022-11-30T22:41:19.875Z"
   },
   {
    "duration": 97,
    "start_time": "2022-11-30T22:41:29.957Z"
   },
   {
    "duration": 15076,
    "start_time": "2022-11-30T22:41:30.056Z"
   },
   {
    "duration": 2950,
    "start_time": "2022-11-30T22:41:45.135Z"
   },
   {
    "duration": 136,
    "start_time": "2022-11-30T22:41:48.087Z"
   },
   {
    "duration": 4,
    "start_time": "2022-11-30T22:41:48.225Z"
   },
   {
    "duration": 189,
    "start_time": "2022-11-30T22:41:48.231Z"
   },
   {
    "duration": 110,
    "start_time": "2022-11-30T22:43:22.199Z"
   },
   {
    "duration": 4,
    "start_time": "2022-11-30T22:43:22.623Z"
   },
   {
    "duration": 123,
    "start_time": "2022-11-30T22:43:23.230Z"
   },
   {
    "duration": 125,
    "start_time": "2022-11-30T22:45:33.473Z"
   },
   {
    "duration": 4,
    "start_time": "2022-11-30T22:45:34.386Z"
   },
   {
    "duration": 236,
    "start_time": "2022-11-30T22:45:43.769Z"
   },
   {
    "duration": 5,
    "start_time": "2022-11-30T22:46:33.712Z"
   },
   {
    "duration": 264,
    "start_time": "2022-11-30T22:46:34.403Z"
   },
   {
    "duration": 235,
    "start_time": "2022-11-30T22:46:41.375Z"
   },
   {
    "duration": 223,
    "start_time": "2022-11-30T22:48:16.856Z"
   },
   {
    "duration": 6,
    "start_time": "2022-11-30T22:48:35.174Z"
   },
   {
    "duration": 432,
    "start_time": "2022-11-30T22:48:39.022Z"
   },
   {
    "duration": 372,
    "start_time": "2022-11-30T22:48:58.986Z"
   },
   {
    "duration": 1831,
    "start_time": "2022-12-01T11:54:08.248Z"
   },
   {
    "duration": 15828,
    "start_time": "2022-12-01T11:54:10.083Z"
   },
   {
    "duration": 276,
    "start_time": "2022-12-01T11:54:25.915Z"
   },
   {
    "duration": 157,
    "start_time": "2022-12-01T11:54:26.193Z"
   },
   {
    "duration": 45,
    "start_time": "2022-12-01T11:54:26.354Z"
   },
   {
    "duration": 24,
    "start_time": "2022-12-01T11:54:26.401Z"
   },
   {
    "duration": 10,
    "start_time": "2022-12-01T11:54:26.428Z"
   },
   {
    "duration": 29,
    "start_time": "2022-12-01T11:54:26.440Z"
   },
   {
    "duration": 106,
    "start_time": "2022-12-01T11:54:26.472Z"
   },
   {
    "duration": 34,
    "start_time": "2022-12-01T11:54:26.580Z"
   },
   {
    "duration": 13,
    "start_time": "2022-12-01T11:54:26.615Z"
   },
   {
    "duration": 16,
    "start_time": "2022-12-01T11:54:26.629Z"
   },
   {
    "duration": 27,
    "start_time": "2022-12-01T11:54:26.646Z"
   },
   {
    "duration": 15,
    "start_time": "2022-12-01T11:54:26.676Z"
   },
   {
    "duration": 55,
    "start_time": "2022-12-01T11:54:26.693Z"
   },
   {
    "duration": 8,
    "start_time": "2022-12-01T11:54:26.749Z"
   },
   {
    "duration": 30,
    "start_time": "2022-12-01T11:54:26.758Z"
   },
   {
    "duration": 21,
    "start_time": "2022-12-01T11:54:26.789Z"
   },
   {
    "duration": 17,
    "start_time": "2022-12-01T11:54:26.813Z"
   },
   {
    "duration": 33,
    "start_time": "2022-12-01T11:54:26.831Z"
   },
   {
    "duration": 28,
    "start_time": "2022-12-01T11:54:26.866Z"
   },
   {
    "duration": 29,
    "start_time": "2022-12-01T11:54:26.896Z"
   },
   {
    "duration": 15,
    "start_time": "2022-12-01T11:54:26.926Z"
   },
   {
    "duration": 37,
    "start_time": "2022-12-01T11:54:26.943Z"
   },
   {
    "duration": 34,
    "start_time": "2022-12-01T11:54:26.982Z"
   },
   {
    "duration": 22,
    "start_time": "2022-12-01T11:54:27.018Z"
   },
   {
    "duration": 33,
    "start_time": "2022-12-01T11:54:27.041Z"
   },
   {
    "duration": 35,
    "start_time": "2022-12-01T11:54:27.076Z"
   },
   {
    "duration": 70,
    "start_time": "2022-12-01T11:54:27.113Z"
   },
   {
    "duration": 33,
    "start_time": "2022-12-01T11:54:27.185Z"
   },
   {
    "duration": 70,
    "start_time": "2022-12-01T11:54:27.220Z"
   },
   {
    "duration": 269,
    "start_time": "2022-12-01T11:54:27.292Z"
   },
   {
    "duration": 6,
    "start_time": "2022-12-01T11:54:27.562Z"
   },
   {
    "duration": 45,
    "start_time": "2022-12-01T11:54:27.569Z"
   },
   {
    "duration": 15,
    "start_time": "2022-12-01T11:54:27.615Z"
   },
   {
    "duration": 29,
    "start_time": "2022-12-01T11:54:27.632Z"
   },
   {
    "duration": 7,
    "start_time": "2022-12-01T11:54:27.663Z"
   },
   {
    "duration": 50,
    "start_time": "2022-12-01T11:54:27.671Z"
   },
   {
    "duration": 4,
    "start_time": "2022-12-01T11:54:27.723Z"
   },
   {
    "duration": 7,
    "start_time": "2022-12-01T11:54:27.729Z"
   },
   {
    "duration": 6,
    "start_time": "2022-12-01T11:54:27.740Z"
   },
   {
    "duration": 682,
    "start_time": "2022-12-01T11:54:27.747Z"
   },
   {
    "duration": 229,
    "start_time": "2022-12-01T11:54:28.431Z"
   },
   {
    "duration": 59,
    "start_time": "2022-12-01T11:54:28.662Z"
   },
   {
    "duration": 263,
    "start_time": "2022-12-01T11:54:28.723Z"
   },
   {
    "duration": 19,
    "start_time": "2022-12-01T11:54:28.988Z"
   },
   {
    "duration": 6,
    "start_time": "2022-12-01T11:54:29.009Z"
   },
   {
    "duration": 9,
    "start_time": "2022-12-01T11:54:29.017Z"
   },
   {
    "duration": 131,
    "start_time": "2022-12-01T11:54:29.028Z"
   },
   {
    "duration": 91,
    "start_time": "2022-12-01T11:54:29.161Z"
   },
   {
    "duration": 62,
    "start_time": "2022-12-01T11:54:29.254Z"
   },
   {
    "duration": 8,
    "start_time": "2022-12-01T11:54:29.318Z"
   },
   {
    "duration": 101292,
    "start_time": "2022-12-01T11:54:29.329Z"
   },
   {
    "duration": 28,
    "start_time": "2022-12-01T11:56:10.623Z"
   },
   {
    "duration": 11967,
    "start_time": "2022-12-01T11:56:10.653Z"
   },
   {
    "duration": 106,
    "start_time": "2022-12-01T11:56:22.622Z"
   },
   {
    "duration": 16105,
    "start_time": "2022-12-01T11:56:22.730Z"
   },
   {
    "duration": 3176,
    "start_time": "2022-12-01T11:56:38.837Z"
   },
   {
    "duration": 4,
    "start_time": "2022-12-01T11:56:42.015Z"
   },
   {
    "duration": 294,
    "start_time": "2022-12-01T11:56:42.021Z"
   },
   {
    "duration": 489,
    "start_time": "2022-12-01T11:56:42.317Z"
   },
   {
    "duration": 64,
    "start_time": "2022-12-01T17:44:24.246Z"
   },
   {
    "duration": 1503,
    "start_time": "2022-12-01T17:44:47.131Z"
   },
   {
    "duration": 75,
    "start_time": "2022-12-01T17:44:55.523Z"
   },
   {
    "duration": 1285,
    "start_time": "2022-12-01T17:45:00.856Z"
   },
   {
    "duration": 14482,
    "start_time": "2022-12-01T17:45:02.142Z"
   },
   {
    "duration": 262,
    "start_time": "2022-12-01T17:45:16.626Z"
   },
   {
    "duration": 135,
    "start_time": "2022-12-01T17:45:16.891Z"
   },
   {
    "duration": 27,
    "start_time": "2022-12-01T17:45:17.027Z"
   },
   {
    "duration": 16,
    "start_time": "2022-12-01T17:45:17.056Z"
   },
   {
    "duration": 2,
    "start_time": "2022-12-01T17:45:17.074Z"
   },
   {
    "duration": 19,
    "start_time": "2022-12-01T17:45:17.078Z"
   },
   {
    "duration": 50,
    "start_time": "2022-12-01T17:45:17.099Z"
   },
   {
    "duration": 26,
    "start_time": "2022-12-01T17:45:17.151Z"
   },
   {
    "duration": 20,
    "start_time": "2022-12-01T17:45:17.178Z"
   },
   {
    "duration": 5,
    "start_time": "2022-12-01T17:45:17.199Z"
   },
   {
    "duration": 10,
    "start_time": "2022-12-01T17:45:17.206Z"
   },
   {
    "duration": 7,
    "start_time": "2022-12-01T17:45:17.217Z"
   },
   {
    "duration": 26,
    "start_time": "2022-12-01T17:45:17.225Z"
   },
   {
    "duration": 6,
    "start_time": "2022-12-01T17:45:17.252Z"
   },
   {
    "duration": 7,
    "start_time": "2022-12-01T17:45:17.260Z"
   },
   {
    "duration": 32,
    "start_time": "2022-12-01T17:45:17.268Z"
   },
   {
    "duration": 7,
    "start_time": "2022-12-01T17:45:17.301Z"
   },
   {
    "duration": 8,
    "start_time": "2022-12-01T17:45:17.309Z"
   },
   {
    "duration": 6,
    "start_time": "2022-12-01T17:45:17.318Z"
   },
   {
    "duration": 9,
    "start_time": "2022-12-01T17:45:17.326Z"
   },
   {
    "duration": 6,
    "start_time": "2022-12-01T17:45:17.337Z"
   },
   {
    "duration": 21,
    "start_time": "2022-12-01T17:45:17.345Z"
   },
   {
    "duration": 30,
    "start_time": "2022-12-01T17:45:17.368Z"
   },
   {
    "duration": 5,
    "start_time": "2022-12-01T17:45:17.400Z"
   },
   {
    "duration": 9,
    "start_time": "2022-12-01T17:45:17.406Z"
   },
   {
    "duration": 6,
    "start_time": "2022-12-01T17:45:17.419Z"
   },
   {
    "duration": 74,
    "start_time": "2022-12-01T17:45:17.426Z"
   },
   {
    "duration": 29,
    "start_time": "2022-12-01T17:45:17.502Z"
   },
   {
    "duration": 54,
    "start_time": "2022-12-01T17:45:17.533Z"
   },
   {
    "duration": 144,
    "start_time": "2022-12-01T17:45:17.589Z"
   },
   {
    "duration": 6,
    "start_time": "2022-12-01T17:45:17.734Z"
   },
   {
    "duration": 147,
    "start_time": "2022-12-01T17:45:17.742Z"
   },
   {
    "duration": 20,
    "start_time": "2022-12-01T17:45:17.890Z"
   },
   {
    "duration": 29,
    "start_time": "2022-12-01T17:45:17.911Z"
   },
   {
    "duration": 8,
    "start_time": "2022-12-01T17:45:17.942Z"
   },
   {
    "duration": 47,
    "start_time": "2022-12-01T17:45:17.951Z"
   },
   {
    "duration": 3,
    "start_time": "2022-12-01T17:45:18.000Z"
   },
   {
    "duration": 9,
    "start_time": "2022-12-01T17:45:18.004Z"
   },
   {
    "duration": 7,
    "start_time": "2022-12-01T17:45:18.014Z"
   },
   {
    "duration": 599,
    "start_time": "2022-12-01T17:45:18.022Z"
   },
   {
    "duration": 202,
    "start_time": "2022-12-01T17:45:18.623Z"
   },
   {
    "duration": 39,
    "start_time": "2022-12-01T17:45:18.826Z"
   },
   {
    "duration": 263,
    "start_time": "2022-12-01T17:45:18.867Z"
   },
   {
    "duration": 8,
    "start_time": "2022-12-01T17:45:19.132Z"
   },
   {
    "duration": 6,
    "start_time": "2022-12-01T17:45:19.142Z"
   },
   {
    "duration": 6,
    "start_time": "2022-12-01T17:45:19.150Z"
   },
   {
    "duration": 124,
    "start_time": "2022-12-01T17:45:19.157Z"
   },
   {
    "duration": 76,
    "start_time": "2022-12-01T17:45:19.282Z"
   },
   {
    "duration": 54,
    "start_time": "2022-12-01T17:45:19.359Z"
   },
   {
    "duration": 6,
    "start_time": "2022-12-01T17:45:19.415Z"
   },
   {
    "duration": 89123,
    "start_time": "2022-12-01T17:45:19.422Z"
   },
   {
    "duration": 94581,
    "start_time": "2022-12-01T17:46:48.547Z"
   },
   {
    "duration": 9777,
    "start_time": "2022-12-01T17:48:23.130Z"
   },
   {
    "duration": 107,
    "start_time": "2022-12-01T17:48:32.909Z"
   },
   {
    "duration": 9781,
    "start_time": "2022-12-01T17:48:33.018Z"
   },
   {
    "duration": 112,
    "start_time": "2022-12-01T17:48:42.802Z"
   },
   {
    "duration": 13695,
    "start_time": "2022-12-01T17:48:42.917Z"
   },
   {
    "duration": 2584,
    "start_time": "2022-12-01T17:48:56.614Z"
   },
   {
    "duration": 5,
    "start_time": "2022-12-01T17:48:59.199Z"
   },
   {
    "duration": 245,
    "start_time": "2022-12-01T17:48:59.205Z"
   },
   {
    "duration": 445,
    "start_time": "2022-12-01T17:48:59.452Z"
   },
   {
    "duration": 29,
    "start_time": "2022-12-01T18:06:12.827Z"
   },
   {
    "duration": 2457,
    "start_time": "2022-12-01T18:07:16.143Z"
   },
   {
    "duration": 13,
    "start_time": "2022-12-01T18:40:23.592Z"
   },
   {
    "duration": 342,
    "start_time": "2022-12-01T18:40:33.850Z"
   },
   {
    "duration": 5,
    "start_time": "2022-12-01T18:41:09.241Z"
   },
   {
    "duration": 5,
    "start_time": "2022-12-01T18:41:19.144Z"
   },
   {
    "duration": 16,
    "start_time": "2022-12-01T18:43:18.890Z"
   },
   {
    "duration": 1407,
    "start_time": "2022-12-01T18:43:24.694Z"
   },
   {
    "duration": 2856,
    "start_time": "2022-12-01T18:43:26.105Z"
   },
   {
    "duration": 165,
    "start_time": "2022-12-01T18:43:28.963Z"
   },
   {
    "duration": 86,
    "start_time": "2022-12-01T18:43:29.130Z"
   },
   {
    "duration": 27,
    "start_time": "2022-12-01T18:43:29.218Z"
   },
   {
    "duration": 18,
    "start_time": "2022-12-01T18:43:29.246Z"
   },
   {
    "duration": 2,
    "start_time": "2022-12-01T18:43:29.266Z"
   },
   {
    "duration": 9,
    "start_time": "2022-12-01T18:43:29.269Z"
   },
   {
    "duration": 79,
    "start_time": "2022-12-01T18:43:29.280Z"
   },
   {
    "duration": 25,
    "start_time": "2022-12-01T18:43:29.361Z"
   },
   {
    "duration": 20,
    "start_time": "2022-12-01T18:43:29.388Z"
   },
   {
    "duration": 11,
    "start_time": "2022-12-01T18:43:29.409Z"
   },
   {
    "duration": 9,
    "start_time": "2022-12-01T18:43:29.422Z"
   },
   {
    "duration": 7,
    "start_time": "2022-12-01T18:43:29.432Z"
   },
   {
    "duration": 23,
    "start_time": "2022-12-01T18:43:29.440Z"
   },
   {
    "duration": 6,
    "start_time": "2022-12-01T18:43:29.464Z"
   },
   {
    "duration": 32,
    "start_time": "2022-12-01T18:43:29.473Z"
   },
   {
    "duration": 11,
    "start_time": "2022-12-01T18:43:29.506Z"
   },
   {
    "duration": 6,
    "start_time": "2022-12-01T18:43:29.518Z"
   },
   {
    "duration": 8,
    "start_time": "2022-12-01T18:43:29.525Z"
   },
   {
    "duration": 5,
    "start_time": "2022-12-01T18:43:29.534Z"
   },
   {
    "duration": 12,
    "start_time": "2022-12-01T18:43:29.540Z"
   },
   {
    "duration": 5,
    "start_time": "2022-12-01T18:43:29.553Z"
   },
   {
    "duration": 40,
    "start_time": "2022-12-01T18:43:29.560Z"
   },
   {
    "duration": 10,
    "start_time": "2022-12-01T18:43:29.605Z"
   },
   {
    "duration": 8,
    "start_time": "2022-12-01T18:43:29.616Z"
   },
   {
    "duration": 14,
    "start_time": "2022-12-01T18:43:29.625Z"
   },
   {
    "duration": 11,
    "start_time": "2022-12-01T18:43:29.643Z"
   },
   {
    "duration": 61,
    "start_time": "2022-12-01T18:43:29.656Z"
   },
   {
    "duration": 27,
    "start_time": "2022-12-01T18:43:29.718Z"
   },
   {
    "duration": 71,
    "start_time": "2022-12-01T18:43:29.746Z"
   },
   {
    "duration": 167,
    "start_time": "2022-12-01T18:43:29.819Z"
   },
   {
    "duration": 134,
    "start_time": "2022-12-01T18:43:29.988Z"
   },
   {
    "duration": 29,
    "start_time": "2022-12-01T18:43:30.125Z"
   },
   {
    "duration": 16,
    "start_time": "2022-12-01T18:43:30.156Z"
   },
   {
    "duration": 47,
    "start_time": "2022-12-01T18:43:30.173Z"
   },
   {
    "duration": 8,
    "start_time": "2022-12-01T18:43:30.221Z"
   },
   {
    "duration": 37,
    "start_time": "2022-12-01T18:43:30.230Z"
   },
   {
    "duration": 4,
    "start_time": "2022-12-01T18:43:30.269Z"
   },
   {
    "duration": 8,
    "start_time": "2022-12-01T18:43:30.274Z"
   },
   {
    "duration": 24,
    "start_time": "2022-12-01T18:43:30.284Z"
   },
   {
    "duration": 661,
    "start_time": "2022-12-01T18:43:30.310Z"
   },
   {
    "duration": 216,
    "start_time": "2022-12-01T18:43:30.973Z"
   },
   {
    "duration": 45,
    "start_time": "2022-12-01T18:43:31.191Z"
   },
   {
    "duration": 309,
    "start_time": "2022-12-01T18:43:31.238Z"
   },
   {
    "duration": 0,
    "start_time": "2022-12-01T18:43:31.548Z"
   },
   {
    "duration": 0,
    "start_time": "2022-12-01T18:43:31.549Z"
   },
   {
    "duration": 0,
    "start_time": "2022-12-01T18:43:31.551Z"
   },
   {
    "duration": 0,
    "start_time": "2022-12-01T18:43:31.552Z"
   },
   {
    "duration": 0,
    "start_time": "2022-12-01T18:43:31.553Z"
   },
   {
    "duration": 0,
    "start_time": "2022-12-01T18:43:31.554Z"
   },
   {
    "duration": 0,
    "start_time": "2022-12-01T18:43:31.556Z"
   },
   {
    "duration": 0,
    "start_time": "2022-12-01T18:43:31.557Z"
   },
   {
    "duration": 0,
    "start_time": "2022-12-01T18:43:31.558Z"
   },
   {
    "duration": 0,
    "start_time": "2022-12-01T18:43:31.559Z"
   },
   {
    "duration": 0,
    "start_time": "2022-12-01T18:43:31.560Z"
   },
   {
    "duration": 0,
    "start_time": "2022-12-01T18:43:31.562Z"
   },
   {
    "duration": 0,
    "start_time": "2022-12-01T18:43:31.563Z"
   },
   {
    "duration": 0,
    "start_time": "2022-12-01T18:43:31.564Z"
   },
   {
    "duration": 0,
    "start_time": "2022-12-01T18:43:31.565Z"
   },
   {
    "duration": 0,
    "start_time": "2022-12-01T18:43:31.599Z"
   },
   {
    "duration": 0,
    "start_time": "2022-12-01T18:43:31.599Z"
   },
   {
    "duration": 0,
    "start_time": "2022-12-01T18:43:31.600Z"
   },
   {
    "duration": 0,
    "start_time": "2022-12-01T18:43:31.604Z"
   },
   {
    "duration": 0,
    "start_time": "2022-12-01T18:43:31.609Z"
   },
   {
    "duration": 0,
    "start_time": "2022-12-01T18:43:31.611Z"
   },
   {
    "duration": 0,
    "start_time": "2022-12-01T18:43:31.613Z"
   },
   {
    "duration": 0,
    "start_time": "2022-12-01T18:43:31.614Z"
   },
   {
    "duration": 0,
    "start_time": "2022-12-01T18:43:31.615Z"
   },
   {
    "duration": 233,
    "start_time": "2022-12-01T18:43:42.682Z"
   },
   {
    "duration": 8,
    "start_time": "2022-12-01T18:43:44.847Z"
   },
   {
    "duration": 5,
    "start_time": "2022-12-01T18:43:48.932Z"
   },
   {
    "duration": 5,
    "start_time": "2022-12-01T18:43:51.076Z"
   },
   {
    "duration": 123,
    "start_time": "2022-12-01T18:43:51.924Z"
   },
   {
    "duration": 78,
    "start_time": "2022-12-01T18:43:54.141Z"
   },
   {
    "duration": 57,
    "start_time": "2022-12-01T18:43:54.847Z"
   },
   {
    "duration": 5,
    "start_time": "2022-12-01T18:43:56.437Z"
   },
   {
    "duration": 95849,
    "start_time": "2022-12-01T18:43:56.621Z"
   },
   {
    "duration": 37,
    "start_time": "2022-12-01T18:45:43.935Z"
   },
   {
    "duration": 2571,
    "start_time": "2022-12-01T18:45:46.353Z"
   },
   {
    "duration": 30,
    "start_time": "2022-12-01T18:45:48.926Z"
   },
   {
    "duration": 10747,
    "start_time": "2022-12-01T18:45:48.958Z"
   },
   {
    "duration": 118,
    "start_time": "2022-12-01T18:45:59.709Z"
   },
   {
    "duration": 15487,
    "start_time": "2022-12-01T18:45:59.830Z"
   },
   {
    "duration": 2994,
    "start_time": "2022-12-01T18:46:15.319Z"
   },
   {
    "duration": 5,
    "start_time": "2022-12-01T18:46:18.323Z"
   },
   {
    "duration": 59,
    "start_time": "2022-12-01T18:46:41.369Z"
   },
   {
    "duration": 5,
    "start_time": "2022-12-01T19:05:40.382Z"
   },
   {
    "duration": 4,
    "start_time": "2022-12-01T19:05:50.917Z"
   },
   {
    "duration": 3,
    "start_time": "2022-12-01T19:06:26.239Z"
   },
   {
    "duration": 5,
    "start_time": "2022-12-01T19:06:29.872Z"
   },
   {
    "duration": 6,
    "start_time": "2022-12-01T19:06:33.792Z"
   },
   {
    "duration": 22,
    "start_time": "2022-12-01T19:06:54.347Z"
   },
   {
    "duration": 37,
    "start_time": "2022-12-01T19:07:07.579Z"
   },
   {
    "duration": 6,
    "start_time": "2022-12-01T19:07:10.111Z"
   },
   {
    "duration": 5,
    "start_time": "2022-12-01T19:07:15.549Z"
   },
   {
    "duration": 5,
    "start_time": "2022-12-01T19:07:27.711Z"
   },
   {
    "duration": 1413,
    "start_time": "2022-12-01T19:07:32.537Z"
   },
   {
    "duration": 3027,
    "start_time": "2022-12-01T19:07:33.952Z"
   },
   {
    "duration": 165,
    "start_time": "2022-12-01T19:07:36.981Z"
   },
   {
    "duration": 81,
    "start_time": "2022-12-01T19:07:37.148Z"
   },
   {
    "duration": 28,
    "start_time": "2022-12-01T19:07:37.230Z"
   },
   {
    "duration": 37,
    "start_time": "2022-12-01T19:07:37.260Z"
   },
   {
    "duration": 4,
    "start_time": "2022-12-01T19:07:37.299Z"
   },
   {
    "duration": 16,
    "start_time": "2022-12-01T19:07:37.305Z"
   },
   {
    "duration": 53,
    "start_time": "2022-12-01T19:07:37.323Z"
   },
   {
    "duration": 45,
    "start_time": "2022-12-01T19:07:37.378Z"
   },
   {
    "duration": 6,
    "start_time": "2022-12-01T19:07:37.425Z"
   },
   {
    "duration": 12,
    "start_time": "2022-12-01T19:07:37.432Z"
   },
   {
    "duration": 14,
    "start_time": "2022-12-01T19:07:37.445Z"
   },
   {
    "duration": 10,
    "start_time": "2022-12-01T19:07:37.460Z"
   },
   {
    "duration": 42,
    "start_time": "2022-12-01T19:07:37.472Z"
   },
   {
    "duration": 8,
    "start_time": "2022-12-01T19:07:37.516Z"
   },
   {
    "duration": 15,
    "start_time": "2022-12-01T19:07:37.525Z"
   },
   {
    "duration": 8,
    "start_time": "2022-12-01T19:07:37.541Z"
   },
   {
    "duration": 7,
    "start_time": "2022-12-01T19:07:37.550Z"
   },
   {
    "duration": 7,
    "start_time": "2022-12-01T19:07:37.558Z"
   },
   {
    "duration": 5,
    "start_time": "2022-12-01T19:07:37.567Z"
   },
   {
    "duration": 25,
    "start_time": "2022-12-01T19:07:37.573Z"
   },
   {
    "duration": 7,
    "start_time": "2022-12-01T19:07:37.600Z"
   },
   {
    "duration": 24,
    "start_time": "2022-12-01T19:07:37.609Z"
   },
   {
    "duration": 5,
    "start_time": "2022-12-01T19:07:37.634Z"
   },
   {
    "duration": 7,
    "start_time": "2022-12-01T19:07:37.641Z"
   },
   {
    "duration": 11,
    "start_time": "2022-12-01T19:07:37.649Z"
   },
   {
    "duration": 5,
    "start_time": "2022-12-01T19:07:37.666Z"
   },
   {
    "duration": 58,
    "start_time": "2022-12-01T19:07:37.698Z"
   },
   {
    "duration": 41,
    "start_time": "2022-12-01T19:07:37.757Z"
   },
   {
    "duration": 39,
    "start_time": "2022-12-01T19:07:37.800Z"
   },
   {
    "duration": 171,
    "start_time": "2022-12-01T19:07:37.841Z"
   },
   {
    "duration": 131,
    "start_time": "2022-12-01T19:07:38.014Z"
   },
   {
    "duration": 60,
    "start_time": "2022-12-01T19:07:38.147Z"
   },
   {
    "duration": 18,
    "start_time": "2022-12-01T19:07:38.210Z"
   },
   {
    "duration": 29,
    "start_time": "2022-12-01T19:07:38.229Z"
   },
   {
    "duration": 54,
    "start_time": "2022-12-01T19:07:38.260Z"
   },
   {
    "duration": 75,
    "start_time": "2022-12-01T19:07:38.316Z"
   },
   {
    "duration": 39,
    "start_time": "2022-12-01T19:07:38.392Z"
   },
   {
    "duration": 71,
    "start_time": "2022-12-01T19:07:38.433Z"
   },
   {
    "duration": 58,
    "start_time": "2022-12-01T19:07:38.506Z"
   },
   {
    "duration": 651,
    "start_time": "2022-12-01T19:07:38.566Z"
   },
   {
    "duration": 208,
    "start_time": "2022-12-01T19:07:39.220Z"
   },
   {
    "duration": 69,
    "start_time": "2022-12-01T19:07:39.430Z"
   },
   {
    "duration": 68,
    "start_time": "2022-12-01T19:07:39.502Z"
   },
   {
    "duration": 327,
    "start_time": "2022-12-01T19:07:39.572Z"
   },
   {
    "duration": 10,
    "start_time": "2022-12-01T19:07:39.902Z"
   },
   {
    "duration": 13,
    "start_time": "2022-12-01T19:07:39.914Z"
   },
   {
    "duration": 25,
    "start_time": "2022-12-01T19:07:39.929Z"
   },
   {
    "duration": 174,
    "start_time": "2022-12-01T19:07:39.956Z"
   },
   {
    "duration": 97,
    "start_time": "2022-12-01T19:07:40.131Z"
   },
   {
    "duration": 55,
    "start_time": "2022-12-01T19:07:40.229Z"
   },
   {
    "duration": 36,
    "start_time": "2022-12-01T19:07:40.286Z"
   },
   {
    "duration": 96149,
    "start_time": "2022-12-01T19:07:40.324Z"
   },
   {
    "duration": 47,
    "start_time": "2022-12-01T19:09:16.475Z"
   },
   {
    "duration": 2541,
    "start_time": "2022-12-01T19:09:16.524Z"
   },
   {
    "duration": 59,
    "start_time": "2022-12-01T19:09:19.067Z"
   },
   {
    "duration": 10381,
    "start_time": "2022-12-01T19:09:19.128Z"
   },
   {
    "duration": 119,
    "start_time": "2022-12-01T19:09:29.511Z"
   },
   {
    "duration": 14295,
    "start_time": "2022-12-01T19:09:29.632Z"
   },
   {
    "duration": 2876,
    "start_time": "2022-12-01T19:09:43.928Z"
   },
   {
    "duration": 6,
    "start_time": "2022-12-01T19:09:46.807Z"
   },
   {
    "duration": 350,
    "start_time": "2022-12-01T19:09:46.815Z"
   },
   {
    "duration": 423,
    "start_time": "2022-12-01T19:09:47.167Z"
   },
   {
    "duration": 6,
    "start_time": "2022-12-01T19:09:47.598Z"
   },
   {
    "duration": 24,
    "start_time": "2022-12-01T19:09:47.606Z"
   },
   {
    "duration": 285,
    "start_time": "2022-12-01T19:09:47.631Z"
   },
   {
    "duration": 0,
    "start_time": "2022-12-01T19:09:47.918Z"
   },
   {
    "duration": 0,
    "start_time": "2022-12-01T19:09:47.919Z"
   },
   {
    "duration": 0,
    "start_time": "2022-12-01T19:09:47.920Z"
   },
   {
    "duration": 223,
    "start_time": "2022-12-01T19:18:20.799Z"
   },
   {
    "duration": 467,
    "start_time": "2022-12-01T19:18:32.510Z"
   },
   {
    "duration": 1324,
    "start_time": "2022-12-01T19:19:28.352Z"
   },
   {
    "duration": 2679,
    "start_time": "2022-12-01T19:19:29.678Z"
   },
   {
    "duration": 147,
    "start_time": "2022-12-01T19:19:32.358Z"
   },
   {
    "duration": 71,
    "start_time": "2022-12-01T19:19:32.507Z"
   },
   {
    "duration": 25,
    "start_time": "2022-12-01T19:19:32.580Z"
   },
   {
    "duration": 16,
    "start_time": "2022-12-01T19:19:32.606Z"
   },
   {
    "duration": 2,
    "start_time": "2022-12-01T19:19:32.623Z"
   },
   {
    "duration": 18,
    "start_time": "2022-12-01T19:19:32.627Z"
   },
   {
    "duration": 64,
    "start_time": "2022-12-01T19:19:32.647Z"
   },
   {
    "duration": 25,
    "start_time": "2022-12-01T19:19:32.714Z"
   },
   {
    "duration": 7,
    "start_time": "2022-12-01T19:19:32.740Z"
   },
   {
    "duration": 6,
    "start_time": "2022-12-01T19:19:32.748Z"
   },
   {
    "duration": 7,
    "start_time": "2022-12-01T19:19:32.755Z"
   },
   {
    "duration": 33,
    "start_time": "2022-12-01T19:19:32.765Z"
   },
   {
    "duration": 24,
    "start_time": "2022-12-01T19:19:32.799Z"
   },
   {
    "duration": 5,
    "start_time": "2022-12-01T19:19:32.825Z"
   },
   {
    "duration": 6,
    "start_time": "2022-12-01T19:19:32.832Z"
   },
   {
    "duration": 7,
    "start_time": "2022-12-01T19:19:32.839Z"
   },
   {
    "duration": 7,
    "start_time": "2022-12-01T19:19:32.847Z"
   },
   {
    "duration": 7,
    "start_time": "2022-12-01T19:19:32.855Z"
   },
   {
    "duration": 35,
    "start_time": "2022-12-01T19:19:32.863Z"
   },
   {
    "duration": 7,
    "start_time": "2022-12-01T19:19:32.899Z"
   },
   {
    "duration": 7,
    "start_time": "2022-12-01T19:19:32.907Z"
   },
   {
    "duration": 17,
    "start_time": "2022-12-01T19:19:32.916Z"
   },
   {
    "duration": 6,
    "start_time": "2022-12-01T19:19:32.934Z"
   },
   {
    "duration": 7,
    "start_time": "2022-12-01T19:19:32.941Z"
   },
   {
    "duration": 9,
    "start_time": "2022-12-01T19:19:32.949Z"
   },
   {
    "duration": 7,
    "start_time": "2022-12-01T19:19:32.959Z"
   },
   {
    "duration": 83,
    "start_time": "2022-12-01T19:19:32.967Z"
   },
   {
    "duration": 27,
    "start_time": "2022-12-01T19:19:33.051Z"
   },
   {
    "duration": 50,
    "start_time": "2022-12-01T19:19:33.080Z"
   },
   {
    "duration": 140,
    "start_time": "2022-12-01T19:19:33.131Z"
   },
   {
    "duration": 115,
    "start_time": "2022-12-01T19:19:33.273Z"
   },
   {
    "duration": 32,
    "start_time": "2022-12-01T19:19:33.389Z"
   },
   {
    "duration": 14,
    "start_time": "2022-12-01T19:19:33.422Z"
   },
   {
    "duration": 30,
    "start_time": "2022-12-01T19:19:33.437Z"
   },
   {
    "duration": 5,
    "start_time": "2022-12-01T19:19:33.469Z"
   },
   {
    "duration": 38,
    "start_time": "2022-12-01T19:19:33.476Z"
   },
   {
    "duration": 3,
    "start_time": "2022-12-01T19:19:33.516Z"
   },
   {
    "duration": 6,
    "start_time": "2022-12-01T19:19:33.520Z"
   },
   {
    "duration": 4,
    "start_time": "2022-12-01T19:19:33.530Z"
   },
   {
    "duration": 600,
    "start_time": "2022-12-01T19:19:33.535Z"
   },
   {
    "duration": 195,
    "start_time": "2022-12-01T19:19:34.137Z"
   },
   {
    "duration": 52,
    "start_time": "2022-12-01T19:19:34.334Z"
   },
   {
    "duration": 70,
    "start_time": "2022-12-01T19:19:34.387Z"
   },
   {
    "duration": 357,
    "start_time": "2022-12-01T19:19:34.459Z"
   },
   {
    "duration": 7,
    "start_time": "2022-12-01T19:19:34.818Z"
   },
   {
    "duration": 5,
    "start_time": "2022-12-01T19:19:34.826Z"
   },
   {
    "duration": 7,
    "start_time": "2022-12-01T19:19:34.832Z"
   },
   {
    "duration": 152,
    "start_time": "2022-12-01T19:19:34.840Z"
   },
   {
    "duration": 86,
    "start_time": "2022-12-01T19:19:34.994Z"
   },
   {
    "duration": 71,
    "start_time": "2022-12-01T19:19:35.082Z"
   },
   {
    "duration": 5,
    "start_time": "2022-12-01T19:19:35.155Z"
   },
   {
    "duration": 91084,
    "start_time": "2022-12-01T19:19:35.162Z"
   },
   {
    "duration": 53,
    "start_time": "2022-12-01T19:21:06.247Z"
   },
   {
    "duration": 2198,
    "start_time": "2022-12-01T19:21:06.302Z"
   },
   {
    "duration": 31,
    "start_time": "2022-12-01T19:21:08.502Z"
   },
   {
    "duration": 9166,
    "start_time": "2022-12-01T19:21:08.535Z"
   },
   {
    "duration": 121,
    "start_time": "2022-12-01T19:21:17.703Z"
   },
   {
    "duration": 12388,
    "start_time": "2022-12-01T19:21:17.826Z"
   },
   {
    "duration": 2504,
    "start_time": "2022-12-01T19:21:30.215Z"
   },
   {
    "duration": 4,
    "start_time": "2022-12-01T19:21:32.720Z"
   },
   {
    "duration": 341,
    "start_time": "2022-12-01T19:21:32.725Z"
   },
   {
    "duration": 531,
    "start_time": "2022-12-01T19:21:33.068Z"
   },
   {
    "duration": 4,
    "start_time": "2022-12-01T19:21:33.601Z"
   },
   {
    "duration": 21,
    "start_time": "2022-12-01T19:21:33.607Z"
   },
   {
    "duration": 197,
    "start_time": "2022-12-01T19:21:33.630Z"
   },
   {
    "duration": 4,
    "start_time": "2022-12-01T19:21:33.829Z"
   },
   {
    "duration": 22,
    "start_time": "2022-12-01T19:21:33.835Z"
   },
   {
    "duration": 1006,
    "start_time": "2022-12-01T19:21:33.858Z"
   },
   {
    "duration": 314,
    "start_time": "2022-12-01T19:24:17.977Z"
   },
   {
    "duration": 305,
    "start_time": "2022-12-01T19:49:03.340Z"
   },
   {
    "duration": 5,
    "start_time": "2022-12-01T20:07:12.442Z"
   },
   {
    "duration": 12,
    "start_time": "2022-12-01T20:09:24.163Z"
   },
   {
    "duration": 5,
    "start_time": "2022-12-01T20:09:28.542Z"
   },
   {
    "duration": 774,
    "start_time": "2022-12-01T20:09:37.163Z"
   },
   {
    "duration": 55,
    "start_time": "2022-12-01T20:10:42.604Z"
   },
   {
    "duration": 14,
    "start_time": "2022-12-01T20:10:46.843Z"
   },
   {
    "duration": 1345,
    "start_time": "2022-12-01T20:10:53.386Z"
   },
   {
    "duration": 2688,
    "start_time": "2022-12-01T20:10:54.734Z"
   },
   {
    "duration": 148,
    "start_time": "2022-12-01T20:10:57.424Z"
   },
   {
    "duration": 72,
    "start_time": "2022-12-01T20:10:57.574Z"
   },
   {
    "duration": 27,
    "start_time": "2022-12-01T20:10:57.648Z"
   },
   {
    "duration": 30,
    "start_time": "2022-12-01T20:10:57.677Z"
   },
   {
    "duration": 3,
    "start_time": "2022-12-01T20:10:57.709Z"
   },
   {
    "duration": 27,
    "start_time": "2022-12-01T20:10:57.713Z"
   },
   {
    "duration": 80,
    "start_time": "2022-12-01T20:10:57.741Z"
   },
   {
    "duration": 26,
    "start_time": "2022-12-01T20:10:57.823Z"
   },
   {
    "duration": 6,
    "start_time": "2022-12-01T20:10:57.851Z"
   },
   {
    "duration": 22,
    "start_time": "2022-12-01T20:10:57.859Z"
   },
   {
    "duration": 38,
    "start_time": "2022-12-01T20:10:57.882Z"
   },
   {
    "duration": 18,
    "start_time": "2022-12-01T20:10:57.922Z"
   },
   {
    "duration": 57,
    "start_time": "2022-12-01T20:10:57.941Z"
   },
   {
    "duration": 13,
    "start_time": "2022-12-01T20:10:57.999Z"
   },
   {
    "duration": 28,
    "start_time": "2022-12-01T20:10:58.013Z"
   },
   {
    "duration": 10,
    "start_time": "2022-12-01T20:10:58.043Z"
   },
   {
    "duration": 21,
    "start_time": "2022-12-01T20:10:58.054Z"
   },
   {
    "duration": 36,
    "start_time": "2022-12-01T20:10:58.076Z"
   },
   {
    "duration": 15,
    "start_time": "2022-12-01T20:10:58.113Z"
   },
   {
    "duration": 39,
    "start_time": "2022-12-01T20:10:58.129Z"
   },
   {
    "duration": 33,
    "start_time": "2022-12-01T20:10:58.169Z"
   },
   {
    "duration": 34,
    "start_time": "2022-12-01T20:10:58.204Z"
   },
   {
    "duration": 21,
    "start_time": "2022-12-01T20:10:58.240Z"
   },
   {
    "duration": 16,
    "start_time": "2022-12-01T20:10:58.263Z"
   },
   {
    "duration": 37,
    "start_time": "2022-12-01T20:10:58.280Z"
   },
   {
    "duration": 19,
    "start_time": "2022-12-01T20:10:58.321Z"
   },
   {
    "duration": 87,
    "start_time": "2022-12-01T20:10:58.341Z"
   },
   {
    "duration": 26,
    "start_time": "2022-12-01T20:10:58.429Z"
   },
   {
    "duration": 61,
    "start_time": "2022-12-01T20:10:58.456Z"
   },
   {
    "duration": 157,
    "start_time": "2022-12-01T20:10:58.519Z"
   },
   {
    "duration": 109,
    "start_time": "2022-12-01T20:10:58.678Z"
   },
   {
    "duration": 61,
    "start_time": "2022-12-01T20:10:58.789Z"
   },
   {
    "duration": 15,
    "start_time": "2022-12-01T20:10:58.851Z"
   },
   {
    "duration": 29,
    "start_time": "2022-12-01T20:10:58.867Z"
   },
   {
    "duration": 15,
    "start_time": "2022-12-01T20:10:58.897Z"
   },
   {
    "duration": 45,
    "start_time": "2022-12-01T20:10:58.913Z"
   },
   {
    "duration": 24,
    "start_time": "2022-12-01T20:10:58.960Z"
   },
   {
    "duration": 42,
    "start_time": "2022-12-01T20:10:58.985Z"
   },
   {
    "duration": 18,
    "start_time": "2022-12-01T20:10:59.028Z"
   },
   {
    "duration": 589,
    "start_time": "2022-12-01T20:10:59.048Z"
   },
   {
    "duration": 192,
    "start_time": "2022-12-01T20:10:59.639Z"
   },
   {
    "duration": 66,
    "start_time": "2022-12-01T20:10:59.833Z"
   },
   {
    "duration": 62,
    "start_time": "2022-12-01T20:10:59.901Z"
   },
   {
    "duration": 302,
    "start_time": "2022-12-01T20:10:59.965Z"
   },
   {
    "duration": 6,
    "start_time": "2022-12-01T20:11:00.269Z"
   },
   {
    "duration": 17,
    "start_time": "2022-12-01T20:11:00.276Z"
   },
   {
    "duration": 14,
    "start_time": "2022-12-01T20:11:00.295Z"
   },
   {
    "duration": 181,
    "start_time": "2022-12-01T20:11:00.310Z"
   },
   {
    "duration": 95,
    "start_time": "2022-12-01T20:11:00.493Z"
   },
   {
    "duration": 66,
    "start_time": "2022-12-01T20:11:00.589Z"
   },
   {
    "duration": 9,
    "start_time": "2022-12-01T20:11:00.656Z"
   },
   {
    "duration": 92180,
    "start_time": "2022-12-01T20:11:00.667Z"
   },
   {
    "duration": 50,
    "start_time": "2022-12-01T20:12:32.849Z"
   },
   {
    "duration": 2451,
    "start_time": "2022-12-01T20:12:32.901Z"
   },
   {
    "duration": 53,
    "start_time": "2022-12-01T20:12:35.353Z"
   },
   {
    "duration": 9315,
    "start_time": "2022-12-01T20:12:35.408Z"
   },
   {
    "duration": 101,
    "start_time": "2022-12-01T20:12:44.799Z"
   },
   {
    "duration": 12796,
    "start_time": "2022-12-01T20:12:44.902Z"
   },
   {
    "duration": 2536,
    "start_time": "2022-12-01T20:12:57.699Z"
   },
   {
    "duration": 4,
    "start_time": "2022-12-01T20:13:00.237Z"
   },
   {
    "duration": 324,
    "start_time": "2022-12-01T20:13:00.242Z"
   },
   {
    "duration": 529,
    "start_time": "2022-12-01T20:13:00.568Z"
   },
   {
    "duration": 3,
    "start_time": "2022-12-01T20:13:01.099Z"
   },
   {
    "duration": 52,
    "start_time": "2022-12-01T20:13:01.103Z"
   },
   {
    "duration": 198,
    "start_time": "2022-12-01T20:13:01.157Z"
   },
   {
    "duration": 4,
    "start_time": "2022-12-01T20:13:01.357Z"
   },
   {
    "duration": 12,
    "start_time": "2022-12-01T20:13:01.362Z"
   },
   {
    "duration": 1000,
    "start_time": "2022-12-01T20:13:01.375Z"
   },
   {
    "duration": 1778,
    "start_time": "2022-12-02T07:07:00.907Z"
   },
   {
    "duration": 15627,
    "start_time": "2022-12-02T07:07:02.688Z"
   },
   {
    "duration": 280,
    "start_time": "2022-12-02T07:07:18.323Z"
   },
   {
    "duration": 153,
    "start_time": "2022-12-02T07:07:18.605Z"
   },
   {
    "duration": 29,
    "start_time": "2022-12-02T07:07:18.759Z"
   },
   {
    "duration": 20,
    "start_time": "2022-12-02T07:07:18.790Z"
   },
   {
    "duration": 21,
    "start_time": "2022-12-02T07:07:18.815Z"
   },
   {
    "duration": 35,
    "start_time": "2022-12-02T07:07:18.837Z"
   },
   {
    "duration": 93,
    "start_time": "2022-12-02T07:07:18.874Z"
   },
   {
    "duration": 30,
    "start_time": "2022-12-02T07:07:18.970Z"
   },
   {
    "duration": 33,
    "start_time": "2022-12-02T07:07:19.001Z"
   },
   {
    "duration": 25,
    "start_time": "2022-12-02T07:07:19.036Z"
   },
   {
    "duration": 31,
    "start_time": "2022-12-02T07:07:19.063Z"
   },
   {
    "duration": 38,
    "start_time": "2022-12-02T07:07:19.096Z"
   },
   {
    "duration": 42,
    "start_time": "2022-12-02T07:07:19.136Z"
   },
   {
    "duration": 16,
    "start_time": "2022-12-02T07:07:19.180Z"
   },
   {
    "duration": 26,
    "start_time": "2022-12-02T07:07:19.198Z"
   },
   {
    "duration": 16,
    "start_time": "2022-12-02T07:07:19.229Z"
   },
   {
    "duration": 18,
    "start_time": "2022-12-02T07:07:19.247Z"
   },
   {
    "duration": 31,
    "start_time": "2022-12-02T07:07:19.267Z"
   },
   {
    "duration": 32,
    "start_time": "2022-12-02T07:07:19.300Z"
   },
   {
    "duration": 27,
    "start_time": "2022-12-02T07:07:19.335Z"
   },
   {
    "duration": 16,
    "start_time": "2022-12-02T07:07:19.364Z"
   },
   {
    "duration": 44,
    "start_time": "2022-12-02T07:07:19.382Z"
   },
   {
    "duration": 15,
    "start_time": "2022-12-02T07:07:19.429Z"
   },
   {
    "duration": 29,
    "start_time": "2022-12-02T07:07:19.446Z"
   },
   {
    "duration": 13,
    "start_time": "2022-12-02T07:07:19.477Z"
   },
   {
    "duration": 35,
    "start_time": "2022-12-02T07:07:19.494Z"
   },
   {
    "duration": 71,
    "start_time": "2022-12-02T07:07:19.531Z"
   },
   {
    "duration": 37,
    "start_time": "2022-12-02T07:07:19.604Z"
   },
   {
    "duration": 59,
    "start_time": "2022-12-02T07:07:19.643Z"
   },
   {
    "duration": 326,
    "start_time": "2022-12-02T07:07:19.704Z"
   },
   {
    "duration": 7,
    "start_time": "2022-12-02T07:07:20.032Z"
   },
   {
    "duration": 38,
    "start_time": "2022-12-02T07:07:20.042Z"
   },
   {
    "duration": 37,
    "start_time": "2022-12-02T07:07:20.082Z"
   },
   {
    "duration": 40,
    "start_time": "2022-12-02T07:07:20.121Z"
   },
   {
    "duration": 9,
    "start_time": "2022-12-02T07:07:20.163Z"
   },
   {
    "duration": 57,
    "start_time": "2022-12-02T07:07:20.174Z"
   },
   {
    "duration": 26,
    "start_time": "2022-12-02T07:07:20.235Z"
   },
   {
    "duration": 25,
    "start_time": "2022-12-02T07:07:20.263Z"
   },
   {
    "duration": 17,
    "start_time": "2022-12-02T07:07:20.290Z"
   },
   {
    "duration": 720,
    "start_time": "2022-12-02T07:07:20.309Z"
   },
   {
    "duration": 232,
    "start_time": "2022-12-02T07:07:21.031Z"
   },
   {
    "duration": 72,
    "start_time": "2022-12-02T07:07:21.264Z"
   },
   {
    "duration": 82,
    "start_time": "2022-12-02T07:07:21.338Z"
   },
   {
    "duration": 320,
    "start_time": "2022-12-02T07:07:21.421Z"
   },
   {
    "duration": 7,
    "start_time": "2022-12-02T07:07:21.742Z"
   },
   {
    "duration": 29,
    "start_time": "2022-12-02T07:07:21.750Z"
   },
   {
    "duration": 54,
    "start_time": "2022-12-02T07:07:21.781Z"
   },
   {
    "duration": 191,
    "start_time": "2022-12-02T07:07:21.837Z"
   },
   {
    "duration": 104,
    "start_time": "2022-12-02T07:07:22.031Z"
   },
   {
    "duration": 85,
    "start_time": "2022-12-02T07:07:22.137Z"
   },
   {
    "duration": 6,
    "start_time": "2022-12-02T07:07:22.227Z"
   },
   {
    "duration": 1555,
    "start_time": "2022-12-02T07:08:57.385Z"
   },
   {
    "duration": 2981,
    "start_time": "2022-12-02T07:08:58.942Z"
   },
   {
    "duration": 161,
    "start_time": "2022-12-02T07:09:01.925Z"
   },
   {
    "duration": 82,
    "start_time": "2022-12-02T07:09:02.088Z"
   },
   {
    "duration": 29,
    "start_time": "2022-12-02T07:09:02.173Z"
   },
   {
    "duration": 59,
    "start_time": "2022-12-02T07:09:02.204Z"
   },
   {
    "duration": 6,
    "start_time": "2022-12-02T07:09:02.265Z"
   },
   {
    "duration": 10,
    "start_time": "2022-12-02T07:09:02.273Z"
   },
   {
    "duration": 65,
    "start_time": "2022-12-02T07:09:02.285Z"
   },
   {
    "duration": 29,
    "start_time": "2022-12-02T07:09:02.354Z"
   },
   {
    "duration": 8,
    "start_time": "2022-12-02T07:09:02.384Z"
   },
   {
    "duration": 24,
    "start_time": "2022-12-02T07:09:02.394Z"
   },
   {
    "duration": 15,
    "start_time": "2022-12-02T07:09:02.419Z"
   },
   {
    "duration": 6,
    "start_time": "2022-12-02T07:09:02.436Z"
   },
   {
    "duration": 25,
    "start_time": "2022-12-02T07:09:02.443Z"
   },
   {
    "duration": 7,
    "start_time": "2022-12-02T07:09:02.470Z"
   },
   {
    "duration": 8,
    "start_time": "2022-12-02T07:09:02.479Z"
   },
   {
    "duration": 34,
    "start_time": "2022-12-02T07:09:02.488Z"
   },
   {
    "duration": 18,
    "start_time": "2022-12-02T07:09:02.524Z"
   },
   {
    "duration": 7,
    "start_time": "2022-12-02T07:09:02.544Z"
   },
   {
    "duration": 10,
    "start_time": "2022-12-02T07:09:02.553Z"
   },
   {
    "duration": 9,
    "start_time": "2022-12-02T07:09:02.565Z"
   },
   {
    "duration": 6,
    "start_time": "2022-12-02T07:09:02.576Z"
   },
   {
    "duration": 47,
    "start_time": "2022-12-02T07:09:02.583Z"
   },
   {
    "duration": 7,
    "start_time": "2022-12-02T07:09:02.632Z"
   },
   {
    "duration": 9,
    "start_time": "2022-12-02T07:09:02.640Z"
   },
   {
    "duration": 10,
    "start_time": "2022-12-02T07:09:02.651Z"
   },
   {
    "duration": 7,
    "start_time": "2022-12-02T07:09:02.665Z"
   },
   {
    "duration": 89,
    "start_time": "2022-12-02T07:09:02.673Z"
   },
   {
    "duration": 30,
    "start_time": "2022-12-02T07:09:02.764Z"
   },
   {
    "duration": 67,
    "start_time": "2022-12-02T07:09:02.796Z"
   },
   {
    "duration": 162,
    "start_time": "2022-12-02T07:09:02.864Z"
   },
   {
    "duration": 7,
    "start_time": "2022-12-02T07:09:03.028Z"
   },
   {
    "duration": 149,
    "start_time": "2022-12-02T07:09:03.036Z"
   },
   {
    "duration": 31,
    "start_time": "2022-12-02T07:09:03.187Z"
   },
   {
    "duration": 37,
    "start_time": "2022-12-02T07:09:03.219Z"
   },
   {
    "duration": 7,
    "start_time": "2022-12-02T07:09:03.258Z"
   },
   {
    "duration": 27,
    "start_time": "2022-12-02T07:09:03.266Z"
   },
   {
    "duration": 5,
    "start_time": "2022-12-02T07:09:03.322Z"
   },
   {
    "duration": 10,
    "start_time": "2022-12-02T07:09:03.329Z"
   },
   {
    "duration": 10,
    "start_time": "2022-12-02T07:09:03.341Z"
   },
   {
    "duration": 710,
    "start_time": "2022-12-02T07:09:03.353Z"
   },
   {
    "duration": 221,
    "start_time": "2022-12-02T07:09:04.065Z"
   },
   {
    "duration": 74,
    "start_time": "2022-12-02T07:09:04.288Z"
   },
   {
    "duration": 74,
    "start_time": "2022-12-02T07:09:04.364Z"
   },
   {
    "duration": 320,
    "start_time": "2022-12-02T07:09:04.440Z"
   },
   {
    "duration": 6,
    "start_time": "2022-12-02T07:09:04.762Z"
   },
   {
    "duration": 10,
    "start_time": "2022-12-02T07:09:04.770Z"
   },
   {
    "duration": 27,
    "start_time": "2022-12-02T07:09:04.782Z"
   },
   {
    "duration": 182,
    "start_time": "2022-12-02T07:09:04.811Z"
   },
   {
    "duration": 101,
    "start_time": "2022-12-02T07:09:04.994Z"
   },
   {
    "duration": 79,
    "start_time": "2022-12-02T07:09:05.097Z"
   },
   {
    "duration": 6,
    "start_time": "2022-12-02T07:09:05.178Z"
   },
   {
    "duration": 80,
    "start_time": "2022-12-02T07:09:05.186Z"
   },
   {
    "duration": 37,
    "start_time": "2022-12-02T07:09:05.268Z"
   },
   {
    "duration": 2861,
    "start_time": "2022-12-02T07:09:05.307Z"
   },
   {
    "duration": 47,
    "start_time": "2022-12-02T07:09:08.169Z"
   },
   {
    "duration": 11490,
    "start_time": "2022-12-02T07:09:08.226Z"
   },
   {
    "duration": 30,
    "start_time": "2022-12-02T07:09:19.718Z"
   },
   {
    "duration": 15940,
    "start_time": "2022-12-02T07:09:19.751Z"
   },
   {
    "duration": 3335,
    "start_time": "2022-12-02T07:09:35.693Z"
   },
   {
    "duration": 4,
    "start_time": "2022-12-02T07:09:39.030Z"
   },
   {
    "duration": 416,
    "start_time": "2022-12-02T07:09:39.036Z"
   },
   {
    "duration": 573,
    "start_time": "2022-12-02T07:09:39.454Z"
   },
   {
    "duration": 5,
    "start_time": "2022-12-02T07:09:40.029Z"
   },
   {
    "duration": 10,
    "start_time": "2022-12-02T07:09:40.035Z"
   },
   {
    "duration": 251,
    "start_time": "2022-12-02T07:09:40.047Z"
   },
   {
    "duration": 5,
    "start_time": "2022-12-02T07:09:40.300Z"
   },
   {
    "duration": 15,
    "start_time": "2022-12-02T07:09:40.312Z"
   },
   {
    "duration": 1145,
    "start_time": "2022-12-02T07:09:40.329Z"
   },
   {
    "duration": 94,
    "start_time": "2022-12-02T07:21:01.547Z"
   },
   {
    "duration": 1556,
    "start_time": "2022-12-02T07:23:32.808Z"
   },
   {
    "duration": 3026,
    "start_time": "2022-12-02T07:23:34.366Z"
   },
   {
    "duration": 164,
    "start_time": "2022-12-02T07:23:37.394Z"
   },
   {
    "duration": 75,
    "start_time": "2022-12-02T07:23:37.560Z"
   },
   {
    "duration": 30,
    "start_time": "2022-12-02T07:23:37.637Z"
   },
   {
    "duration": 18,
    "start_time": "2022-12-02T07:23:37.669Z"
   },
   {
    "duration": 22,
    "start_time": "2022-12-02T07:23:37.690Z"
   },
   {
    "duration": 6,
    "start_time": "2022-12-02T07:23:37.714Z"
   },
   {
    "duration": 73,
    "start_time": "2022-12-02T07:23:37.723Z"
   },
   {
    "duration": 42,
    "start_time": "2022-12-02T07:23:37.800Z"
   },
   {
    "duration": 9,
    "start_time": "2022-12-02T07:23:37.844Z"
   },
   {
    "duration": 29,
    "start_time": "2022-12-02T07:23:37.855Z"
   },
   {
    "duration": 27,
    "start_time": "2022-12-02T07:23:37.887Z"
   },
   {
    "duration": 21,
    "start_time": "2022-12-02T07:23:37.916Z"
   },
   {
    "duration": 68,
    "start_time": "2022-12-02T07:23:37.939Z"
   },
   {
    "duration": 19,
    "start_time": "2022-12-02T07:23:38.009Z"
   },
   {
    "duration": 9,
    "start_time": "2022-12-02T07:23:38.030Z"
   },
   {
    "duration": 37,
    "start_time": "2022-12-02T07:23:38.041Z"
   },
   {
    "duration": 14,
    "start_time": "2022-12-02T07:23:38.080Z"
   },
   {
    "duration": 26,
    "start_time": "2022-12-02T07:23:38.096Z"
   },
   {
    "duration": 23,
    "start_time": "2022-12-02T07:23:38.124Z"
   },
   {
    "duration": 46,
    "start_time": "2022-12-02T07:23:38.149Z"
   },
   {
    "duration": 21,
    "start_time": "2022-12-02T07:23:38.197Z"
   },
   {
    "duration": 39,
    "start_time": "2022-12-02T07:23:38.219Z"
   },
   {
    "duration": 32,
    "start_time": "2022-12-02T07:23:38.260Z"
   },
   {
    "duration": 29,
    "start_time": "2022-12-02T07:23:38.294Z"
   },
   {
    "duration": 22,
    "start_time": "2022-12-02T07:23:38.325Z"
   },
   {
    "duration": 34,
    "start_time": "2022-12-02T07:23:38.352Z"
   },
   {
    "duration": 69,
    "start_time": "2022-12-02T07:23:38.388Z"
   },
   {
    "duration": 31,
    "start_time": "2022-12-02T07:23:38.459Z"
   },
   {
    "duration": 63,
    "start_time": "2022-12-02T07:23:38.492Z"
   },
   {
    "duration": 191,
    "start_time": "2022-12-02T07:23:38.558Z"
   },
   {
    "duration": 129,
    "start_time": "2022-12-02T07:23:38.750Z"
   },
   {
    "duration": 44,
    "start_time": "2022-12-02T07:23:38.880Z"
   },
   {
    "duration": 25,
    "start_time": "2022-12-02T07:23:38.926Z"
   },
   {
    "duration": 32,
    "start_time": "2022-12-02T07:23:38.953Z"
   },
   {
    "duration": 8,
    "start_time": "2022-12-02T07:23:38.987Z"
   },
   {
    "duration": 46,
    "start_time": "2022-12-02T07:23:38.997Z"
   },
   {
    "duration": 6,
    "start_time": "2022-12-02T07:23:39.045Z"
   },
   {
    "duration": 28,
    "start_time": "2022-12-02T07:23:39.053Z"
   },
   {
    "duration": 23,
    "start_time": "2022-12-02T07:23:39.084Z"
   },
   {
    "duration": 709,
    "start_time": "2022-12-02T07:23:39.109Z"
   },
   {
    "duration": 223,
    "start_time": "2022-12-02T07:23:39.820Z"
   },
   {
    "duration": 189,
    "start_time": "2022-12-02T07:23:40.045Z"
   },
   {
    "duration": 76,
    "start_time": "2022-12-02T07:23:40.236Z"
   },
   {
    "duration": 321,
    "start_time": "2022-12-02T07:23:40.314Z"
   },
   {
    "duration": 9,
    "start_time": "2022-12-02T07:23:40.637Z"
   },
   {
    "duration": 8,
    "start_time": "2022-12-02T07:23:40.648Z"
   },
   {
    "duration": 12,
    "start_time": "2022-12-02T07:23:40.659Z"
   },
   {
    "duration": 171,
    "start_time": "2022-12-02T07:23:40.673Z"
   },
   {
    "duration": 107,
    "start_time": "2022-12-02T07:23:40.845Z"
   },
   {
    "duration": 75,
    "start_time": "2022-12-02T07:23:40.954Z"
   },
   {
    "duration": 6,
    "start_time": "2022-12-02T07:23:41.030Z"
   },
   {
    "duration": 36,
    "start_time": "2022-12-02T07:23:41.038Z"
   },
   {
    "duration": 52,
    "start_time": "2022-12-02T07:23:41.076Z"
   },
   {
    "duration": 2943,
    "start_time": "2022-12-02T07:23:41.131Z"
   },
   {
    "duration": 40,
    "start_time": "2022-12-02T07:23:44.076Z"
   },
   {
    "duration": 11335,
    "start_time": "2022-12-02T07:23:44.119Z"
   },
   {
    "duration": 81,
    "start_time": "2022-12-02T07:23:55.456Z"
   },
   {
    "duration": 15371,
    "start_time": "2022-12-02T07:23:55.540Z"
   },
   {
    "duration": 3032,
    "start_time": "2022-12-02T07:24:10.913Z"
   },
   {
    "duration": 5,
    "start_time": "2022-12-02T07:24:13.947Z"
   },
   {
    "duration": 239,
    "start_time": "2022-12-02T07:24:13.953Z"
   },
   {
    "duration": 0,
    "start_time": "2022-12-02T07:24:14.194Z"
   },
   {
    "duration": 0,
    "start_time": "2022-12-02T07:24:14.195Z"
   },
   {
    "duration": 0,
    "start_time": "2022-12-02T07:24:14.197Z"
   },
   {
    "duration": 0,
    "start_time": "2022-12-02T07:24:14.198Z"
   },
   {
    "duration": 0,
    "start_time": "2022-12-02T07:24:14.200Z"
   },
   {
    "duration": 0,
    "start_time": "2022-12-02T07:24:14.200Z"
   },
   {
    "duration": 0,
    "start_time": "2022-12-02T07:24:14.202Z"
   },
   {
    "duration": 1408,
    "start_time": "2022-12-02T07:25:32.558Z"
   },
   {
    "duration": 2993,
    "start_time": "2022-12-02T07:25:33.968Z"
   },
   {
    "duration": 161,
    "start_time": "2022-12-02T07:25:36.965Z"
   },
   {
    "duration": 78,
    "start_time": "2022-12-02T07:25:37.128Z"
   },
   {
    "duration": 40,
    "start_time": "2022-12-02T07:25:37.208Z"
   },
   {
    "duration": 19,
    "start_time": "2022-12-02T07:25:37.250Z"
   },
   {
    "duration": 3,
    "start_time": "2022-12-02T07:25:37.271Z"
   },
   {
    "duration": 11,
    "start_time": "2022-12-02T07:25:37.276Z"
   },
   {
    "duration": 63,
    "start_time": "2022-12-02T07:25:37.315Z"
   },
   {
    "duration": 40,
    "start_time": "2022-12-02T07:25:37.380Z"
   },
   {
    "duration": 7,
    "start_time": "2022-12-02T07:25:37.422Z"
   },
   {
    "duration": 16,
    "start_time": "2022-12-02T07:25:37.431Z"
   },
   {
    "duration": 8,
    "start_time": "2022-12-02T07:25:37.450Z"
   },
   {
    "duration": 9,
    "start_time": "2022-12-02T07:25:37.460Z"
   },
   {
    "duration": 52,
    "start_time": "2022-12-02T07:25:37.470Z"
   },
   {
    "duration": 7,
    "start_time": "2022-12-02T07:25:37.524Z"
   },
   {
    "duration": 8,
    "start_time": "2022-12-02T07:25:37.533Z"
   },
   {
    "duration": 10,
    "start_time": "2022-12-02T07:25:37.542Z"
   },
   {
    "duration": 9,
    "start_time": "2022-12-02T07:25:37.553Z"
   },
   {
    "duration": 10,
    "start_time": "2022-12-02T07:25:37.564Z"
   },
   {
    "duration": 37,
    "start_time": "2022-12-02T07:25:37.576Z"
   },
   {
    "duration": 10,
    "start_time": "2022-12-02T07:25:37.615Z"
   },
   {
    "duration": 7,
    "start_time": "2022-12-02T07:25:37.627Z"
   },
   {
    "duration": 31,
    "start_time": "2022-12-02T07:25:37.636Z"
   },
   {
    "duration": 10,
    "start_time": "2022-12-02T07:25:37.669Z"
   },
   {
    "duration": 15,
    "start_time": "2022-12-02T07:25:37.680Z"
   },
   {
    "duration": 9,
    "start_time": "2022-12-02T07:25:37.712Z"
   },
   {
    "duration": 16,
    "start_time": "2022-12-02T07:25:37.723Z"
   },
   {
    "duration": 104,
    "start_time": "2022-12-02T07:25:37.741Z"
   },
   {
    "duration": 41,
    "start_time": "2022-12-02T07:25:37.848Z"
   },
   {
    "duration": 64,
    "start_time": "2022-12-02T07:25:37.891Z"
   },
   {
    "duration": 157,
    "start_time": "2022-12-02T07:25:37.957Z"
   },
   {
    "duration": 6,
    "start_time": "2022-12-02T07:25:38.115Z"
   },
   {
    "duration": 170,
    "start_time": "2022-12-02T07:25:38.122Z"
   },
   {
    "duration": 27,
    "start_time": "2022-12-02T07:25:38.294Z"
   },
   {
    "duration": 38,
    "start_time": "2022-12-02T07:25:38.322Z"
   },
   {
    "duration": 9,
    "start_time": "2022-12-02T07:25:38.363Z"
   },
   {
    "duration": 47,
    "start_time": "2022-12-02T07:25:38.374Z"
   },
   {
    "duration": 4,
    "start_time": "2022-12-02T07:25:38.423Z"
   },
   {
    "duration": 3,
    "start_time": "2022-12-02T07:25:38.432Z"
   },
   {
    "duration": 6,
    "start_time": "2022-12-02T07:25:38.437Z"
   },
   {
    "duration": 697,
    "start_time": "2022-12-02T07:25:38.445Z"
   },
   {
    "duration": 244,
    "start_time": "2022-12-02T07:25:39.145Z"
   },
   {
    "duration": 168,
    "start_time": "2022-12-02T07:25:39.391Z"
   },
   {
    "duration": 73,
    "start_time": "2022-12-02T07:25:39.562Z"
   },
   {
    "duration": 321,
    "start_time": "2022-12-02T07:25:39.637Z"
   },
   {
    "duration": 9,
    "start_time": "2022-12-02T07:25:39.961Z"
   },
   {
    "duration": 5,
    "start_time": "2022-12-02T07:25:39.972Z"
   },
   {
    "duration": 7,
    "start_time": "2022-12-02T07:25:39.978Z"
   },
   {
    "duration": 174,
    "start_time": "2022-12-02T07:25:39.986Z"
   },
   {
    "duration": 110,
    "start_time": "2022-12-02T07:25:40.162Z"
   },
   {
    "duration": 70,
    "start_time": "2022-12-02T07:25:40.274Z"
   },
   {
    "duration": 6,
    "start_time": "2022-12-02T07:25:40.346Z"
   },
   {
    "duration": 29,
    "start_time": "2022-12-02T07:25:40.354Z"
   },
   {
    "duration": 50,
    "start_time": "2022-12-02T07:25:40.385Z"
   },
   {
    "duration": 2751,
    "start_time": "2022-12-02T07:25:40.437Z"
   },
   {
    "duration": 36,
    "start_time": "2022-12-02T07:25:43.190Z"
   },
   {
    "duration": 10731,
    "start_time": "2022-12-02T07:25:43.228Z"
   },
   {
    "duration": 75,
    "start_time": "2022-12-02T07:25:53.960Z"
   },
   {
    "duration": 15909,
    "start_time": "2022-12-02T07:25:54.037Z"
   },
   {
    "duration": 3039,
    "start_time": "2022-12-02T07:26:09.947Z"
   },
   {
    "duration": 6,
    "start_time": "2022-12-02T07:26:12.988Z"
   },
   {
    "duration": 402,
    "start_time": "2022-12-02T07:26:12.996Z"
   },
   {
    "duration": 637,
    "start_time": "2022-12-02T07:26:13.400Z"
   },
   {
    "duration": 4,
    "start_time": "2022-12-02T07:26:14.040Z"
   },
   {
    "duration": 9,
    "start_time": "2022-12-02T07:26:14.045Z"
   },
   {
    "duration": 393,
    "start_time": "2022-12-02T07:26:14.056Z"
   },
   {
    "duration": 5,
    "start_time": "2022-12-02T07:26:14.451Z"
   },
   {
    "duration": 10,
    "start_time": "2022-12-02T07:26:14.458Z"
   },
   {
    "duration": 1017,
    "start_time": "2022-12-02T07:26:14.470Z"
   },
   {
    "duration": 13,
    "start_time": "2022-12-02T07:27:24.016Z"
   },
   {
    "duration": 4,
    "start_time": "2022-12-02T07:27:34.636Z"
   },
   {
    "duration": 4,
    "start_time": "2022-12-02T07:27:36.252Z"
   },
   {
    "duration": 3354,
    "start_time": "2022-12-02T07:32:11.942Z"
   },
   {
    "duration": 3137,
    "start_time": "2022-12-02T07:32:25.951Z"
   },
   {
    "duration": 3192,
    "start_time": "2022-12-02T07:32:39.161Z"
   },
   {
    "duration": 7,
    "start_time": "2022-12-02T07:33:22.104Z"
   },
   {
    "duration": 3093,
    "start_time": "2022-12-02T07:33:40.722Z"
   },
   {
    "duration": 7,
    "start_time": "2022-12-02T07:33:58.254Z"
   },
   {
    "duration": 7,
    "start_time": "2022-12-02T07:34:21.927Z"
   },
   {
    "duration": 3173,
    "start_time": "2022-12-02T07:34:34.415Z"
   },
   {
    "duration": 2971,
    "start_time": "2022-12-02T07:41:39.853Z"
   },
   {
    "duration": 3056,
    "start_time": "2022-12-02T07:42:16.707Z"
   },
   {
    "duration": 3131,
    "start_time": "2022-12-02T07:42:33.627Z"
   },
   {
    "duration": 1415,
    "start_time": "2022-12-02T07:43:51.642Z"
   },
   {
    "duration": 2876,
    "start_time": "2022-12-02T07:43:53.060Z"
   },
   {
    "duration": 161,
    "start_time": "2022-12-02T07:43:55.938Z"
   },
   {
    "duration": 76,
    "start_time": "2022-12-02T07:43:56.101Z"
   },
   {
    "duration": 33,
    "start_time": "2022-12-02T07:43:56.180Z"
   },
   {
    "duration": 20,
    "start_time": "2022-12-02T07:43:56.215Z"
   },
   {
    "duration": 2,
    "start_time": "2022-12-02T07:43:56.237Z"
   },
   {
    "duration": 9,
    "start_time": "2022-12-02T07:43:56.241Z"
   },
   {
    "duration": 81,
    "start_time": "2022-12-02T07:43:56.251Z"
   },
   {
    "duration": 33,
    "start_time": "2022-12-02T07:43:56.334Z"
   },
   {
    "duration": 7,
    "start_time": "2022-12-02T07:43:56.369Z"
   },
   {
    "duration": 19,
    "start_time": "2022-12-02T07:43:56.378Z"
   },
   {
    "duration": 9,
    "start_time": "2022-12-02T07:43:56.414Z"
   },
   {
    "duration": 9,
    "start_time": "2022-12-02T07:43:56.426Z"
   },
   {
    "duration": 35,
    "start_time": "2022-12-02T07:43:56.438Z"
   },
   {
    "duration": 9,
    "start_time": "2022-12-02T07:43:56.476Z"
   },
   {
    "duration": 33,
    "start_time": "2022-12-02T07:43:56.487Z"
   },
   {
    "duration": 16,
    "start_time": "2022-12-02T07:43:56.523Z"
   },
   {
    "duration": 10,
    "start_time": "2022-12-02T07:43:56.541Z"
   },
   {
    "duration": 10,
    "start_time": "2022-12-02T07:43:56.553Z"
   },
   {
    "duration": 9,
    "start_time": "2022-12-02T07:43:56.565Z"
   },
   {
    "duration": 44,
    "start_time": "2022-12-02T07:43:56.576Z"
   },
   {
    "duration": 10,
    "start_time": "2022-12-02T07:43:56.622Z"
   },
   {
    "duration": 38,
    "start_time": "2022-12-02T07:43:56.634Z"
   },
   {
    "duration": 7,
    "start_time": "2022-12-02T07:43:56.674Z"
   },
   {
    "duration": 6,
    "start_time": "2022-12-02T07:43:56.683Z"
   },
   {
    "duration": 23,
    "start_time": "2022-12-02T07:43:56.691Z"
   },
   {
    "duration": 6,
    "start_time": "2022-12-02T07:43:56.716Z"
   },
   {
    "duration": 64,
    "start_time": "2022-12-02T07:43:56.723Z"
   },
   {
    "duration": 46,
    "start_time": "2022-12-02T07:43:56.789Z"
   },
   {
    "duration": 50,
    "start_time": "2022-12-02T07:43:56.837Z"
   },
   {
    "duration": 157,
    "start_time": "2022-12-02T07:43:56.889Z"
   },
   {
    "duration": 6,
    "start_time": "2022-12-02T07:43:57.048Z"
   },
   {
    "duration": 160,
    "start_time": "2022-12-02T07:43:57.056Z"
   },
   {
    "duration": 16,
    "start_time": "2022-12-02T07:43:57.218Z"
   },
   {
    "duration": 34,
    "start_time": "2022-12-02T07:43:57.236Z"
   },
   {
    "duration": 7,
    "start_time": "2022-12-02T07:43:57.274Z"
   },
   {
    "duration": 53,
    "start_time": "2022-12-02T07:43:57.282Z"
   },
   {
    "duration": 4,
    "start_time": "2022-12-02T07:43:57.337Z"
   },
   {
    "duration": 5,
    "start_time": "2022-12-02T07:43:57.343Z"
   },
   {
    "duration": 5,
    "start_time": "2022-12-02T07:43:57.353Z"
   },
   {
    "duration": 700,
    "start_time": "2022-12-02T07:43:57.360Z"
   },
   {
    "duration": 219,
    "start_time": "2022-12-02T07:43:58.062Z"
   },
   {
    "duration": 160,
    "start_time": "2022-12-02T07:43:58.282Z"
   },
   {
    "duration": 76,
    "start_time": "2022-12-02T07:43:58.443Z"
   },
   {
    "duration": 311,
    "start_time": "2022-12-02T07:43:58.521Z"
   },
   {
    "duration": 7,
    "start_time": "2022-12-02T07:43:58.834Z"
   },
   {
    "duration": 16,
    "start_time": "2022-12-02T07:43:58.842Z"
   },
   {
    "duration": 8,
    "start_time": "2022-12-02T07:43:58.860Z"
   },
   {
    "duration": 158,
    "start_time": "2022-12-02T07:43:58.870Z"
   },
   {
    "duration": 96,
    "start_time": "2022-12-02T07:43:59.029Z"
   },
   {
    "duration": 63,
    "start_time": "2022-12-02T07:43:59.126Z"
   },
   {
    "duration": 5,
    "start_time": "2022-12-02T07:43:59.191Z"
   },
   {
    "duration": 41,
    "start_time": "2022-12-02T07:43:59.198Z"
   },
   {
    "duration": 27,
    "start_time": "2022-12-02T07:43:59.241Z"
   },
   {
    "duration": 2799,
    "start_time": "2022-12-02T07:43:59.311Z"
   },
   {
    "duration": 28,
    "start_time": "2022-12-02T07:44:02.112Z"
   },
   {
    "duration": 12296,
    "start_time": "2022-12-02T07:44:02.142Z"
   },
   {
    "duration": 28,
    "start_time": "2022-12-02T07:44:14.513Z"
   },
   {
    "duration": 15521,
    "start_time": "2022-12-02T07:44:14.543Z"
   },
   {
    "duration": 3023,
    "start_time": "2022-12-02T07:44:30.066Z"
   },
   {
    "duration": 5,
    "start_time": "2022-12-02T07:44:33.090Z"
   },
   {
    "duration": 369,
    "start_time": "2022-12-02T07:44:33.097Z"
   },
   {
    "duration": 582,
    "start_time": "2022-12-02T07:44:33.468Z"
   },
   {
    "duration": 4,
    "start_time": "2022-12-02T07:44:34.052Z"
   },
   {
    "duration": 14,
    "start_time": "2022-12-02T07:44:34.057Z"
   },
   {
    "duration": 229,
    "start_time": "2022-12-02T07:44:34.072Z"
   },
   {
    "duration": 5,
    "start_time": "2022-12-02T07:44:34.303Z"
   },
   {
    "duration": 7,
    "start_time": "2022-12-02T07:44:34.312Z"
   },
   {
    "duration": 1002,
    "start_time": "2022-12-02T07:44:34.321Z"
   },
   {
    "duration": 143,
    "start_time": "2022-12-02T07:45:50.320Z"
   },
   {
    "duration": 139,
    "start_time": "2022-12-02T07:45:59.006Z"
   },
   {
    "duration": 139,
    "start_time": "2022-12-02T07:46:03.485Z"
   },
   {
    "duration": 154,
    "start_time": "2022-12-02T07:46:08.112Z"
   },
   {
    "duration": 141,
    "start_time": "2022-12-02T07:46:12.061Z"
   },
   {
    "duration": 13,
    "start_time": "2022-12-02T07:46:18.951Z"
   },
   {
    "duration": 23,
    "start_time": "2022-12-02T07:46:24.190Z"
   },
   {
    "duration": 23,
    "start_time": "2022-12-02T07:46:33.619Z"
   },
   {
    "duration": 141,
    "start_time": "2022-12-02T07:46:44.641Z"
   },
   {
    "duration": 385,
    "start_time": "2022-12-02T07:46:53.616Z"
   },
   {
    "duration": 361,
    "start_time": "2022-12-02T07:47:19.821Z"
   },
   {
    "duration": 379,
    "start_time": "2022-12-02T07:47:39.140Z"
   },
   {
    "duration": 154,
    "start_time": "2022-12-02T07:47:43.785Z"
   },
   {
    "duration": 150,
    "start_time": "2022-12-02T07:47:48.020Z"
   },
   {
    "duration": 381,
    "start_time": "2022-12-02T07:47:48.173Z"
   },
   {
    "duration": 140,
    "start_time": "2022-12-02T07:47:51.581Z"
   },
   {
    "duration": 5,
    "start_time": "2022-12-02T07:48:28.087Z"
   },
   {
    "duration": 136,
    "start_time": "2022-12-02T07:48:29.992Z"
   },
   {
    "duration": 4,
    "start_time": "2022-12-02T07:48:46.628Z"
   },
   {
    "duration": 370,
    "start_time": "2022-12-02T07:48:46.793Z"
   },
   {
    "duration": 62,
    "start_time": "2022-12-02T07:49:42.393Z"
   },
   {
    "duration": 11367,
    "start_time": "2022-12-02T07:50:03.154Z"
   },
   {
    "duration": 11326,
    "start_time": "2022-12-02T07:50:23.092Z"
   },
   {
    "duration": 96,
    "start_time": "2022-12-02T07:50:34.420Z"
   },
   {
    "duration": 437,
    "start_time": "2022-12-02T07:50:34.518Z"
   },
   {
    "duration": 653,
    "start_time": "2022-12-02T07:50:39.991Z"
   },
   {
    "duration": 3152,
    "start_time": "2022-12-02T07:51:29.601Z"
   },
   {
    "duration": 4,
    "start_time": "2022-12-02T07:52:13.732Z"
   },
   {
    "duration": 397,
    "start_time": "2022-12-02T07:52:15.988Z"
   },
   {
    "duration": 538,
    "start_time": "2022-12-02T07:52:20.099Z"
   },
   {
    "duration": 965,
    "start_time": "2022-12-02T07:58:34.282Z"
   },
   {
    "duration": 17,
    "start_time": "2022-12-02T08:05:33.411Z"
   },
   {
    "duration": 141,
    "start_time": "2022-12-02T08:05:44.488Z"
   },
   {
    "duration": 188,
    "start_time": "2022-12-02T08:05:51.702Z"
   },
   {
    "duration": 5,
    "start_time": "2022-12-02T08:06:27.844Z"
   },
   {
    "duration": 1434,
    "start_time": "2022-12-02T08:10:12.151Z"
   },
   {
    "duration": 3205,
    "start_time": "2022-12-02T08:10:13.588Z"
   },
   {
    "duration": 166,
    "start_time": "2022-12-02T08:10:16.795Z"
   },
   {
    "duration": 79,
    "start_time": "2022-12-02T08:10:16.963Z"
   },
   {
    "duration": 29,
    "start_time": "2022-12-02T08:10:17.044Z"
   },
   {
    "duration": 19,
    "start_time": "2022-12-02T08:10:17.074Z"
   },
   {
    "duration": 17,
    "start_time": "2022-12-02T08:10:17.095Z"
   },
   {
    "duration": 6,
    "start_time": "2022-12-02T08:10:17.114Z"
   },
   {
    "duration": 62,
    "start_time": "2022-12-02T08:10:17.121Z"
   },
   {
    "duration": 53,
    "start_time": "2022-12-02T08:10:17.186Z"
   },
   {
    "duration": 6,
    "start_time": "2022-12-02T08:10:17.241Z"
   },
   {
    "duration": 7,
    "start_time": "2022-12-02T08:10:17.249Z"
   },
   {
    "duration": 9,
    "start_time": "2022-12-02T08:10:17.258Z"
   },
   {
    "duration": 6,
    "start_time": "2022-12-02T08:10:17.268Z"
   },
   {
    "duration": 56,
    "start_time": "2022-12-02T08:10:17.276Z"
   },
   {
    "duration": 7,
    "start_time": "2022-12-02T08:10:17.334Z"
   },
   {
    "duration": 6,
    "start_time": "2022-12-02T08:10:17.343Z"
   },
   {
    "duration": 16,
    "start_time": "2022-12-02T08:10:17.351Z"
   },
   {
    "duration": 6,
    "start_time": "2022-12-02T08:10:17.368Z"
   },
   {
    "duration": 12,
    "start_time": "2022-12-02T08:10:17.376Z"
   },
   {
    "duration": 6,
    "start_time": "2022-12-02T08:10:17.413Z"
   },
   {
    "duration": 13,
    "start_time": "2022-12-02T08:10:17.421Z"
   },
   {
    "duration": 10,
    "start_time": "2022-12-02T08:10:17.436Z"
   },
   {
    "duration": 23,
    "start_time": "2022-12-02T08:10:17.448Z"
   },
   {
    "duration": 7,
    "start_time": "2022-12-02T08:10:17.473Z"
   },
   {
    "duration": 36,
    "start_time": "2022-12-02T08:10:17.481Z"
   },
   {
    "duration": 13,
    "start_time": "2022-12-02T08:10:17.519Z"
   },
   {
    "duration": 6,
    "start_time": "2022-12-02T08:10:17.536Z"
   },
   {
    "duration": 69,
    "start_time": "2022-12-02T08:10:17.544Z"
   },
   {
    "duration": 31,
    "start_time": "2022-12-02T08:10:17.615Z"
   },
   {
    "duration": 44,
    "start_time": "2022-12-02T08:10:17.648Z"
   },
   {
    "duration": 176,
    "start_time": "2022-12-02T08:10:17.694Z"
   },
   {
    "duration": 8,
    "start_time": "2022-12-02T08:10:17.872Z"
   },
   {
    "duration": 154,
    "start_time": "2022-12-02T08:10:17.882Z"
   },
   {
    "duration": 17,
    "start_time": "2022-12-02T08:10:18.038Z"
   },
   {
    "duration": 33,
    "start_time": "2022-12-02T08:10:18.057Z"
   },
   {
    "duration": 8,
    "start_time": "2022-12-02T08:10:18.113Z"
   },
   {
    "duration": 29,
    "start_time": "2022-12-02T08:10:18.123Z"
   },
   {
    "duration": 5,
    "start_time": "2022-12-02T08:10:18.154Z"
   },
   {
    "duration": 7,
    "start_time": "2022-12-02T08:10:18.161Z"
   },
   {
    "duration": 9,
    "start_time": "2022-12-02T08:10:18.170Z"
   },
   {
    "duration": 694,
    "start_time": "2022-12-02T08:10:18.180Z"
   },
   {
    "duration": 233,
    "start_time": "2022-12-02T08:10:18.876Z"
   },
   {
    "duration": 77,
    "start_time": "2022-12-02T08:10:19.112Z"
   },
   {
    "duration": 129,
    "start_time": "2022-12-02T08:10:19.191Z"
   },
   {
    "duration": 297,
    "start_time": "2022-12-02T08:10:19.322Z"
   },
   {
    "duration": 7,
    "start_time": "2022-12-02T08:10:19.620Z"
   },
   {
    "duration": 8,
    "start_time": "2022-12-02T08:10:19.629Z"
   },
   {
    "duration": 5,
    "start_time": "2022-12-02T08:10:19.639Z"
   },
   {
    "duration": 199,
    "start_time": "2022-12-02T08:10:19.646Z"
   },
   {
    "duration": 135,
    "start_time": "2022-12-02T08:10:19.847Z"
   },
   {
    "duration": 89,
    "start_time": "2022-12-02T08:10:19.984Z"
   },
   {
    "duration": 6,
    "start_time": "2022-12-02T08:10:20.075Z"
   },
   {
    "duration": 42,
    "start_time": "2022-12-02T08:10:20.082Z"
   },
   {
    "duration": 30,
    "start_time": "2022-12-02T08:10:20.127Z"
   },
   {
    "duration": 5163,
    "start_time": "2022-12-02T08:10:20.159Z"
   },
   {
    "duration": 31,
    "start_time": "2022-12-02T08:10:25.324Z"
   },
   {
    "duration": 19184,
    "start_time": "2022-12-02T08:10:25.357Z"
   },
   {
    "duration": 99,
    "start_time": "2022-12-02T08:10:44.613Z"
   },
   {
    "duration": 25724,
    "start_time": "2022-12-02T08:10:44.714Z"
   },
   {
    "duration": 5140,
    "start_time": "2022-12-02T08:11:10.439Z"
   },
   {
    "duration": 5,
    "start_time": "2022-12-02T08:11:15.581Z"
   },
   {
    "duration": 844,
    "start_time": "2022-12-02T08:11:15.588Z"
   },
   {
    "duration": 0,
    "start_time": "2022-12-02T08:11:16.434Z"
   },
   {
    "duration": 0,
    "start_time": "2022-12-02T08:11:16.436Z"
   },
   {
    "duration": 0,
    "start_time": "2022-12-02T08:11:16.438Z"
   },
   {
    "duration": 0,
    "start_time": "2022-12-02T08:11:16.440Z"
   },
   {
    "duration": 0,
    "start_time": "2022-12-02T08:11:16.442Z"
   },
   {
    "duration": 0,
    "start_time": "2022-12-02T08:11:16.444Z"
   },
   {
    "duration": 0,
    "start_time": "2022-12-02T08:11:16.446Z"
   },
   {
    "duration": 52,
    "start_time": "2022-12-02T14:11:18.450Z"
   },
   {
    "duration": 1738,
    "start_time": "2022-12-02T14:11:22.910Z"
   },
   {
    "duration": 15143,
    "start_time": "2022-12-02T14:11:24.651Z"
   },
   {
    "duration": 570,
    "start_time": "2022-12-02T14:11:39.798Z"
   },
   {
    "duration": 285,
    "start_time": "2022-12-02T14:11:40.370Z"
   },
   {
    "duration": 29,
    "start_time": "2022-12-02T14:11:40.656Z"
   },
   {
    "duration": 30,
    "start_time": "2022-12-02T14:11:40.687Z"
   },
   {
    "duration": 19,
    "start_time": "2022-12-02T14:11:40.719Z"
   },
   {
    "duration": 25,
    "start_time": "2022-12-02T14:11:40.740Z"
   },
   {
    "duration": 65,
    "start_time": "2022-12-02T14:11:40.767Z"
   },
   {
    "duration": 30,
    "start_time": "2022-12-02T14:11:40.835Z"
   },
   {
    "duration": 8,
    "start_time": "2022-12-02T14:11:40.867Z"
   },
   {
    "duration": 21,
    "start_time": "2022-12-02T14:11:40.877Z"
   },
   {
    "duration": 27,
    "start_time": "2022-12-02T14:11:40.902Z"
   },
   {
    "duration": 8,
    "start_time": "2022-12-02T14:11:40.930Z"
   },
   {
    "duration": 36,
    "start_time": "2022-12-02T14:11:40.939Z"
   },
   {
    "duration": 7,
    "start_time": "2022-12-02T14:11:40.977Z"
   },
   {
    "duration": 12,
    "start_time": "2022-12-02T14:11:40.985Z"
   },
   {
    "duration": 24,
    "start_time": "2022-12-02T14:11:40.999Z"
   },
   {
    "duration": 14,
    "start_time": "2022-12-02T14:11:41.025Z"
   },
   {
    "duration": 34,
    "start_time": "2022-12-02T14:11:41.041Z"
   },
   {
    "duration": 27,
    "start_time": "2022-12-02T14:11:41.077Z"
   },
   {
    "duration": 27,
    "start_time": "2022-12-02T14:11:41.106Z"
   },
   {
    "duration": 37,
    "start_time": "2022-12-02T14:11:41.136Z"
   },
   {
    "duration": 32,
    "start_time": "2022-12-02T14:11:41.175Z"
   },
   {
    "duration": 42,
    "start_time": "2022-12-02T14:11:41.210Z"
   },
   {
    "duration": 13,
    "start_time": "2022-12-02T14:11:41.253Z"
   },
   {
    "duration": 37,
    "start_time": "2022-12-02T14:11:41.268Z"
   },
   {
    "duration": 28,
    "start_time": "2022-12-02T14:11:41.307Z"
   },
   {
    "duration": 77,
    "start_time": "2022-12-02T14:11:41.337Z"
   },
   {
    "duration": 31,
    "start_time": "2022-12-02T14:11:41.415Z"
   },
   {
    "duration": 64,
    "start_time": "2022-12-02T14:11:41.448Z"
   },
   {
    "duration": 283,
    "start_time": "2022-12-02T14:11:41.514Z"
   },
   {
    "duration": 6,
    "start_time": "2022-12-02T14:11:41.798Z"
   },
   {
    "duration": 49,
    "start_time": "2022-12-02T14:11:41.806Z"
   },
   {
    "duration": 20,
    "start_time": "2022-12-02T14:11:41.857Z"
   },
   {
    "duration": 48,
    "start_time": "2022-12-02T14:11:41.879Z"
   },
   {
    "duration": 13,
    "start_time": "2022-12-02T14:11:41.929Z"
   },
   {
    "duration": 41,
    "start_time": "2022-12-02T14:11:41.944Z"
   },
   {
    "duration": 4,
    "start_time": "2022-12-02T14:11:41.987Z"
   },
   {
    "duration": 12,
    "start_time": "2022-12-02T14:11:41.995Z"
   },
   {
    "duration": 11,
    "start_time": "2022-12-02T14:11:42.009Z"
   },
   {
    "duration": 678,
    "start_time": "2022-12-02T14:11:42.022Z"
   },
   {
    "duration": 303,
    "start_time": "2022-12-02T14:11:42.701Z"
   },
   {
    "duration": 59,
    "start_time": "2022-12-02T14:11:43.005Z"
   },
   {
    "duration": 297,
    "start_time": "2022-12-02T14:11:43.066Z"
   },
   {
    "duration": 9,
    "start_time": "2022-12-02T14:11:43.365Z"
   },
   {
    "duration": 25,
    "start_time": "2022-12-02T14:11:43.377Z"
   },
   {
    "duration": 24,
    "start_time": "2022-12-02T14:11:43.404Z"
   },
   {
    "duration": 146,
    "start_time": "2022-12-02T14:11:43.430Z"
   },
   {
    "duration": 102,
    "start_time": "2022-12-02T14:11:43.578Z"
   },
   {
    "duration": 66,
    "start_time": "2022-12-02T14:11:43.682Z"
   },
   {
    "duration": 6,
    "start_time": "2022-12-02T14:11:43.749Z"
   },
   {
    "duration": 44,
    "start_time": "2022-12-02T14:11:43.757Z"
   },
   {
    "duration": 52,
    "start_time": "2022-12-02T14:11:43.803Z"
   },
   {
    "duration": 2893,
    "start_time": "2022-12-02T14:11:43.857Z"
   },
   {
    "duration": 27,
    "start_time": "2022-12-02T14:11:46.752Z"
   },
   {
    "duration": 10858,
    "start_time": "2022-12-02T14:11:46.781Z"
   },
   {
    "duration": 116,
    "start_time": "2022-12-02T14:11:57.645Z"
   },
   {
    "duration": 15395,
    "start_time": "2022-12-02T14:11:57.763Z"
   },
   {
    "duration": 3074,
    "start_time": "2022-12-02T14:12:13.160Z"
   },
   {
    "duration": 5,
    "start_time": "2022-12-02T14:12:16.237Z"
   },
   {
    "duration": 446,
    "start_time": "2022-12-02T14:12:16.243Z"
   },
   {
    "duration": 1182,
    "start_time": "2022-12-02T14:12:16.690Z"
   },
   {
    "duration": 5,
    "start_time": "2022-12-02T14:12:17.874Z"
   },
   {
    "duration": 20,
    "start_time": "2022-12-02T14:12:17.880Z"
   },
   {
    "duration": 284,
    "start_time": "2022-12-02T14:12:17.902Z"
   },
   {
    "duration": 5,
    "start_time": "2022-12-02T14:12:18.188Z"
   },
   {
    "duration": 8,
    "start_time": "2022-12-02T14:12:18.195Z"
   },
   {
    "duration": 1504,
    "start_time": "2022-12-02T14:12:18.204Z"
   },
   {
    "duration": 1463,
    "start_time": "2022-12-02T14:19:45.924Z"
   },
   {
    "duration": 3136,
    "start_time": "2022-12-02T14:19:47.389Z"
   },
   {
    "duration": 173,
    "start_time": "2022-12-02T14:19:50.527Z"
   },
   {
    "duration": 83,
    "start_time": "2022-12-02T14:19:50.702Z"
   },
   {
    "duration": 29,
    "start_time": "2022-12-02T14:19:50.787Z"
   },
   {
    "duration": 31,
    "start_time": "2022-12-02T14:19:50.817Z"
   },
   {
    "duration": 3,
    "start_time": "2022-12-02T14:19:50.849Z"
   },
   {
    "duration": 25,
    "start_time": "2022-12-02T14:19:50.853Z"
   },
   {
    "duration": 69,
    "start_time": "2022-12-02T14:19:50.879Z"
   },
   {
    "duration": 27,
    "start_time": "2022-12-02T14:19:50.950Z"
   },
   {
    "duration": 7,
    "start_time": "2022-12-02T14:19:50.979Z"
   },
   {
    "duration": 13,
    "start_time": "2022-12-02T14:19:50.987Z"
   },
   {
    "duration": 29,
    "start_time": "2022-12-02T14:19:51.002Z"
   },
   {
    "duration": 14,
    "start_time": "2022-12-02T14:19:51.036Z"
   },
   {
    "duration": 38,
    "start_time": "2022-12-02T14:19:51.051Z"
   },
   {
    "duration": 24,
    "start_time": "2022-12-02T14:19:51.091Z"
   },
   {
    "duration": 20,
    "start_time": "2022-12-02T14:19:51.117Z"
   },
   {
    "duration": 36,
    "start_time": "2022-12-02T14:19:51.138Z"
   },
   {
    "duration": 14,
    "start_time": "2022-12-02T14:19:51.175Z"
   },
   {
    "duration": 17,
    "start_time": "2022-12-02T14:19:51.191Z"
   },
   {
    "duration": 16,
    "start_time": "2022-12-02T14:19:51.210Z"
   },
   {
    "duration": 16,
    "start_time": "2022-12-02T14:19:51.228Z"
   },
   {
    "duration": 22,
    "start_time": "2022-12-02T14:19:51.246Z"
   },
   {
    "duration": 33,
    "start_time": "2022-12-02T14:19:51.270Z"
   },
   {
    "duration": 8,
    "start_time": "2022-12-02T14:19:51.305Z"
   },
   {
    "duration": 10,
    "start_time": "2022-12-02T14:19:51.314Z"
   },
   {
    "duration": 15,
    "start_time": "2022-12-02T14:19:51.325Z"
   },
   {
    "duration": 8,
    "start_time": "2022-12-02T14:19:51.345Z"
   },
   {
    "duration": 64,
    "start_time": "2022-12-02T14:19:51.355Z"
   },
   {
    "duration": 45,
    "start_time": "2022-12-02T14:19:51.421Z"
   },
   {
    "duration": 65,
    "start_time": "2022-12-02T14:19:51.467Z"
   },
   {
    "duration": 168,
    "start_time": "2022-12-02T14:19:51.534Z"
   },
   {
    "duration": 5,
    "start_time": "2022-12-02T14:19:51.704Z"
   },
   {
    "duration": 166,
    "start_time": "2022-12-02T14:19:51.710Z"
   },
   {
    "duration": 18,
    "start_time": "2022-12-02T14:19:51.878Z"
   },
   {
    "duration": 54,
    "start_time": "2022-12-02T14:19:51.898Z"
   },
   {
    "duration": 9,
    "start_time": "2022-12-02T14:19:51.954Z"
   },
   {
    "duration": 33,
    "start_time": "2022-12-02T14:19:51.965Z"
   },
   {
    "duration": 5,
    "start_time": "2022-12-02T14:19:52.000Z"
   },
   {
    "duration": 16,
    "start_time": "2022-12-02T14:19:52.007Z"
   },
   {
    "duration": 19,
    "start_time": "2022-12-02T14:19:52.025Z"
   },
   {
    "duration": 670,
    "start_time": "2022-12-02T14:19:52.046Z"
   },
   {
    "duration": 319,
    "start_time": "2022-12-02T14:19:52.718Z"
   },
   {
    "duration": 48,
    "start_time": "2022-12-02T14:19:53.039Z"
   },
   {
    "duration": 317,
    "start_time": "2022-12-02T14:19:53.089Z"
   },
   {
    "duration": 8,
    "start_time": "2022-12-02T14:19:53.408Z"
   },
   {
    "duration": 4,
    "start_time": "2022-12-02T14:19:53.418Z"
   },
   {
    "duration": 17,
    "start_time": "2022-12-02T14:19:53.423Z"
   },
   {
    "duration": 136,
    "start_time": "2022-12-02T14:19:53.442Z"
   },
   {
    "duration": 94,
    "start_time": "2022-12-02T14:19:53.580Z"
   },
   {
    "duration": 62,
    "start_time": "2022-12-02T14:19:53.676Z"
   },
   {
    "duration": 5,
    "start_time": "2022-12-02T14:19:53.740Z"
   },
   {
    "duration": 36,
    "start_time": "2022-12-02T14:19:53.747Z"
   },
   {
    "duration": 65,
    "start_time": "2022-12-02T14:19:53.785Z"
   },
   {
    "duration": 2745,
    "start_time": "2022-12-02T14:19:53.853Z"
   },
   {
    "duration": 48,
    "start_time": "2022-12-02T14:19:56.599Z"
   },
   {
    "duration": 11590,
    "start_time": "2022-12-02T14:19:56.649Z"
   },
   {
    "duration": 125,
    "start_time": "2022-12-02T14:20:08.241Z"
   },
   {
    "duration": 15053,
    "start_time": "2022-12-02T14:20:08.368Z"
   },
   {
    "duration": 3106,
    "start_time": "2022-12-02T14:20:23.423Z"
   },
   {
    "duration": 10,
    "start_time": "2022-12-02T14:20:26.531Z"
   },
   {
    "duration": 451,
    "start_time": "2022-12-02T14:20:26.543Z"
   },
   {
    "duration": 1070,
    "start_time": "2022-12-02T14:20:26.996Z"
   },
   {
    "duration": 3,
    "start_time": "2022-12-02T14:20:28.068Z"
   },
   {
    "duration": 9,
    "start_time": "2022-12-02T14:20:28.073Z"
   },
   {
    "duration": 297,
    "start_time": "2022-12-02T14:20:28.084Z"
   },
   {
    "duration": 5,
    "start_time": "2022-12-02T14:20:28.383Z"
   },
   {
    "duration": 10,
    "start_time": "2022-12-02T14:20:28.390Z"
   },
   {
    "duration": 1857,
    "start_time": "2022-12-02T14:20:28.402Z"
   },
   {
    "duration": 33,
    "start_time": "2022-12-02T14:23:44.963Z"
   },
   {
    "duration": 1785,
    "start_time": "2022-12-02T14:23:58.560Z"
   },
   {
    "duration": 3083,
    "start_time": "2022-12-02T14:24:00.347Z"
   },
   {
    "duration": 168,
    "start_time": "2022-12-02T14:24:03.432Z"
   },
   {
    "duration": 91,
    "start_time": "2022-12-02T14:24:03.603Z"
   },
   {
    "duration": 31,
    "start_time": "2022-12-02T14:24:03.696Z"
   },
   {
    "duration": 20,
    "start_time": "2022-12-02T14:24:03.738Z"
   },
   {
    "duration": 3,
    "start_time": "2022-12-02T14:24:03.760Z"
   },
   {
    "duration": 11,
    "start_time": "2022-12-02T14:24:03.764Z"
   },
   {
    "duration": 81,
    "start_time": "2022-12-02T14:24:03.776Z"
   },
   {
    "duration": 31,
    "start_time": "2022-12-02T14:24:03.860Z"
   },
   {
    "duration": 8,
    "start_time": "2022-12-02T14:24:03.893Z"
   },
   {
    "duration": 6,
    "start_time": "2022-12-02T14:24:03.903Z"
   },
   {
    "duration": 9,
    "start_time": "2022-12-02T14:24:03.938Z"
   },
   {
    "duration": 6,
    "start_time": "2022-12-02T14:24:03.949Z"
   },
   {
    "duration": 25,
    "start_time": "2022-12-02T14:24:03.957Z"
   },
   {
    "duration": 7,
    "start_time": "2022-12-02T14:24:03.984Z"
   },
   {
    "duration": 9,
    "start_time": "2022-12-02T14:24:03.993Z"
   },
   {
    "duration": 40,
    "start_time": "2022-12-02T14:24:04.004Z"
   },
   {
    "duration": 5,
    "start_time": "2022-12-02T14:24:04.046Z"
   },
   {
    "duration": 8,
    "start_time": "2022-12-02T14:24:04.053Z"
   },
   {
    "duration": 5,
    "start_time": "2022-12-02T14:24:04.062Z"
   },
   {
    "duration": 10,
    "start_time": "2022-12-02T14:24:04.069Z"
   },
   {
    "duration": 5,
    "start_time": "2022-12-02T14:24:04.081Z"
   },
   {
    "duration": 60,
    "start_time": "2022-12-02T14:24:04.088Z"
   },
   {
    "duration": 9,
    "start_time": "2022-12-02T14:24:04.150Z"
   },
   {
    "duration": 39,
    "start_time": "2022-12-02T14:24:04.161Z"
   },
   {
    "duration": 25,
    "start_time": "2022-12-02T14:24:04.202Z"
   },
   {
    "duration": 10,
    "start_time": "2022-12-02T14:24:04.232Z"
   },
   {
    "duration": 77,
    "start_time": "2022-12-02T14:24:04.244Z"
   },
   {
    "duration": 31,
    "start_time": "2022-12-02T14:24:04.322Z"
   },
   {
    "duration": 62,
    "start_time": "2022-12-02T14:24:04.355Z"
   },
   {
    "duration": 153,
    "start_time": "2022-12-02T14:24:04.420Z"
   },
   {
    "duration": 126,
    "start_time": "2022-12-02T14:24:04.575Z"
   },
   {
    "duration": 37,
    "start_time": "2022-12-02T14:24:04.703Z"
   },
   {
    "duration": 16,
    "start_time": "2022-12-02T14:24:04.742Z"
   },
   {
    "duration": 31,
    "start_time": "2022-12-02T14:24:04.760Z"
   },
   {
    "duration": 7,
    "start_time": "2022-12-02T14:24:04.793Z"
   },
   {
    "duration": 52,
    "start_time": "2022-12-02T14:24:04.802Z"
   },
   {
    "duration": 4,
    "start_time": "2022-12-02T14:24:04.855Z"
   },
   {
    "duration": 7,
    "start_time": "2022-12-02T14:24:04.861Z"
   },
   {
    "duration": 8,
    "start_time": "2022-12-02T14:24:04.870Z"
   },
   {
    "duration": 646,
    "start_time": "2022-12-02T14:24:04.879Z"
   },
   {
    "duration": 218,
    "start_time": "2022-12-02T14:24:05.527Z"
   },
   {
    "duration": 51,
    "start_time": "2022-12-02T14:24:05.747Z"
   },
   {
    "duration": 316,
    "start_time": "2022-12-02T14:24:05.800Z"
   },
   {
    "duration": 19,
    "start_time": "2022-12-02T14:24:06.118Z"
   },
   {
    "duration": 5,
    "start_time": "2022-12-02T14:24:06.139Z"
   },
   {
    "duration": 6,
    "start_time": "2022-12-02T14:24:06.145Z"
   },
   {
    "duration": 145,
    "start_time": "2022-12-02T14:24:06.153Z"
   },
   {
    "duration": 95,
    "start_time": "2022-12-02T14:24:06.301Z"
   },
   {
    "duration": 58,
    "start_time": "2022-12-02T14:24:06.398Z"
   },
   {
    "duration": 7,
    "start_time": "2022-12-02T14:24:06.457Z"
   },
   {
    "duration": 32,
    "start_time": "2022-12-02T14:24:06.466Z"
   },
   {
    "duration": 56,
    "start_time": "2022-12-02T14:24:06.500Z"
   },
   {
    "duration": 2991,
    "start_time": "2022-12-02T14:24:06.558Z"
   },
   {
    "duration": 31,
    "start_time": "2022-12-02T14:24:09.553Z"
   },
   {
    "duration": 11770,
    "start_time": "2022-12-02T14:24:09.586Z"
   },
   {
    "duration": 108,
    "start_time": "2022-12-02T14:24:21.441Z"
   },
   {
    "duration": 15606,
    "start_time": "2022-12-02T14:24:21.552Z"
   },
   {
    "duration": 3122,
    "start_time": "2022-12-02T14:24:37.160Z"
   },
   {
    "duration": 6,
    "start_time": "2022-12-02T14:24:40.284Z"
   },
   {
    "duration": 422,
    "start_time": "2022-12-02T14:24:40.291Z"
   },
   {
    "duration": 1043,
    "start_time": "2022-12-02T14:24:40.714Z"
   },
   {
    "duration": 4,
    "start_time": "2022-12-02T14:24:41.759Z"
   },
   {
    "duration": 12,
    "start_time": "2022-12-02T14:24:41.764Z"
   },
   {
    "duration": 329,
    "start_time": "2022-12-02T14:24:41.778Z"
   },
   {
    "duration": 5,
    "start_time": "2022-12-02T14:24:42.108Z"
   },
   {
    "duration": 12,
    "start_time": "2022-12-02T14:24:42.115Z"
   },
   {
    "duration": 1440,
    "start_time": "2022-12-02T14:24:42.137Z"
   },
   {
    "duration": 3278,
    "start_time": "2022-12-02T14:38:35.893Z"
   },
   {
    "duration": 8,
    "start_time": "2022-12-02T14:50:23.317Z"
   },
   {
    "duration": 1452,
    "start_time": "2022-12-02T14:50:24.994Z"
   },
   {
    "duration": 7,
    "start_time": "2022-12-02T14:50:43.893Z"
   },
   {
    "duration": 1546,
    "start_time": "2022-12-02T14:50:45.293Z"
   },
   {
    "duration": 88,
    "start_time": "2022-12-02T14:52:27.646Z"
   },
   {
    "duration": 65,
    "start_time": "2022-12-02T14:52:42.138Z"
   },
   {
    "duration": 1467,
    "start_time": "2022-12-02T14:54:48.836Z"
   },
   {
    "duration": 3137,
    "start_time": "2022-12-02T14:54:50.305Z"
   },
   {
    "duration": 174,
    "start_time": "2022-12-02T14:54:53.444Z"
   },
   {
    "duration": 82,
    "start_time": "2022-12-02T14:54:53.620Z"
   },
   {
    "duration": 36,
    "start_time": "2022-12-02T14:54:53.704Z"
   },
   {
    "duration": 21,
    "start_time": "2022-12-02T14:54:53.741Z"
   },
   {
    "duration": 3,
    "start_time": "2022-12-02T14:54:53.763Z"
   },
   {
    "duration": 13,
    "start_time": "2022-12-02T14:54:53.768Z"
   },
   {
    "duration": 84,
    "start_time": "2022-12-02T14:54:53.783Z"
   },
   {
    "duration": 31,
    "start_time": "2022-12-02T14:54:53.870Z"
   },
   {
    "duration": 8,
    "start_time": "2022-12-02T14:54:53.902Z"
   },
   {
    "duration": 29,
    "start_time": "2022-12-02T14:54:53.911Z"
   },
   {
    "duration": 8,
    "start_time": "2022-12-02T14:54:53.941Z"
   },
   {
    "duration": 10,
    "start_time": "2022-12-02T14:54:53.951Z"
   },
   {
    "duration": 36,
    "start_time": "2022-12-02T14:54:53.963Z"
   },
   {
    "duration": 7,
    "start_time": "2022-12-02T14:54:54.000Z"
   },
   {
    "duration": 11,
    "start_time": "2022-12-02T14:54:54.009Z"
   },
   {
    "duration": 8,
    "start_time": "2022-12-02T14:54:54.038Z"
   },
   {
    "duration": 10,
    "start_time": "2022-12-02T14:54:54.047Z"
   },
   {
    "duration": 9,
    "start_time": "2022-12-02T14:54:54.059Z"
   },
   {
    "duration": 8,
    "start_time": "2022-12-02T14:54:54.070Z"
   },
   {
    "duration": 8,
    "start_time": "2022-12-02T14:54:54.079Z"
   },
   {
    "duration": 7,
    "start_time": "2022-12-02T14:54:54.089Z"
   },
   {
    "duration": 52,
    "start_time": "2022-12-02T14:54:54.097Z"
   },
   {
    "duration": 8,
    "start_time": "2022-12-02T14:54:54.150Z"
   },
   {
    "duration": 15,
    "start_time": "2022-12-02T14:54:54.160Z"
   },
   {
    "duration": 11,
    "start_time": "2022-12-02T14:54:54.176Z"
   },
   {
    "duration": 5,
    "start_time": "2022-12-02T14:54:54.191Z"
   },
   {
    "duration": 86,
    "start_time": "2022-12-02T14:54:54.198Z"
   },
   {
    "duration": 31,
    "start_time": "2022-12-02T14:54:54.286Z"
   },
   {
    "duration": 53,
    "start_time": "2022-12-02T14:54:54.318Z"
   },
   {
    "duration": 166,
    "start_time": "2022-12-02T14:54:54.373Z"
   },
   {
    "duration": 6,
    "start_time": "2022-12-02T14:54:54.541Z"
   },
   {
    "duration": 157,
    "start_time": "2022-12-02T14:54:54.548Z"
   },
   {
    "duration": 17,
    "start_time": "2022-12-02T14:54:54.707Z"
   },
   {
    "duration": 33,
    "start_time": "2022-12-02T14:54:54.738Z"
   },
   {
    "duration": 8,
    "start_time": "2022-12-02T14:54:54.773Z"
   },
   {
    "duration": 38,
    "start_time": "2022-12-02T14:54:54.783Z"
   },
   {
    "duration": 17,
    "start_time": "2022-12-02T14:54:54.823Z"
   },
   {
    "duration": 6,
    "start_time": "2022-12-02T14:54:54.841Z"
   },
   {
    "duration": 7,
    "start_time": "2022-12-02T14:54:54.848Z"
   },
   {
    "duration": 668,
    "start_time": "2022-12-02T14:54:54.857Z"
   },
   {
    "duration": 230,
    "start_time": "2022-12-02T14:54:55.527Z"
   },
   {
    "duration": 49,
    "start_time": "2022-12-02T14:54:55.759Z"
   },
   {
    "duration": 319,
    "start_time": "2022-12-02T14:54:55.810Z"
   },
   {
    "duration": 12,
    "start_time": "2022-12-02T14:54:56.131Z"
   },
   {
    "duration": 8,
    "start_time": "2022-12-02T14:54:56.144Z"
   },
   {
    "duration": 9,
    "start_time": "2022-12-02T14:54:56.154Z"
   },
   {
    "duration": 142,
    "start_time": "2022-12-02T14:54:56.165Z"
   },
   {
    "duration": 105,
    "start_time": "2022-12-02T14:54:56.309Z"
   },
   {
    "duration": 57,
    "start_time": "2022-12-02T14:54:56.415Z"
   },
   {
    "duration": 5,
    "start_time": "2022-12-02T14:54:56.474Z"
   },
   {
    "duration": 59,
    "start_time": "2022-12-02T14:54:56.481Z"
   },
   {
    "duration": 33,
    "start_time": "2022-12-02T14:54:56.542Z"
   },
   {
    "duration": 2911,
    "start_time": "2022-12-02T14:54:56.577Z"
   },
   {
    "duration": 33,
    "start_time": "2022-12-02T14:54:59.489Z"
   },
   {
    "duration": 11621,
    "start_time": "2022-12-02T14:54:59.538Z"
   },
   {
    "duration": 126,
    "start_time": "2022-12-02T14:55:11.241Z"
   },
   {
    "duration": 15539,
    "start_time": "2022-12-02T14:55:11.369Z"
   },
   {
    "duration": 3195,
    "start_time": "2022-12-02T14:55:26.911Z"
   },
   {
    "duration": 5,
    "start_time": "2022-12-02T14:55:30.108Z"
   },
   {
    "duration": 449,
    "start_time": "2022-12-02T14:55:30.115Z"
   },
   {
    "duration": 1092,
    "start_time": "2022-12-02T14:55:30.566Z"
   },
   {
    "duration": 300,
    "start_time": "2022-12-02T14:55:31.660Z"
   },
   {
    "duration": 4,
    "start_time": "2022-12-02T14:55:31.962Z"
   },
   {
    "duration": 7,
    "start_time": "2022-12-02T14:55:31.968Z"
   },
   {
    "duration": 5734,
    "start_time": "2022-12-02T14:55:31.977Z"
   },
   {
    "duration": 8,
    "start_time": "2022-12-02T14:56:18.872Z"
   },
   {
    "duration": 816,
    "start_time": "2022-12-02T14:56:19.262Z"
   },
   {
    "duration": 871,
    "start_time": "2022-12-02T14:56:47.335Z"
   },
   {
    "duration": 845,
    "start_time": "2022-12-02T14:57:24.555Z"
   },
   {
    "duration": 813,
    "start_time": "2022-12-02T14:58:16.115Z"
   },
   {
    "duration": 803,
    "start_time": "2022-12-02T14:59:49.675Z"
   },
   {
    "duration": 879,
    "start_time": "2022-12-02T15:00:08.752Z"
   },
   {
    "duration": 811,
    "start_time": "2022-12-02T15:00:29.916Z"
   },
   {
    "duration": 849,
    "start_time": "2022-12-02T15:00:47.915Z"
   },
   {
    "duration": 846,
    "start_time": "2022-12-02T15:01:05.757Z"
   },
   {
    "duration": 836,
    "start_time": "2022-12-02T15:01:09.103Z"
   },
   {
    "duration": 816,
    "start_time": "2022-12-02T15:01:14.344Z"
   },
   {
    "duration": 4248,
    "start_time": "2022-12-02T15:08:28.372Z"
   },
   {
    "duration": 4464,
    "start_time": "2022-12-02T15:08:42.174Z"
   },
   {
    "duration": 4266,
    "start_time": "2022-12-02T15:10:11.556Z"
   },
   {
    "duration": 4520,
    "start_time": "2022-12-02T15:10:30.527Z"
   },
   {
    "duration": 4481,
    "start_time": "2022-12-02T15:11:22.072Z"
   },
   {
    "duration": 4355,
    "start_time": "2022-12-02T15:11:29.977Z"
   },
   {
    "duration": 4577,
    "start_time": "2022-12-02T15:11:34.581Z"
   },
   {
    "duration": 535,
    "start_time": "2022-12-02T15:15:21.053Z"
   },
   {
    "duration": 434,
    "start_time": "2022-12-02T15:15:27.445Z"
   },
   {
    "duration": 1389,
    "start_time": "2022-12-02T15:25:06.298Z"
   },
   {
    "duration": 5,
    "start_time": "2022-12-02T15:25:25.118Z"
   },
   {
    "duration": 1459,
    "start_time": "2022-12-02T15:28:34.254Z"
   },
   {
    "duration": 3038,
    "start_time": "2022-12-02T15:28:35.715Z"
   },
   {
    "duration": 203,
    "start_time": "2022-12-02T15:28:38.754Z"
   },
   {
    "duration": 103,
    "start_time": "2022-12-02T15:28:38.960Z"
   },
   {
    "duration": 30,
    "start_time": "2022-12-02T15:28:39.064Z"
   },
   {
    "duration": 19,
    "start_time": "2022-12-02T15:28:39.096Z"
   },
   {
    "duration": 20,
    "start_time": "2022-12-02T15:28:39.117Z"
   },
   {
    "duration": 6,
    "start_time": "2022-12-02T15:28:39.139Z"
   },
   {
    "duration": 67,
    "start_time": "2022-12-02T15:28:39.147Z"
   },
   {
    "duration": 36,
    "start_time": "2022-12-02T15:28:39.237Z"
   },
   {
    "duration": 8,
    "start_time": "2022-12-02T15:28:39.275Z"
   },
   {
    "duration": 6,
    "start_time": "2022-12-02T15:28:39.285Z"
   },
   {
    "duration": 9,
    "start_time": "2022-12-02T15:28:39.293Z"
   },
   {
    "duration": 35,
    "start_time": "2022-12-02T15:28:39.304Z"
   },
   {
    "duration": 26,
    "start_time": "2022-12-02T15:28:39.341Z"
   },
   {
    "duration": 7,
    "start_time": "2022-12-02T15:28:39.369Z"
   },
   {
    "duration": 8,
    "start_time": "2022-12-02T15:28:39.377Z"
   },
   {
    "duration": 8,
    "start_time": "2022-12-02T15:28:39.387Z"
   },
   {
    "duration": 43,
    "start_time": "2022-12-02T15:28:39.397Z"
   },
   {
    "duration": 14,
    "start_time": "2022-12-02T15:28:39.441Z"
   },
   {
    "duration": 9,
    "start_time": "2022-12-02T15:28:39.456Z"
   },
   {
    "duration": 12,
    "start_time": "2022-12-02T15:28:39.467Z"
   },
   {
    "duration": 22,
    "start_time": "2022-12-02T15:28:39.481Z"
   },
   {
    "duration": 33,
    "start_time": "2022-12-02T15:28:39.504Z"
   },
   {
    "duration": 7,
    "start_time": "2022-12-02T15:28:39.539Z"
   },
   {
    "duration": 11,
    "start_time": "2022-12-02T15:28:39.547Z"
   },
   {
    "duration": 11,
    "start_time": "2022-12-02T15:28:39.559Z"
   },
   {
    "duration": 6,
    "start_time": "2022-12-02T15:28:39.575Z"
   },
   {
    "duration": 82,
    "start_time": "2022-12-02T15:28:39.582Z"
   },
   {
    "duration": 28,
    "start_time": "2022-12-02T15:28:39.665Z"
   },
   {
    "duration": 60,
    "start_time": "2022-12-02T15:28:39.695Z"
   },
   {
    "duration": 190,
    "start_time": "2022-12-02T15:28:39.757Z"
   },
   {
    "duration": 133,
    "start_time": "2022-12-02T15:28:39.949Z"
   },
   {
    "duration": 38,
    "start_time": "2022-12-02T15:28:40.084Z"
   },
   {
    "duration": 21,
    "start_time": "2022-12-02T15:28:40.124Z"
   },
   {
    "duration": 34,
    "start_time": "2022-12-02T15:28:40.147Z"
   },
   {
    "duration": 7,
    "start_time": "2022-12-02T15:28:40.183Z"
   },
   {
    "duration": 51,
    "start_time": "2022-12-02T15:28:40.192Z"
   },
   {
    "duration": 4,
    "start_time": "2022-12-02T15:28:40.245Z"
   },
   {
    "duration": 8,
    "start_time": "2022-12-02T15:28:40.251Z"
   },
   {
    "duration": 5,
    "start_time": "2022-12-02T15:28:40.260Z"
   },
   {
    "duration": 706,
    "start_time": "2022-12-02T15:28:40.267Z"
   },
   {
    "duration": 217,
    "start_time": "2022-12-02T15:28:40.975Z"
   },
   {
    "duration": 56,
    "start_time": "2022-12-02T15:28:41.194Z"
   },
   {
    "duration": 299,
    "start_time": "2022-12-02T15:28:41.252Z"
   },
   {
    "duration": 7,
    "start_time": "2022-12-02T15:28:41.553Z"
   },
   {
    "duration": 6,
    "start_time": "2022-12-02T15:28:41.562Z"
   },
   {
    "duration": 6,
    "start_time": "2022-12-02T15:28:41.570Z"
   },
   {
    "duration": 160,
    "start_time": "2022-12-02T15:28:41.578Z"
   },
   {
    "duration": 108,
    "start_time": "2022-12-02T15:28:41.741Z"
   },
   {
    "duration": 56,
    "start_time": "2022-12-02T15:28:41.852Z"
   },
   {
    "duration": 6,
    "start_time": "2022-12-02T15:28:41.910Z"
   },
   {
    "duration": 61,
    "start_time": "2022-12-02T15:28:41.918Z"
   },
   {
    "duration": 65,
    "start_time": "2022-12-02T15:28:41.981Z"
   },
   {
    "duration": 2724,
    "start_time": "2022-12-02T15:28:42.048Z"
   },
   {
    "duration": 32,
    "start_time": "2022-12-02T15:28:44.774Z"
   },
   {
    "duration": 10631,
    "start_time": "2022-12-02T15:28:44.808Z"
   },
   {
    "duration": 111,
    "start_time": "2022-12-02T15:28:55.442Z"
   },
   {
    "duration": 15381,
    "start_time": "2022-12-02T15:28:55.556Z"
   },
   {
    "duration": 3048,
    "start_time": "2022-12-02T15:29:10.939Z"
   },
   {
    "duration": 4,
    "start_time": "2022-12-02T15:29:13.989Z"
   },
   {
    "duration": 506,
    "start_time": "2022-12-02T15:29:13.995Z"
   },
   {
    "duration": 1157,
    "start_time": "2022-12-02T15:29:14.504Z"
   },
   {
    "duration": 314,
    "start_time": "2022-12-02T15:29:15.663Z"
   },
   {
    "duration": 5,
    "start_time": "2022-12-02T15:29:15.979Z"
   },
   {
    "duration": 8,
    "start_time": "2022-12-02T15:29:15.986Z"
   },
   {
    "duration": 930,
    "start_time": "2022-12-02T15:29:15.996Z"
   },
   {
    "duration": 445,
    "start_time": "2022-12-02T15:29:16.928Z"
   },
   {
    "duration": 1510,
    "start_time": "2022-12-02T15:29:40.334Z"
   },
   {
    "duration": 3120,
    "start_time": "2022-12-02T15:29:41.848Z"
   },
   {
    "duration": 198,
    "start_time": "2022-12-02T15:29:44.970Z"
   },
   {
    "duration": 86,
    "start_time": "2022-12-02T15:29:45.171Z"
   },
   {
    "duration": 30,
    "start_time": "2022-12-02T15:29:45.259Z"
   },
   {
    "duration": 21,
    "start_time": "2022-12-02T15:29:45.291Z"
   },
   {
    "duration": 24,
    "start_time": "2022-12-02T15:29:45.314Z"
   },
   {
    "duration": 11,
    "start_time": "2022-12-02T15:29:45.339Z"
   },
   {
    "duration": 88,
    "start_time": "2022-12-02T15:29:45.352Z"
   },
   {
    "duration": 29,
    "start_time": "2022-12-02T15:29:45.444Z"
   },
   {
    "duration": 8,
    "start_time": "2022-12-02T15:29:45.475Z"
   },
   {
    "duration": 12,
    "start_time": "2022-12-02T15:29:45.485Z"
   },
   {
    "duration": 16,
    "start_time": "2022-12-02T15:29:45.499Z"
   },
   {
    "duration": 6,
    "start_time": "2022-12-02T15:29:45.537Z"
   },
   {
    "duration": 35,
    "start_time": "2022-12-02T15:29:45.545Z"
   },
   {
    "duration": 10,
    "start_time": "2022-12-02T15:29:45.582Z"
   },
   {
    "duration": 7,
    "start_time": "2022-12-02T15:29:45.594Z"
   },
   {
    "duration": 11,
    "start_time": "2022-12-02T15:29:45.603Z"
   },
   {
    "duration": 23,
    "start_time": "2022-12-02T15:29:45.616Z"
   },
   {
    "duration": 10,
    "start_time": "2022-12-02T15:29:45.640Z"
   },
   {
    "duration": 10,
    "start_time": "2022-12-02T15:29:45.652Z"
   },
   {
    "duration": 11,
    "start_time": "2022-12-02T15:29:45.664Z"
   },
   {
    "duration": 6,
    "start_time": "2022-12-02T15:29:45.676Z"
   },
   {
    "duration": 27,
    "start_time": "2022-12-02T15:29:45.683Z"
   },
   {
    "duration": 28,
    "start_time": "2022-12-02T15:29:45.712Z"
   },
   {
    "duration": 7,
    "start_time": "2022-12-02T15:29:45.742Z"
   },
   {
    "duration": 9,
    "start_time": "2022-12-02T15:29:45.751Z"
   },
   {
    "duration": 7,
    "start_time": "2022-12-02T15:29:45.766Z"
   },
   {
    "duration": 113,
    "start_time": "2022-12-02T15:29:45.775Z"
   },
   {
    "duration": 29,
    "start_time": "2022-12-02T15:29:45.889Z"
   },
   {
    "duration": 58,
    "start_time": "2022-12-02T15:29:45.920Z"
   },
   {
    "duration": 150,
    "start_time": "2022-12-02T15:29:45.980Z"
   },
   {
    "duration": 135,
    "start_time": "2022-12-02T15:29:46.131Z"
   },
   {
    "duration": 31,
    "start_time": "2022-12-02T15:29:46.268Z"
   },
   {
    "duration": 17,
    "start_time": "2022-12-02T15:29:46.301Z"
   },
   {
    "duration": 48,
    "start_time": "2022-12-02T15:29:46.320Z"
   },
   {
    "duration": 7,
    "start_time": "2022-12-02T15:29:46.370Z"
   },
   {
    "duration": 28,
    "start_time": "2022-12-02T15:29:46.379Z"
   },
   {
    "duration": 4,
    "start_time": "2022-12-02T15:29:46.409Z"
   },
   {
    "duration": 25,
    "start_time": "2022-12-02T15:29:46.415Z"
   },
   {
    "duration": 5,
    "start_time": "2022-12-02T15:29:46.442Z"
   },
   {
    "duration": 660,
    "start_time": "2022-12-02T15:29:46.449Z"
   },
   {
    "duration": 226,
    "start_time": "2022-12-02T15:29:47.111Z"
   },
   {
    "duration": 43,
    "start_time": "2022-12-02T15:29:47.339Z"
   },
   {
    "duration": 289,
    "start_time": "2022-12-02T15:29:47.383Z"
   },
   {
    "duration": 7,
    "start_time": "2022-12-02T15:29:47.674Z"
   },
   {
    "duration": 6,
    "start_time": "2022-12-02T15:29:47.683Z"
   },
   {
    "duration": 5,
    "start_time": "2022-12-02T15:29:47.691Z"
   },
   {
    "duration": 150,
    "start_time": "2022-12-02T15:29:47.698Z"
   },
   {
    "duration": 92,
    "start_time": "2022-12-02T15:29:47.850Z"
   },
   {
    "duration": 53,
    "start_time": "2022-12-02T15:29:47.944Z"
   },
   {
    "duration": 6,
    "start_time": "2022-12-02T15:29:47.999Z"
   },
   {
    "duration": 48,
    "start_time": "2022-12-02T15:29:48.007Z"
   },
   {
    "duration": 113781,
    "start_time": "2022-12-02T15:29:48.058Z"
   },
   {
    "duration": 2608,
    "start_time": "2022-12-02T15:31:41.842Z"
   },
   {
    "duration": 1057716,
    "start_time": "2022-12-02T15:31:44.452Z"
   },
   {
    "duration": 9872,
    "start_time": "2022-12-02T15:49:22.170Z"
   },
   {
    "duration": 1249119,
    "start_time": "2022-12-02T15:49:32.044Z"
   },
   {
    "duration": 15159,
    "start_time": "2022-12-02T16:10:21.165Z"
   },
   {
    "duration": 2999,
    "start_time": "2022-12-02T16:10:36.326Z"
   },
   {
    "duration": 10,
    "start_time": "2022-12-02T16:10:39.327Z"
   },
   {
    "duration": 423,
    "start_time": "2022-12-02T16:10:39.339Z"
   },
   {
    "duration": 963,
    "start_time": "2022-12-02T16:10:39.764Z"
   },
   {
    "duration": 290,
    "start_time": "2022-12-02T16:10:40.738Z"
   },
   {
    "duration": 10,
    "start_time": "2022-12-02T16:10:41.030Z"
   },
   {
    "duration": 897,
    "start_time": "2022-12-02T16:10:41.041Z"
   },
   {
    "duration": 464,
    "start_time": "2022-12-02T16:10:41.940Z"
   },
   {
    "duration": 46116,
    "start_time": "2022-12-02T16:31:35.129Z"
   },
   {
    "duration": 1498,
    "start_time": "2022-12-02T16:32:51.129Z"
   },
   {
    "duration": 3095,
    "start_time": "2022-12-02T16:32:52.629Z"
   },
   {
    "duration": 192,
    "start_time": "2022-12-02T16:32:55.726Z"
   },
   {
    "duration": 85,
    "start_time": "2022-12-02T16:32:55.921Z"
   },
   {
    "duration": 38,
    "start_time": "2022-12-02T16:32:56.008Z"
   },
   {
    "duration": 20,
    "start_time": "2022-12-02T16:32:56.048Z"
   },
   {
    "duration": 2,
    "start_time": "2022-12-02T16:32:56.070Z"
   },
   {
    "duration": 9,
    "start_time": "2022-12-02T16:32:56.074Z"
   },
   {
    "duration": 79,
    "start_time": "2022-12-02T16:32:56.085Z"
   },
   {
    "duration": 29,
    "start_time": "2022-12-02T16:32:56.167Z"
   },
   {
    "duration": 7,
    "start_time": "2022-12-02T16:32:56.198Z"
   },
   {
    "duration": 31,
    "start_time": "2022-12-02T16:32:56.207Z"
   },
   {
    "duration": 7,
    "start_time": "2022-12-02T16:32:56.240Z"
   },
   {
    "duration": 6,
    "start_time": "2022-12-02T16:32:56.248Z"
   },
   {
    "duration": 26,
    "start_time": "2022-12-02T16:32:56.256Z"
   },
   {
    "duration": 10,
    "start_time": "2022-12-02T16:32:56.283Z"
   },
   {
    "duration": 10,
    "start_time": "2022-12-02T16:32:56.294Z"
   },
   {
    "duration": 40,
    "start_time": "2022-12-02T16:32:56.306Z"
   },
   {
    "duration": 6,
    "start_time": "2022-12-02T16:32:56.348Z"
   },
   {
    "duration": 11,
    "start_time": "2022-12-02T16:32:56.356Z"
   },
   {
    "duration": 7,
    "start_time": "2022-12-02T16:32:56.368Z"
   },
   {
    "duration": 10,
    "start_time": "2022-12-02T16:32:56.377Z"
   },
   {
    "duration": 18,
    "start_time": "2022-12-02T16:32:56.389Z"
   },
   {
    "duration": 44,
    "start_time": "2022-12-02T16:32:56.409Z"
   },
   {
    "duration": 8,
    "start_time": "2022-12-02T16:32:56.455Z"
   },
   {
    "duration": 7,
    "start_time": "2022-12-02T16:32:56.465Z"
   },
   {
    "duration": 10,
    "start_time": "2022-12-02T16:32:56.474Z"
   },
   {
    "duration": 6,
    "start_time": "2022-12-02T16:32:56.489Z"
   },
   {
    "duration": 94,
    "start_time": "2022-12-02T16:32:56.497Z"
   },
   {
    "duration": 49,
    "start_time": "2022-12-02T16:32:56.593Z"
   },
   {
    "duration": 45,
    "start_time": "2022-12-02T16:32:56.643Z"
   },
   {
    "duration": 156,
    "start_time": "2022-12-02T16:32:56.690Z"
   },
   {
    "duration": 125,
    "start_time": "2022-12-02T16:32:56.848Z"
   },
   {
    "duration": 30,
    "start_time": "2022-12-02T16:32:56.975Z"
   },
   {
    "duration": 32,
    "start_time": "2022-12-02T16:32:57.007Z"
   },
   {
    "duration": 34,
    "start_time": "2022-12-02T16:32:57.041Z"
   },
   {
    "duration": 9,
    "start_time": "2022-12-02T16:32:57.077Z"
   },
   {
    "duration": 53,
    "start_time": "2022-12-02T16:32:57.087Z"
   },
   {
    "duration": 4,
    "start_time": "2022-12-02T16:32:57.142Z"
   },
   {
    "duration": 6,
    "start_time": "2022-12-02T16:32:57.147Z"
   },
   {
    "duration": 6,
    "start_time": "2022-12-02T16:32:57.154Z"
   },
   {
    "duration": 677,
    "start_time": "2022-12-02T16:32:57.162Z"
   },
   {
    "duration": 224,
    "start_time": "2022-12-02T16:32:57.841Z"
   },
   {
    "duration": 45,
    "start_time": "2022-12-02T16:32:58.067Z"
   },
   {
    "duration": 293,
    "start_time": "2022-12-02T16:32:58.113Z"
   },
   {
    "duration": 7,
    "start_time": "2022-12-02T16:32:58.408Z"
   },
   {
    "duration": 21,
    "start_time": "2022-12-02T16:32:58.417Z"
   },
   {
    "duration": 6,
    "start_time": "2022-12-02T16:32:58.440Z"
   },
   {
    "duration": 144,
    "start_time": "2022-12-02T16:32:58.448Z"
   },
   {
    "duration": 86,
    "start_time": "2022-12-02T16:32:58.594Z"
   },
   {
    "duration": 63,
    "start_time": "2022-12-02T16:32:58.682Z"
   },
   {
    "duration": 6,
    "start_time": "2022-12-02T16:32:58.746Z"
   },
   {
    "duration": 35,
    "start_time": "2022-12-02T16:32:58.754Z"
   },
   {
    "duration": 70,
    "start_time": "2022-12-02T16:32:58.791Z"
   },
   {
    "duration": 2947,
    "start_time": "2022-12-02T16:32:58.864Z"
   },
   {
    "duration": 44,
    "start_time": "2022-12-02T16:33:01.813Z"
   },
   {
    "duration": 36881,
    "start_time": "2022-12-02T16:33:01.858Z"
   },
   {
    "duration": 119,
    "start_time": "2022-12-02T16:33:38.743Z"
   },
   {
    "duration": 14988,
    "start_time": "2022-12-02T16:33:38.865Z"
   },
   {
    "duration": 2973,
    "start_time": "2022-12-02T16:33:53.856Z"
   },
   {
    "duration": 9,
    "start_time": "2022-12-02T16:33:56.831Z"
   },
   {
    "duration": 453,
    "start_time": "2022-12-02T16:33:56.842Z"
   },
   {
    "duration": 1060,
    "start_time": "2022-12-02T16:33:57.297Z"
   },
   {
    "duration": 291,
    "start_time": "2022-12-02T16:33:58.360Z"
   },
   {
    "duration": 7,
    "start_time": "2022-12-02T16:33:58.653Z"
   },
   {
    "duration": 902,
    "start_time": "2022-12-02T16:33:58.662Z"
   },
   {
    "duration": 419,
    "start_time": "2022-12-02T16:33:59.566Z"
   },
   {
    "duration": 1415,
    "start_time": "2022-12-02T16:39:48.280Z"
   },
   {
    "duration": 2988,
    "start_time": "2022-12-02T16:39:49.697Z"
   },
   {
    "duration": 167,
    "start_time": "2022-12-02T16:39:52.688Z"
   },
   {
    "duration": 81,
    "start_time": "2022-12-02T16:39:52.857Z"
   },
   {
    "duration": 5,
    "start_time": "2022-12-02T16:39:52.941Z"
   },
   {
    "duration": 20,
    "start_time": "2022-12-02T16:39:52.947Z"
   },
   {
    "duration": 51,
    "start_time": "2022-12-02T16:39:52.969Z"
   },
   {
    "duration": 17,
    "start_time": "2022-12-02T16:39:53.022Z"
   },
   {
    "duration": 5,
    "start_time": "2022-12-02T16:39:53.041Z"
   },
   {
    "duration": 32,
    "start_time": "2022-12-02T16:39:53.048Z"
   },
   {
    "duration": 59,
    "start_time": "2022-12-02T16:39:53.082Z"
   },
   {
    "duration": 28,
    "start_time": "2022-12-02T16:39:53.143Z"
   },
   {
    "duration": 6,
    "start_time": "2022-12-02T16:39:53.172Z"
   },
   {
    "duration": 13,
    "start_time": "2022-12-02T16:39:53.181Z"
   },
   {
    "duration": 16,
    "start_time": "2022-12-02T16:39:53.196Z"
   },
   {
    "duration": 24,
    "start_time": "2022-12-02T16:39:53.213Z"
   },
   {
    "duration": 36,
    "start_time": "2022-12-02T16:39:53.239Z"
   },
   {
    "duration": 7,
    "start_time": "2022-12-02T16:39:53.277Z"
   },
   {
    "duration": 20,
    "start_time": "2022-12-02T16:39:53.285Z"
   },
   {
    "duration": 25,
    "start_time": "2022-12-02T16:39:53.307Z"
   },
   {
    "duration": 34,
    "start_time": "2022-12-02T16:39:53.334Z"
   },
   {
    "duration": 8,
    "start_time": "2022-12-02T16:39:53.370Z"
   },
   {
    "duration": 5,
    "start_time": "2022-12-02T16:39:53.380Z"
   },
   {
    "duration": 12,
    "start_time": "2022-12-02T16:39:53.387Z"
   },
   {
    "duration": 7,
    "start_time": "2022-12-02T16:39:53.401Z"
   },
   {
    "duration": 21,
    "start_time": "2022-12-02T16:39:53.409Z"
   },
   {
    "duration": 7,
    "start_time": "2022-12-02T16:39:53.431Z"
   },
   {
    "duration": 11,
    "start_time": "2022-12-02T16:39:53.439Z"
   },
   {
    "duration": 10,
    "start_time": "2022-12-02T16:39:53.452Z"
   },
   {
    "duration": 7,
    "start_time": "2022-12-02T16:39:53.464Z"
   },
   {
    "duration": 75,
    "start_time": "2022-12-02T16:39:53.473Z"
   },
   {
    "duration": 31,
    "start_time": "2022-12-02T16:39:53.551Z"
   },
   {
    "duration": 52,
    "start_time": "2022-12-02T16:39:53.585Z"
   },
   {
    "duration": 159,
    "start_time": "2022-12-02T16:39:53.640Z"
   },
   {
    "duration": 128,
    "start_time": "2022-12-02T16:39:53.800Z"
   },
   {
    "duration": 35,
    "start_time": "2022-12-02T16:39:53.938Z"
   },
   {
    "duration": 16,
    "start_time": "2022-12-02T16:39:53.975Z"
   },
   {
    "duration": 28,
    "start_time": "2022-12-02T16:39:53.993Z"
   },
   {
    "duration": 7,
    "start_time": "2022-12-02T16:39:54.037Z"
   },
   {
    "duration": 27,
    "start_time": "2022-12-02T16:39:54.045Z"
   },
   {
    "duration": 4,
    "start_time": "2022-12-02T16:39:54.077Z"
   },
   {
    "duration": 5,
    "start_time": "2022-12-02T16:39:54.082Z"
   },
   {
    "duration": 6,
    "start_time": "2022-12-02T16:39:54.088Z"
   },
   {
    "duration": 652,
    "start_time": "2022-12-02T16:39:54.095Z"
   },
   {
    "duration": 210,
    "start_time": "2022-12-02T16:39:54.749Z"
   },
   {
    "duration": 44,
    "start_time": "2022-12-02T16:39:54.961Z"
   },
   {
    "duration": 288,
    "start_time": "2022-12-02T16:39:55.006Z"
   },
   {
    "duration": 8,
    "start_time": "2022-12-02T16:39:55.295Z"
   },
   {
    "duration": 6,
    "start_time": "2022-12-02T16:39:55.305Z"
   },
   {
    "duration": 26,
    "start_time": "2022-12-02T16:39:55.313Z"
   },
   {
    "duration": 131,
    "start_time": "2022-12-02T16:39:55.340Z"
   },
   {
    "duration": 92,
    "start_time": "2022-12-02T16:39:55.472Z"
   },
   {
    "duration": 49,
    "start_time": "2022-12-02T16:39:55.566Z"
   },
   {
    "duration": 5,
    "start_time": "2022-12-02T16:39:55.617Z"
   },
   {
    "duration": 31,
    "start_time": "2022-12-02T16:39:55.637Z"
   },
   {
    "duration": 73,
    "start_time": "2022-12-02T16:39:55.670Z"
   },
   {
    "duration": 2596,
    "start_time": "2022-12-02T16:39:55.745Z"
   },
   {
    "duration": 31,
    "start_time": "2022-12-02T16:39:58.343Z"
   },
   {
    "duration": 36065,
    "start_time": "2022-12-02T16:39:58.376Z"
   },
   {
    "duration": 112,
    "start_time": "2022-12-02T16:40:34.443Z"
   },
   {
    "duration": 14737,
    "start_time": "2022-12-02T16:40:34.557Z"
   },
   {
    "duration": 2919,
    "start_time": "2022-12-02T16:40:49.295Z"
   },
   {
    "duration": 5,
    "start_time": "2022-12-02T16:40:52.215Z"
   },
   {
    "duration": 425,
    "start_time": "2022-12-02T16:40:52.221Z"
   },
   {
    "duration": 1014,
    "start_time": "2022-12-02T16:40:52.648Z"
   },
   {
    "duration": 310,
    "start_time": "2022-12-02T16:40:53.663Z"
   },
   {
    "duration": 8,
    "start_time": "2022-12-02T16:40:53.975Z"
   },
   {
    "duration": 881,
    "start_time": "2022-12-02T16:40:53.985Z"
   },
   {
    "duration": 408,
    "start_time": "2022-12-02T16:40:54.868Z"
   },
   {
    "duration": 344,
    "start_time": "2022-12-02T16:47:01.594Z"
   },
   {
    "duration": 311,
    "start_time": "2022-12-02T16:50:37.412Z"
   },
   {
    "duration": 1431,
    "start_time": "2022-12-02T17:01:12.138Z"
   },
   {
    "duration": 3066,
    "start_time": "2022-12-02T17:01:13.571Z"
   },
   {
    "duration": 173,
    "start_time": "2022-12-02T17:01:16.639Z"
   },
   {
    "duration": 80,
    "start_time": "2022-12-02T17:01:16.814Z"
   },
   {
    "duration": 28,
    "start_time": "2022-12-02T17:01:16.895Z"
   },
   {
    "duration": 20,
    "start_time": "2022-12-02T17:01:16.937Z"
   },
   {
    "duration": 3,
    "start_time": "2022-12-02T17:01:16.959Z"
   },
   {
    "duration": 8,
    "start_time": "2022-12-02T17:01:16.964Z"
   },
   {
    "duration": 86,
    "start_time": "2022-12-02T17:01:16.974Z"
   },
   {
    "duration": 29,
    "start_time": "2022-12-02T17:01:17.064Z"
   },
   {
    "duration": 7,
    "start_time": "2022-12-02T17:01:17.095Z"
   },
   {
    "duration": 10,
    "start_time": "2022-12-02T17:01:17.104Z"
   },
   {
    "duration": 11,
    "start_time": "2022-12-02T17:01:17.137Z"
   },
   {
    "duration": 7,
    "start_time": "2022-12-02T17:01:17.150Z"
   },
   {
    "duration": 28,
    "start_time": "2022-12-02T17:01:17.159Z"
   },
   {
    "duration": 6,
    "start_time": "2022-12-02T17:01:17.189Z"
   },
   {
    "duration": 7,
    "start_time": "2022-12-02T17:01:17.197Z"
   },
   {
    "duration": 36,
    "start_time": "2022-12-02T17:01:17.206Z"
   },
   {
    "duration": 9,
    "start_time": "2022-12-02T17:01:17.245Z"
   },
   {
    "duration": 10,
    "start_time": "2022-12-02T17:01:17.255Z"
   },
   {
    "duration": 7,
    "start_time": "2022-12-02T17:01:17.266Z"
   },
   {
    "duration": 9,
    "start_time": "2022-12-02T17:01:17.275Z"
   },
   {
    "duration": 6,
    "start_time": "2022-12-02T17:01:17.286Z"
   },
   {
    "duration": 54,
    "start_time": "2022-12-02T17:01:17.293Z"
   },
   {
    "duration": 7,
    "start_time": "2022-12-02T17:01:17.349Z"
   },
   {
    "duration": 6,
    "start_time": "2022-12-02T17:01:17.358Z"
   },
   {
    "duration": 9,
    "start_time": "2022-12-02T17:01:17.365Z"
   },
   {
    "duration": 5,
    "start_time": "2022-12-02T17:01:17.379Z"
   },
   {
    "duration": 90,
    "start_time": "2022-12-02T17:01:17.386Z"
   },
   {
    "duration": 32,
    "start_time": "2022-12-02T17:01:17.477Z"
   },
   {
    "duration": 55,
    "start_time": "2022-12-02T17:01:17.511Z"
   },
   {
    "duration": 161,
    "start_time": "2022-12-02T17:01:17.568Z"
   },
   {
    "duration": 135,
    "start_time": "2022-12-02T17:01:17.731Z"
   },
   {
    "duration": 29,
    "start_time": "2022-12-02T17:01:17.869Z"
   },
   {
    "duration": 18,
    "start_time": "2022-12-02T17:01:17.900Z"
   },
   {
    "duration": 38,
    "start_time": "2022-12-02T17:01:17.938Z"
   },
   {
    "duration": 8,
    "start_time": "2022-12-02T17:01:17.978Z"
   },
   {
    "duration": 54,
    "start_time": "2022-12-02T17:01:17.988Z"
   },
   {
    "duration": 4,
    "start_time": "2022-12-02T17:01:18.044Z"
   },
   {
    "duration": 6,
    "start_time": "2022-12-02T17:01:18.050Z"
   },
   {
    "duration": 6,
    "start_time": "2022-12-02T17:01:18.057Z"
   },
   {
    "duration": 655,
    "start_time": "2022-12-02T17:01:18.065Z"
   },
   {
    "duration": 239,
    "start_time": "2022-12-02T17:01:18.721Z"
   },
   {
    "duration": 47,
    "start_time": "2022-12-02T17:01:18.963Z"
   },
   {
    "duration": 310,
    "start_time": "2022-12-02T17:01:19.011Z"
   },
   {
    "duration": 15,
    "start_time": "2022-12-02T17:01:19.323Z"
   },
   {
    "duration": 5,
    "start_time": "2022-12-02T17:01:19.340Z"
   },
   {
    "duration": 11,
    "start_time": "2022-12-02T17:01:19.347Z"
   },
   {
    "duration": 130,
    "start_time": "2022-12-02T17:01:19.359Z"
   },
   {
    "duration": 93,
    "start_time": "2022-12-02T17:01:19.491Z"
   },
   {
    "duration": 62,
    "start_time": "2022-12-02T17:01:19.586Z"
   },
   {
    "duration": 6,
    "start_time": "2022-12-02T17:01:19.650Z"
   },
   {
    "duration": 42,
    "start_time": "2022-12-02T17:01:19.657Z"
   },
   {
    "duration": 52,
    "start_time": "2022-12-02T17:01:19.701Z"
   },
   {
    "duration": 2797,
    "start_time": "2022-12-02T17:01:19.755Z"
   },
   {
    "duration": 33,
    "start_time": "2022-12-02T17:01:22.554Z"
   },
   {
    "duration": 105852,
    "start_time": "2022-12-02T17:01:22.589Z"
   },
   {
    "duration": 124,
    "start_time": "2022-12-02T17:03:08.444Z"
   },
   {
    "duration": 15010,
    "start_time": "2022-12-02T17:03:08.571Z"
   },
   {
    "duration": 3074,
    "start_time": "2022-12-02T17:03:23.582Z"
   },
   {
    "duration": 5,
    "start_time": "2022-12-02T17:03:26.658Z"
   },
   {
    "duration": 413,
    "start_time": "2022-12-02T17:03:26.665Z"
   },
   {
    "duration": 1083,
    "start_time": "2022-12-02T17:03:27.081Z"
   },
   {
    "duration": 272,
    "start_time": "2022-12-02T17:03:28.166Z"
   },
   {
    "duration": 8,
    "start_time": "2022-12-02T17:03:28.440Z"
   },
   {
    "duration": 903,
    "start_time": "2022-12-02T17:03:28.450Z"
   },
   {
    "duration": 354,
    "start_time": "2022-12-02T17:03:29.355Z"
   },
   {
    "duration": 1464,
    "start_time": "2022-12-02T17:20:08.634Z"
   },
   {
    "duration": 3095,
    "start_time": "2022-12-02T17:20:10.100Z"
   },
   {
    "duration": 171,
    "start_time": "2022-12-02T17:20:13.197Z"
   },
   {
    "duration": 80,
    "start_time": "2022-12-02T17:20:13.370Z"
   },
   {
    "duration": 29,
    "start_time": "2022-12-02T17:20:13.452Z"
   },
   {
    "duration": 20,
    "start_time": "2022-12-02T17:20:13.483Z"
   },
   {
    "duration": 2,
    "start_time": "2022-12-02T17:20:13.505Z"
   },
   {
    "duration": 35,
    "start_time": "2022-12-02T17:20:13.509Z"
   },
   {
    "duration": 63,
    "start_time": "2022-12-02T17:20:13.546Z"
   },
   {
    "duration": 36,
    "start_time": "2022-12-02T17:20:13.612Z"
   },
   {
    "duration": 7,
    "start_time": "2022-12-02T17:20:13.650Z"
   },
   {
    "duration": 7,
    "start_time": "2022-12-02T17:20:13.659Z"
   },
   {
    "duration": 7,
    "start_time": "2022-12-02T17:20:13.667Z"
   },
   {
    "duration": 6,
    "start_time": "2022-12-02T17:20:13.676Z"
   },
   {
    "duration": 25,
    "start_time": "2022-12-02T17:20:13.684Z"
   },
   {
    "duration": 32,
    "start_time": "2022-12-02T17:20:13.710Z"
   },
   {
    "duration": 7,
    "start_time": "2022-12-02T17:20:13.743Z"
   },
   {
    "duration": 9,
    "start_time": "2022-12-02T17:20:13.752Z"
   },
   {
    "duration": 7,
    "start_time": "2022-12-02T17:20:13.762Z"
   },
   {
    "duration": 7,
    "start_time": "2022-12-02T17:20:13.771Z"
   },
   {
    "duration": 5,
    "start_time": "2022-12-02T17:20:13.780Z"
   },
   {
    "duration": 10,
    "start_time": "2022-12-02T17:20:13.786Z"
   },
   {
    "duration": 7,
    "start_time": "2022-12-02T17:20:13.837Z"
   },
   {
    "duration": 23,
    "start_time": "2022-12-02T17:20:13.846Z"
   },
   {
    "duration": 8,
    "start_time": "2022-12-02T17:20:13.871Z"
   },
   {
    "duration": 6,
    "start_time": "2022-12-02T17:20:13.881Z"
   },
   {
    "duration": 9,
    "start_time": "2022-12-02T17:20:13.889Z"
   },
   {
    "duration": 6,
    "start_time": "2022-12-02T17:20:13.942Z"
   },
   {
    "duration": 62,
    "start_time": "2022-12-02T17:20:13.951Z"
   },
   {
    "duration": 49,
    "start_time": "2022-12-02T17:20:14.015Z"
   },
   {
    "duration": 45,
    "start_time": "2022-12-02T17:20:14.066Z"
   },
   {
    "duration": 178,
    "start_time": "2022-12-02T17:20:14.113Z"
   },
   {
    "duration": 128,
    "start_time": "2022-12-02T17:20:14.292Z"
   },
   {
    "duration": 36,
    "start_time": "2022-12-02T17:20:14.422Z"
   },
   {
    "duration": 17,
    "start_time": "2022-12-02T17:20:14.460Z"
   },
   {
    "duration": 33,
    "start_time": "2022-12-02T17:20:14.478Z"
   },
   {
    "duration": 31,
    "start_time": "2022-12-02T17:20:14.512Z"
   },
   {
    "duration": 29,
    "start_time": "2022-12-02T17:20:14.544Z"
   },
   {
    "duration": 4,
    "start_time": "2022-12-02T17:20:14.575Z"
   },
   {
    "duration": 6,
    "start_time": "2022-12-02T17:20:14.580Z"
   },
   {
    "duration": 7,
    "start_time": "2022-12-02T17:20:14.588Z"
   },
   {
    "duration": 668,
    "start_time": "2022-12-02T17:20:14.597Z"
   },
   {
    "duration": 218,
    "start_time": "2022-12-02T17:20:15.268Z"
   },
   {
    "duration": 54,
    "start_time": "2022-12-02T17:20:15.488Z"
   },
   {
    "duration": 306,
    "start_time": "2022-12-02T17:20:15.544Z"
   },
   {
    "duration": 9,
    "start_time": "2022-12-02T17:20:15.851Z"
   },
   {
    "duration": 6,
    "start_time": "2022-12-02T17:20:15.862Z"
   },
   {
    "duration": 7,
    "start_time": "2022-12-02T17:20:15.870Z"
   },
   {
    "duration": 147,
    "start_time": "2022-12-02T17:20:15.879Z"
   },
   {
    "duration": 94,
    "start_time": "2022-12-02T17:20:16.028Z"
   },
   {
    "duration": 65,
    "start_time": "2022-12-02T17:20:16.124Z"
   },
   {
    "duration": 5,
    "start_time": "2022-12-02T17:20:16.191Z"
   },
   {
    "duration": 53,
    "start_time": "2022-12-02T17:20:16.198Z"
   },
   {
    "duration": 120154,
    "start_time": "2022-12-02T17:20:16.253Z"
   },
   {
    "duration": 2830,
    "start_time": "2022-12-02T17:22:16.409Z"
   },
   {
    "duration": 1392220,
    "start_time": "2022-12-02T17:22:19.241Z"
   },
   {
    "duration": 106982,
    "start_time": "2022-12-02T17:45:31.463Z"
   },
   {
    "duration": 1269818,
    "start_time": "2022-12-02T17:47:18.447Z"
   },
   {
    "duration": 14967,
    "start_time": "2022-12-02T18:08:28.266Z"
   },
   {
    "duration": 2963,
    "start_time": "2022-12-02T18:08:43.238Z"
   },
   {
    "duration": 5,
    "start_time": "2022-12-02T18:08:46.204Z"
   },
   {
    "duration": 420,
    "start_time": "2022-12-02T18:08:46.211Z"
   },
   {
    "duration": 1000,
    "start_time": "2022-12-02T18:08:46.638Z"
   },
   {
    "duration": 285,
    "start_time": "2022-12-02T18:08:47.640Z"
   },
   {
    "duration": 12,
    "start_time": "2022-12-02T18:08:47.926Z"
   },
   {
    "duration": 903,
    "start_time": "2022-12-02T18:08:47.940Z"
   },
   {
    "duration": 395,
    "start_time": "2022-12-02T18:08:48.845Z"
   },
   {
    "duration": 12737,
    "start_time": "2022-12-02T18:15:06.550Z"
   },
   {
    "duration": 1398,
    "start_time": "2022-12-02T18:16:35.178Z"
   },
   {
    "duration": 3020,
    "start_time": "2022-12-02T18:16:36.578Z"
   },
   {
    "duration": 168,
    "start_time": "2022-12-02T18:16:39.600Z"
   },
   {
    "duration": 81,
    "start_time": "2022-12-02T18:16:39.771Z"
   },
   {
    "duration": 28,
    "start_time": "2022-12-02T18:16:39.854Z"
   },
   {
    "duration": 19,
    "start_time": "2022-12-02T18:16:39.884Z"
   },
   {
    "duration": 2,
    "start_time": "2022-12-02T18:16:39.905Z"
   },
   {
    "duration": 28,
    "start_time": "2022-12-02T18:16:39.909Z"
   },
   {
    "duration": 60,
    "start_time": "2022-12-02T18:16:39.939Z"
   },
   {
    "duration": 45,
    "start_time": "2022-12-02T18:16:40.002Z"
   },
   {
    "duration": 7,
    "start_time": "2022-12-02T18:16:40.049Z"
   },
   {
    "duration": 8,
    "start_time": "2022-12-02T18:16:40.057Z"
   },
   {
    "duration": 20,
    "start_time": "2022-12-02T18:16:40.067Z"
   },
   {
    "duration": 5,
    "start_time": "2022-12-02T18:16:40.089Z"
   },
   {
    "duration": 25,
    "start_time": "2022-12-02T18:16:40.096Z"
   },
   {
    "duration": 20,
    "start_time": "2022-12-02T18:16:40.123Z"
   },
   {
    "duration": 6,
    "start_time": "2022-12-02T18:16:40.145Z"
   },
   {
    "duration": 8,
    "start_time": "2022-12-02T18:16:40.153Z"
   },
   {
    "duration": 6,
    "start_time": "2022-12-02T18:16:40.162Z"
   },
   {
    "duration": 8,
    "start_time": "2022-12-02T18:16:40.169Z"
   },
   {
    "duration": 7,
    "start_time": "2022-12-02T18:16:40.178Z"
   },
   {
    "duration": 8,
    "start_time": "2022-12-02T18:16:40.187Z"
   },
   {
    "duration": 45,
    "start_time": "2022-12-02T18:16:40.197Z"
   },
   {
    "duration": 23,
    "start_time": "2022-12-02T18:16:40.244Z"
   },
   {
    "duration": 6,
    "start_time": "2022-12-02T18:16:40.269Z"
   },
   {
    "duration": 7,
    "start_time": "2022-12-02T18:16:40.276Z"
   },
   {
    "duration": 8,
    "start_time": "2022-12-02T18:16:40.284Z"
   },
   {
    "duration": 5,
    "start_time": "2022-12-02T18:16:40.296Z"
   },
   {
    "duration": 88,
    "start_time": "2022-12-02T18:16:40.302Z"
   },
   {
    "duration": 27,
    "start_time": "2022-12-02T18:16:40.392Z"
   },
   {
    "duration": 62,
    "start_time": "2022-12-02T18:16:40.421Z"
   },
   {
    "duration": 145,
    "start_time": "2022-12-02T18:16:40.485Z"
   },
   {
    "duration": 118,
    "start_time": "2022-12-02T18:16:40.632Z"
   },
   {
    "duration": 28,
    "start_time": "2022-12-02T18:16:40.752Z"
   },
   {
    "duration": 15,
    "start_time": "2022-12-02T18:16:40.782Z"
   },
   {
    "duration": 54,
    "start_time": "2022-12-02T18:16:40.799Z"
   },
   {
    "duration": 6,
    "start_time": "2022-12-02T18:16:40.855Z"
   },
   {
    "duration": 27,
    "start_time": "2022-12-02T18:16:40.863Z"
   },
   {
    "duration": 4,
    "start_time": "2022-12-02T18:16:40.891Z"
   },
   {
    "duration": 6,
    "start_time": "2022-12-02T18:16:40.897Z"
   },
   {
    "duration": 6,
    "start_time": "2022-12-02T18:16:40.904Z"
   },
   {
    "duration": 683,
    "start_time": "2022-12-02T18:16:40.912Z"
   },
   {
    "duration": 219,
    "start_time": "2022-12-02T18:16:41.596Z"
   },
   {
    "duration": 53,
    "start_time": "2022-12-02T18:16:41.817Z"
   },
   {
    "duration": 298,
    "start_time": "2022-12-02T18:16:41.872Z"
   },
   {
    "duration": 8,
    "start_time": "2022-12-02T18:16:42.173Z"
   },
   {
    "duration": 8,
    "start_time": "2022-12-02T18:16:42.183Z"
   },
   {
    "duration": 21,
    "start_time": "2022-12-02T18:16:42.193Z"
   },
   {
    "duration": 144,
    "start_time": "2022-12-02T18:16:42.216Z"
   },
   {
    "duration": 98,
    "start_time": "2022-12-02T18:16:42.362Z"
   },
   {
    "duration": 53,
    "start_time": "2022-12-02T18:16:42.463Z"
   },
   {
    "duration": 6,
    "start_time": "2022-12-02T18:16:42.518Z"
   },
   {
    "duration": 46,
    "start_time": "2022-12-02T18:16:42.526Z"
   },
   {
    "duration": 1471,
    "start_time": "2022-12-02T18:18:37.242Z"
   },
   {
    "duration": 2975,
    "start_time": "2022-12-02T18:18:38.715Z"
   },
   {
    "duration": 168,
    "start_time": "2022-12-02T18:18:41.692Z"
   },
   {
    "duration": 76,
    "start_time": "2022-12-02T18:18:41.862Z"
   },
   {
    "duration": 28,
    "start_time": "2022-12-02T18:18:41.940Z"
   },
   {
    "duration": 25,
    "start_time": "2022-12-02T18:18:41.970Z"
   },
   {
    "duration": 3,
    "start_time": "2022-12-02T18:18:41.997Z"
   },
   {
    "duration": 8,
    "start_time": "2022-12-02T18:18:42.001Z"
   },
   {
    "duration": 61,
    "start_time": "2022-12-02T18:18:42.037Z"
   },
   {
    "duration": 44,
    "start_time": "2022-12-02T18:18:42.101Z"
   },
   {
    "duration": 8,
    "start_time": "2022-12-02T18:18:42.147Z"
   },
   {
    "duration": 7,
    "start_time": "2022-12-02T18:18:42.157Z"
   },
   {
    "duration": 12,
    "start_time": "2022-12-02T18:18:42.166Z"
   },
   {
    "duration": 8,
    "start_time": "2022-12-02T18:18:42.179Z"
   },
   {
    "duration": 58,
    "start_time": "2022-12-02T18:18:42.188Z"
   },
   {
    "duration": 8,
    "start_time": "2022-12-02T18:18:42.248Z"
   },
   {
    "duration": 5,
    "start_time": "2022-12-02T18:18:42.258Z"
   },
   {
    "duration": 9,
    "start_time": "2022-12-02T18:18:42.265Z"
   },
   {
    "duration": 8,
    "start_time": "2022-12-02T18:18:42.275Z"
   },
   {
    "duration": 9,
    "start_time": "2022-12-02T18:18:42.285Z"
   },
   {
    "duration": 10,
    "start_time": "2022-12-02T18:18:42.296Z"
   },
   {
    "duration": 41,
    "start_time": "2022-12-02T18:18:42.307Z"
   },
   {
    "duration": 6,
    "start_time": "2022-12-02T18:18:42.350Z"
   },
   {
    "duration": 25,
    "start_time": "2022-12-02T18:18:42.358Z"
   },
   {
    "duration": 7,
    "start_time": "2022-12-02T18:18:42.385Z"
   },
   {
    "duration": 8,
    "start_time": "2022-12-02T18:18:42.394Z"
   },
   {
    "duration": 34,
    "start_time": "2022-12-02T18:18:42.404Z"
   },
   {
    "duration": 6,
    "start_time": "2022-12-02T18:18:42.443Z"
   },
   {
    "duration": 62,
    "start_time": "2022-12-02T18:18:42.450Z"
   },
   {
    "duration": 48,
    "start_time": "2022-12-02T18:18:42.514Z"
   },
   {
    "duration": 72,
    "start_time": "2022-12-02T18:18:42.564Z"
   },
   {
    "duration": 162,
    "start_time": "2022-12-02T18:18:42.638Z"
   },
   {
    "duration": 126,
    "start_time": "2022-12-02T18:18:42.802Z"
   },
   {
    "duration": 29,
    "start_time": "2022-12-02T18:18:42.929Z"
   },
   {
    "duration": 16,
    "start_time": "2022-12-02T18:18:42.960Z"
   },
   {
    "duration": 31,
    "start_time": "2022-12-02T18:18:42.977Z"
   },
   {
    "duration": 33,
    "start_time": "2022-12-02T18:18:43.009Z"
   },
   {
    "duration": 26,
    "start_time": "2022-12-02T18:18:43.044Z"
   },
   {
    "duration": 4,
    "start_time": "2022-12-02T18:18:43.072Z"
   },
   {
    "duration": 7,
    "start_time": "2022-12-02T18:18:43.077Z"
   },
   {
    "duration": 5,
    "start_time": "2022-12-02T18:18:43.086Z"
   },
   {
    "duration": 658,
    "start_time": "2022-12-02T18:18:43.093Z"
   },
   {
    "duration": 221,
    "start_time": "2022-12-02T18:18:43.753Z"
   },
   {
    "duration": 45,
    "start_time": "2022-12-02T18:18:43.976Z"
   },
   {
    "duration": 308,
    "start_time": "2022-12-02T18:18:44.022Z"
   },
   {
    "duration": 11,
    "start_time": "2022-12-02T18:18:44.331Z"
   },
   {
    "duration": 4,
    "start_time": "2022-12-02T18:18:44.344Z"
   },
   {
    "duration": 6,
    "start_time": "2022-12-02T18:18:44.350Z"
   },
   {
    "duration": 149,
    "start_time": "2022-12-02T18:18:44.357Z"
   },
   {
    "duration": 95,
    "start_time": "2022-12-02T18:18:44.508Z"
   },
   {
    "duration": 61,
    "start_time": "2022-12-02T18:18:44.605Z"
   },
   {
    "duration": 5,
    "start_time": "2022-12-02T18:18:44.668Z"
   },
   {
    "duration": 34,
    "start_time": "2022-12-02T18:18:44.675Z"
   },
   {
    "duration": 56,
    "start_time": "2022-12-02T18:18:44.711Z"
   },
   {
    "duration": 2837,
    "start_time": "2022-12-02T18:18:44.769Z"
   },
   {
    "duration": 50,
    "start_time": "2022-12-02T18:18:47.607Z"
   },
   {
    "duration": 181080,
    "start_time": "2022-12-02T18:18:47.659Z"
   },
   {
    "duration": 111,
    "start_time": "2022-12-02T18:21:48.743Z"
   },
   {
    "duration": 12574,
    "start_time": "2022-12-02T18:21:48.856Z"
   },
   {
    "duration": 577,
    "start_time": "2022-12-02T18:22:01.431Z"
   },
   {
    "duration": 5,
    "start_time": "2022-12-02T18:22:02.010Z"
   },
   {
    "duration": 184,
    "start_time": "2022-12-02T18:22:02.016Z"
   },
   {
    "duration": 449,
    "start_time": "2022-12-02T18:22:02.201Z"
   },
   {
    "duration": 38,
    "start_time": "2022-12-02T18:22:02.652Z"
   },
   {
    "duration": 6,
    "start_time": "2022-12-02T18:22:02.692Z"
   },
   {
    "duration": 906,
    "start_time": "2022-12-02T18:22:02.699Z"
   },
   {
    "duration": 341,
    "start_time": "2022-12-02T18:22:03.607Z"
   },
   {
    "duration": 2514,
    "start_time": "2022-12-02T18:24:56.578Z"
   },
   {
    "duration": 5,
    "start_time": "2022-12-02T18:25:10.821Z"
   },
   {
    "duration": 359,
    "start_time": "2022-12-02T18:25:13.541Z"
   },
   {
    "duration": 886,
    "start_time": "2022-12-02T18:25:21.521Z"
   },
   {
    "duration": 198,
    "start_time": "2022-12-02T18:25:28.350Z"
   },
   {
    "duration": 6,
    "start_time": "2022-12-02T18:25:28.722Z"
   },
   {
    "duration": 851,
    "start_time": "2022-12-02T18:25:29.220Z"
   },
   {
    "duration": 292,
    "start_time": "2022-12-02T18:28:38.034Z"
   },
   {
    "duration": 6,
    "start_time": "2022-12-02T18:33:48.449Z"
   },
   {
    "duration": 1194,
    "start_time": "2022-12-02T18:34:52.439Z"
   },
   {
    "duration": 922,
    "start_time": "2022-12-02T18:34:59.959Z"
   },
   {
    "duration": 6,
    "start_time": "2022-12-02T18:35:39.441Z"
   },
   {
    "duration": 6,
    "start_time": "2022-12-02T18:35:59.227Z"
   },
   {
    "duration": 8,
    "start_time": "2022-12-02T18:39:48.862Z"
   },
   {
    "duration": 6,
    "start_time": "2022-12-02T18:40:11.855Z"
   },
   {
    "duration": 6,
    "start_time": "2022-12-02T18:40:24.007Z"
   },
   {
    "duration": 5,
    "start_time": "2022-12-02T18:40:37.257Z"
   },
   {
    "duration": 6,
    "start_time": "2022-12-02T18:41:20.628Z"
   },
   {
    "duration": 9,
    "start_time": "2022-12-02T18:41:36.543Z"
   },
   {
    "duration": 8,
    "start_time": "2022-12-02T18:42:28.609Z"
   },
   {
    "duration": 16,
    "start_time": "2022-12-02T18:42:53.634Z"
   },
   {
    "duration": 27,
    "start_time": "2022-12-02T18:43:42.709Z"
   },
   {
    "duration": 33,
    "start_time": "2022-12-02T18:43:54.027Z"
   },
   {
    "duration": 33,
    "start_time": "2022-12-02T18:44:06.431Z"
   },
   {
    "duration": 30,
    "start_time": "2022-12-02T18:44:20.201Z"
   },
   {
    "duration": 138,
    "start_time": "2022-12-02T18:47:39.225Z"
   },
   {
    "duration": 50,
    "start_time": "2022-12-02T18:49:22.313Z"
   },
   {
    "duration": 31,
    "start_time": "2022-12-02T18:50:53.746Z"
   },
   {
    "duration": 32,
    "start_time": "2022-12-02T18:51:31.102Z"
   },
   {
    "duration": 30,
    "start_time": "2022-12-02T18:51:46.143Z"
   },
   {
    "duration": 74,
    "start_time": "2022-12-02T18:53:32.099Z"
   },
   {
    "duration": 36,
    "start_time": "2022-12-02T18:54:27.136Z"
   },
   {
    "duration": 139,
    "start_time": "2022-12-02T18:57:00.766Z"
   },
   {
    "duration": 131,
    "start_time": "2022-12-02T18:57:18.308Z"
   },
   {
    "duration": 156,
    "start_time": "2022-12-02T18:57:53.331Z"
   },
   {
    "duration": 143,
    "start_time": "2022-12-02T18:58:04.902Z"
   },
   {
    "duration": 32,
    "start_time": "2022-12-02T19:00:26.157Z"
   },
   {
    "duration": 141,
    "start_time": "2022-12-02T19:06:30.491Z"
   },
   {
    "duration": 32,
    "start_time": "2022-12-02T19:18:48.918Z"
   },
   {
    "duration": 31,
    "start_time": "2022-12-02T19:18:55.143Z"
   },
   {
    "duration": 71,
    "start_time": "2022-12-02T20:03:00.145Z"
   },
   {
    "duration": 1295,
    "start_time": "2022-12-02T20:03:16.298Z"
   },
   {
    "duration": 1467,
    "start_time": "2022-12-02T20:03:34.126Z"
   },
   {
    "duration": 3944,
    "start_time": "2022-12-02T20:03:35.595Z"
   },
   {
    "duration": 163,
    "start_time": "2022-12-02T20:03:39.541Z"
   },
   {
    "duration": 86,
    "start_time": "2022-12-02T20:03:39.706Z"
   },
   {
    "duration": 32,
    "start_time": "2022-12-02T20:03:39.794Z"
   },
   {
    "duration": 22,
    "start_time": "2022-12-02T20:03:39.838Z"
   },
   {
    "duration": 3,
    "start_time": "2022-12-02T20:03:39.862Z"
   },
   {
    "duration": 8,
    "start_time": "2022-12-02T20:03:39.868Z"
   },
   {
    "duration": 86,
    "start_time": "2022-12-02T20:03:39.878Z"
   },
   {
    "duration": 29,
    "start_time": "2022-12-02T20:03:39.967Z"
   },
   {
    "duration": 7,
    "start_time": "2022-12-02T20:03:39.998Z"
   },
   {
    "duration": 15,
    "start_time": "2022-12-02T20:03:40.006Z"
   },
   {
    "duration": 20,
    "start_time": "2022-12-02T20:03:40.023Z"
   },
   {
    "duration": 5,
    "start_time": "2022-12-02T20:03:40.045Z"
   },
   {
    "duration": 31,
    "start_time": "2022-12-02T20:03:40.051Z"
   },
   {
    "duration": 7,
    "start_time": "2022-12-02T20:03:40.084Z"
   },
   {
    "duration": 8,
    "start_time": "2022-12-02T20:03:40.093Z"
   },
   {
    "duration": 37,
    "start_time": "2022-12-02T20:03:40.102Z"
   },
   {
    "duration": 6,
    "start_time": "2022-12-02T20:03:40.141Z"
   },
   {
    "duration": 9,
    "start_time": "2022-12-02T20:03:40.149Z"
   },
   {
    "duration": 6,
    "start_time": "2022-12-02T20:03:40.160Z"
   },
   {
    "duration": 7,
    "start_time": "2022-12-02T20:03:40.167Z"
   },
   {
    "duration": 5,
    "start_time": "2022-12-02T20:03:40.176Z"
   },
   {
    "duration": 56,
    "start_time": "2022-12-02T20:03:40.183Z"
   },
   {
    "duration": 7,
    "start_time": "2022-12-02T20:03:40.240Z"
   },
   {
    "duration": 9,
    "start_time": "2022-12-02T20:03:40.249Z"
   },
   {
    "duration": 7,
    "start_time": "2022-12-02T20:03:40.260Z"
   },
   {
    "duration": 5,
    "start_time": "2022-12-02T20:03:40.272Z"
   },
   {
    "duration": 84,
    "start_time": "2022-12-02T20:03:40.279Z"
   },
   {
    "duration": 30,
    "start_time": "2022-12-02T20:03:40.365Z"
   },
   {
    "duration": 54,
    "start_time": "2022-12-02T20:03:40.397Z"
   },
   {
    "duration": 173,
    "start_time": "2022-12-02T20:03:40.453Z"
   },
   {
    "duration": 131,
    "start_time": "2022-12-02T20:03:40.628Z"
   },
   {
    "duration": 30,
    "start_time": "2022-12-02T20:03:40.761Z"
   },
   {
    "duration": 16,
    "start_time": "2022-12-02T20:03:40.793Z"
   },
   {
    "duration": 56,
    "start_time": "2022-12-02T20:03:40.810Z"
   },
   {
    "duration": 7,
    "start_time": "2022-12-02T20:03:40.867Z"
   },
   {
    "duration": 30,
    "start_time": "2022-12-02T20:03:40.875Z"
   },
   {
    "duration": 4,
    "start_time": "2022-12-02T20:03:40.907Z"
   },
   {
    "duration": 6,
    "start_time": "2022-12-02T20:03:40.913Z"
   },
   {
    "duration": 8,
    "start_time": "2022-12-02T20:03:40.938Z"
   },
   {
    "duration": 780,
    "start_time": "2022-12-02T20:03:40.948Z"
   },
   {
    "duration": 0,
    "start_time": "2022-12-02T20:03:41.730Z"
   },
   {
    "duration": 0,
    "start_time": "2022-12-02T20:03:41.731Z"
   },
   {
    "duration": 0,
    "start_time": "2022-12-02T20:03:41.738Z"
   },
   {
    "duration": 0,
    "start_time": "2022-12-02T20:03:41.739Z"
   },
   {
    "duration": 0,
    "start_time": "2022-12-02T20:03:41.740Z"
   },
   {
    "duration": 0,
    "start_time": "2022-12-02T20:03:41.741Z"
   },
   {
    "duration": 0,
    "start_time": "2022-12-02T20:03:41.742Z"
   },
   {
    "duration": 0,
    "start_time": "2022-12-02T20:03:41.743Z"
   },
   {
    "duration": 0,
    "start_time": "2022-12-02T20:03:41.744Z"
   },
   {
    "duration": 0,
    "start_time": "2022-12-02T20:03:41.745Z"
   },
   {
    "duration": 0,
    "start_time": "2022-12-02T20:03:41.747Z"
   },
   {
    "duration": 0,
    "start_time": "2022-12-02T20:03:41.748Z"
   },
   {
    "duration": 0,
    "start_time": "2022-12-02T20:03:41.749Z"
   },
   {
    "duration": 0,
    "start_time": "2022-12-02T20:03:41.750Z"
   },
   {
    "duration": 0,
    "start_time": "2022-12-02T20:03:41.751Z"
   },
   {
    "duration": 0,
    "start_time": "2022-12-02T20:03:41.752Z"
   },
   {
    "duration": 0,
    "start_time": "2022-12-02T20:03:41.754Z"
   },
   {
    "duration": 0,
    "start_time": "2022-12-02T20:03:41.755Z"
   },
   {
    "duration": 0,
    "start_time": "2022-12-02T20:03:41.756Z"
   },
   {
    "duration": 0,
    "start_time": "2022-12-02T20:03:41.757Z"
   },
   {
    "duration": 0,
    "start_time": "2022-12-02T20:03:41.758Z"
   },
   {
    "duration": 0,
    "start_time": "2022-12-02T20:03:41.759Z"
   },
   {
    "duration": 0,
    "start_time": "2022-12-02T20:03:41.760Z"
   },
   {
    "duration": 0,
    "start_time": "2022-12-02T20:03:41.761Z"
   },
   {
    "duration": 0,
    "start_time": "2022-12-02T20:03:41.762Z"
   },
   {
    "duration": 0,
    "start_time": "2022-12-02T20:03:41.763Z"
   },
   {
    "duration": 0,
    "start_time": "2022-12-02T20:03:41.764Z"
   },
   {
    "duration": 0,
    "start_time": "2022-12-02T20:03:41.765Z"
   },
   {
    "duration": 0,
    "start_time": "2022-12-02T20:03:41.767Z"
   },
   {
    "duration": 0,
    "start_time": "2022-12-02T20:03:41.768Z"
   },
   {
    "duration": 605,
    "start_time": "2022-12-02T20:03:59.838Z"
   },
   {
    "duration": 1447,
    "start_time": "2022-12-02T20:04:05.165Z"
   },
   {
    "duration": 3967,
    "start_time": "2022-12-02T20:04:06.614Z"
   },
   {
    "duration": 169,
    "start_time": "2022-12-02T20:04:10.583Z"
   },
   {
    "duration": 83,
    "start_time": "2022-12-02T20:04:10.755Z"
   },
   {
    "duration": 30,
    "start_time": "2022-12-02T20:04:10.840Z"
   },
   {
    "duration": 21,
    "start_time": "2022-12-02T20:04:10.873Z"
   },
   {
    "duration": 3,
    "start_time": "2022-12-02T20:04:10.896Z"
   },
   {
    "duration": 38,
    "start_time": "2022-12-02T20:04:10.902Z"
   },
   {
    "duration": 64,
    "start_time": "2022-12-02T20:04:10.942Z"
   },
   {
    "duration": 47,
    "start_time": "2022-12-02T20:04:11.011Z"
   },
   {
    "duration": 8,
    "start_time": "2022-12-02T20:04:11.061Z"
   },
   {
    "duration": 8,
    "start_time": "2022-12-02T20:04:11.070Z"
   },
   {
    "duration": 9,
    "start_time": "2022-12-02T20:04:11.080Z"
   },
   {
    "duration": 6,
    "start_time": "2022-12-02T20:04:11.091Z"
   },
   {
    "duration": 62,
    "start_time": "2022-12-02T20:04:11.099Z"
   },
   {
    "duration": 8,
    "start_time": "2022-12-02T20:04:11.163Z"
   },
   {
    "duration": 8,
    "start_time": "2022-12-02T20:04:11.173Z"
   },
   {
    "duration": 8,
    "start_time": "2022-12-02T20:04:11.183Z"
   },
   {
    "duration": 44,
    "start_time": "2022-12-02T20:04:11.193Z"
   },
   {
    "duration": 8,
    "start_time": "2022-12-02T20:04:11.239Z"
   },
   {
    "duration": 14,
    "start_time": "2022-12-02T20:04:11.249Z"
   },
   {
    "duration": 14,
    "start_time": "2022-12-02T20:04:11.265Z"
   },
   {
    "duration": 6,
    "start_time": "2022-12-02T20:04:11.281Z"
   },
   {
    "duration": 20,
    "start_time": "2022-12-02T20:04:11.288Z"
   },
   {
    "duration": 31,
    "start_time": "2022-12-02T20:04:11.310Z"
   },
   {
    "duration": 9,
    "start_time": "2022-12-02T20:04:11.343Z"
   },
   {
    "duration": 12,
    "start_time": "2022-12-02T20:04:11.354Z"
   },
   {
    "duration": 6,
    "start_time": "2022-12-02T20:04:11.371Z"
   },
   {
    "duration": 83,
    "start_time": "2022-12-02T20:04:11.379Z"
   },
   {
    "duration": 31,
    "start_time": "2022-12-02T20:04:11.464Z"
   },
   {
    "duration": 55,
    "start_time": "2022-12-02T20:04:11.496Z"
   },
   {
    "duration": 170,
    "start_time": "2022-12-02T20:04:11.553Z"
   },
   {
    "duration": 126,
    "start_time": "2022-12-02T20:04:11.725Z"
   },
   {
    "duration": 28,
    "start_time": "2022-12-02T20:04:11.853Z"
   },
   {
    "duration": 17,
    "start_time": "2022-12-02T20:04:11.883Z"
   },
   {
    "duration": 55,
    "start_time": "2022-12-02T20:04:11.902Z"
   },
   {
    "duration": 8,
    "start_time": "2022-12-02T20:04:11.959Z"
   },
   {
    "duration": 31,
    "start_time": "2022-12-02T20:04:11.968Z"
   },
   {
    "duration": 4,
    "start_time": "2022-12-02T20:04:12.001Z"
   },
   {
    "duration": 7,
    "start_time": "2022-12-02T20:04:12.007Z"
   },
   {
    "duration": 23,
    "start_time": "2022-12-02T20:04:12.016Z"
   },
   {
    "duration": 639,
    "start_time": "2022-12-02T20:04:12.040Z"
   },
   {
    "duration": 211,
    "start_time": "2022-12-02T20:04:12.681Z"
   },
   {
    "duration": 58,
    "start_time": "2022-12-02T20:04:12.894Z"
   },
   {
    "duration": 313,
    "start_time": "2022-12-02T20:04:12.954Z"
   },
   {
    "duration": 7,
    "start_time": "2022-12-02T20:04:13.269Z"
   },
   {
    "duration": 23,
    "start_time": "2022-12-02T20:04:13.278Z"
   },
   {
    "duration": 39,
    "start_time": "2022-12-02T20:04:13.303Z"
   },
   {
    "duration": 167,
    "start_time": "2022-12-02T20:04:13.344Z"
   },
   {
    "duration": 100,
    "start_time": "2022-12-02T20:04:13.513Z"
   },
   {
    "duration": 65,
    "start_time": "2022-12-02T20:04:13.615Z"
   },
   {
    "duration": 6,
    "start_time": "2022-12-02T20:04:13.682Z"
   },
   {
    "duration": 57,
    "start_time": "2022-12-02T20:04:13.690Z"
   },
   {
    "duration": 34,
    "start_time": "2022-12-02T20:04:13.749Z"
   },
   {
    "duration": 3089,
    "start_time": "2022-12-02T20:04:13.785Z"
   },
   {
    "duration": 82,
    "start_time": "2022-12-02T20:04:16.876Z"
   },
   {
    "duration": 1410,
    "start_time": "2022-12-02T20:04:46.689Z"
   },
   {
    "duration": 4016,
    "start_time": "2022-12-02T20:04:48.101Z"
   },
   {
    "duration": 165,
    "start_time": "2022-12-02T20:04:52.119Z"
   },
   {
    "duration": 84,
    "start_time": "2022-12-02T20:04:52.286Z"
   },
   {
    "duration": 31,
    "start_time": "2022-12-02T20:04:52.372Z"
   },
   {
    "duration": 34,
    "start_time": "2022-12-02T20:04:52.404Z"
   },
   {
    "duration": 2,
    "start_time": "2022-12-02T20:04:52.440Z"
   },
   {
    "duration": 17,
    "start_time": "2022-12-02T20:04:52.444Z"
   },
   {
    "duration": 64,
    "start_time": "2022-12-02T20:04:52.463Z"
   },
   {
    "duration": 29,
    "start_time": "2022-12-02T20:04:52.537Z"
   },
   {
    "duration": 7,
    "start_time": "2022-12-02T20:04:52.568Z"
   },
   {
    "duration": 6,
    "start_time": "2022-12-02T20:04:52.577Z"
   },
   {
    "duration": 9,
    "start_time": "2022-12-02T20:04:52.584Z"
   },
   {
    "duration": 12,
    "start_time": "2022-12-02T20:04:52.595Z"
   },
   {
    "duration": 57,
    "start_time": "2022-12-02T20:04:52.609Z"
   },
   {
    "duration": 7,
    "start_time": "2022-12-02T20:04:52.668Z"
   },
   {
    "duration": 8,
    "start_time": "2022-12-02T20:04:52.676Z"
   },
   {
    "duration": 10,
    "start_time": "2022-12-02T20:04:52.685Z"
   },
   {
    "duration": 6,
    "start_time": "2022-12-02T20:04:52.696Z"
   },
   {
    "duration": 35,
    "start_time": "2022-12-02T20:04:52.703Z"
   },
   {
    "duration": 6,
    "start_time": "2022-12-02T20:04:52.739Z"
   },
   {
    "duration": 10,
    "start_time": "2022-12-02T20:04:52.747Z"
   },
   {
    "duration": 6,
    "start_time": "2022-12-02T20:04:52.759Z"
   },
   {
    "duration": 22,
    "start_time": "2022-12-02T20:04:52.766Z"
   },
   {
    "duration": 6,
    "start_time": "2022-12-02T20:04:52.790Z"
   },
   {
    "duration": 8,
    "start_time": "2022-12-02T20:04:52.798Z"
   },
   {
    "duration": 9,
    "start_time": "2022-12-02T20:04:52.837Z"
   },
   {
    "duration": 7,
    "start_time": "2022-12-02T20:04:52.851Z"
   },
   {
    "duration": 79,
    "start_time": "2022-12-02T20:04:52.859Z"
   },
   {
    "duration": 30,
    "start_time": "2022-12-02T20:04:52.940Z"
   },
   {
    "duration": 59,
    "start_time": "2022-12-02T20:04:52.972Z"
   },
   {
    "duration": 149,
    "start_time": "2022-12-02T20:04:53.033Z"
   },
   {
    "duration": 5,
    "start_time": "2022-12-02T20:04:53.185Z"
   },
   {
    "duration": 158,
    "start_time": "2022-12-02T20:04:53.192Z"
   },
   {
    "duration": 15,
    "start_time": "2022-12-02T20:04:53.352Z"
   },
   {
    "duration": 30,
    "start_time": "2022-12-02T20:04:53.370Z"
   },
   {
    "duration": 7,
    "start_time": "2022-12-02T20:04:53.402Z"
   },
   {
    "duration": 52,
    "start_time": "2022-12-02T20:04:53.411Z"
   },
   {
    "duration": 4,
    "start_time": "2022-12-02T20:04:53.464Z"
   },
   {
    "duration": 25,
    "start_time": "2022-12-02T20:04:53.470Z"
   },
   {
    "duration": 18,
    "start_time": "2022-12-02T20:04:53.497Z"
   },
   {
    "duration": 700,
    "start_time": "2022-12-02T20:04:53.516Z"
   },
   {
    "duration": 224,
    "start_time": "2022-12-02T20:04:54.219Z"
   },
   {
    "duration": 44,
    "start_time": "2022-12-02T20:04:54.445Z"
   },
   {
    "duration": 304,
    "start_time": "2022-12-02T20:04:54.491Z"
   },
   {
    "duration": 7,
    "start_time": "2022-12-02T20:04:54.797Z"
   },
   {
    "duration": 4,
    "start_time": "2022-12-02T20:04:54.806Z"
   },
   {
    "duration": 26,
    "start_time": "2022-12-02T20:04:54.811Z"
   },
   {
    "duration": 132,
    "start_time": "2022-12-02T20:04:54.839Z"
   },
   {
    "duration": 93,
    "start_time": "2022-12-02T20:04:54.973Z"
   },
   {
    "duration": 53,
    "start_time": "2022-12-02T20:04:55.068Z"
   },
   {
    "duration": 18,
    "start_time": "2022-12-02T20:04:55.122Z"
   },
   {
    "duration": 40,
    "start_time": "2022-12-02T20:04:55.142Z"
   },
   {
    "duration": 63,
    "start_time": "2022-12-02T20:04:55.185Z"
   },
   {
    "duration": 2976,
    "start_time": "2022-12-02T20:04:55.250Z"
   },
   {
    "duration": 42,
    "start_time": "2022-12-02T20:04:58.228Z"
   },
   {
    "duration": 199381,
    "start_time": "2022-12-02T20:04:58.272Z"
   },
   {
    "duration": 108,
    "start_time": "2022-12-02T20:08:17.739Z"
   },
   {
    "duration": 13238,
    "start_time": "2022-12-02T20:08:17.849Z"
   },
   {
    "duration": 2532,
    "start_time": "2022-12-02T20:08:31.089Z"
   },
   {
    "duration": 5,
    "start_time": "2022-12-02T20:08:33.623Z"
   },
   {
    "duration": 379,
    "start_time": "2022-12-02T20:08:33.637Z"
   },
   {
    "duration": 960,
    "start_time": "2022-12-02T20:08:34.018Z"
   },
   {
    "duration": 233,
    "start_time": "2022-12-02T20:08:34.980Z"
   },
   {
    "duration": 7,
    "start_time": "2022-12-02T20:08:35.215Z"
   },
   {
    "duration": 957,
    "start_time": "2022-12-02T20:08:35.224Z"
   },
   {
    "duration": 314,
    "start_time": "2022-12-02T20:08:36.183Z"
   },
   {
    "duration": 162,
    "start_time": "2022-12-02T20:08:36.499Z"
   },
   {
    "duration": 31,
    "start_time": "2022-12-02T20:08:36.662Z"
   },
   {
    "duration": 49,
    "start_time": "2022-12-02T20:08:36.695Z"
   },
   {
    "duration": 158,
    "start_time": "2022-12-02T20:08:36.745Z"
   },
   {
    "duration": 43,
    "start_time": "2022-12-02T20:08:36.905Z"
   },
   {
    "duration": 1464,
    "start_time": "2022-12-02T20:24:53.475Z"
   },
   {
    "duration": 3440,
    "start_time": "2022-12-02T20:24:54.941Z"
   },
   {
    "duration": 378,
    "start_time": "2022-12-02T20:24:58.383Z"
   },
   {
    "duration": 196,
    "start_time": "2022-12-02T20:24:58.764Z"
   },
   {
    "duration": 78,
    "start_time": "2022-12-02T20:24:58.962Z"
   },
   {
    "duration": 20,
    "start_time": "2022-12-02T20:24:59.042Z"
   },
   {
    "duration": 4,
    "start_time": "2022-12-02T20:24:59.064Z"
   },
   {
    "duration": 11,
    "start_time": "2022-12-02T20:24:59.070Z"
   },
   {
    "duration": 164,
    "start_time": "2022-12-02T20:24:59.083Z"
   },
   {
    "duration": 29,
    "start_time": "2022-12-02T20:24:59.249Z"
   },
   {
    "duration": 61,
    "start_time": "2022-12-02T20:24:59.279Z"
   },
   {
    "duration": 8,
    "start_time": "2022-12-02T20:24:59.341Z"
   },
   {
    "duration": 9,
    "start_time": "2022-12-02T20:24:59.350Z"
   },
   {
    "duration": 5,
    "start_time": "2022-12-02T20:24:59.361Z"
   },
   {
    "duration": 74,
    "start_time": "2022-12-02T20:24:59.367Z"
   },
   {
    "duration": 6,
    "start_time": "2022-12-02T20:24:59.443Z"
   },
   {
    "duration": 8,
    "start_time": "2022-12-02T20:24:59.451Z"
   },
   {
    "duration": 9,
    "start_time": "2022-12-02T20:24:59.460Z"
   },
   {
    "duration": 6,
    "start_time": "2022-12-02T20:24:59.471Z"
   },
   {
    "duration": 7,
    "start_time": "2022-12-02T20:24:59.478Z"
   },
   {
    "duration": 4,
    "start_time": "2022-12-02T20:24:59.487Z"
   },
   {
    "duration": 9,
    "start_time": "2022-12-02T20:24:59.493Z"
   },
   {
    "duration": 7,
    "start_time": "2022-12-02T20:24:59.504Z"
   },
   {
    "duration": 40,
    "start_time": "2022-12-02T20:24:59.513Z"
   },
   {
    "duration": 7,
    "start_time": "2022-12-02T20:24:59.555Z"
   },
   {
    "duration": 11,
    "start_time": "2022-12-02T20:24:59.563Z"
   },
   {
    "duration": 8,
    "start_time": "2022-12-02T20:24:59.575Z"
   },
   {
    "duration": 7,
    "start_time": "2022-12-02T20:24:59.588Z"
   },
   {
    "duration": 67,
    "start_time": "2022-12-02T20:24:59.596Z"
   },
   {
    "duration": 30,
    "start_time": "2022-12-02T20:24:59.665Z"
   },
   {
    "duration": 52119,
    "start_time": "2022-12-02T20:24:59.696Z"
   },
   {
    "duration": 241,
    "start_time": "2022-12-02T20:25:51.817Z"
   },
   {
    "duration": 6,
    "start_time": "2022-12-02T20:25:52.060Z"
   },
   {
    "duration": 74,
    "start_time": "2022-12-02T20:25:52.067Z"
   },
   {
    "duration": 16,
    "start_time": "2022-12-02T20:25:52.143Z"
   },
   {
    "duration": 83,
    "start_time": "2022-12-02T20:25:52.161Z"
   },
   {
    "duration": 7,
    "start_time": "2022-12-02T20:25:52.246Z"
   },
   {
    "duration": 22,
    "start_time": "2022-12-02T20:25:52.255Z"
   },
   {
    "duration": 60,
    "start_time": "2022-12-02T20:25:52.279Z"
   },
   {
    "duration": 5,
    "start_time": "2022-12-02T20:25:52.342Z"
   },
   {
    "duration": 6,
    "start_time": "2022-12-02T20:25:52.350Z"
   },
   {
    "duration": 676,
    "start_time": "2022-12-02T20:25:52.357Z"
   },
   {
    "duration": 200,
    "start_time": "2022-12-02T20:25:53.037Z"
   },
   {
    "duration": 38,
    "start_time": "2022-12-02T20:25:53.239Z"
   },
   {
    "duration": 309,
    "start_time": "2022-12-02T20:25:53.279Z"
   },
   {
    "duration": 7,
    "start_time": "2022-12-02T20:25:53.590Z"
   },
   {
    "duration": 4,
    "start_time": "2022-12-02T20:25:53.599Z"
   },
   {
    "duration": 7,
    "start_time": "2022-12-02T20:25:53.604Z"
   },
   {
    "duration": 159,
    "start_time": "2022-12-02T20:25:53.613Z"
   },
   {
    "duration": 89,
    "start_time": "2022-12-02T20:25:53.774Z"
   },
   {
    "duration": 53,
    "start_time": "2022-12-02T20:25:53.865Z"
   },
   {
    "duration": 18,
    "start_time": "2022-12-02T20:25:53.920Z"
   },
   {
    "duration": 102827,
    "start_time": "2022-12-02T20:25:53.940Z"
   },
   {
    "duration": 109,
    "start_time": "2022-12-02T20:27:36.769Z"
   },
   {
    "duration": 2838,
    "start_time": "2022-12-02T20:27:36.880Z"
   },
   {
    "duration": 69,
    "start_time": "2022-12-02T20:27:39.720Z"
   },
   {
    "duration": 1474,
    "start_time": "2022-12-02T20:27:55.209Z"
   },
   {
    "duration": 4000,
    "start_time": "2022-12-02T20:27:56.685Z"
   },
   {
    "duration": 178,
    "start_time": "2022-12-02T20:28:00.688Z"
   },
   {
    "duration": 86,
    "start_time": "2022-12-02T20:28:00.868Z"
   },
   {
    "duration": 29,
    "start_time": "2022-12-02T20:28:00.956Z"
   },
   {
    "duration": 21,
    "start_time": "2022-12-02T20:28:00.987Z"
   },
   {
    "duration": 3,
    "start_time": "2022-12-02T20:28:01.010Z"
   },
   {
    "duration": 6,
    "start_time": "2022-12-02T20:28:01.037Z"
   },
   {
    "duration": 61,
    "start_time": "2022-12-02T20:28:01.045Z"
   },
   {
    "duration": 45,
    "start_time": "2022-12-02T20:28:01.109Z"
   },
   {
    "duration": 8,
    "start_time": "2022-12-02T20:28:01.155Z"
   },
   {
    "duration": 12,
    "start_time": "2022-12-02T20:28:01.164Z"
   },
   {
    "duration": 14,
    "start_time": "2022-12-02T20:28:01.178Z"
   },
   {
    "duration": 11,
    "start_time": "2022-12-02T20:28:01.194Z"
   },
   {
    "duration": 43,
    "start_time": "2022-12-02T20:28:01.207Z"
   },
   {
    "duration": 8,
    "start_time": "2022-12-02T20:28:01.251Z"
   },
   {
    "duration": 7,
    "start_time": "2022-12-02T20:28:01.260Z"
   },
   {
    "duration": 9,
    "start_time": "2022-12-02T20:28:01.269Z"
   },
   {
    "duration": 11,
    "start_time": "2022-12-02T20:28:01.279Z"
   },
   {
    "duration": 7,
    "start_time": "2022-12-02T20:28:01.292Z"
   },
   {
    "duration": 9,
    "start_time": "2022-12-02T20:28:01.300Z"
   },
   {
    "duration": 7,
    "start_time": "2022-12-02T20:28:01.338Z"
   },
   {
    "duration": 6,
    "start_time": "2022-12-02T20:28:01.347Z"
   },
   {
    "duration": 25,
    "start_time": "2022-12-02T20:28:01.354Z"
   },
   {
    "duration": 7,
    "start_time": "2022-12-02T20:28:01.389Z"
   },
   {
    "duration": 8,
    "start_time": "2022-12-02T20:28:01.398Z"
   },
   {
    "duration": 13,
    "start_time": "2022-12-02T20:28:01.408Z"
   },
   {
    "duration": 6,
    "start_time": "2022-12-02T20:28:01.440Z"
   },
   {
    "duration": 60,
    "start_time": "2022-12-02T20:28:01.448Z"
   },
   {
    "duration": 45,
    "start_time": "2022-12-02T20:28:01.510Z"
   },
   {
    "duration": 50892,
    "start_time": "2022-12-02T20:28:01.557Z"
   },
   {
    "duration": 290,
    "start_time": "2022-12-02T20:28:52.452Z"
   },
   {
    "duration": 6,
    "start_time": "2022-12-02T20:28:52.744Z"
   },
   {
    "duration": 20,
    "start_time": "2022-12-02T20:28:52.752Z"
   },
   {
    "duration": 65,
    "start_time": "2022-12-02T20:28:52.774Z"
   },
   {
    "duration": 30,
    "start_time": "2022-12-02T20:28:52.841Z"
   },
   {
    "duration": 8,
    "start_time": "2022-12-02T20:28:52.872Z"
   },
   {
    "duration": 26,
    "start_time": "2022-12-02T20:28:52.938Z"
   },
   {
    "duration": 4,
    "start_time": "2022-12-02T20:28:52.966Z"
   },
   {
    "duration": 6,
    "start_time": "2022-12-02T20:28:52.972Z"
   },
   {
    "duration": 5,
    "start_time": "2022-12-02T20:28:52.980Z"
   },
   {
    "duration": 680,
    "start_time": "2022-12-02T20:28:52.986Z"
   },
   {
    "duration": 199,
    "start_time": "2022-12-02T20:28:53.667Z"
   },
   {
    "duration": 39,
    "start_time": "2022-12-02T20:28:53.869Z"
   },
   {
    "duration": 320,
    "start_time": "2022-12-02T20:28:53.910Z"
   },
   {
    "duration": 7,
    "start_time": "2022-12-02T20:28:54.232Z"
   },
   {
    "duration": 9,
    "start_time": "2022-12-02T20:28:54.240Z"
   },
   {
    "duration": 9,
    "start_time": "2022-12-02T20:28:54.251Z"
   },
   {
    "duration": 146,
    "start_time": "2022-12-02T20:28:54.262Z"
   },
   {
    "duration": 85,
    "start_time": "2022-12-02T20:28:54.410Z"
   },
   {
    "duration": 67,
    "start_time": "2022-12-02T20:28:54.497Z"
   },
   {
    "duration": 6,
    "start_time": "2022-12-02T20:28:54.566Z"
   },
   {
    "duration": 12,
    "start_time": "2022-12-02T20:28:54.574Z"
   },
   {
    "duration": 0,
    "start_time": "2022-12-02T20:28:54.588Z"
   },
   {
    "duration": 0,
    "start_time": "2022-12-02T20:28:54.590Z"
   },
   {
    "duration": 0,
    "start_time": "2022-12-02T20:28:54.591Z"
   },
   {
    "duration": 0,
    "start_time": "2022-12-02T20:28:54.593Z"
   },
   {
    "duration": 0,
    "start_time": "2022-12-02T20:28:54.594Z"
   },
   {
    "duration": 0,
    "start_time": "2022-12-02T20:28:54.596Z"
   },
   {
    "duration": 0,
    "start_time": "2022-12-02T20:28:54.598Z"
   },
   {
    "duration": 0,
    "start_time": "2022-12-02T20:28:54.599Z"
   },
   {
    "duration": 0,
    "start_time": "2022-12-02T20:28:54.601Z"
   },
   {
    "duration": 0,
    "start_time": "2022-12-02T20:28:54.602Z"
   },
   {
    "duration": 0,
    "start_time": "2022-12-02T20:28:54.637Z"
   },
   {
    "duration": 0,
    "start_time": "2022-12-02T20:28:54.639Z"
   },
   {
    "duration": 0,
    "start_time": "2022-12-02T20:28:54.641Z"
   },
   {
    "duration": 0,
    "start_time": "2022-12-02T20:28:54.642Z"
   },
   {
    "duration": 0,
    "start_time": "2022-12-02T20:28:54.644Z"
   },
   {
    "duration": 0,
    "start_time": "2022-12-02T20:28:54.645Z"
   },
   {
    "duration": 0,
    "start_time": "2022-12-02T20:28:54.647Z"
   },
   {
    "duration": 0,
    "start_time": "2022-12-02T20:28:54.648Z"
   },
   {
    "duration": 0,
    "start_time": "2022-12-02T20:28:54.649Z"
   },
   {
    "duration": 1427,
    "start_time": "2022-12-02T20:35:19.560Z"
   },
   {
    "duration": 3906,
    "start_time": "2022-12-02T20:35:20.989Z"
   },
   {
    "duration": 161,
    "start_time": "2022-12-02T20:35:24.897Z"
   },
   {
    "duration": 78,
    "start_time": "2022-12-02T20:35:25.061Z"
   },
   {
    "duration": 28,
    "start_time": "2022-12-02T20:35:25.141Z"
   },
   {
    "duration": 18,
    "start_time": "2022-12-02T20:35:25.170Z"
   },
   {
    "duration": 2,
    "start_time": "2022-12-02T20:35:25.190Z"
   },
   {
    "duration": 8,
    "start_time": "2022-12-02T20:35:25.193Z"
   },
   {
    "duration": 75,
    "start_time": "2022-12-02T20:35:25.203Z"
   },
   {
    "duration": 25,
    "start_time": "2022-12-02T20:35:25.281Z"
   },
   {
    "duration": 6,
    "start_time": "2022-12-02T20:35:25.308Z"
   },
   {
    "duration": 24,
    "start_time": "2022-12-02T20:35:25.315Z"
   },
   {
    "duration": 10,
    "start_time": "2022-12-02T20:35:25.340Z"
   },
   {
    "duration": 5,
    "start_time": "2022-12-02T20:35:25.352Z"
   },
   {
    "duration": 26,
    "start_time": "2022-12-02T20:35:25.359Z"
   },
   {
    "duration": 7,
    "start_time": "2022-12-02T20:35:25.386Z"
   },
   {
    "duration": 6,
    "start_time": "2022-12-02T20:35:25.394Z"
   },
   {
    "duration": 37,
    "start_time": "2022-12-02T20:35:25.401Z"
   },
   {
    "duration": 6,
    "start_time": "2022-12-02T20:35:25.440Z"
   },
   {
    "duration": 11,
    "start_time": "2022-12-02T20:35:25.448Z"
   },
   {
    "duration": 7,
    "start_time": "2022-12-02T20:35:25.461Z"
   },
   {
    "duration": 8,
    "start_time": "2022-12-02T20:35:25.470Z"
   },
   {
    "duration": 6,
    "start_time": "2022-12-02T20:35:25.480Z"
   },
   {
    "duration": 58,
    "start_time": "2022-12-02T20:35:25.488Z"
   },
   {
    "duration": 7,
    "start_time": "2022-12-02T20:35:25.547Z"
   },
   {
    "duration": 7,
    "start_time": "2022-12-02T20:35:25.555Z"
   },
   {
    "duration": 10,
    "start_time": "2022-12-02T20:35:25.563Z"
   },
   {
    "duration": 5,
    "start_time": "2022-12-02T20:35:25.577Z"
   },
   {
    "duration": 75,
    "start_time": "2022-12-02T20:35:25.584Z"
   },
   {
    "duration": 28,
    "start_time": "2022-12-02T20:35:25.660Z"
   },
   {
    "duration": 50689,
    "start_time": "2022-12-02T20:35:25.690Z"
   },
   {
    "duration": 269,
    "start_time": "2022-12-02T20:36:16.382Z"
   },
   {
    "duration": 5,
    "start_time": "2022-12-02T20:36:16.652Z"
   },
   {
    "duration": 22,
    "start_time": "2022-12-02T20:36:16.659Z"
   },
   {
    "duration": 65,
    "start_time": "2022-12-02T20:36:16.682Z"
   },
   {
    "duration": 29,
    "start_time": "2022-12-02T20:36:16.749Z"
   },
   {
    "duration": 60,
    "start_time": "2022-12-02T20:36:16.780Z"
   },
   {
    "duration": 23,
    "start_time": "2022-12-02T20:36:16.842Z"
   },
   {
    "duration": 4,
    "start_time": "2022-12-02T20:36:16.867Z"
   },
   {
    "duration": 5,
    "start_time": "2022-12-02T20:36:16.873Z"
   },
   {
    "duration": 10,
    "start_time": "2022-12-02T20:36:16.879Z"
   },
   {
    "duration": 617,
    "start_time": "2022-12-02T20:36:16.890Z"
   },
   {
    "duration": 195,
    "start_time": "2022-12-02T20:36:17.509Z"
   },
   {
    "duration": 51,
    "start_time": "2022-12-02T20:36:17.705Z"
   },
   {
    "duration": 309,
    "start_time": "2022-12-02T20:36:17.758Z"
   },
   {
    "duration": 7,
    "start_time": "2022-12-02T20:36:18.069Z"
   },
   {
    "duration": 9,
    "start_time": "2022-12-02T20:36:18.078Z"
   },
   {
    "duration": 5,
    "start_time": "2022-12-02T20:36:18.089Z"
   },
   {
    "duration": 144,
    "start_time": "2022-12-02T20:36:18.096Z"
   },
   {
    "duration": 76,
    "start_time": "2022-12-02T20:36:18.242Z"
   },
   {
    "duration": 64,
    "start_time": "2022-12-02T20:36:18.320Z"
   },
   {
    "duration": 5,
    "start_time": "2022-12-02T20:36:18.386Z"
   },
   {
    "duration": 100276,
    "start_time": "2022-12-02T20:36:18.393Z"
   },
   {
    "duration": 104,
    "start_time": "2022-12-02T20:37:58.670Z"
   },
   {
    "duration": 2779,
    "start_time": "2022-12-02T20:37:58.776Z"
   },
   {
    "duration": 106,
    "start_time": "2022-12-02T20:38:01.557Z"
   },
   {
    "duration": 1470,
    "start_time": "2022-12-02T20:38:13.874Z"
   },
   {
    "duration": 3242,
    "start_time": "2022-12-02T20:38:15.346Z"
   },
   {
    "duration": 174,
    "start_time": "2022-12-02T20:38:18.590Z"
   },
   {
    "duration": 87,
    "start_time": "2022-12-02T20:38:18.766Z"
   },
   {
    "duration": 41,
    "start_time": "2022-12-02T20:38:18.858Z"
   },
   {
    "duration": 45,
    "start_time": "2022-12-02T20:38:18.901Z"
   },
   {
    "duration": 3,
    "start_time": "2022-12-02T20:38:18.947Z"
   },
   {
    "duration": 10,
    "start_time": "2022-12-02T20:38:18.952Z"
   },
   {
    "duration": 80,
    "start_time": "2022-12-02T20:38:18.963Z"
   },
   {
    "duration": 30,
    "start_time": "2022-12-02T20:38:19.045Z"
   },
   {
    "duration": 9,
    "start_time": "2022-12-02T20:38:19.077Z"
   },
   {
    "duration": 7,
    "start_time": "2022-12-02T20:38:19.087Z"
   },
   {
    "duration": 9,
    "start_time": "2022-12-02T20:38:19.096Z"
   },
   {
    "duration": 6,
    "start_time": "2022-12-02T20:38:19.141Z"
   },
   {
    "duration": 27,
    "start_time": "2022-12-02T20:38:19.149Z"
   },
   {
    "duration": 7,
    "start_time": "2022-12-02T20:38:19.178Z"
   },
   {
    "duration": 7,
    "start_time": "2022-12-02T20:38:19.186Z"
   },
   {
    "duration": 44,
    "start_time": "2022-12-02T20:38:19.194Z"
   },
   {
    "duration": 6,
    "start_time": "2022-12-02T20:38:19.240Z"
   },
   {
    "duration": 13,
    "start_time": "2022-12-02T20:38:19.248Z"
   },
   {
    "duration": 8,
    "start_time": "2022-12-02T20:38:19.262Z"
   },
   {
    "duration": 9,
    "start_time": "2022-12-02T20:38:19.271Z"
   },
   {
    "duration": 6,
    "start_time": "2022-12-02T20:38:19.282Z"
   },
   {
    "duration": 48,
    "start_time": "2022-12-02T20:38:19.289Z"
   },
   {
    "duration": 7,
    "start_time": "2022-12-02T20:38:19.339Z"
   },
   {
    "duration": 8,
    "start_time": "2022-12-02T20:38:19.348Z"
   },
   {
    "duration": 8,
    "start_time": "2022-12-02T20:38:19.358Z"
   },
   {
    "duration": 6,
    "start_time": "2022-12-02T20:38:19.368Z"
   },
   {
    "duration": 90,
    "start_time": "2022-12-02T20:38:19.375Z"
   },
   {
    "duration": 31,
    "start_time": "2022-12-02T20:38:19.467Z"
   },
   {
    "duration": 51285,
    "start_time": "2022-12-02T20:38:19.500Z"
   },
   {
    "duration": 197,
    "start_time": "2022-12-02T20:39:10.788Z"
   },
   {
    "duration": 6,
    "start_time": "2022-12-02T20:39:11.038Z"
   },
   {
    "duration": 27,
    "start_time": "2022-12-02T20:39:11.046Z"
   },
   {
    "duration": 67,
    "start_time": "2022-12-02T20:39:11.074Z"
   },
   {
    "duration": 34,
    "start_time": "2022-12-02T20:39:11.143Z"
   },
   {
    "duration": 9,
    "start_time": "2022-12-02T20:39:11.179Z"
   },
   {
    "duration": 24,
    "start_time": "2022-12-02T20:39:11.237Z"
   },
   {
    "duration": 5,
    "start_time": "2022-12-02T20:39:11.263Z"
   },
   {
    "duration": 6,
    "start_time": "2022-12-02T20:39:11.269Z"
   },
   {
    "duration": 5,
    "start_time": "2022-12-02T20:39:11.279Z"
   },
   {
    "duration": 667,
    "start_time": "2022-12-02T20:39:11.286Z"
   },
   {
    "duration": 202,
    "start_time": "2022-12-02T20:39:11.955Z"
   },
   {
    "duration": 39,
    "start_time": "2022-12-02T20:39:12.159Z"
   },
   {
    "duration": 296,
    "start_time": "2022-12-02T20:39:12.200Z"
   },
   {
    "duration": 8,
    "start_time": "2022-12-02T20:39:12.498Z"
   },
   {
    "duration": 4,
    "start_time": "2022-12-02T20:39:12.507Z"
   },
   {
    "duration": 25,
    "start_time": "2022-12-02T20:39:12.513Z"
   },
   {
    "duration": 135,
    "start_time": "2022-12-02T20:39:12.539Z"
   },
   {
    "duration": 88,
    "start_time": "2022-12-02T20:39:12.676Z"
   },
   {
    "duration": 52,
    "start_time": "2022-12-02T20:39:12.766Z"
   },
   {
    "duration": 5,
    "start_time": "2022-12-02T20:39:12.820Z"
   },
   {
    "duration": 100105,
    "start_time": "2022-12-02T20:39:12.838Z"
   },
   {
    "duration": 100,
    "start_time": "2022-12-02T20:40:52.945Z"
   },
   {
    "duration": 2704,
    "start_time": "2022-12-02T20:40:53.047Z"
   },
   {
    "duration": 119,
    "start_time": "2022-12-02T20:40:55.754Z"
   },
   {
    "duration": 174965,
    "start_time": "2022-12-02T20:40:55.875Z"
   },
   {
    "duration": 143,
    "start_time": "2022-12-02T20:43:50.842Z"
   },
   {
    "duration": 12876,
    "start_time": "2022-12-02T20:43:50.986Z"
   },
   {
    "duration": 2588,
    "start_time": "2022-12-02T20:44:03.864Z"
   },
   {
    "duration": 5,
    "start_time": "2022-12-02T20:44:06.454Z"
   },
   {
    "duration": 385,
    "start_time": "2022-12-02T20:44:06.461Z"
   },
   {
    "duration": 933,
    "start_time": "2022-12-02T20:44:06.848Z"
   },
   {
    "duration": 247,
    "start_time": "2022-12-02T20:44:07.783Z"
   },
   {
    "duration": 6,
    "start_time": "2022-12-02T20:44:08.032Z"
   },
   {
    "duration": 928,
    "start_time": "2022-12-02T20:44:08.040Z"
   },
   {
    "duration": 323,
    "start_time": "2022-12-02T20:44:08.969Z"
   },
   {
    "duration": 154,
    "start_time": "2022-12-02T20:44:09.294Z"
   },
   {
    "duration": 33,
    "start_time": "2022-12-02T20:44:09.450Z"
   },
   {
    "duration": 53,
    "start_time": "2022-12-02T20:44:09.485Z"
   },
   {
    "duration": 154,
    "start_time": "2022-12-02T20:44:09.540Z"
   },
   {
    "duration": 42,
    "start_time": "2022-12-02T20:44:09.696Z"
   },
   {
    "duration": 93,
    "start_time": "2022-12-02T20:53:50.760Z"
   }
  ],
  "kernelspec": {
   "display_name": "Python 3 (ipykernel)",
   "language": "python",
   "name": "python3"
  },
  "language_info": {
   "codemirror_mode": {
    "name": "ipython",
    "version": 3
   },
   "file_extension": ".py",
   "mimetype": "text/x-python",
   "name": "python",
   "nbconvert_exporter": "python",
   "pygments_lexer": "ipython3",
   "version": "3.9.5"
  },
  "toc": {
   "base_numbering": 1,
   "nav_menu": {},
   "number_sections": true,
   "sideBar": true,
   "skip_h1_title": true,
   "title_cell": "Table of Contents",
   "title_sidebar": "Contents",
   "toc_cell": false,
   "toc_position": {
    "height": "1100px",
    "left": "69px",
    "top": "111.12px",
    "width": "484.797px"
   },
   "toc_section_display": true,
   "toc_window_display": true
  }
 },
 "nbformat": 4,
 "nbformat_minor": 2
}
